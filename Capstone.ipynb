{
 "cells": [
  {
   "cell_type": "markdown",
   "metadata": {
    "slideshow": {
     "slide_type": "skip"
    }
   },
   "source": [
    "# Intro"
   ]
  },
  {
   "cell_type": "markdown",
   "metadata": {
    "slideshow": {
     "slide_type": "skip"
    }
   },
   "source": [
    "In this section, we load all necessary libraries. See requirements.txt for other environment requirements."
   ]
  },
  {
   "cell_type": "code",
   "execution_count": 112,
   "metadata": {
    "slideshow": {
     "slide_type": "skip"
    }
   },
   "outputs": [],
   "source": [
    "import requests\n",
    "import dill\n",
    "from bs4 import BeautifulSoup\n",
    "from datetime import datetime\n",
    "import re\n",
    "import pandas as pd\n",
    "import numpy as np\n",
    "import random\n",
    "import spacy\n",
    "from sklearn.naive_bayes import MultinomialNB\n",
    "from sklearn.pipeline import Pipeline, FeatureUnion\n",
    "from sklearn.metrics import confusion_matrix\n",
    "from sklearn.feature_extraction.text import CountVectorizer, TfidfVectorizer\n",
    "from sklearn.model_selection import GridSearchCV, ShuffleSplit\n",
    "import math\n",
    "import matplotlib as plt\n",
    "from matplotlib import pyplot\n",
    "import altair as alt\n",
    "import nltk\n",
    "from nltk import word_tokenize\n",
    "from nltk.corpus import stopwords\n",
    "from spacy.lang.es.stop_words import STOP_WORDS as SPACY_STOP_WORDS"
   ]
  },
  {
   "cell_type": "markdown",
   "metadata": {
    "slideshow": {
     "slide_type": "skip"
    }
   },
   "source": [
    "Uncomment and run the cells below to update and view the `requirements.txt`."
   ]
  },
  {
   "cell_type": "code",
   "execution_count": 163,
   "metadata": {
    "slideshow": {
     "slide_type": "skip"
    }
   },
   "outputs": [],
   "source": [
    "# ! pip freeze > requirements.txt"
   ]
  },
  {
   "cell_type": "code",
   "execution_count": 3,
   "metadata": {
    "slideshow": {
     "slide_type": "skip"
    }
   },
   "outputs": [],
   "source": [
    "# ! cat requirements.txt"
   ]
  },
  {
   "cell_type": "markdown",
   "metadata": {
    "slideshow": {
     "slide_type": "skip"
    }
   },
   "source": [
    "### Things to develop in the future.\n",
    "- implement different stopword lists for 1-grams and 2-grams\n",
    "- include POS features, using the spaCy es_core_news_sm (see cell below)\n",
    "- include %pro-drop as a feature\n",
    "\n",
    "- clean up the list of countries ¡Ojo! The country for 'la jurado 10' is wrong. It should be Puerto Rico.\n",
    "- re-scrape stories formatted incorrectly\n",
    "- try a decision tree\n"
   ]
  },
  {
   "cell_type": "code",
   "execution_count": 4,
   "metadata": {
    "slideshow": {
     "slide_type": "skip"
    }
   },
   "outputs": [],
   "source": [
    "# To download Spanish models from spaCy, first run this bash command: !python -m spacy download es_core_news_sm\n",
    "# Then load and run the tagger:\n",
    "# nlp = spacy.load(\"es_core_news_sm\")\n",
    "# nlp('Esto es una frase.')"
   ]
  },
  {
   "cell_type": "markdown",
   "metadata": {
    "heading_collapsed": true,
    "slideshow": {
     "slide_type": "skip"
    }
   },
   "source": [
    "# Data wrangling"
   ]
  },
  {
   "cell_type": "markdown",
   "metadata": {
    "hidden": true,
    "slideshow": {
     "slide_type": "skip"
    }
   },
   "source": [
    "In this section, we put together two datasets to use for model training:\n",
    "- A set of podcast transcripts, scraped from https://radioambulante.org/category/transcripcion\n",
    "- A set of transcripts originally downloaded from https://childes.talkbank.org/access/Spanish/ and which I cleaned using a combination of CLAN (software for linguists) and R."
   ]
  },
  {
   "cell_type": "markdown",
   "metadata": {
    "hidden": true,
    "slideshow": {
     "slide_type": "skip"
    }
   },
   "source": [
    "## Radio Ambulante dataset (scraped)"
   ]
  },
  {
   "cell_type": "markdown",
   "metadata": {
    "hidden": true,
    "slideshow": {
     "slide_type": "skip"
    }
   },
   "source": [
    "### Scraping"
   ]
  },
  {
   "cell_type": "code",
   "execution_count": 5,
   "metadata": {
    "hidden": true,
    "slideshow": {
     "slide_type": "skip"
    }
   },
   "outputs": [
    {
     "name": "stdout",
     "output_type": "stream",
     "text": [
      "16\n"
     ]
    }
   ],
   "source": [
    "#function to get the story links off of any arbitrary page\n",
    "def get_story_links(pageurl):\n",
    "    \"\"\"accept a full url for a page of story results,\n",
    "    return a list of all 16 story links\"\"\"\n",
    "    page_html = requests.get(pageurl)\n",
    "    soup = BeautifulSoup(page_html.text, \"html.parser\")\n",
    "    \n",
    "    titles = soup.select('h4.entry-title')\n",
    "    story_links = []\n",
    "    for title in titles:\n",
    "        link = title.find('a', href=True)['href']\n",
    "        story_links.append(link)\n",
    "    \n",
    "    return(story_links)\n",
    "\n",
    "#sanity check: there should be 16 links on pg. 4\n",
    "print(len(get_story_links('https://radioambulante.org/category/transcripcion/page/4')))"
   ]
  },
  {
   "cell_type": "code",
   "execution_count": 6,
   "metadata": {
    "hidden": true,
    "slideshow": {
     "slide_type": "skip"
    }
   },
   "outputs": [
    {
     "name": "stdout",
     "output_type": "stream",
     "text": [
      "Colombia\n"
     ]
    }
   ],
   "source": [
    "#functions to soupify any arbitrary story link and extract its country label\n",
    "\n",
    "def soupify(story_link):\n",
    "    \"\"\"accept a link and return its text as a BS object\"\"\"\n",
    "    story = requests.get(story_link)\n",
    "    story_soup = BeautifulSoup(story.text, \"html.parser\")\n",
    "    \n",
    "    return story_soup\n",
    "    \n",
    "def get_country(story_soup):\n",
    "    \"\"\"accept a soupified story, return the country where it was reported\"\"\"\n",
    "    story_metadata = story_soup.find(id='ra-meta')\n",
    "    story_credits = story_metadata.find_all('p')\n",
    "    \n",
    "    country = 'Unknown'\n",
    "    for p in story_credits:\n",
    "        if 'PAÍS' in p.text:\n",
    "            country = p.text[5:]\n",
    "        else:\n",
    "            pass\n",
    "    \n",
    "    return country\n",
    "\n",
    "        \n",
    "#sanity check, the country of el_chaman_url should be Colombia:\n",
    "el_chaman_url = 'https://radioambulante.org/transcripcion/transcripcion-el-chaman-2'\n",
    "print(get_country(soupify(el_chaman_url)))"
   ]
  },
  {
   "cell_type": "code",
   "execution_count": 7,
   "metadata": {
    "hidden": true,
    "slideshow": {
     "slide_type": "skip"
    }
   },
   "outputs": [],
   "source": [
    "#Print the country of each story on the whole Radio Ambulante site\n",
    "\n",
    "##get list of all pages to scrape \n",
    "pages = ['https://radioambulante.org/category/transcripcion/page/'+str(i) for i in range(1,12)]\n",
    "## first page is: https://radioambulante.org/category/transcripcion\n",
    "## second page is: https://radioambulante.org/category/transcripcion/page/2\n",
    "## last page is: https://radioambulante.org/category/transcripcion/page/11\n",
    "\n",
    "##scrape each page for its links and .extend the list of all_story_links = []\n",
    "all_story_links = []\n",
    "for page in pages:\n",
    "    all_story_links.extend(get_story_links(page))\n",
    "# print(all_story_links)"
   ]
  },
  {
   "cell_type": "code",
   "execution_count": 8,
   "metadata": {
    "hidden": true
   },
   "outputs": [
    {
     "name": "stdout",
     "output_type": "stream",
     "text": [
      "['Estados Unidos', 'España', 'Colombia', 'México', 'Brasil', 'Brasil', 'Chile', 'Nicaragua', 'Ecuador', 'México/Puerto Rico', 'Ecuador', 'Brasil', 'Brasil', 'México/Estados Unidos', 'Guatemala', 'Colombia', 'Guatemala', 'Chile', 'Ecuador', 'Perú', 'Argentina', 'Puerto Rico', 'Perú y Chile', 'Unknown', 'Argentina', 'El Salvador y México', 'Estados Unidos', 'Costa Rica', 'Colombia', 'Colombia', 'Estados Unidos', 'Argentina', 'Ecuador', 'Chile', 'México', 'Unknown', 'Cuba', 'Puerto Rico', 'S\\nMéxico y España', 'S\\nMéxico y España', 'Venezuela', 'S\\nEstados Unidos y Perú', 'Colombia', 'S\\nEstados Unidos y Guatemala', 'Costa Rica', 'Colombia y Brasil', 'Colombia', 'Estados Unidos', 'Venezuela', 'Argentina', 'Colombia', 'México y Estados Unidos', 'Estados Unidos', 'Perú', 'Argentina', 'Unknown', 'Brasil', 'Colombia', 'Colombia', 'Guatemala', 'Estados Unidos', 'Perú', 'Estados Unidos', 'Chile', 'Samuel Castaño', 'México', 'Colombia y Costa Rica', 'Estados Unidos', 'España y Perú', 'Perú', 'Chile y Brasil', 'República Dominicana', 'Colombia', 'Puerto Rico', 'Colombia', 'Estados Unidos', 'Colombia', 'Costa Rica', 'El Salvador', 'Perú', 'Colombia', 'Chile', 'México', 'Estados Unidos', 'Honduras', 'Perú', 'Bolivia', 'S\\nEstados Unidos y México', 'México', 'Perú', 'Costa Rica', 'Puerto Rico', 'S\\nMexico y Estados Unidos', 'Argentina', 'S\\nEstados Unidos y México', 'Colombia', 'Colombia', 'Argentina', 'Perú', 'S\\nCuba/Panamá', 'Cuba/Panamá/Estados Unidos', 'Chile', 'México', 'Argentina', 'Colombia', 'Lima, Perú', 'Venezuela', 'Perú', 'Chile', 'Estados Unidos', 'Colombia', 'Colombia', 'Chile', 'Argentina', 'Argentina', 'México', 'Colombia y Argentina', 'Perú', 'México', 'Chile', 'Cuba', 'Cuba', 'Estados Unidos', 'México', 'Perú', 'Puerto Rico', 'Argentina', 'Ecuador', 'Colombia', 'México, Estados Unidos', 'Puerto Rico', 'Uruguay', 'México', 'Honduras', 'Estados Unidos', 'Guatemala', 'México', 'Colombia', 'Puerto Rico', 'Colombia', 'Honduras', 'Mexico, Chile', 'Venezuela', 'Estados Unidos', 'Colombia, Reino Unido', 'México', 'México', 'Chile', 'Rio de Janeiro, Brasil', 'Perú', 'Estados Unidos, Chile, México, Inglaterra', 'Estados Unidos', 'Puerto Rico', 'De Perú a Estados Unidos', 'México', 'México', 'México', 'Estados Unidos', 'Estados Unidos', 'Santiago de Chile', 'México', 'Uruguay', 'Canadá', 'Argentina', 'España/Perú', 'Reynosa, México', 'Guatemala', 'Tegucigalpa, Honduras', 'Nueva York, Estados Unidos', 'Puerto Berrio, Colombia', 'Buenos Aires, Argentina']\n"
     ]
    }
   ],
   "source": [
    "##extract country from each story link in all_story_links\n",
    "countries = [get_country(soupify(story_link)) for story_link in all_story_links]\n",
    "print(countries)"
   ]
  },
  {
   "cell_type": "code",
   "execution_count": 9,
   "metadata": {
    "hidden": true,
    "slideshow": {
     "slide_type": "skip"
    }
   },
   "outputs": [
    {
     "name": "stdout",
     "output_type": "stream",
     "text": [
      "171\n",
      "54\n"
     ]
    }
   ],
   "source": [
    "#How many stories?\n",
    "print(len(all_story_links))\n",
    "\n",
    "#How many distinct countries?\n",
    "print(len(set(countries)))"
   ]
  },
  {
   "cell_type": "code",
   "execution_count": 10,
   "metadata": {
    "hidden": true,
    "slideshow": {
     "slide_type": "skip"
    }
   },
   "outputs": [
    {
     "name": "stdout",
     "output_type": "stream",
     "text": [
      "[('', ''), ('[Daniel Alarcón, host]:', ' Hola, ambulantes. Antes de comenzar quiero recordarles de nuestro nuevo podcast: El hilo. Es un poco diferente a Radio Ambulante, cada viernes revisamos una noticia importante de Latinoamérica y contamos la historia detrás de esa noticia. Y, claro, en estos días ese tema es coronavirus. El episodio del viernes pasado, por ejemplo, reportamos desde Guayaquil, Ecuador, una de las ciudades más golpeadas de la región. No se lo pierdan.\\xa0'), ('', 'Además quiero recordarles que cada viernes por las próximas cinco semanas vamos a poner el episodio de El hilo en este feed. O sea, Radio Ambulante los martes, episodio extra de El hilo los viernes. La idea es servirles mejor durante este periodo tan complejo. Más información en elhilo.audio. OK, entonces aquí va el episodio.'), ('[Daniel Alarcón, host]:', 'Bienvenidos a Radio Ambulante, desde NPR. Soy Daniel Alarcón.\\xa0')]\n"
     ]
    }
   ],
   "source": [
    "#function to extract transcriptions from any arbitrary soupified story\n",
    "def get_transcription(story_soup):\n",
    "    \"\"\"accepts any soupified story and returns its transcription\n",
    "    as a list of (speaker, utterance tuples)\"\"\"\n",
    "    transcript = story_soup.find('div', class_='qode-post-text-main').find_all('p')\n",
    "    \n",
    "    speakers = ['']\n",
    "    utterances = ['']\n",
    "    \n",
    "    #add each line's speaker to the list of speakers\n",
    "    for index,line in enumerate(transcript):\n",
    "        if line.find('b'):\n",
    "            speaker = line.find('b').text #The speaker should be located in a bold text (check this later)\n",
    "        else:\n",
    "            speaker = speakers[index-1] #When the speaker is missing, get it from the previous line\n",
    "            \n",
    "        speakers.append(speaker)\n",
    "        \n",
    "        if line.find('span'): #The utterances should be located in a span tag (check this later)\n",
    "            utterance = line.find('span').text\n",
    "        else:\n",
    "            utterance = 'NA'\n",
    "            \n",
    "        utterances.append(utterance)\n",
    "        \n",
    "    return list(zip(speakers, utterances))\n",
    "            \n",
    "    \n",
    "#sanity check on story disparos_al_cielo\n",
    "disparos_al_cielo_url ='https://radioambulante.org/transcripcion/disparos-al-cielo-transcripcion'\n",
    "\n",
    "print(get_transcription(soupify(disparos_al_cielo_url))[:4])"
   ]
  },
  {
   "cell_type": "code",
   "execution_count": 11,
   "metadata": {
    "hidden": true,
    "slideshow": {
     "slide_type": "skip"
    }
   },
   "outputs": [
    {
     "data": {
      "text/plain": [
       "{'url': 'https://radioambulante.org/transcripcion/disparos-al-cielo-transcripcion',\n",
       " 'title': ['disparos-al-cielo-transcripcion'],\n",
       " 'country': 'México',\n",
       " 'transcription': [('', ''),\n",
       "  ('[Daniel Alarcón, host]:',\n",
       "   ' Hola, ambulantes. Antes de comenzar quiero recordarles de nuestro nuevo podcast: El hilo. Es un poco diferente a Radio Ambulante, cada viernes revisamos una noticia importante de Latinoamérica y contamos la historia detrás de esa noticia. Y, claro, en estos días ese tema es coronavirus. El episodio del viernes pasado, por ejemplo, reportamos desde Guayaquil, Ecuador, una de las ciudades más golpeadas de la región. No se lo pierdan.\\xa0'),\n",
       "  ('',\n",
       "   'Además quiero recordarles que cada viernes por las próximas cinco semanas vamos a poner el episodio de El hilo en este feed. O sea, Radio Ambulante los martes, episodio extra de El hilo los viernes. La idea es servirles mejor durante este periodo tan complejo. Más información en elhilo.audio. OK, entonces aquí va el episodio.'),\n",
       "  ('[Daniel Alarcón, host]:',\n",
       "   'Bienvenidos a Radio Ambulante, desde NPR. Soy Daniel Alarcón.\\xa0'),\n",
       "  ('(SOUNDBITE DE EXPLOSIONES)', 'NA'),\n",
       "  ('[Daniel]: ',\n",
       "   'Eso que escuchan se grabó en San Lorenzo Almecatla, un pueblo en el centro de México, y apareció en un medio regional en 2018. La gente de San Lorenzo empezó a escuchar ese sonido en mayo de ese mismo año.'),\n",
       "  ('(SOUNDBITE DE EXPLOSIONES)', 'NA'),\n",
       "  ('[Daniel]: ',\n",
       "   'Y no tenían ni idea qué era. Así lo explica Nazario Cuautencos, que vive en San Lorenzo.'),\n",
       "  ('[Nazario Cuautencos]:',\n",
       "   ' Yo pensé que eran cuetes de los pueblos aledaños, ¿no?'),\n",
       "  ('[Daniel]: ',\n",
       "   'Cuetes, o sea, fuegos artificiales. En México, como en muchas otras partes de Latinoamérica, son comunes en ciertas celebraciones, como el día de algún santo patrono. Pero estas explosiones se escuchaban mucho, mucho más fuerte.'),\n",
       "  ('[Nazario]:', ' Cómo que se movía la… la tierra. Hacía: ¡zaz!\\xa0'),\n",
       "  ('[Daniel]: ',\n",
       "   'Así que la explicación de los fuegos artificiales era poco probable.\\xa0'),\n",
       "  ('[Nazario]:',\n",
       "   'San Lorenzo es una comunidad pequeña a las afueras de la ciudad de Puebla. Tomas la carretera que te lleva hacia la salida al noroeste de la ciudad, pasas algunas zonas industriales y en pocos minutos te encuentras en un lugar más rural: planicies verdes, con mucho sol, atravesadas por más carreteras que conectan los varios pueblos de la región.\\xa0'),\n",
       "  ('[Daniel]: ',\n",
       "   'Nazario, como muchos de los pobladores de San Lorenzo, se dedica a la agricultura.'),\n",
       "  ('[Nazario]: ',\n",
       "   'La mayoría cultivamos, este, lo que es maíz y calabaza, nada más. Y haba.\\xa0'),\n",
       "  ('[Daniel]: ',\n",
       "   'Y fue desde las tierras que tiene a las afueras del pueblo, donde también está su casa, que Nazario empezó a escuchar esas explosiones. Y le llamó la atención cuánto duraban.'),\n",
       "  ('[Nazario]: ',\n",
       "   'A veces se hacían dos o tres horas porque echaban… y luego como cada cinco minutos echaban uno y otro, y otro, y otro.\\xa0'),\n",
       "  ('[Daniel]: ', 'Pero empezaron a darse cuenta que parecía haber un patrón.'),\n",
       "  ('[Nazario]: ',\n",
       "   'Las nubes estaban bien negras, negras, así ya pa’ llover y empezaban a tronar: ¡zas! ¡zas! Y cuando veíamos, las nubes se empezaban a abrir. Y cuando vimos ya… ya no llovió. Ya se fue… se fueron las nubes.\\xa0'),\n",
       "  ('[Daniel]: ',\n",
       "   'O sea, los ruidos sonaban cuando parecía que iba a llover. Y es que fue justo en los meses cuando comienza la temporada de lluvia que se empezaron a escuchar esas explosiones. Es una época muy importante para los campesinos como Nazario que practican agricultura de temporal, que depende de la lluvia para que crezcan los cultivos.\\xa0'),\n",
       "  ('[Nazario]: ',\n",
       "   'Estela Ramírez vive en San Francisco Ocotlán, un pueblo muy cerca de San Lorenzo, y ella también empezó a notar más o menos al mismo tiempo la conexión entre las explosiones y la lluvia.'),\n",
       "  ('[Estela Ramírez]:',\n",
       "   ' Porque ya las aguas, este, ya anunciaban. Y incluso hasta metíamos la ropa, juntábamos, este, nuestros pollitos y todo ya, porque va a llover.\\xa0'),\n",
       "  ('[Daniel]: ',\n",
       "   'Y lo mismo. Si las nubes aparecían, las explosiones sonaban. Además de la conexión con la lluvia, Estela un día se topó con otra cosa igual de preocupante.\\xa0'),\n",
       "  ('[Estela]:',\n",
       "   ' Tenemos unos doce árboles y amanecen ya tiraditos ahí los pajaritos muertos: seis, ocho. Una vez contamos hasta 16.\\xa0'),\n",
       "  ('[Daniel]: ',\n",
       "   'Cuando descubrieron lo que provocaba ese ruido, Nazario y muchos de los vecinos de los alrededores se indignaron, y la noticia llegó a medios nacionales e internacionales. ¿Qué estaba provocando esas explosiones?'),\n",
       "  ('[Estela]:', 'Nuestra editora Victoria Estrada nos cuenta.'),\n",
       "  ('[Victoria Estrada]: ',\n",
       "   'La zona donde están San Lorenzo y Ocotlán, al noroeste de Puebla, es muy conocida además por otra cosa: ahí está una de las plantas de ensamblaje más grandes de la Volkswagen fuera de Europa. Es un terreno de 300 hectáreas y queda muy cerca de donde viven personas como Nazario.\\xa0'),\n",
       "  ('[Nazario]: ',\n",
       "   'Usted puede ver que yo estoy cerca de aquí de Volkswagen. Estoy atrasito de Volkswagen.'),\n",
       "  ('[Victoria]: ', 'La planta se construyó hace más de 50 años.\\xa0'),\n",
       "  ('[Nazario]:',\n",
       "   ' Anteriormente, cuando yo, este, llegué a esta zona solamente estaba Volkswagen y yo. No había nada. Casas arriba solamente habían tres.'),\n",
       "  ('[Victoria]: ',\n",
       "   'Ahora ya se ve un parque industrial y un periférico que conecta con la ciudad. Ha pasado lo que en muchos lados: las ciudades crecen y empiezan a anexar las zonas que antes eran rurales.\\xa0'),\n",
       "  ('[Nazario]:',\n",
       "   'Pronto se empezaron a correr rumores que explicaban de dónde venían esas explosiones. Él es Gerardo Pérez. Es ingeniero civil y vive en Ocotlán.'),\n",
       "  ('[Gerardo Pérez]:',\n",
       "   ' Me dijeron: “Oye, Gerardo, la Volkswagen echa cuetes para que no llueva”. Así, me lo comentaron.'),\n",
       "  ('[Victoria]: ',\n",
       "   'La información de que las explosiones parecían venir de la Volkswagen empezó a correr de voz en voz y por grupos de chats. Y con esos rumores llegó algo más: que no eran cohetes ni bombas lo que estaban tirando, sino algo llamado “cañones antigranizo”.'),\n",
       "  ('[Gerardo]: ',\n",
       "   'Entonces yo no sabía nada de los cañones antigranizo. O sea, no sabía nada del tema. Entonces, nos dimos a la tarea de investigar.'),\n",
       "  ('[Nazario]: ',\n",
       "   'Gracias a Dios, pues, tenemos el internet y pues las personas a veces nos… nos… nos tenemos que meter a eso para, pues, documentarnos, ¿no?'),\n",
       "  ('[Victoria]: ',\n",
       "   'No era mucha la información que había, pero básicamente se enteraron que esos cañones ya habían causado conflictos en otras partes donde se usaban, pues se decía que detenían el granizo y la lluvia. Los vecinos de la Volkswagen no sabían por qué la empresa quería que no granizara, ni menos por qué querían detener la lluvia, que era lo que parecía que estaba pasando.'),\n",
       "  ('[Nazario]: ',\n",
       "   'Y aunque se llaman “cañones”, no son lo que uno se imaginaría: esos cañones negros de guerra que podrían aparecer en una película o serie ambientada en el siglo XVIII. Lo que ellos alcanzaban a ver a lo lejos eran unas estructuras más parecidas a una corneta metálica de unos seis metros de alto que apuntaba hacia el cielo.\\xa0'),\n",
       "  ('[Victoria]: ',\n",
       "   'La falta de lluvia se fue prolongando por varias semanas y eso estaba afectando sus cultivos, pero nadie de la empresa se había pronunciado. Así que entre varios vecinos se reunieron y decidieron hablar con las autoridades municipales para discutir el uso de los cañones. Formaron una comisión, reunieron la información que habían sacado de internet y se la entregaron al presidente auxiliar del municipio y a los representantes de la Comisión Nacional del Agua. Pero les daban largas, los ignoraban y las respuestas no llegaban.'),\n",
       "  ('[Nazario]: ',\n",
       "   'Entonces, este, pues nosotros nos… nos indignamos. Lo… por, le digo, por lo que nos estaba haciendo Volkswagen y tuvimos que, pues, tomar cartas en el asunto porque las autoridades se hacen de la vista gorda y no quieren hacer nada por… porque se nos haga justicia.'),\n",
       "  ('[Victoria]: ',\n",
       "   'Así que los vecinos decidieron hacer algo para que tanto la empresa como las autoridades les prestaran atención.\\xa0'),\n",
       "  ('(SOUNDBITE DE ARCHIVO)', 'NA'),\n",
       "  ('[Periodista]: ',\n",
       "   'Pobladores de los alrededores del parque industrial FINSA cerraron el camino a San Lorenzo Almecatla. Están en contra de los cañones antigranizo que compró y que está utilizando la empresa Volkswagen. Argumenta que su uso ha provocado que ya no llueva en la zona, situación que está dañando los cultivos.'),\n",
       "  ('[Victoria]: ',\n",
       "   'El 1 de junio de 2018 un grupo de unos 200 vecinos bloqueó la carretera y uno de los accesos a la planta de Volkswagen. Formaron una barrera para impedir el paso de los vehículos y llevaban carteles que decían “Por el agua” y “No cañones antigranizo”.'),\n",
       "  ('[Periodista]: ',\n",
       "   '\\xa0Los vecinos declararon lo que buscaban ante los medios.'),\n",
       "  ('(SOUNDBITE DE ARCHIVO)', 'NA'),\n",
       "  ('[Mujer]: ',\n",
       "   'Nuestras peticiones son que quiten los cañones antigranizo definitivamente y que si los vuelven a utilizar vamos a volver a cerrar, que hagan el pa… el pago económico por pérdida de cosechas en general.'),\n",
       "  ('[Victoria]: ',\n",
       "   'Ese día el bloqueo de la carretera y del acceso a la planta de Volkswagen duró cinco horas. Un representante de la empresa salió a dar una declaración donde admitía que sí estaban usando esos “cañones antigranizo”, pero pidió que se creara una mesa de diálogo entre los vecinos, las autoridades y Volkswagen para explicar cómo funcionaban.'),\n",
       "  ('[Mujer]: ', 'Este es Nazario otra vez.'),\n",
       "  ('[Nazario]: ',\n",
       "   'Sí, ellos nos decían que… que los anti… los cañones antigranizo no le hacían daño al campesino, que era, este, pura superstición de nosotros y que no… que ignorábamos cuál eran la… el efecto que… que producían.'),\n",
       "  ('[Victoria]: ',\n",
       "   'Y además decían que tenían los permisos necesarios para usar los cañones. Así que no dejarían de dispararlos.'),\n",
       "  ('[Nazario]: ',\n",
       "   'Aquí hagamos una pausa para explicar cómo funcionan estos cañones. Es un tema complejo así que vamos por partes. Los cañones que estaba usando la Volkswagen los habían comprado de una empresa española llamada Sociedad Protección Anti Granizo, o SPAG por sus siglas.\\xa0'),\n",
       "  ('[Victoria]: ',\n",
       "   'Este es David Ollivier, el director general de SPAG, describiendo para un canal de televisión cómo es que, según ellos, funcionan estos cañones.\\xa0'),\n",
       "  ('(SOUNDBITE DE ARCHIVO)', 'NA'),\n",
       "  ('[David Ollivier]: ',\n",
       "   'Lo que hacemos es una inyección de gas acetileno dentro de esa cámara de combustión creamos una chispa, esa chispa genera una… una explosión y esa explosión pro… produce una onda expansiva que es la que se… que es la que se expande hacia… hacia a la atmósfera'),\n",
       "  ('[Victoria]: ',\n",
       "   'Según la SPAG la explosión produce ondas de choque, o sea, que van más rápido que la velocidad del sonido local. En su página web tienen un video promocional donde se supone que explican cómo funciona. Es puro dibujito, en realidad.\\xa0'),\n",
       "  ('[David Ollivier]: ',\n",
       "   'Se ve que de un cañón disparan una onda blanca que se va expandiendo y va creando como una especie de domo. En la animación se ve cómo, apenas unos copos de nieve —que simbolizan el granizo— cruzan el borde del domo, se transforman en gotas de lluvia.'),\n",
       "  ('[Victoria]: ',\n",
       "   'Lo importante es que, según esta explicación, las ondas no afectan la caída de lluvia.'),\n",
       "  ('[David Ollivier]: ',\n",
       "   'La SPAG lleva ya 40 años en el mercado y dicen que han vendido estos cañones a más de 20 países, entre ellos Argentina, Nueva Zelanda, Australia, y ahora México. La mayoría de sus clientes son agricultores que tienen cultivos vulnerables al granizo, como la pera o el durazno. Pero, claro, Volkswagen no estaba cultivando frutas, sino armando autos, que se quedan al aire libre y también pueden ser dañados por el granizo.'),\n",
       "  ('[Victoria]: ',\n",
       "   'Ni Volkswagen ni la SPAG han revelado cuál es el precio de los cañones que se instalaron en la armadora, pero se ha reportado que les pudo haber costado más de 1 millón de pesos —unos 64 mil dólares, al cambio de la época—. Es bastante menos de lo que cuestan otras alternativas, como los seguros por las pérdidas que pueda causar el granizo o las mallas antigranizo. Por ejemplo, para instalar la malla, se reportó que Volkswagen necesitaría pagar una licencia al municipio de más de 4 millones de pesos —más de 200 mil dólares, en ese entonces— y a eso añadir el costo de la malla y su instalación.\\xa0'),\n",
       "  ('[David Ollivier]: ', 'Comparado con eso, los cañones son una ganga.'),\n",
       "  ('[Victoria]: ',\n",
       "   'Esa primera protesta no tuvo mucho eco. Los campesinos reportaron que la Volkswagen siguió usando los cañones durante junio y julio del 2018. Pero a los vecinos de San Lorenzo y Ocotlán, se le unieron productores de otros pueblos vecinos, como Canoa, San Miguel Espejo, Xonacatepec, Aparicio, Acajete,Tepatlaxco y la Junta Auxiliar de la Resurrección.'),\n",
       "  ('[David Ollivier]: ',\n",
       "   'En una rueda de prensa a principios de agosto, los campesinos anunciaron que según sus estimaciones ya se habían perdido casi 2 mil hectáreas de maíz, y, según declararon, eso había afectado a unas 100 mil personas en la región.'),\n",
       "  ('[Victoria]: ',\n",
       "   'Como respuesta, el secretario estatal de Desarrollo Rural, Sustentabilidad y Ordenamiento Territorial anunció que la Comisión Nacional del Agua había descartado que los cañones tuvieran efectos negativos, pero aun así el gobierno de Puebla le había pedido a la Volkswagen que dejaran de usarlos hasta que se determinara si realmente habían tenido algo que ver con la falta de lluvia en la zona.\\xa0'),\n",
       "  ('[David Ollivier]: ',\n",
       "   'O sea, que por lo menos se tenía que investigar las quejas de los vecinos agricultores.\\xa0'),\n",
       "  ('[Victoria]: ', 'Pero los cañones seguían retumbando.\\xa0'),\n",
       "  ('[David Ollivier]: ',\n",
       "   'Así que el 8 de agosto volvieron a tomar la carretera. Esta vez la toma duró una hora y terminó igual que la vez pasada: con un acuerdo para empezar mesas de diálogo entre la empresa, las autoridades y los campesinos.\\xa0'),\n",
       "  ('[Victoria]: ',\n",
       "   'Aunque las protestas de los campesinos parecían no llegan a mucho, los medios cada vez ponían más atención a lo que estaba pasando en Puebla, y pronto, de ser una noticia local llegó a medios nacionales.\\xa0'),\n",
       "  ('[David Ollivier]: ',\n",
       "   'Para tratar de explicar los efectos que tenían los cañones, los medios empezaron a consultar con investigadores y académicos. En uno de los noticieros salió una nota donde entrevistaron a Jesús Gómez, un doctor en Edafología —o sea, estudios del suelo— que se especializa en cambio climático. Fue muy enfático en lo perjudicial que eran estas ondas de los cañones.'),\n",
       "  ('(SOUNDBITE DE ARCHIVO)', 'NA'),\n",
       "  ('[Jesús Gómez]: ',\n",
       "   'Hay un daño colateral muy alto, cambia radicalmente toda la condición, sobre todo de balance de humedad porque disminuye muy considerablemente la precipitación.'),\n",
       "  ('[Victoria]: ',\n",
       "   'Pero no todos los investigadores que entrevistaban los medios parecían coincidir. Mientras que Gómez decía que los cañones disminuyen la lluvia, en otro noticiero una doctora en física, Belinka González, dijo otra cosa.\\xa0'),\n",
       "  ('(SOUNDBITE DE ARCHIVO)', 'NA'),\n",
       "  ('[Belinka González]: ',\n",
       "   'Lo que provocan es que llueva, no que no llueva. No existen métodos para hacer que no llueva. Lo que haces es que llueva en otra región o en otro momento. Y puedes evitar que el agua llegue a congelarse y caiga en forma de granizo haciéndola que se precipite antes.'),\n",
       "  ('[Victoria]: ',\n",
       "   'Pero tampoco era claro que eso era lo que estaba pasando, porque no había lluvia en la zona. Todo el asunto era muy confuso.'),\n",
       "  ('[Belinka González]: ',\n",
       "   'Como respuesta a toda la atención que estaba atrayendo la noticia, el 13 de agosto de 2018, representantes de la Volkswagen dieron una conferencia de prensa para explicar cómo funcionaban esos cañones y por qué seguían usándolos.\\xa0'),\n",
       "  ('[Victoria]: ',\n",
       "   'En la conferencia estaban tres ejecutivos de Volkswagen. La primera en hablar fue Sara Marengo, asistente técnico de la Oficina de la Presidencia de Volkswagen de México, quien quiso dejar una cosa muy en claro.'),\n",
       "  ('(SOUNDBITE DE ARCHIVO)', 'NA'),\n",
       "  ('[Sara Marengo]: ',\n",
       "   'El objetivo manifiesto de Volkswagen de México es la protección del medio ambiente: el agua, el suelo, del aire y los recursos en todos sus procesos de producción, así como una relación de buena vecindad.'),\n",
       "  ('[Victoria]: ',\n",
       "   'Luego, Julio Marín, gerente de Gestión Ambiental, Sustentabilidad y Sistemas de Gestión para Volkswagen, explicó que habían instalado los cañones, porque 2017 había sido un año con tormentas de granizo especialmente fuertes que habían dañado los autos nuevos que se armaban y guardaban en los lotes. Eso les había causado pérdidas de 20 millones de dólares. Así que habían comprado tres cañones, aunque para ellos tiene un nombre más complejo: “dispositivos sónicos antigranizo”.'),\n",
       "  ('(SOUNDBITE DE ARCHIVO)', 'NA'),\n",
       "  ('[Julio Marín]:',\n",
       "   ' Estos dispositivos sónicos fueron seleccionados después de que nuestras áreas de ingeniería buscaran alternativas de… qué hacer y cómo detener estos daños que se están dando tanto en las cosechas de nuestros compañeros campesinos como también en nuestros autos terminados.'),\n",
       "  ('[Victoria]: ',\n",
       "   'Sobre las preocupaciones de los campesinos, solo dijeron que estaban haciendo los estudios de impacto ambiental que les había pedido el gobierno. Pero insistieron en que habían consultado otros estudios y a expertos que les habían dicho que los cañones no afectan la lluvia y por ende no deberían afectar a los campesinos.\\xa0'),\n",
       "  ('[Julio Marín]:',\n",
       "   'La conferencia duró poco más de veinte minutos. Y terminó con los comentarios de Carlos Luna, el vicepresidente de Relaciones Corporativas de Volkswagen, quien aclaró que, fuera lo que fuera, tener y usar esos cañones era legal.\\xa0'),\n",
       "  ('(SOUNDBITE DE ARCHIVO)', 'NA'),\n",
       "  ('[Carlos Luna]: ',\n",
       "   'Nosotros contamos con todos los permisos, las autorizaciones necesarias que nos han acordado las secretarías de Medio Ambiente y por lo tanto están bajo función, eh, regulada por parte del Gobierno.'),\n",
       "  ('[Victoria]: ',\n",
       "   'Traté insistentemente de hablar con Julio Marín y con otros representantes de la Volkswagen, pero nunca me respondieron.\\xa0'),\n",
       "  ('[Carlos Luna]: ',\n",
       "   'Gerardo Pérez y Estela Ramírez, que viven en Ocotlán y de quienes ya habíamos escuchado, participaron en las mesas de diálogo que había propuesto Volkswagen desde la primera protesta para tratar de llegar a un acuerdo sobre el uso de los cañones. Pero, según ellos, esas reuniones en realidad no eran un diálogo, los directivos de la Volkswagen solo les enseñaban documento tras documento para tratar de convencerlos.'),\n",
       "  ('[Gerardo]: ',\n",
       "   'Ellos nos mostraron una ficha técnica e incluso yo les comentaba: “Pues si una ficha técnica viene del constructor pues va a decir que no afecta, ¿verdad?”'),\n",
       "  ('[Victoria]: ',\n",
       "   'O sea, que no era un dictamen imparcial de una tercera parte y que su validez era muy cuestionable.'),\n",
       "  ('[Gerardo]: ',\n",
       "   'Cuando entrevisté a Gerardo, me mostró una parte del expediente que les habían dado.'),\n",
       "  ('[Victoria]: ',\n",
       "   'Y, este, estos papeles ¿qué… qué son? ¿Lo que había traído?'),\n",
       "  ('[Gerardo]: ',\n",
       "   'Bueno, sí, hay algo de… de acá, de… por ejemplo, mire, aquí nosotros… yo bajé unas… los límites de Cuautlancingo.'),\n",
       "  ('[Victoria]: ',\n",
       "   'Y entre todos esos papeles estaba un documento clave. Era la evidencia clara de que no era cierto que estaban cumpliendo con las condiciones del permiso que les había aprobado el gobierno.'),\n",
       "  ('[Gerardo]: ',\n",
       "   'Este es el expediente que tenemos, ¿no? Dice: “Los dispositivos antigranizo operarán menos de dos horas por año y contarán con un sistema antisonoro que reduce significativamente el nivel del ruido». O sea, aquí claramente lo está diciendo que deben operar menos de dos horas por año\\xa0 … y en una… y en un solo día —ellos mismos nos dieron el expediente— fueron casi… aquí tienen, mira, del 23, 24, 25… de abril a mayo fueron once horas nada más.'),\n",
       "  ('[Victoria]: ',\n",
       "   'O sea, que ellos mismos habían llevado el registro de cuántas veces y por cuánto tiempo los habían prendido. Y eran muchas horas, más de las dos que autorizaba el permiso.'),\n",
       "  ('[Gerardo]: ',\n",
       "   'También decía que la Volkswagen necesitaba obtener las autorizaciones que fueran necesarias a nivel municipal, estatal y federal. Y ese fue otro punto que los vecinos sabían que no habían cumplido.'),\n",
       "  ('[Gerardo]: ',\n",
       "   'Porque también nosotros como pueblos originarios, para… para que se haga ese tipo de proyectos, deben de ser consultados a los pueblos originarios.'),\n",
       "  ('[Victoria]: ',\n",
       "   'Y esto es importante porque según los tratados internacionales que México ha ratificado, los pueblos originarios tienen el derecho a ser consultados previamente sobre cualquier situación que afecte sus intereses. Y, por supuesto, la instalación de una maquinaria que pudiera afectar la caída de granizo en la zona forma parte de esto.'),\n",
       "  ('[Gerardo]: ',\n",
       "   'Y en base a una consulta y el pueblo decide, cosa que también no hicieron. O sea, había muchas anomalías en el… en el expediente.'),\n",
       "  ('[Victoria]: ',\n",
       "   'A pesar de todas estas anomalías, los vecinos nunca sintieron que tenían el respaldo de las autoridades en sus reclamos. Según Estela, desde el inicio, esas mesas de diálogo no fueron muy productivas.'),\n",
       "  ('[Estela]: ',\n",
       "   'A nosotros… ¿cómo le podré explicar? Pues, prácticamente nos ignoraban. Sí, porque así fue. Realmente que nos… no nos escuchaban nuestras peticiones, nuestros sentires como pueblo. Nunca hubo eso.'),\n",
       "  ('[Daniel]: ',\n",
       "   'Hasta este momento había dos cosas claras: Volkswagen no dejaría de disparar los cañones para disolver el granizo y los vecinos no dejarían de reclamar para que les devolvieran las lluvias. Esto llamó la atención de muchas personas en el país, pero sobre todo de algunos meteorólogos, que empezaron a decir algo que contradecía tanto a la empresa como a los campesinos: que los cañones antigranizo no servían para nada.\\xa0'),\n",
       "  ('[Estela]: ', 'Una pausa y volvemos.'),\n",
       "  ('[Squarespace]: ',\n",
       "   'Este podcast y el siguiente mensaje son patrocinados por Squarespace, el creador de sitios web dedicado a proporcionar a sus clientes plantillas fáciles de usar y diseñadas por profesionales. Únete a los millones de diseñadores gráficos, arquitectos, abogados y otros profesionales que usan Squarespace para promocionar su negocio. Visita ya Squarespace.com/NPR para una prueba gratuita de 14 días, y cuando estés listo para lanzar tu página, usa el código NPR para ahorrarte 10 por ciento en la compra de tu primer sitio web o dominio.'),\n",
       "  ('[Code Switch]: ',\n",
       "   'Ya sea que hablemos de las protestas de atletas, la prohibición de que los musulmanes ingresen al país, la violencia con armas de fuego, la reforma educativa o la música que te está dando vida en este momento, la raza es el subtexto de gran parte de la historia estadounidense. Y en Code Switch, de NPR, ese subtexto se vuelve texto. Suscríbete y escucha todos los miércoles.'),\n",
       "  ('[Up First]: ',\n",
       "   'Mientras dormías, un montón de noticias estaban pasando alrededor del mundo. Up First es el podcast de NPR que te mantiene informado sobre los grandes acontecimientos en un corto tiempo. Comparte diez minutos de tu día con Up First, desde NPR, de lunes a sábado.'),\n",
       "  ('[Daniel]: ',\n",
       "   'Estamos de vuelta en Radio Ambulante. Soy Daniel Alarcón. Antes de la pausa escuchamos los problemas que tuvieron los vecinos de San Lorenzo Almecatla, de Ocotlán y otros pueblos vecinos de Volkswagen. En la primavera de 2018 la planta armadora empezó a usar cañones para detener el granizo que estaba dañando los carros en sus lotes.\\xa0'),\n",
       "  ('[Up First]: ',\n",
       "   'Los vecinos decían que los cañones estaban ahuyentando la lluvia, pero la empresa aseguraba que solo afectaban el granizo y que además tenían los permisos para usarlos. Pero lo único cierto es que no estaba lloviendo como normalmente pasaba en esa época. Eso estaba afectando las cosechas, así que habían empezado a protestar para exigir que Volkswagen dejara de usarlos.\\xa0'),\n",
       "  ('[Daniel]: ',\n",
       "   'Pero a ese conflicto se agregó la voz de algunos científicos como ella, Graciela Raga. Su argumento era sencillo:'),\n",
       "  ('[Graciela Raga]: ',\n",
       "   'Lo que puedo decirle es que no hay realmente estudios que hayan documentado que ninguno de los métodos tienen una efectividad probada. Menos que menos los de los cañones que están en superficie. Es totalmente no efectivo. Eso ya está. O sea, no hay forma.\\xa0'),\n",
       "  ('[Daniel]: ',\n",
       "   'O sea, que esos cañones en realidad no estaban haciendo lo que ninguna de las partes aseguraba.'),\n",
       "  ('[Graciela Raga]: ', 'Victoria Estrada nos sigue contando.'),\n",
       "  ('[Victoria]: ',\n",
       "   'La idea de disparar al cielo para tratar de evitar que llueva o granice es muy vieja. Empezó hace más de 500 años con esos cañones de guerra que todos hemos visto. En esa época disparaban balas de cañón —metálicas y muy pesadas— hacia las nubes. Benvenuto Cellini, un escultor italiano renacentista, reportó en 1554 en su autobiografía que había logrado destruir una tormenta a cañonazos.'),\n",
       "  ('[Graciela Raga]: ',\n",
       "   'Desde entonces ha habido variaciones. Por ejemplo, a finales del siglo XIX se concedió una patente a un general en Estados Unidos que había desarrollado un proceso para que lloviera más: el invento era detonar explosivos que se elevaban hacia las nubes a bordo de globos.\\xa0'),\n",
       "  ('[Victoria]: ',\n",
       "   'Según la empresa que los vende, el cañón que estaba usando Volkswagen se diseñó en los setentas y, como dijimos, no dispara balas, sino una onda sónica. Pero, en esencia, la idea es muy parecida a como empezó: disparar al cielo para tratar de cambiar el tiempo.'),\n",
       "  ('[Graciela Raga]: ',\n",
       "   'Para entender cómo podría funcionar eso hablé con Graciela Raga, a quien escucharon antes. Ella es meteoróloga e investigadora del Centro de Ciencias de la Atmósfera de la Universidad Nacional Autónoma de México. Tiene un doctorado en Ciencias Atmosféricas en Estados Unidos, y ha trabajado en varios centros de investigación, incluyendo en Inglaterra y Canadá.'),\n",
       "  ('[Graciela]: ',\n",
       "   'Haciendo mediciones de, eh, las características de las nubes dentro de las nubes, con aviones que tienen instrumental bastante sofisticado.'),\n",
       "  ('[Victoria]: ',\n",
       "   'Para medir diferentes cosas: el contenido de agua, el tamaño de las gotas o la turbulencia en las nubes, por ejemplo. Todas esas mediciones…'),\n",
       "  ('[Graciela]: ',\n",
       "   'Permiten, eh, una meyor… mayor… o mejor caracterización de las condiciones dentro de las nubes.'),\n",
       "  ('[Victoria]: ',\n",
       "   'A mí todo eso me sonaba extraño y la verdad no sé mucho sobre nubes. Así que le pedí a Raga que me explicara sobre el tema desde cero, como si yo fuera una niña de ocho años, porque para este momento ya estaba muy confundida con todo lo que había leído sobre los cañones.\\xa0'),\n",
       "  ('[Graciela]: ', 'Así que vamos por pasos:\\xa0'),\n",
       "  ('[Graciela]: ',\n",
       "   'La formación de… de nubes es bastante… es algo bastante común en… en nuestro planeta y depende principalmente de dos cosas: la disponibilidad de vapor de agua.'),\n",
       "  ('[Victoria]: ',\n",
       "   'O sea, se necesita que haya humedad en la atmósfera. Y la segunda cosa:\\xa0'),\n",
       "  ('[Graciela]: ',\n",
       "   'El vapor de agua tiene que condensar sobre una partícula que ya exista.\\xa0'),\n",
       "  ('[Victoria]: ',\n",
       "   'Me dijo que el agua no condensa, es decir, no pasa de estado gaseoso a líquido, en la nada. Necesita esas partículas diminutas como polvo, sales marinas o esporas de plantas.'),\n",
       "  ('[Graciela]: ',\n",
       "   'Una vez que se tiene el vapor de agua y las partículas es necesario también que las partículas suban a una altura donde la temperatura es más baja.\\xa0'),\n",
       "  ('[Graciela]: ',\n",
       "   'Y cuando la humedad es cien por ciento, condensa el vapor de agua sobre estas partículas y entonces nos da lugar como las primeras nubecitas que… que vemos.'),\n",
       "  ('[Victoria]: ',\n",
       "   'Ese proceso tiene que durar lo suficiente para que las nubes crezcan y crezcan y crezcan. Si eso no pasa, pues ahí queda, pero si sí, de ahí sigue la formación de lluvia y granizo.'),\n",
       "  ('[Graciela]: ',\n",
       "   'Me dijo que en esencia son procesos similares. Principalmente lo que cambia es que para que haya granizo tienen que formarse cristales de hielo y que eso solo pasa en un tipo de nube que se llama '),\n",
       "  ('[Victoria]: ', 'Ya sean gotas o cristalitos, lo que sigue…\\xa0'),\n",
       "  ('[Graciela]: ',\n",
       "   'Son los choques entre las gotas y cristales los que producen el crecimiento de estas… estos hidrometeoros.'),\n",
       "  ('[Victoria]: ',\n",
       "   'No se asusten, hidrometeoros es otra forma de llamar a las partículas de lluvia y de granizo. El punto es que están chocando dentro de la nube y eso hace que se vuelvan más grandes. Dentro de la nube es un caos y es casi imposible saber desde afuera en qué momento está. Cuando ya no pueden estar suspendidas más en el aire por su peso, caen a la tierra, como lluvia o como granizo.'),\n",
       "  ('[Graciela]: ',\n",
       "   'Después de toda esa explicación entendí que los meteorólogos tienen esto bastante claro. Pero entonces me surgía una duda que le planteé a Raga: ¿Por qué es tan difícil saber con cien por ciento de exactitud cuándo va a llover? Porque, OK, en los medios vemos todos los días pronósticos y probabilidades de lluvia, o a veces incluso de granizo, pero los más exactos en el mundo, solo llegan a un noventa por ciento de certeza, nunca es cien.\\xa0'),\n",
       "  ('[Victoria]: ',\n",
       "   'Y me dijo que a pesar de que tenemos un conocimiento bastante preciso de lo que ocurre dentro de las nubes, no podemos reproducir lo que pasa ahí dentro en una computadora a las microescalas necesarias. Y es que el problema es que no hay ninguna computadora lo suficientemente poderosa como para poder simular cómo se mueve cada gotita dentro de una nube. Es increíblemente complejo. Lo más que se puede hacer es dar una probabilidad de que llueva o no. Pero nunca una certeza.'),\n",
       "  ('[Graciela]: ',\n",
       "   'Entonces, retomemos un poco. Ya explicamos cómo se forman las nubes, la lluvia y el granizo. Los meteorólogos no discuten eso. Lo que sí se pone en duda es la capacidad de modificar esas condiciones de forma artificial.\\xa0'),\n",
       "  ('[Victoria]: ',\n",
       "   'Y sí, es una ambición de la humanidad controlar el clima. Se está intentando ahora y no solo con los cañones de la Volkswagen. Raga me habló sobre un método: el de “sembrar nubes”, un proceso en el que se disparan cohetes —desde la superficie o desde aviones— que liberan partículas de yoduro de plata en las nubes. La idea es cargar las nubes con partículas y que eso acelere el proceso de la lluvia. Eso haría que llueva antes y no se alcance a formar el granizo.\\xa0'),\n",
       "  ('[Graciela]: ',\n",
       "   'De hecho, durante la ceremonia de inauguración de las olimpiadas en China en 2008 se reportó que el gobierno usó este método para que no lloviera durante el evento. La ceremonia de inauguración estuvo seca.'),\n",
       "  ('[Victoria]: ',\n",
       "   'Pero aunque en el laboratorio se ha comprobado que el yoduro de plata sirve para condensar el vapor de agua, otra cosa es que eso sirva con las nubes.'),\n",
       "  ('[Graciela]: ',\n",
       "   'Porque hay que sembrar en un momento en particular. Ahora, ¿cómo llegó a sembrar en ese instante en particular, si tengo que pedir permiso para despegar con el avión? Entonces, realmente es muy difícil esa… desde el punto de vista experimental, hacer esa siembra y que sea efectiva.\\xa0'),\n",
       "  ('[Victoria]: ',\n",
       "   'Es muy complicado probar si la siembra de nubes tiene un efecto real o si es que en realidad no se iba a formar granizo, y de todas formas iba a llover antes. Nunca es una certeza total.\\xa0'),\n",
       "  ('[Graciela]: ',\n",
       "   'Entonces, la evidencia de que la siembra funciona o no, no pasa de anécdotas. No hay datos duros que se puedan considerar pruebas, para darle una validez científica a estos métodos.'),\n",
       "  ('[Victoria]: ',\n",
       "   'Pero Raga me aclaró que una cosa es la siembra de nubes y otra lo que hacen los cañones antigranizo. Los cañones no liberan partículas en las nubes, solo queman acetileno para producir una onda sónica.'),\n",
       "  ('[Graciela]: ',\n",
       "   'Y eso es importante, porque una de las críticas que se ha hecho a la siembra de nubes es que las partículas de cloro con yoduro de plata que se sueltan son tóxicas para los seres vivos. Las personas que apoyan el uso de la siembra argumentan que la cantidad de partículas que se liberan al ambiente no es suficiente como para causar daños, así que no hay problema.'),\n",
       "  ('[Victoria]: ',\n",
       "   'Aun así, su uso es controversial. En un artículo sobre el uso de los cañones que se publicó en Armenia, se proponía que eran una alternativa más ecológica a la siembra de nubes, porque no usan el yoduro de plata.'),\n",
       "  ('[Graciela]: ',\n",
       "   'El problema, claro, es que la explicación que dan los fabricantes sobre cómo funcionan los cañones no parece tener ningún sustento científico. Lo que dicen ellos es que…'),\n",
       "  ('[Graciela]: ',\n",
       "   'El principio físico es que el… el aire que está contenido en las semillas del granizo va a vibrar con el sonido y va a hacer que se rompa el granizo.\\xa0'),\n",
       "  ('[Victoria]: ',\n",
       "   'Lo que decía Ollivier en el video que escuchamos antes.\\xa0'),\n",
       "  ('[Graciela]: ',\n",
       "   'Pero no es tan sencillo decir que algo funciona porque “hay un principio físico”. Se necesita probar, por lo menos en el papel, con fórmulas y una teoría. Y luego hacer pruebas para llegar a una conclusión.\\xa0'),\n",
       "  ('[Graciela]: ',\n",
       "   'Yo conozco y conocí a —varios han muerto— muchos de los más importantes físicos que han trabajado en el laboratorio estudios de granizo, y eso no está probado.\\xa0'),\n",
       "  ('[Victoria]: ',\n",
       "   'Y sí, trataron de probarlo. Se intentaron romper cristales de hielo en laboratorios con sonido —imitando lo que hacen los cañones— y no resultó. Por lo menos no a los niveles que se necesitaría para afectar una tormenta de granizo. Según Raga, no tiene sentido pensar que la explosión sónica del cañón va a deshacer el granizo cuando va cayendo, si las ondas expansivas de los truenos durante una tormenta —que son mucho más fuertes y están más cerca de las nubes— no deshacen el granizo.'),\n",
       "  ('[Graciela]:',\n",
       "   ' Entonces realmente la efectividad de esa tecnología es nula.'),\n",
       "  ('[Victoria]: ',\n",
       "   'La postura de la Organización Meteorológica Mundial de las Naciones Unidas sobre las tecnologías que tratan de modificar el tiempo —como los cañones antigranizo o la siembra de nubes— es que, y cito, “no tienen ninguna base científica y deben ser tomadas con sospecha”.\\xa0'),\n",
       "  ('[Graciela]:',\n",
       "   'Y al hablar de las posibles consecuencias ambientales que pueden tener, solo dicen que, cito, “no se han demostrado, pero no se pueden descartar”.'),\n",
       "  ('[Graciela]:',\n",
       "   ' Ciertamente tendría que haber mayor regulación y este es el rol del Estado, ¿no? En la regulación, de que no haya una propaganda totalmente falsa y que la gente no lo compre. Pero… pero, bueno, no hay mucha regulación en ese sentido en México.'),\n",
       "  ('[Victoria]: ', 'Ni tampoco en otros países.\\xa0'),\n",
       "  ('[Graciela]:',\n",
       "   'Aunque la intervención del gobierno parece volverse cada más necesaria: el conflicto entre la Volkswagen y los agricultores de los pueblos vecinos no es el primero que ha habido en México a causa de los cañones antigranizo.\\xa0'),\n",
       "  ('[Victoria]: ',\n",
       "   'En Jalisco, otro estado del centro de México, ha habido problemas por su uso desde hace diez años. Pero ahí no era una planta armadora de autos la que empezó a usar los cañones, sino otros agricultores. Ellos los estaban usando para proteger sus cultivos de aguacate, fresas, arándano, moras y tomate, que son un tipo de cosecha que se ve muy afectada por el granizo y que además son cultivos que no necesitan lluvia de temporada, porque utilizan el riego. O sea, que si dejara de llover, no los afectaría.\\xa0'),\n",
       "  ('[Graciela]:',\n",
       "   'En Jalisco pasó lo mismo que en Puebla: los campesinos que no estaban usando los cañones y que tenían cultivos como el maíz —que necesita la lluvia— empezaron a investigar. Con uno de los que hablaron fue con un profesor-investigador en la Universidad de Guadalajara, Ricardo García de Alba.\\xa0'),\n",
       "  ('[Ricardo García de Alba]: ',\n",
       "   'Yo estaba escéptico a esta tecnología. Sin embargo, eh, muchos productores rurales del sur de Jalisco empezaron a tener inquietudes respecto a que se usaban una serie de artefactos que les impedía la lluvia.'),\n",
       "  ('[Victoria]: ',\n",
       "   'Los campesinos afectados en Jalisco también fueron a las autoridades a denunciar.\\xa0'),\n",
       "  ('[Ricardo García de Alba]: ',\n",
       "   'Sin embargo la autoridad local, las autoridades estatales y federales estaban escépticos a situaciones de que una pa… una tecnología como el asunto de los cañones antigranizo pudiera inhibir la lluvia en particular.'),\n",
       "  ('[Victoria]: ',\n",
       "   'Que es la misma postura de la Organización Meteorológica Mundial y de la mayoría de los científicos.\\xa0'),\n",
       "  ('[Ricardo García de Alba]: ',\n",
       "   'Pero lo que llama la atención es que este escepticismo e incertidumbre no hayan sido razones suficientes para prohibir el uso de los cañones, sino la excusa para no regularlos y dejar que se usaran sin antes hacer los estudios para medir los impactos que pueden tener en el ambiente.'),\n",
       "  ('[Victoria]: ',\n",
       "   'Para García de Alba, el tema es que el uso de los cañones se está volviendo un problema social.\\xa0'),\n",
       "  ('[Ricardo García de Alba]: ',\n",
       "   'En todas partes del mundo donde se usan cañones: Argentina, Chile, España, Francia, en el norte del país, en el centro del país. Donde quiera que se están usando los cañones, el reclamo social es exactamente el mismo.'),\n",
       "  ('[Victoria]: ',\n",
       "   'Que se regule o que no se permita su uso. Pero los fabricantes se escudan detrás de las afirmaciones científicas: que los cañones no afectan la lluvia, aunque convenientemente omiten que el mismo consenso científico dice que tampoco están afectando el granizo, y que no está probado que los cañones sirvan para cambiar el tiempo.'),\n",
       "  ('[Ricardo García de Alba]: ',\n",
       "   'García de Alba en un inicio también había dudado que los cañones pudieran tener algún efecto, iba en contra de todo lo que sabía sobre los procesos de formación de nubes y lluvia, pero ante la insistencia de los campesinos, quienes le relataban sus experiencias diarias, ese escepticismo se transformó en curiosidad. Así que ahora, él ve claro el papel que deben cumplir los científicos en este conflicto…'),\n",
       "  ('[Ricardo García de Alba]: ',\n",
       "   'La investigación tiene que resolver los problemas sociales y si esto es un problema hay que darle respuesta. Y hay que explicar y hay que decir a la sociedad qué es o no es lo que se están imaginando.'),\n",
       "  ('[Victoria]: ',\n",
       "   'O sea, hay que proponer investigaciones científicas serias, con pruebas reales para resolver una problemática social que claramente existe.'),\n",
       "  ('[Ricardo García de Alba]: ',\n",
       "   'Porque aunque no afecten la caída de lluvia o el granizo, no es claro tampoco cuáles son los efectos que sí están causando los cañones. Y averiguar esto es complicado, porque García de Alba dice que no tiene todos los datos que necesita para saber cómo funcionan los cañones.'),\n",
       "  ('[Ricardo García de Alba]: ',\n",
       "   'Es una información que tiene que ver con derechos de autor, que tienen que ver con propiedad intelectual y propiedad industrial.\\xa0'),\n",
       "  ('[Victoria]: ',\n",
       "   'Pues como vimos al comienzo, las explicaciones que se encuentran en los videos o los sitios de internet de los fabricantes son bastante simples y vagas. No contienen todos los datos que permiten probar o refutar su efectividad.\\xa0'),\n",
       "  ('[Ricardo García de Alba]: ',\n",
       "   'García de Alba lo que querría es poder hacer experimentos.'),\n",
       "  ('[Ricardo García de Alba]: ',\n",
       "   'Si queremos saber exactamente qué sucede con un cañón, primero tenemos que tener un cañón para fines de investigación y crear el mismo protocolo de activación.\\xa0'),\n",
       "  ('[Victoria]: ',\n",
       "   'Es decir, usarlo igual que lo usan los agricultores de Jalisco o la Volkswagen.'),\n",
       "  ('[Ricardo García de Alba]: ',\n",
       "   'Se activa el sistema de cañones cuando hay la presencia de un '),\n",
       "  ('[Victoria]: ', 'Las nubes que producen granizo.'),\n",
       "  ('[Ricardo García de Alba]: ',\n",
       "   'Y se tiene que generar, lanzar globos sonda que permita registrar los cambios de temperatura, de presión, de humedad relativa, ¿sí?, que la columna del… del cañón pudiera estar produciendo.'),\n",
       "  ('[Victoria]: ',\n",
       "   'Según García de Alba esto serviría para comprobar si es cierto lo que dicen los que venden los cañones, y si no es:\\xa0'),\n",
       "  ('[Ricardo García de Alba]: ',\n",
       "   'Pues entonces es simple: no metamos tecnologías, no engañemos a los propios productores frutícolas. Porque el cañón no es bara… no es barato, más todo lo que implica su funcionamiento y todo lo que implica su mantenimiento.\\xa0'),\n",
       "  ('[Victoria]: ',\n",
       "   'García de Alba explicó que han sido esos mismos costos los que han impedido hacer los experimentos, pues hasta ahora no han conseguido financiamiento ni siquiera para comprar un cañón. Pero, aún haciendo esos experimentos, hay otros científicos que piensan que obtener una respuesta definitiva sobre su impacto en el tiempo sería muy difícil, pues puede haber miles de otras variables que afecten las observaciones. Porque así es el tiempo.'),\n",
       "  ('[Ricardo García de Alba]: ',\n",
       "   'Se ha documentado el uso ocasional de los cañones en países como Estados Unidos y Alemania, pero aun así realmente no se pueden encontrar estudios serios sobre los efectos que están teniendo hoy en día. Los estudios que mencionó Raga antes —donde se determinó que no había pruebas que comprobaran que estaban afectando la lluvia o el granizo— se realizaron en los ochentas y, desde entonces, parece que el asunto quedó ahí, a pesar de que los cañones se siguen vendiendo y usando. De hecho en los últimos años, el gobierno de la India empezó a financiar la compra de cañones para crear un sistema regional de protección antigranizo que protegiera los cultivos de manzanas.'),\n",
       "  ('[Victoria]: ',\n",
       "   'Aunque no detengan el granizo o la lluvia, lo que sí es cierto es que para hacer explosiones cada siete segundos, durante horas —como lo escuchaban los vecinos de San Lorenzo— se están quemando combustibles y eso, todos lo sabemos, contamina. Tampoco se han hecho los estudios ambientales para saber qué impacto puede estar teniendo ese ruido estruendoso en las aves, insectos o plantas que están cerca. Además de lo incómodo y dañino que podría ser para las personas.'),\n",
       "  ('[Nazario]: ',\n",
       "   'En el caso mío yo esperaba un promedio de siete toneladas de maíz, que es poquito lo que yo saco, pero al final solamente levanté dos toneladas.'),\n",
       "  ('[Victoria]: ',\n",
       "   'Este es Nazario, a quien ya escuchamos al principio de esta historia. En la temporada de cosecha de 2018, la falta de lluvia le causó una pérdida importante.'),\n",
       "  ('[Nazario]: ',\n",
       "   'Sí, nos vimos muy afectados. La mazorca ya no se dio, este, debido a que seguía echando cuetes, pues ya la milpa ya no creció. Ya no… ya no fue lo mismo.'),\n",
       "  ('[Victoria]: ',\n",
       "   'Las autoridades declararon ante los medios que la canícula —es decir, la temporada caliente del año— había sido la más severa en casi 80 años y que eso había ocasionado una sequía en varias partes del estado.'),\n",
       "  ('[Nazario]: ',\n",
       "   'Los campesinos de San Lorenzo, Ocotlán y las demás poblaciones cercanas no llegaron a ningún acuerdo formal con la empresa. Las mesas de diálogo simplemente dejaron de ocurrir y a finales de agosto la Volkswagen anunció que dejaría de usar los cañones de manera automática —ahora solo lo harían de manera manual— y que iba a colocar mallas antigranizo para resolver el problema que tenían con los carros que se veían afectados por el granizo.\\xa0'),\n",
       "  ('[Victoria]: ',\n",
       "   'Según Nazario, esto ocurrió porque la Volkswagen ya no quería tener problemas.'),\n",
       "  ('[Nazario]: ',\n",
       "   'Porque si seguía usando iba… se iba a hacer un conflicto social aquí en el estado.'),\n",
       "  ('[Victoria]: ', '¿Un… un conflicto social cómo?'),\n",
       "  ('[Nazario]: ',\n",
       "   'Un conflicto social donde todos los pueblos se levantaran en contra de Volkswagen y podría terminar tal vez hasta quemada o echadas de acá del… del país.\\xa0'),\n",
       "  ('[Victoria]: ',\n",
       "   'Y esa explicación tiene sentido porque la empresa ya había estado envuelta en un escándalo ambiental unos años antes: el Dieselgate. En 2015 se reveló que Volkswagen había instalado un software en sus carros para simular emisiones menos contaminantes al momento de someterlos a pruebas de los reguladores en Estados Unidos, pero en realidad los carros estaban contaminando a niveles más altos que los permitidos por ese país.\\xa0'),\n",
       "  ('[Nazario]: ',\n",
       "   'Aunque las revelaciones sobre ese fraude habían sucedido en 2015, las consecuencias seguían en 2018. En mayo de ese año, cuando los vecinos apenas empezaban a darse cuenta de los cañonazos, el expresidente ejecutivo de Volkswagen fue acusado de fraude y conspiración en los Estados Unidos en relación al llamado “Dieselgate”. Y las demandas en contra de la empresa seguían acumulándose con pérdidas de miles de millones de dólares.'),\n",
       "  ('[Victoria]: ',\n",
       "   'Al parecer no fueron los argumentos científicos, ni el reclamo de los campesinos lo que los hizo cambiar de opinión.\\xa0'),\n",
       "  ('[Nazario]: ',\n",
       "   'Quizá burlarse de las leyes ambientales fue fácil para Volkswagen, meterle un software a sus autos y ya. Burlarse de la naturaleza, pues, es más complejo.\\xa0'),\n",
       "  ('[Victoria]: ',\n",
       "   'Estuve en San Lorenzo Almecatla y San Francisco Ocotlán en el verano de 2019, un año después de todo el conflicto con la Volkswagen, y las personas con las que hablé me contaron que ese año la cosecha iba mucho mejor.\\xa0'),\n",
       "  ('[Nazario]: ',\n",
       "   'Este, pues aparentemente van bien, van muy bien ahorita. Hasta en este momento tenemos buen… buen avance de nuestras cosechas, van muy bien.'),\n",
       "  ('[Victoria]: ', '¿Todavía no saben cuántas toneladas van a ser?'),\n",
       "  ('[Nazario]: ',\n",
       "   'No, todavía no sabemos cómo.. cómo nos vaya, ¿no? Ojalá y siga lloviendo porque dentro de poco va a empezar a jilotear y necesitamos el agua.'),\n",
       "  ('[Victoria]: ',\n",
       "   'Jilotear, que es cuando empiezan a salir las mazorcas de elote. Estela también me dijo otra cosa.'),\n",
       "  ('[Estela]: ',\n",
       "   'No hay ni un ave muerta. No sé si se han dado cuenta, pero no hay aves muertas.\\xa0'),\n",
       "  ('[Victoria]: ', 'Y, claro, ya no se escuchaban los cañones.'),\n",
       "  ('[Daniel]: ',\n",
       "   'Victoria Estrada es editora de Radio Ambulante. Vive en Xalapa, Veracruz.\\xa0'),\n",
       "  ('[Victoria]: ',\n",
       "   'Esta historia fue editada por Camila Segura y por mí. El diseño de sonido y la música son de Andrés Azpiri y Rémy Lozano. Emiliano Rodríguez Mega y Andrea López Cruzado hicieron el '),\n",
       "  ('[Daniel]: ',\n",
       "   'El resto del equipo de Radio Ambulante incluye a Lisette Arévalo, Jorge Caraballo, Miranda Mazariegos, Patrick Moseley, Laura Rojas Aponte, Barbara Sawhill, David Trujillo, Elsa Liliana Ulloa y Luis Fernando Vargas. Carolina Guerrero es la CEO.'),\n",
       "  ('[Victoria]: ',\n",
       "   'Radio Ambulante es un podcast de Radio Ambulante Estudios, y se produce y se mezcla en el programa Hindenburg PRO. Tenemos otro podcast: un podcast de noticias que sale cada viernes. Se llama El hilo. Búscalo en elhilo.audio.'),\n",
       "  ('[Daniel]: ',\n",
       "   'Radio Ambulante cuenta las historias de América Latina. Soy Daniel Alarcón. Gracias por escuchar.')]}"
      ]
     },
     "execution_count": 11,
     "metadata": {},
     "output_type": "execute_result"
    }
   ],
   "source": [
    "#Build a dictionary for any arbitrary story \n",
    "#keys: storyid, url, title, country, transcription (values = a list of (speaker,utterance) tuples)\n",
    "\n",
    "def process(story_link):\n",
    "    #Set up the story's dictionary keys with default values\n",
    "    story_dict = {\n",
    "        'url': '',\n",
    "        'title': '',\n",
    "        'country': '',\n",
    "        'transcription': []\n",
    "        }\n",
    "    \n",
    "    #Fill in the dictionary's values one by one\n",
    "    story_dict['url'] = story_link\n",
    "    story_dict['title'] = re.findall(r'transcripcion/(.+)', story_dict['url'])\n",
    "    \n",
    "    #Scrape the story's page ONCE and then parse its country and transcription\n",
    "    story_soup = soupify(story_dict['url'])\n",
    "    \n",
    "    story_dict['country'] = get_country(story_soup)\n",
    "    story_dict['transcription'] = get_transcription(story_soup)\n",
    "\n",
    "    return story_dict\n",
    "    \n",
    "    \n",
    "# sanity check on disparos_al_cielo\n",
    "process('https://radioambulante.org/transcripcion/disparos-al-cielo-transcripcion')"
   ]
  },
  {
   "cell_type": "code",
   "execution_count": 12,
   "metadata": {
    "hidden": true,
    "slideshow": {
     "slide_type": "skip"
    }
   },
   "outputs": [
    {
     "name": "stdout",
     "output_type": "stream",
     "text": [
      "juntos-a-la-distancia\n",
      "['mas-se-perdio-en-la-guerra-transcripcion']\n",
      "transcripcion-soy-marron-2\n",
      "['13-lunas-transcripcion']\n"
     ]
    }
   ],
   "source": [
    "#Process the first 30 stories and put a list of those dictionaries into a cache\n",
    "cache1 = []\n",
    "links = [story_link for story_link in all_story_links[:30]]\n",
    "for link in links:\n",
    "    cache1.append(process(link))\n",
    "    \n",
    "#sanity check first story \n",
    "print(cache1[0]['title'])\n",
    "#sanity check last story\n",
    "print(cache1[-1]['title'])"
   ]
  },
  {
   "cell_type": "code",
   "execution_count": 13,
   "metadata": {
    "hidden": true,
    "slideshow": {
     "slide_type": "skip"
    }
   },
   "outputs": [
    {
     "name": "stdout",
     "output_type": "stream",
     "text": [
      "['transcripcion-soy-marron-2']\n",
      "['dime-quien-soy']\n"
     ]
    }
   ],
   "source": [
    "#Process the next 30 stories \n",
    "cache2 = []\n",
    "links = [story_link for story_link in all_story_links[30:60]]\n",
    "for link in links:\n",
    "    cache2.append(process(link))\n",
    "    \n",
    "#sanity check first story \n",
    "print(cache2[0]['title'])\n",
    "#sanity check last story\n",
    "print(cache2[-1]['title'])"
   ]
  },
  {
   "cell_type": "code",
   "execution_count": 14,
   "metadata": {
    "hidden": true,
    "slideshow": {
     "slide_type": "skip"
    }
   },
   "outputs": [
    {
     "name": "stdout",
     "output_type": "stream",
     "text": [
      "['postville-iowa']\n",
      "['transcripcion-detras-del-muro']\n"
     ]
    }
   ],
   "source": [
    "#Process the next 30 stories \n",
    "cache3 = []\n",
    "links = [story_link for story_link in all_story_links[60:90]]\n",
    "for link in links:\n",
    "    cache3.append(process(link))\n",
    "    \n",
    "#sanity check first story \n",
    "print(cache3[0]['title'])\n",
    "#sanity check last story\n",
    "print(cache3[-1]['title'])"
   ]
  },
  {
   "cell_type": "code",
   "execution_count": 15,
   "metadata": {
    "hidden": true,
    "slideshow": {
     "slide_type": "skip"
    }
   },
   "outputs": [
    {
     "name": "stdout",
     "output_type": "stream",
     "text": [
      "['transcripcion-el-area-gris']\n",
      "['transcripcion-los-cassettes-del-exilio']\n"
     ]
    }
   ],
   "source": [
    "#Process the next 30 stories \n",
    "cache4 = []\n",
    "links = [story_link for story_link in all_story_links[90:120]]\n",
    "for link in links:\n",
    "    cache4.append(process(link))\n",
    "    \n",
    "#sanity check first story \n",
    "print(cache4[0]['title'])\n",
    "#sanity check last story\n",
    "print(cache4[-1]['title'])"
   ]
  },
  {
   "cell_type": "code",
   "execution_count": 16,
   "metadata": {
    "hidden": true,
    "slideshow": {
     "slide_type": "skip"
    }
   },
   "outputs": [
    {
     "name": "stdout",
     "output_type": "stream",
     "text": [
      "['transcripcion-los-sobrevivientes-2']\n",
      "['transcripcion-primeras-impresiones']\n"
     ]
    }
   ],
   "source": [
    "#Process the next 30 stories \n",
    "cache5 = []\n",
    "links = [story_link for story_link in all_story_links[120:150]]\n",
    "for link in links:\n",
    "    cache5.append(process(link))\n",
    "    \n",
    "#sanity check first story \n",
    "print(cache5[0]['title'])\n",
    "#sanity check last story\n",
    "print(cache5[-1]['title'])"
   ]
  },
  {
   "cell_type": "code",
   "execution_count": 17,
   "metadata": {
    "hidden": true,
    "slideshow": {
     "slide_type": "skip"
    }
   },
   "outputs": [
    {
     "name": "stdout",
     "output_type": "stream",
     "text": [
      "['transcripcion-mesa-mundial']\n",
      "['transcripcion-la-caida-del-river']\n"
     ]
    }
   ],
   "source": [
    "#Process the last stories \n",
    "cache6 = []\n",
    "links = [story_link for story_link in all_story_links[150:]]\n",
    "for link in links:\n",
    "    cache6.append(process(link))\n",
    "    \n",
    "#sanity check first story \n",
    "print(cache6[0]['title'])\n",
    "#sanity check last story\n",
    "print(cache6[-1]['title'])"
   ]
  },
  {
   "cell_type": "code",
   "execution_count": 18,
   "metadata": {
    "hidden": true,
    "slideshow": {
     "slide_type": "skip"
    }
   },
   "outputs": [],
   "source": [
    "#concatenate caches\n",
    "caches = cache1 + cache2 + cache3 + cache4 + cache5 + cache6"
   ]
  },
  {
   "cell_type": "markdown",
   "metadata": {
    "heading_collapsed": true,
    "hidden": true,
    "slideshow": {
     "slide_type": "skip"
    }
   },
   "source": [
    "### Cleaning and saving to disk"
   ]
  },
  {
   "cell_type": "markdown",
   "metadata": {
    "hidden": true
   },
   "source": [
    "In this section I visually inspected the transcripts to remove those that were not correctly parsed. WARNING: results may differ as new stories are added to the site."
   ]
  },
  {
   "cell_type": "code",
   "execution_count": 56,
   "metadata": {
    "hidden": true,
    "slideshow": {
     "slide_type": "skip"
    }
   },
   "outputs": [],
   "source": [
    "df = pd.DataFrame(caches)"
   ]
  },
  {
   "cell_type": "code",
   "execution_count": 57,
   "metadata": {
    "hidden": true,
    "slideshow": {
     "slide_type": "skip"
    }
   },
   "outputs": [
    {
     "data": {
      "text/html": [
       "<div>\n",
       "<style scoped>\n",
       "    .dataframe tbody tr th:only-of-type {\n",
       "        vertical-align: middle;\n",
       "    }\n",
       "\n",
       "    .dataframe tbody tr th {\n",
       "        vertical-align: top;\n",
       "    }\n",
       "\n",
       "    .dataframe thead th {\n",
       "        text-align: right;\n",
       "    }\n",
       "</style>\n",
       "<table border=\"1\" class=\"dataframe\">\n",
       "  <thead>\n",
       "    <tr style=\"text-align: right;\">\n",
       "      <th></th>\n",
       "      <th>url</th>\n",
       "      <th>country</th>\n",
       "      <th>transcription</th>\n",
       "    </tr>\n",
       "  </thead>\n",
       "  <tbody>\n",
       "    <tr>\n",
       "      <th>0</th>\n",
       "      <td>https://radioambulante.org/transcripcion/mas-s...</td>\n",
       "      <td>Estados Unidos</td>\n",
       "      <td>[(, ), (, Jorge:), (, Hola. Soy Jorge Caraball...</td>\n",
       "    </tr>\n",
       "    <tr>\n",
       "      <th>1</th>\n",
       "      <td>https://radioambulante.org/transcripcion/junto...</td>\n",
       "      <td>España</td>\n",
       "      <td>[(, ), ([Jorge Caraballo, editor de Crecimient...</td>\n",
       "    </tr>\n",
       "    <tr>\n",
       "      <th>2</th>\n",
       "      <td>https://radioambulante.org/transcripcion/leone...</td>\n",
       "      <td>Colombia</td>\n",
       "      <td>[(, ), (, NA), (, NA), (, NA), (, NA), (, NA),...</td>\n",
       "    </tr>\n",
       "    <tr>\n",
       "      <th>3</th>\n",
       "      <td>https://radioambulante.org/transcripcion/dispa...</td>\n",
       "      <td>México</td>\n",
       "      <td>[(, ), ([Daniel Alarcón, host]:,  Hola, ambula...</td>\n",
       "    </tr>\n",
       "    <tr>\n",
       "      <th>4</th>\n",
       "      <td>https://radioambulante.org/transcripcion/trans...</td>\n",
       "      <td>Brasil</td>\n",
       "      <td>[(, ), (, NA), ([Daniel Alarcón, host]: , Hola...</td>\n",
       "    </tr>\n",
       "  </tbody>\n",
       "</table>\n",
       "</div>"
      ],
      "text/plain": [
       "                                                 url         country  \\\n",
       "0  https://radioambulante.org/transcripcion/mas-s...  Estados Unidos   \n",
       "1  https://radioambulante.org/transcripcion/junto...          España   \n",
       "2  https://radioambulante.org/transcripcion/leone...        Colombia   \n",
       "3  https://radioambulante.org/transcripcion/dispa...          México   \n",
       "4  https://radioambulante.org/transcripcion/trans...          Brasil   \n",
       "\n",
       "                                       transcription  \n",
       "0  [(, ), (, Jorge:), (, Hola. Soy Jorge Caraball...  \n",
       "1  [(, ), ([Jorge Caraballo, editor de Crecimient...  \n",
       "2  [(, ), (, NA), (, NA), (, NA), (, NA), (, NA),...  \n",
       "3  [(, ), ([Daniel Alarcón, host]:,  Hola, ambula...  \n",
       "4  [(, ), (, NA), ([Daniel Alarcón, host]: , Hola...  "
      ]
     },
     "execution_count": 57,
     "metadata": {},
     "output_type": "execute_result"
    }
   ],
   "source": [
    "#Look through all 171 stories to identify indices of the bad ones\n",
    "df[['url','country','transcription']].iloc[:5]"
   ]
  },
  {
   "cell_type": "code",
   "execution_count": 58,
   "metadata": {
    "hidden": true
   },
   "outputs": [],
   "source": [
    "bad_story_indices = [2,\n",
    " 33,\n",
    " 34,\n",
    " 35,\n",
    " 55,\n",
    " 108,\n",
    " 115,\n",
    " 126,\n",
    " 136,\n",
    " 137,\n",
    " 138,\n",
    " 139,\n",
    " 140,\n",
    " 141,\n",
    " 142,\n",
    " 143,\n",
    " 144,\n",
    " 145,\n",
    " 146,\n",
    " 147,\n",
    " 149,\n",
    " 150,\n",
    " 151,\n",
    " 152,\n",
    " 153,\n",
    " 154,\n",
    " 155,\n",
    " 156,\n",
    " 157,\n",
    " 158,\n",
    " 159,\n",
    " 160,\n",
    " 161,\n",
    " 162,\n",
    " 163,\n",
    " 164,\n",
    " 165,\n",
    " 166,\n",
    " 167,\n",
    " 168,\n",
    " 170]"
   ]
  },
  {
   "cell_type": "code",
   "execution_count": 59,
   "metadata": {
    "hidden": true
   },
   "outputs": [],
   "source": [
    "# bad_story_indices = [1, 32, 33, 34, 54, 107, 114, 125, 135, 136, 137, 138, 139, 140, 141, 142, 143, 144, 145, 146, 148, 149, 150, 151, 152, 153, 154, 155, 156, 157, 158, 159, 160, 161, 162, 163, 164, 165, 166, 167, 169]\n",
    "# bad_story_indices = [index + 1 for index in bad_story_indices]"
   ]
  },
  {
   "cell_type": "code",
   "execution_count": 60,
   "metadata": {
    "hidden": true,
    "slideshow": {
     "slide_type": "skip"
    }
   },
   "outputs": [
    {
     "name": "stdout",
     "output_type": "stream",
     "text": [
      "171 links found\n",
      "130 good links\n",
      "41 bad links to reprocess\n"
     ]
    }
   ],
   "source": [
    "#Separate out the bad links for re-processing later on\n",
    "print(len(caches), 'links found')\n",
    "good_urls = []\n",
    "bad_urls = []\n",
    "\n",
    "for index, story in enumerate(caches):\n",
    "    #group urls of the \n",
    "    if index in bad_story_indices:\n",
    "        bad_urls.append(caches[index]['url'])\n",
    "    else:\n",
    "#         print(caches[index]['title'], 'is good')\n",
    "        good_urls.append(caches[index])\n",
    "    \n",
    "print(len(good_urls), 'good links')\n",
    "print(len(bad_urls), 'bad links to reprocess')\n"
   ]
  },
  {
   "cell_type": "markdown",
   "metadata": {
    "hidden": true
   },
   "source": [
    "Once the bad links have been removed, we can unpack the transcriptions of each good link into a dataframe with one row per utterance."
   ]
  },
  {
   "cell_type": "code",
   "execution_count": 61,
   "metadata": {
    "hidden": true,
    "slideshow": {
     "slide_type": "skip"
    }
   },
   "outputs": [],
   "source": [
    "#unpack dictionaries of GOOD transcriptions\n",
    "#first, unpack the first transcription into a fully specified df:\n",
    "\n",
    "#unpack speakers and utterances as columns\n",
    "story0 = pd.DataFrame(good_urls[0]['transcription'], columns=['speaker', 'utterance'])\n",
    "\n",
    "#assign a story ID\n",
    "storyID = ['good-0'] * len(story0)\n",
    "story0.insert(0, 'storyID', storyID, True) \n",
    "\n",
    "#expand the story's url, title, and country into columns of the same length \n",
    "url = [good_urls[0]['url']] * len(story0)\n",
    "story0.insert(1, 'url', url, True)\n",
    "\n",
    "title = [good_urls[0]['title']] *len(story0)\n",
    "story0.insert(2, 'title', title, True)\n",
    "\n",
    "country = [good_urls[0]['country']] *len(story0)\n",
    "story0.insert(3, 'country', country, True)"
   ]
  },
  {
   "cell_type": "code",
   "execution_count": 62,
   "metadata": {
    "hidden": true,
    "slideshow": {
     "slide_type": "skip"
    }
   },
   "outputs": [],
   "source": [
    "#For every other story in good_urls, cast it to a df and vertically append it to the original story\n",
    "full_df = story0\n",
    "\n",
    "for index, story in enumerate(good_urls[1:]):\n",
    "    #print index to assess progress\n",
    "#     print(index)\n",
    "    \n",
    "    #unpack speakers and utterances as columns\n",
    "    story = pd.DataFrame(good_urls[index]['transcription'], columns=['speaker', 'utterance'])\n",
    "    \n",
    "    #assign a story ID\n",
    "    storyID = ['good-'+ str(index)] * len(story)\n",
    "    story.insert(0, 'storyID', storyID, True) \n",
    "\n",
    "    #expand the story's url, title, and country into columns of the same length \n",
    "    url = [good_urls[index]['url']] * len(story)\n",
    "    story.insert(1, 'url', url, True)\n",
    "\n",
    "    title = [good_urls[index]['title']] *len(story)\n",
    "    story.insert(2, 'title', title, True)\n",
    "\n",
    "    country = [good_urls[index]['country']] *len(story)\n",
    "    story.insert(3, 'country', country, True)    \n",
    "\n",
    "    #vertically append to the original story\n",
    "    full_df = full_df.append(story, ignore_index=True)\n",
    "    "
   ]
  },
  {
   "cell_type": "code",
   "execution_count": 63,
   "metadata": {
    "hidden": true
   },
   "outputs": [
    {
     "data": {
      "text/html": [
       "<div>\n",
       "<style scoped>\n",
       "    .dataframe tbody tr th:only-of-type {\n",
       "        vertical-align: middle;\n",
       "    }\n",
       "\n",
       "    .dataframe tbody tr th {\n",
       "        vertical-align: top;\n",
       "    }\n",
       "\n",
       "    .dataframe thead th {\n",
       "        text-align: right;\n",
       "    }\n",
       "</style>\n",
       "<table border=\"1\" class=\"dataframe\">\n",
       "  <thead>\n",
       "    <tr style=\"text-align: right;\">\n",
       "      <th></th>\n",
       "      <th>storyID</th>\n",
       "      <th>url</th>\n",
       "      <th>title</th>\n",
       "      <th>country</th>\n",
       "      <th>speaker</th>\n",
       "      <th>utterance</th>\n",
       "    </tr>\n",
       "  </thead>\n",
       "  <tbody>\n",
       "    <tr>\n",
       "      <th>0</th>\n",
       "      <td>good-0</td>\n",
       "      <td>https://radioambulante.org/transcripcion/mas-s...</td>\n",
       "      <td>[mas-se-perdio-en-la-guerra-transcripcion]</td>\n",
       "      <td>Estados Unidos</td>\n",
       "      <td></td>\n",
       "      <td></td>\n",
       "    </tr>\n",
       "    <tr>\n",
       "      <th>1</th>\n",
       "      <td>good-0</td>\n",
       "      <td>https://radioambulante.org/transcripcion/mas-s...</td>\n",
       "      <td>[mas-se-perdio-en-la-guerra-transcripcion]</td>\n",
       "      <td>Estados Unidos</td>\n",
       "      <td></td>\n",
       "      <td>Jorge:</td>\n",
       "    </tr>\n",
       "    <tr>\n",
       "      <th>2</th>\n",
       "      <td>good-0</td>\n",
       "      <td>https://radioambulante.org/transcripcion/mas-s...</td>\n",
       "      <td>[mas-se-perdio-en-la-guerra-transcripcion]</td>\n",
       "      <td>Estados Unidos</td>\n",
       "      <td></td>\n",
       "      <td>Hola. Soy Jorge Caraballo, editor de crecimien...</td>\n",
       "    </tr>\n",
       "    <tr>\n",
       "      <th>3</th>\n",
       "      <td>good-0</td>\n",
       "      <td>https://radioambulante.org/transcripcion/mas-s...</td>\n",
       "      <td>[mas-se-perdio-en-la-guerra-transcripcion]</td>\n",
       "      <td>Estados Unidos</td>\n",
       "      <td></td>\n",
       "      <td>Es un momento difícil para la industria. Mucho...</td>\n",
       "    </tr>\n",
       "    <tr>\n",
       "      <th>4</th>\n",
       "      <td>good-0</td>\n",
       "      <td>https://radioambulante.org/transcripcion/mas-s...</td>\n",
       "      <td>[mas-se-perdio-en-la-guerra-transcripcion]</td>\n",
       "      <td>Estados Unidos</td>\n",
       "      <td></td>\n",
       "      <td>Ahora más que nunca necesitamos tu apoyo. Súma...</td>\n",
       "    </tr>\n",
       "  </tbody>\n",
       "</table>\n",
       "</div>"
      ],
      "text/plain": [
       "  storyID                                                url  \\\n",
       "0  good-0  https://radioambulante.org/transcripcion/mas-s...   \n",
       "1  good-0  https://radioambulante.org/transcripcion/mas-s...   \n",
       "2  good-0  https://radioambulante.org/transcripcion/mas-s...   \n",
       "3  good-0  https://radioambulante.org/transcripcion/mas-s...   \n",
       "4  good-0  https://radioambulante.org/transcripcion/mas-s...   \n",
       "\n",
       "                                        title         country speaker  \\\n",
       "0  [mas-se-perdio-en-la-guerra-transcripcion]  Estados Unidos           \n",
       "1  [mas-se-perdio-en-la-guerra-transcripcion]  Estados Unidos           \n",
       "2  [mas-se-perdio-en-la-guerra-transcripcion]  Estados Unidos           \n",
       "3  [mas-se-perdio-en-la-guerra-transcripcion]  Estados Unidos           \n",
       "4  [mas-se-perdio-en-la-guerra-transcripcion]  Estados Unidos           \n",
       "\n",
       "                                           utterance  \n",
       "0                                                     \n",
       "1                                             Jorge:  \n",
       "2  Hola. Soy Jorge Caraballo, editor de crecimien...  \n",
       "3  Es un momento difícil para la industria. Mucho...  \n",
       "4  Ahora más que nunca necesitamos tu apoyo. Súma...  "
      ]
     },
     "execution_count": 63,
     "metadata": {},
     "output_type": "execute_result"
    }
   ],
   "source": [
    "full_df.head()"
   ]
  },
  {
   "cell_type": "markdown",
   "metadata": {
    "hidden": true
   },
   "source": [
    "Now we can clean this dataframe of (i) irrelevant countries (e.g. Brasil), (ii) blank utterances, (iii) irrelevant speakers (e.g. English speakers)"
   ]
  },
  {
   "cell_type": "code",
   "execution_count": 81,
   "metadata": {
    "hidden": true,
    "slideshow": {
     "slide_type": "skip"
    }
   },
   "outputs": [],
   "source": [
    "# Filter out stories from Brasil or mixed countries\n",
    "\n",
    "keep = ['España', 'México', 'Chile', 'Nicaragua', 'Ecuador',\n",
    "       'Guatemala','Colombia', 'Perú', 'Argentina', 'Puerto Rico', 'Estados Unidos', 'Costa Rica',\n",
    "       'Cuba', 'Venezuela', 'República Dominicana', 'El Salvador', 'Honduras', 'Bolivia',\n",
    "       'Lima, Perú','Uruguay']\n",
    "drop = ['Brasil', 'México/Puerto Rico', 'México/Estados Unidos', 'Perú y Chile',\n",
    "       'Unknown', 'El Salvador y México', 'S\\nMéxico y España', 'S\\nEstados Unidos y Perú', \n",
    "        'S\\nEstados Unidos y Guatemala','Colombia y Brasil', 'México y Estados Unidos', \n",
    "        'Samuel Castaño', 'Colombia y Costa Rica', 'España y Perú', 'Chile y Brasil',\n",
    "        'S\\nEstados Unidos y México', 'S\\nMexico y Estados Unidos','S\\nCuba/Panamá', \n",
    "        'Cuba/Panamá/Estados Unidos', 'Colombia y Argentina', 'México, Estados Unidos', \n",
    "        'Rio de Janeiro, Brasil']\n",
    "\n",
    "clean_stories = full_df[full_df['country'].isin(keep)]"
   ]
  },
  {
   "cell_type": "code",
   "execution_count": 82,
   "metadata": {
    "hidden": true,
    "slideshow": {
     "slide_type": "skip"
    }
   },
   "outputs": [
    {
     "name": "stdout",
     "output_type": "stream",
     "text": [
      "129\n",
      "101\n"
     ]
    }
   ],
   "source": [
    "#how many stories originally?\n",
    "print(len(full_df['storyID'].unique()))\n",
    "#How many stories left over?\n",
    "print(len(clean_stories['storyID'].unique()))"
   ]
  },
  {
   "cell_type": "code",
   "execution_count": 83,
   "metadata": {
    "hidden": true,
    "slideshow": {
     "slide_type": "skip"
    }
   },
   "outputs": [
    {
     "name": "stderr",
     "output_type": "stream",
     "text": [
      "/home/jovyan/conda-envs/capstone-dev/lib/python3.7/site-packages/pandas/core/series.py:4569: SettingWithCopyWarning: \n",
      "A value is trying to be set on a copy of a slice from a DataFrame\n",
      "\n",
      "See the caveats in the documentation: https://pandas.pydata.org/pandas-docs/stable/user_guide/indexing.html#returning-a-view-versus-a-copy\n",
      "  method=method,\n",
      "/home/jovyan/conda-envs/capstone-dev/lib/python3.7/site-packages/ipykernel_launcher.py:13: SettingWithCopyWarning: \n",
      "A value is trying to be set on a copy of a slice from a DataFrame\n",
      "\n",
      "See the caveats in the documentation: https://pandas.pydata.org/pandas-docs/stable/user_guide/indexing.html#returning-a-view-versus-a-copy\n",
      "  del sys.path[0]\n"
     ]
    },
    {
     "data": {
      "text/html": [
       "<div>\n",
       "<style scoped>\n",
       "    .dataframe tbody tr th:only-of-type {\n",
       "        vertical-align: middle;\n",
       "    }\n",
       "\n",
       "    .dataframe tbody tr th {\n",
       "        vertical-align: top;\n",
       "    }\n",
       "\n",
       "    .dataframe thead th {\n",
       "        text-align: right;\n",
       "    }\n",
       "</style>\n",
       "<table border=\"1\" class=\"dataframe\">\n",
       "  <thead>\n",
       "    <tr style=\"text-align: right;\">\n",
       "      <th></th>\n",
       "      <th>storyID</th>\n",
       "      <th>url</th>\n",
       "      <th>title</th>\n",
       "      <th>country</th>\n",
       "      <th>speaker</th>\n",
       "      <th>utterance</th>\n",
       "    </tr>\n",
       "  </thead>\n",
       "  <tbody>\n",
       "    <tr>\n",
       "      <th>83</th>\n",
       "      <td>good-1</td>\n",
       "      <td>https://radioambulante.org/transcripcion/junto...</td>\n",
       "      <td>[juntos-a-la-distancia-transcripcion]</td>\n",
       "      <td>España</td>\n",
       "      <td>[Jorge Caraballo, editor de Crecimiento]:</td>\n",
       "      <td>¡Hola, gracias por escuchar Radio Ambulante! N...</td>\n",
       "    </tr>\n",
       "    <tr>\n",
       "      <th>84</th>\n",
       "      <td>good-1</td>\n",
       "      <td>https://radioambulante.org/transcripcion/junto...</td>\n",
       "      <td>[juntos-a-la-distancia-transcripcion]</td>\n",
       "      <td>España</td>\n",
       "      <td>[Daniel Alarcón, host]:</td>\n",
       "      <td>Bienvenidos a Radio Ambulante, desde NPR. Soy ...</td>\n",
       "    </tr>\n",
       "    <tr>\n",
       "      <th>85</th>\n",
       "      <td>good-1</td>\n",
       "      <td>https://radioambulante.org/transcripcion/junto...</td>\n",
       "      <td>[juntos-a-la-distancia-transcripcion]</td>\n",
       "      <td>España</td>\n",
       "      <td>[Jorge Caraballo, editor de Crecimiento]:</td>\n",
       "      <td>Entonces antes de comenzar el episodio de hoy ...</td>\n",
       "    </tr>\n",
       "    <tr>\n",
       "      <th>86</th>\n",
       "      <td>good-1</td>\n",
       "      <td>https://radioambulante.org/transcripcion/junto...</td>\n",
       "      <td>[juntos-a-la-distancia-transcripcion]</td>\n",
       "      <td>España</td>\n",
       "      <td>[Daniel Alarcón, host]:</td>\n",
       "      <td>Lo que nos ha llenado de energía y de motivaci...</td>\n",
       "    </tr>\n",
       "    <tr>\n",
       "      <th>87</th>\n",
       "      <td>good-1</td>\n",
       "      <td>https://radioambulante.org/transcripcion/junto...</td>\n",
       "      <td>[juntos-a-la-distancia-transcripcion]</td>\n",
       "      <td>España</td>\n",
       "      <td>[Jorge Caraballo, editor de Crecimiento]:</td>\n",
       "      <td>Recuerden que parte del equipo seguirá sacando...</td>\n",
       "    </tr>\n",
       "    <tr>\n",
       "      <th>...</th>\n",
       "      <td>...</td>\n",
       "      <td>...</td>\n",
       "      <td>...</td>\n",
       "      <td>...</td>\n",
       "      <td>...</td>\n",
       "      <td>...</td>\n",
       "    </tr>\n",
       "    <tr>\n",
       "      <th>26876</th>\n",
       "      <td>good-126</td>\n",
       "      <td>https://radioambulante.org/transcripcion/trans...</td>\n",
       "      <td>[transcripcion-confesion]</td>\n",
       "      <td>Estados Unidos</td>\n",
       "      <td>Vanessa Potkin:</td>\n",
       "      <td>Silvia: Ángel no ha sabido nada de la víctima ...</td>\n",
       "    </tr>\n",
       "    <tr>\n",
       "      <th>26878</th>\n",
       "      <td>good-126</td>\n",
       "      <td>https://radioambulante.org/transcripcion/trans...</td>\n",
       "      <td>[transcripcion-confesion]</td>\n",
       "      <td>Estados Unidos</td>\n",
       "      <td>Vanessa Potkin:</td>\n",
       "      <td>No estoy contra el sistema. Tengo mucha descon...</td>\n",
       "    </tr>\n",
       "    <tr>\n",
       "      <th>26880</th>\n",
       "      <td>good-126</td>\n",
       "      <td>https://radioambulante.org/transcripcion/trans...</td>\n",
       "      <td>[transcripcion-confesion]</td>\n",
       "      <td>Estados Unidos</td>\n",
       "      <td>Vanessa Potkin:</td>\n",
       "      <td>—</td>\n",
       "    </tr>\n",
       "    <tr>\n",
       "      <th>26884</th>\n",
       "      <td>good-126</td>\n",
       "      <td>https://radioambulante.org/transcripcion/trans...</td>\n",
       "      <td>[transcripcion-confesion]</td>\n",
       "      <td>Estados Unidos</td>\n",
       "      <td>Vanessa Potkin:</td>\n",
       "      <td>Camila Segura es nuestra editora principal, y ...</td>\n",
       "    </tr>\n",
       "    <tr>\n",
       "      <th>26886</th>\n",
       "      <td>good-126</td>\n",
       "      <td>https://radioambulante.org/transcripcion/trans...</td>\n",
       "      <td>[transcripcion-confesion]</td>\n",
       "      <td>Estados Unidos</td>\n",
       "      <td>Vanessa Potkin:</td>\n",
       "      <td>Radio Ambulante cuenta las historias de Améric...</td>\n",
       "    </tr>\n",
       "  </tbody>\n",
       "</table>\n",
       "<p>16341 rows × 6 columns</p>\n",
       "</div>"
      ],
      "text/plain": [
       "        storyID                                                url  \\\n",
       "83       good-1  https://radioambulante.org/transcripcion/junto...   \n",
       "84       good-1  https://radioambulante.org/transcripcion/junto...   \n",
       "85       good-1  https://radioambulante.org/transcripcion/junto...   \n",
       "86       good-1  https://radioambulante.org/transcripcion/junto...   \n",
       "87       good-1  https://radioambulante.org/transcripcion/junto...   \n",
       "...         ...                                                ...   \n",
       "26876  good-126  https://radioambulante.org/transcripcion/trans...   \n",
       "26878  good-126  https://radioambulante.org/transcripcion/trans...   \n",
       "26880  good-126  https://radioambulante.org/transcripcion/trans...   \n",
       "26884  good-126  https://radioambulante.org/transcripcion/trans...   \n",
       "26886  good-126  https://radioambulante.org/transcripcion/trans...   \n",
       "\n",
       "                                       title         country  \\\n",
       "83     [juntos-a-la-distancia-transcripcion]          España   \n",
       "84     [juntos-a-la-distancia-transcripcion]          España   \n",
       "85     [juntos-a-la-distancia-transcripcion]          España   \n",
       "86     [juntos-a-la-distancia-transcripcion]          España   \n",
       "87     [juntos-a-la-distancia-transcripcion]          España   \n",
       "...                                      ...             ...   \n",
       "26876              [transcripcion-confesion]  Estados Unidos   \n",
       "26878              [transcripcion-confesion]  Estados Unidos   \n",
       "26880              [transcripcion-confesion]  Estados Unidos   \n",
       "26884              [transcripcion-confesion]  Estados Unidos   \n",
       "26886              [transcripcion-confesion]  Estados Unidos   \n",
       "\n",
       "                                          speaker  \\\n",
       "83     [Jorge Caraballo, editor de Crecimiento]:    \n",
       "84                       [Daniel Alarcón, host]:    \n",
       "85     [Jorge Caraballo, editor de Crecimiento]:    \n",
       "86                       [Daniel Alarcón, host]:    \n",
       "87     [Jorge Caraballo, editor de Crecimiento]:    \n",
       "...                                           ...   \n",
       "26876                            Vanessa Potkin:    \n",
       "26878                            Vanessa Potkin:    \n",
       "26880                            Vanessa Potkin:    \n",
       "26884                            Vanessa Potkin:    \n",
       "26886                            Vanessa Potkin:    \n",
       "\n",
       "                                               utterance  \n",
       "83     ¡Hola, gracias por escuchar Radio Ambulante! N...  \n",
       "84     Bienvenidos a Radio Ambulante, desde NPR. Soy ...  \n",
       "85     Entonces antes de comenzar el episodio de hoy ...  \n",
       "86     Lo que nos ha llenado de energía y de motivaci...  \n",
       "87     Recuerden que parte del equipo seguirá sacando...  \n",
       "...                                                  ...  \n",
       "26876  Silvia: Ángel no ha sabido nada de la víctima ...  \n",
       "26878  No estoy contra el sistema. Tengo mucha descon...  \n",
       "26880                                                  —  \n",
       "26884  Camila Segura es nuestra editora principal, y ...  \n",
       "26886  Radio Ambulante cuenta las historias de Améric...  \n",
       "\n",
       "[16341 rows x 6 columns]"
      ]
     },
     "execution_count": 83,
     "metadata": {},
     "output_type": "execute_result"
    }
   ],
   "source": [
    "#Drop rows with blank, or \"NA\" utterances\n",
    "clean_stories['utterance'].replace('', np.nan, inplace=True)\n",
    "clean_stories['utterance'].replace('NA', np.nan, inplace=True)\n",
    "\n",
    "# Drop rows with blank, \"NA\", ':', '\\n', '.', '. ' or speakers\n",
    "clean_stories['speaker'].replace('', np.nan, inplace=True)\n",
    "clean_stories['speaker'].replace('NA', np.nan, inplace=True)\n",
    "clean_stories['speaker'].replace(':', np.nan, inplace=True)\n",
    "clean_stories['speaker'].replace('\\n', np.nan, inplace=True)\n",
    "clean_stories['speaker'].replace('.', np.nan, inplace=True)\n",
    "clean_stories['speaker'].replace('. ', np.nan, inplace=True)\n",
    "\n",
    "clean_stories.dropna(subset=['utterance', 'speaker'], inplace=True)\n",
    "clean_stories"
   ]
  },
  {
   "cell_type": "code",
   "execution_count": 84,
   "metadata": {
    "hidden": true,
    "slideshow": {
     "slide_type": "skip"
    }
   },
   "outputs": [
    {
     "name": "stdout",
     "output_type": "stream",
     "text": [
      "1432\n",
      "1275\n"
     ]
    }
   ],
   "source": [
    "#clean out speakers that cannot be clearly identified as native speakers of a specific dialect\n",
    "\n",
    "#regex to identify soundbites and ads\n",
    "ads = '.*SOUNDBITE.*|.*RISA.*|.*televisión.*|.*All Songs Considered.*|.*Alt.*Latino.*|.*Ask Me Another.*|.*Code.*Switch.*|.*Embedded.*|.*EveryAction.*|.*Fresh Air.*|.*Gene Demby.*|.*Guy.*|.*HBO.*|.*Hanna Rosin.*|.*Hidden Brain.*|.*Planet Money.*|.*How I Built This.*|.*It’s Been a Minute.*|.*Joshua Johnson.*|.*Kelly.*|.*Latino.*USA.*|.*Life Kit.*|.*Linda Holmes.*|.*Lulu.*|.*Lupa.*|.*María Hinojosa.*|.*Matt Holzman.*|.*Mindy Thomas.*|.*NPR Politics.*|.*Ophira Eisenberg.*|.*Peter.*|.*Planet Money.*|.*Pop Culture.*|.*Promo.*|.*Reportero de NPR.*|.*Robin Hilton.*|.*Sam Sanders.*|.*Scott Detrow.*|.*Shereen Marisol Meraji.*|.*Squarespace.*|.*StoryCorps.*|.*TED.*|.*Terry Gross.*|.*The Indicator.*|.*Throughline.*|.*TurboTax.*|.*Up First.*|.*Wait Wait.*|.*Wow in the World.*|.*Here and Now.*' \n",
    "\n",
    "#people who probably are speaking English (or a translation of them)\n",
    "english = '.*Bill.*Clinton.*|.*Cowgirl.*|.*Donald Trump.*|.*Felix Contreras.*|.*Kristjen Nielsen.*|.*Machine.*|.*Malcom X.*|.*Margaret Thatcher.*|.*Martin Luther King.*|.*Neil Armstrong.*|.*Nelson Mandela.*|.*Speaker of the House.*|.*Stacey.*|.*Thomas Homan.*|.*Wolf Blitzer.*|.*John Oliver.*|.*GPS.*|.*Agente de ICE.*|.*Axl Rose.*|.*Bill Spencer.*|.*Ginger.*|.*John Gibler.*|.*Michael Donovan.*|.*Nicole Tyler.*'\n",
    "\n",
    "#others that I know are misplaced or should be exlcuded\n",
    "other = '.*Graciela.*|\\xa0|\\xa0\\xa0'\n",
    "\n",
    "clean_speakers = clean_stories[(clean_stories['speaker'].str.match(ads) == False) & (clean_stories['speaker'].str.match(english) == False) & (clean_stories['speaker'].str.match(other) == False)]\n",
    "\n",
    "#How many different speakers originally?\n",
    "print(len(sorted(clean_stories['speaker'].unique())))\n",
    "\n",
    "#How many different speakers left over?\n",
    "print(len(clean_speakers['speaker'].unique()))"
   ]
  },
  {
   "cell_type": "code",
   "execution_count": 85,
   "metadata": {
    "hidden": true,
    "slideshow": {
     "slide_type": "skip"
    }
   },
   "outputs": [],
   "source": [
    "#Add a dialect column\n",
    "#Step 1: replace country names with dialect names, using a dictionary\n",
    "dialectdict = {'España': 'Spain',\n",
    "               'México': 'Mexican',\n",
    "               'Chile': 'Chilean', \n",
    "               'Nicaragua': 'Nicaraguan', \n",
    "               'Ecuador': 'Ecuadorean', \n",
    "               'Guatemala': 'Guatemalan',\n",
    "               'Colombia': 'Colombian', \n",
    "               'Perú': 'Peruvian', \n",
    "               'Argentina': 'Argentinian', \n",
    "               'Puerto Rico': 'Puertorican', \n",
    "               'Estados Unidos': 'US',\n",
    "               'Costa Rica': 'Costarican', \n",
    "               'Cuba': 'Cuban', \n",
    "               'Venezuela': 'Venezuelan', \n",
    "               'República Dominicana': 'Dominican',\n",
    "               'El Salvador': 'Salvadoran', \n",
    "               'Honduras': 'Honduran', \n",
    "               'Bolivia': 'Bolivian', \n",
    "               'Lima, Perú': 'Peruvian', \n",
    "               'Uruguay': 'Uruguayan'\n",
    "              }\n",
    "dialects = clean_speakers[['country']].replace(dialectdict)\n",
    "clean_speakers.insert(4, 'dialect', dialects)"
   ]
  },
  {
   "cell_type": "code",
   "execution_count": 86,
   "metadata": {
    "hidden": true,
    "slideshow": {
     "slide_type": "skip"
    }
   },
   "outputs": [
    {
     "name": "stdout",
     "output_type": "stream",
     "text": [
      "1091\n"
     ]
    }
   ],
   "source": [
    "# Step 2: (For now) remove producer and host lines, plus anyone with the same first name\n",
    "    # (To do): replace producer and host lines with their own dialect\n",
    "# host full names are:\n",
    "# Vanessa Potkin, Daniel Alarcón, Andrés Azpiri, Camila Segura, Clara Ibarra, \n",
    "# David Trujillo, Dennis Maxwell, Eliezer Budasoff, Gabriela Wiener, Jorge Caraballo, \n",
    "# Lisette Arévalo, Luis Fernando Vargas, Luis Trelles, Mariana Martínez, Silvia Viñas\n",
    "\n",
    "#regex to identify Radioambulante hosts and producers\n",
    "hosts = '.*Vanessa.*Potkin.*|.*Daniel.*|.*Andrés.*|.*Camila.*|.*Clara.*|.*David.*|.*Dennis.*|.*Eliezer.*|.*Gabriela.*|.*Jorge.*|.*Lisette.*|.*Luis.*|.*Mariana.*|.*Silvia.*'\n",
    "\n",
    "#Clean out speakers matching these first names\n",
    "radioambulante = clean_speakers[clean_speakers['speaker'].str.match(hosts) == False]\n",
    "\n",
    "#How many different speakers left over?\n",
    "print(len(radioambulante['speaker'].unique()))"
   ]
  },
  {
   "cell_type": "code",
   "execution_count": 87,
   "metadata": {
    "hidden": true,
    "slideshow": {
     "slide_type": "skip"
    }
   },
   "outputs": [],
   "source": [
    "#Optional: visually inspect the names of all speakers left over to see if anyone else should be cleared out\n",
    "# for speaker in sorted(radioambulante['speaker'].unique())[900:]:\n",
    "#     print(speaker)"
   ]
  },
  {
   "cell_type": "code",
   "execution_count": 88,
   "metadata": {
    "hidden": true,
    "slideshow": {
     "slide_type": "skip"
    }
   },
   "outputs": [],
   "source": [
    "# save radioambulante df to disk\n",
    "radioambulante.to_csv(\"radioambulante.csv\")\n"
   ]
  },
  {
   "cell_type": "markdown",
   "metadata": {
    "hidden": true,
    "slideshow": {
     "slide_type": "skip"
    }
   },
   "source": [
    "### Read in radioambulante data from disk"
   ]
  },
  {
   "cell_type": "code",
   "execution_count": 89,
   "metadata": {
    "hidden": true,
    "slideshow": {
     "slide_type": "skip"
    }
   },
   "outputs": [],
   "source": [
    "#re-read in from disk\n",
    "radioambulante = pd.read_csv(\"radioambulante.csv\")"
   ]
  },
  {
   "cell_type": "markdown",
   "metadata": {
    "heading_collapsed": true,
    "hidden": true,
    "slideshow": {
     "slide_type": "skip"
    }
   },
   "source": [
    "## Childes data"
   ]
  },
  {
   "cell_type": "code",
   "execution_count": 90,
   "metadata": {
    "hidden": true,
    "slideshow": {
     "slide_type": "skip"
    }
   },
   "outputs": [],
   "source": [
    "#Load the CHILDES dataset as a pandas df\n",
    "childes = pd.read_csv(\"childes.csv\", low_memory=False)"
   ]
  },
  {
   "cell_type": "code",
   "execution_count": 91,
   "metadata": {
    "hidden": true,
    "slideshow": {
     "slide_type": "skip"
    }
   },
   "outputs": [],
   "source": [
    "#Optional: inspect the dataset\n",
    "# childes.info()"
   ]
  },
  {
   "cell_type": "markdown",
   "metadata": {
    "hidden": true,
    "slideshow": {
     "slide_type": "skip"
    }
   },
   "source": [
    "## Full dataset"
   ]
  },
  {
   "cell_type": "markdown",
   "metadata": {
    "heading_collapsed": true,
    "hidden": true,
    "slideshow": {
     "slide_type": "skip"
    }
   },
   "source": [
    "### prep and save to disk"
   ]
  },
  {
   "cell_type": "code",
   "execution_count": 92,
   "metadata": {
    "hidden": true,
    "slideshow": {
     "slide_type": "skip"
    }
   },
   "outputs": [],
   "source": [
    "#Add a \"source\" column to each dataset before merging them\n",
    "\n",
    "source = ['radioambulante'] *len(radioambulante)\n",
    "radioambulante.insert(1, 'source', source)\n",
    "\n",
    "source = ['childes'] *len(childes)\n",
    "childes.insert(1, 'source', source)"
   ]
  },
  {
   "cell_type": "code",
   "execution_count": 93,
   "metadata": {
    "hidden": true,
    "slideshow": {
     "slide_type": "skip"
    }
   },
   "outputs": [],
   "source": [
    "#merge childes df to radioambulante df on dialect, speaker, and utterance\n",
    "src_dlct_spkr_utt = [childes[['source','dialect', 'speaker', 'utterance']], radioambulante[['source','dialect', 'speaker', 'utterance']]]\n",
    "raw_data = pd.concat(src_dlct_spkr_utt)"
   ]
  },
  {
   "cell_type": "code",
   "execution_count": 97,
   "metadata": {
    "hidden": true,
    "slideshow": {
     "slide_type": "skip"
    }
   },
   "outputs": [
    {
     "data": {
      "text/html": [
       "<div>\n",
       "<style scoped>\n",
       "    .dataframe tbody tr th:only-of-type {\n",
       "        vertical-align: middle;\n",
       "    }\n",
       "\n",
       "    .dataframe tbody tr th {\n",
       "        vertical-align: top;\n",
       "    }\n",
       "\n",
       "    .dataframe thead th {\n",
       "        text-align: right;\n",
       "    }\n",
       "</style>\n",
       "<table border=\"1\" class=\"dataframe\">\n",
       "  <thead>\n",
       "    <tr style=\"text-align: right;\">\n",
       "      <th></th>\n",
       "      <th>target</th>\n",
       "      <th>source</th>\n",
       "      <th>dialect</th>\n",
       "      <th>region</th>\n",
       "      <th>speaker</th>\n",
       "      <th>utterance</th>\n",
       "    </tr>\n",
       "  </thead>\n",
       "  <tbody>\n",
       "    <tr>\n",
       "      <th>0</th>\n",
       "      <td>False</td>\n",
       "      <td>childes</td>\n",
       "      <td>Spain</td>\n",
       "      <td>Spain</td>\n",
       "      <td>INV-DZIZ</td>\n",
       "      <td>en Oviedo ?</td>\n",
       "    </tr>\n",
       "    <tr>\n",
       "      <th>1</th>\n",
       "      <td>False</td>\n",
       "      <td>childes</td>\n",
       "      <td>Spain</td>\n",
       "      <td>Spain</td>\n",
       "      <td>INV-DZIZ</td>\n",
       "      <td>ah (.) es la casa de Sergio (.) sí ?</td>\n",
       "    </tr>\n",
       "    <tr>\n",
       "      <th>2</th>\n",
       "      <td>False</td>\n",
       "      <td>childes</td>\n",
       "      <td>Spain</td>\n",
       "      <td>Spain</td>\n",
       "      <td>INV-DZIZ</td>\n",
       "      <td>ah (.) oye (.) y (.) cuántos años tienes ?</td>\n",
       "    </tr>\n",
       "    <tr>\n",
       "      <th>3</th>\n",
       "      <td>False</td>\n",
       "      <td>childes</td>\n",
       "      <td>Spain</td>\n",
       "      <td>Spain</td>\n",
       "      <td>INV-DZIZ</td>\n",
       "      <td>dos (.) &lt;a ver&gt; [/] a_ver (.) qué son estos ?</td>\n",
       "    </tr>\n",
       "    <tr>\n",
       "      <th>4</th>\n",
       "      <td>False</td>\n",
       "      <td>childes</td>\n",
       "      <td>Spain</td>\n",
       "      <td>Spain</td>\n",
       "      <td>INV-DZIZ</td>\n",
       "      <td>ah (.) tienes tres añitos .</td>\n",
       "    </tr>\n",
       "  </tbody>\n",
       "</table>\n",
       "</div>"
      ],
      "text/plain": [
       "   target   source dialect region   speaker  \\\n",
       "0   False  childes   Spain  Spain  INV-DZIZ   \n",
       "1   False  childes   Spain  Spain  INV-DZIZ   \n",
       "2   False  childes   Spain  Spain  INV-DZIZ   \n",
       "3   False  childes   Spain  Spain  INV-DZIZ   \n",
       "4   False  childes   Spain  Spain  INV-DZIZ   \n",
       "\n",
       "                                       utterance  \n",
       "0                                    en Oviedo ?  \n",
       "1           ah (.) es la casa de Sergio (.) sí ?  \n",
       "2     ah (.) oye (.) y (.) cuántos años tienes ?  \n",
       "3  dos (.) <a ver> [/] a_ver (.) qué son estos ?  \n",
       "4                    ah (.) tienes tres añitos .  "
      ]
     },
     "execution_count": 97,
     "metadata": {},
     "output_type": "execute_result"
    }
   ],
   "source": [
    "#Take a look at the full dataset\n",
    "raw_data.head()"
   ]
  },
  {
   "cell_type": "code",
   "execution_count": 95,
   "metadata": {
    "hidden": true,
    "slideshow": {
     "slide_type": "skip"
    }
   },
   "outputs": [],
   "source": [
    "#add a column of dialect REGION (to make the plot below nicer looking)\n",
    "regionsdict = {\n",
    "                'Spain': 'Spain',\n",
    "               'Mexican': 'Mexico',\n",
    "               'Chilean': 'Cono Sur', \n",
    "               'Nicaraguan': 'North & Central America', \n",
    "               'Ecuadorean': 'South America', \n",
    "               'Guatemalan': 'North & Central America',\n",
    "               'Colombian': 'South America', \n",
    "               'Peruvian': 'South America', \n",
    "               'Argentinian': 'Cono Sur', \n",
    "               'Puertorican': 'Caribbean', \n",
    "               'US': 'North & Central America',\n",
    "               'Costarican': 'North & Central America', \n",
    "               'Cuban': 'Caribbean', \n",
    "               'Venezuelan': 'Caribbean', \n",
    "               'Dominican': 'Caribbean',\n",
    "               'Salvadoran': 'North & Central America', \n",
    "               'Honduran': 'North & Central America', \n",
    "               'Bolivian': 'South America', \n",
    "               'Uruguayan': 'Cono Sur',\n",
    "               'Paraguayan': 'Paraguayan',\n",
    "}\n",
    "regions = raw_data[['dialect']].replace(regionsdict)\n",
    "raw_data.insert(2, 'region', regions)\n"
   ]
  },
  {
   "cell_type": "code",
   "execution_count": 96,
   "metadata": {
    "hidden": true,
    "scrolled": true,
    "slideshow": {
     "slide_type": "skip"
    }
   },
   "outputs": [],
   "source": [
    "#add a column of dialect values that will be our target. Mexican = 1, everything else = 0\n",
    "\n",
    "target = list(raw_data['dialect'] == 'Mexican')\n",
    "raw_data.insert(0, 'target', target)"
   ]
  },
  {
   "cell_type": "code",
   "execution_count": 98,
   "metadata": {
    "hidden": true,
    "slideshow": {
     "slide_type": "skip"
    }
   },
   "outputs": [
    {
     "data": {
      "text/html": [
       "<div>\n",
       "<style scoped>\n",
       "    .dataframe tbody tr th:only-of-type {\n",
       "        vertical-align: middle;\n",
       "    }\n",
       "\n",
       "    .dataframe tbody tr th {\n",
       "        vertical-align: top;\n",
       "    }\n",
       "\n",
       "    .dataframe thead th {\n",
       "        text-align: right;\n",
       "    }\n",
       "</style>\n",
       "<table border=\"1\" class=\"dataframe\">\n",
       "  <thead>\n",
       "    <tr style=\"text-align: right;\">\n",
       "      <th></th>\n",
       "      <th>target</th>\n",
       "      <th>source</th>\n",
       "      <th>dialect</th>\n",
       "      <th>region</th>\n",
       "      <th>speaker</th>\n",
       "      <th>utterance</th>\n",
       "    </tr>\n",
       "  </thead>\n",
       "  <tbody>\n",
       "    <tr>\n",
       "      <th>0</th>\n",
       "      <td>False</td>\n",
       "      <td>childes</td>\n",
       "      <td>Spain</td>\n",
       "      <td>Spain</td>\n",
       "      <td>INV-DZIZ</td>\n",
       "      <td>en Oviedo ?</td>\n",
       "    </tr>\n",
       "    <tr>\n",
       "      <th>1</th>\n",
       "      <td>False</td>\n",
       "      <td>childes</td>\n",
       "      <td>Spain</td>\n",
       "      <td>Spain</td>\n",
       "      <td>INV-DZIZ</td>\n",
       "      <td>ah (.) es la casa de Sergio (.) sí ?</td>\n",
       "    </tr>\n",
       "    <tr>\n",
       "      <th>2</th>\n",
       "      <td>False</td>\n",
       "      <td>childes</td>\n",
       "      <td>Spain</td>\n",
       "      <td>Spain</td>\n",
       "      <td>INV-DZIZ</td>\n",
       "      <td>ah (.) oye (.) y (.) cuántos años tienes ?</td>\n",
       "    </tr>\n",
       "    <tr>\n",
       "      <th>3</th>\n",
       "      <td>False</td>\n",
       "      <td>childes</td>\n",
       "      <td>Spain</td>\n",
       "      <td>Spain</td>\n",
       "      <td>INV-DZIZ</td>\n",
       "      <td>dos (.) &lt;a ver&gt; [/] a_ver (.) qué son estos ?</td>\n",
       "    </tr>\n",
       "    <tr>\n",
       "      <th>4</th>\n",
       "      <td>False</td>\n",
       "      <td>childes</td>\n",
       "      <td>Spain</td>\n",
       "      <td>Spain</td>\n",
       "      <td>INV-DZIZ</td>\n",
       "      <td>ah (.) tienes tres añitos .</td>\n",
       "    </tr>\n",
       "  </tbody>\n",
       "</table>\n",
       "</div>"
      ],
      "text/plain": [
       "   target   source dialect region   speaker  \\\n",
       "0   False  childes   Spain  Spain  INV-DZIZ   \n",
       "1   False  childes   Spain  Spain  INV-DZIZ   \n",
       "2   False  childes   Spain  Spain  INV-DZIZ   \n",
       "3   False  childes   Spain  Spain  INV-DZIZ   \n",
       "4   False  childes   Spain  Spain  INV-DZIZ   \n",
       "\n",
       "                                       utterance  \n",
       "0                                    en Oviedo ?  \n",
       "1           ah (.) es la casa de Sergio (.) sí ?  \n",
       "2     ah (.) oye (.) y (.) cuántos años tienes ?  \n",
       "3  dos (.) <a ver> [/] a_ver (.) qué son estos ?  \n",
       "4                    ah (.) tienes tres añitos .  "
      ]
     },
     "execution_count": 98,
     "metadata": {},
     "output_type": "execute_result"
    }
   ],
   "source": [
    "raw_data.head()"
   ]
  },
  {
   "cell_type": "code",
   "execution_count": 99,
   "metadata": {
    "hidden": true,
    "slideshow": {
     "slide_type": "skip"
    }
   },
   "outputs": [],
   "source": [
    "# save to disk\n",
    "raw_data.to_csv(\"raw_data.csv\")"
   ]
  },
  {
   "cell_type": "markdown",
   "metadata": {
    "heading_collapsed": true,
    "hidden": true,
    "slideshow": {
     "slide_type": "skip"
    }
   },
   "source": [
    "### Read in full dataset from disk  (skip point 1)"
   ]
  },
  {
   "cell_type": "code",
   "execution_count": 100,
   "metadata": {
    "hidden": true,
    "slideshow": {
     "slide_type": "skip"
    }
   },
   "outputs": [],
   "source": [
    "#read in full dataset from disk\n",
    "raw_data = pd.read_csv(\"raw_data.csv\")"
   ]
  },
  {
   "cell_type": "markdown",
   "metadata": {
    "slideshow": {
     "slide_type": "skip"
    }
   },
   "source": [
    "# Dialect distribution"
   ]
  },
  {
   "cell_type": "markdown",
   "metadata": {
    "slideshow": {
     "slide_type": "skip"
    }
   },
   "source": [
    "The full dataset is not evenly distributed over all dialects. As you can see from the pie chart below, about half of our data comes from Mexico. So as a first pass, we will build a classifier to differentiate between text from Mexican Spanish (1) versus any other dialect (0)."
   ]
  },
  {
   "cell_type": "code",
   "execution_count": 101,
   "metadata": {
    "slideshow": {
     "slide_type": "skip"
    }
   },
   "outputs": [],
   "source": [
    "#Distribution of utterances from each dialect\n",
    "# dialects = sorted(raw_data['region'].unique())\n",
    "dialects = ['\\nCaribbean', 'Southern Cone', 'Mexico', '\\nNorth \\n& Central \\nAmerica', 'Paraguay', 'Other South America', 'Spain']\n",
    "total_utterances = raw_data['region'].value_counts().sort_index()\n",
    "total_data = sum(total_utterances)\n",
    "#     colors = ['black', 'beige', 'green', 'lightblue', 'red','blue', 'gold'], \n",
    "colors = ['beige', 'lightcoral', 'green', 'grey', 'orange','brown', 'gold']\n",
    "#     autopct = lambda x: '{:.0f}'.format(x * total_data/100)"
   ]
  },
  {
   "cell_type": "markdown",
   "metadata": {
    "slideshow": {
     "slide_type": "slide"
    }
   },
   "source": [
    "## fig1: Dialect distribution"
   ]
  },
  {
   "cell_type": "code",
   "execution_count": 102,
   "metadata": {
    "scrolled": true,
    "slideshow": {
     "slide_type": "fragment"
    }
   },
   "outputs": [
    {
     "data": {
      "image/png": "[encoded data removed]",
      "text/plain": [
       "<Figure size 432x288 with 1 Axes>"
      ]
     },
     "metadata": {},
     "output_type": "display_data"
    }
   ],
   "source": [
    "dlctfig = plt.pyplot.figure()\n",
    "ax = dlctfig.add_axes([0, 0, 1, 2])\n",
    "pie = ax.pie(total_utterances, labels = dialects, colors = colors, startangle = 60, autopct = '%1.1f%%', textprops={'fontsize': 16})"
   ]
  },
  {
   "cell_type": "markdown",
   "metadata": {
    "heading_collapsed": true,
    "slideshow": {
     "slide_type": "skip"
    }
   },
   "source": [
    "# Test-train split"
   ]
  },
  {
   "cell_type": "markdown",
   "metadata": {
    "hidden": true,
    "slideshow": {
     "slide_type": "skip"
    }
   },
   "source": [
    "We will be conservative in our use of the full dataset, designating:\n",
    "- 10% for a final test set: we will NOT touch this data until we have finished development. Since there is still a lot on the to-do list, this dataset has not been viewed yet.\n",
    "- 60% for training model during development.\n",
    "- 40% for testing during development.\n",
    "\n",
    "The next 3 cells were run ONCE and should NOT be run again, to preserve the confidentiality of the final test set. In order to access the development training and test sets, proceed to skip point 2."
   ]
  },
  {
   "cell_type": "code",
   "execution_count": 419,
   "metadata": {
    "hidden": true,
    "slideshow": {
     "slide_type": "skip"
    }
   },
   "outputs": [],
   "source": [
    "# # Choose 10% randomly from raw_data dataframe to be the final test set.\n",
    "# n_test = round(.10 * len(raw_data))\n",
    "\n",
    "# test_index = random.sample(list(raw_data.index), n_test)\n",
    "\n",
    "# finaltest = raw_data.loc[raw_data.index.isin(test_index)]\n",
    "\n",
    "# remainder = raw_data.loc[~raw_data.index.isin(test_index)]\n",
    "\n",
    "# # Split the remainder into 60% train and 40% (dev) test set\n",
    "\n",
    "# n_dev = round(.4 *len(remainder))\n",
    "\n",
    "# dev_index = random.sample(list(remainder.index), n_dev)\n",
    "\n",
    "# test = remainder.loc[remainder.index.isin(dev_index)]\n",
    "\n",
    "# train = remainder.loc[~remainder.index.isin(dev_index)]\n"
   ]
  },
  {
   "cell_type": "code",
   "execution_count": 103,
   "metadata": {
    "hidden": true,
    "slideshow": {
     "slide_type": "skip"
    }
   },
   "outputs": [],
   "source": [
    "# #Sanity check that the three dfs are not overlapping\n",
    "# finaltest.head(25)\n",
    "# test.head(25)\n",
    "# train.head(25)\n",
    "\n",
    "# #Make sure that both sets have Mexican and non-Mexican data\n",
    "# print(train['target'].value_counts())\n",
    "# print(test['target'].value_counts())"
   ]
  },
  {
   "cell_type": "code",
   "execution_count": 433,
   "metadata": {
    "hidden": true,
    "slideshow": {
     "slide_type": "skip"
    }
   },
   "outputs": [],
   "source": [
    "# #Save everything to disk\n",
    "# finaltest.to_csv(\"finaltest.csv\")\n",
    "# test.to_csv(\"test.csv\")\n",
    "# train.to_csv(\"train.csv\")"
   ]
  },
  {
   "cell_type": "markdown",
   "metadata": {
    "heading_collapsed": true,
    "slideshow": {
     "slide_type": "skip"
    }
   },
   "source": [
    "# Feature engineering"
   ]
  },
  {
   "cell_type": "markdown",
   "metadata": {
    "heading_collapsed": true,
    "hidden": true,
    "slideshow": {
     "slide_type": "skip"
    }
   },
   "source": [
    "### Read in training data from disk (skip point 2)"
   ]
  },
  {
   "cell_type": "code",
   "execution_count": 107,
   "metadata": {
    "hidden": true,
    "slideshow": {
     "slide_type": "skip"
    }
   },
   "outputs": [],
   "source": [
    "train = pd.read_csv(\"train.csv\")\n",
    "test = pd.read_csv(\"test.csv\")"
   ]
  },
  {
   "cell_type": "markdown",
   "metadata": {
    "hidden": true,
    "slideshow": {
     "slide_type": "skip"
    }
   },
   "source": [
    "The final test set should only be accessed when development is done. (Development still ongoing as of Sept. 1, 2020)"
   ]
  },
  {
   "cell_type": "code",
   "execution_count": 108,
   "metadata": {
    "hidden": true
   },
   "outputs": [],
   "source": [
    "# finaltest = pd.read_csv(\"finaltest.csv\")"
   ]
  },
  {
   "cell_type": "code",
   "execution_count": 109,
   "metadata": {
    "hidden": true,
    "slideshow": {
     "slide_type": "skip"
    }
   },
   "outputs": [],
   "source": [
    "#Separate the input sentences from the target output in both training and test datsets\n",
    "train_input = train['utterance']\n",
    "train_target = train['target']\n",
    "test_input = test['utterance']\n",
    "test_target = test['target']"
   ]
  },
  {
   "cell_type": "markdown",
   "metadata": {
    "heading_collapsed": true,
    "hidden": true,
    "slideshow": {
     "slide_type": "skip"
    }
   },
   "source": [
    "### To do: grammatical encoding and other exclusions"
   ]
  },
  {
   "cell_type": "code",
   "execution_count": 110,
   "metadata": {
    "hidden": true,
    "slideshow": {
     "slide_type": "skip"
    }
   },
   "outputs": [],
   "source": [
    "# To-do: try to access SpaCy's Spanish tokenizer in order to tokenize the input\n",
    "# nlp = spacy.load(\"es_core_news_sm\")\n",
    "# tokens = [nlp(utt) for utt in raw_data['utterance']]\n",
    "# tokens"
   ]
  },
  {
   "cell_type": "markdown",
   "metadata": {
    "heading_collapsed": true,
    "hidden": true,
    "slideshow": {
     "slide_type": "skip"
    }
   },
   "source": [
    "### Stop words"
   ]
  },
  {
   "cell_type": "markdown",
   "metadata": {
    "hidden": true,
    "slideshow": {
     "slide_type": "skip"
    }
   },
   "source": [
    "Here we define stopwords to ignore when training the model. We use the following different types of stopwords:\n",
    "\n",
    "- SPAN_STOP_WORDS: SpaCy's Spanish stopword list, minus pronouns and vosotros-conjugated verbs (which are useful for dialect detection)\n",
    "- NONWORDS: artifacts from our dataset. Most of these were caused by formatting codes in the CHILDES dataset, which was transcribed in a special format for linguistic research (CHAT format, for use with CLAN software)\n",
    "- INTERJECTIONS: non-words not included in SpaCy's existing stopword list\n",
    "- NAMES: names of people in our transcripts; place names are not exlcuded, since they are useful for identifying the region\n",
    "\n",
    "We also create two additional stopword lists for optional inclusion in different models.\n",
    "- PRO: pronouns EXCEPT for 'vos' and 'vosotros'\n",
    "- OTHER"
   ]
  },
  {
   "cell_type": "code",
   "execution_count": 113,
   "metadata": {
    "hidden": true,
    "slideshow": {
     "slide_type": "skip"
    }
   },
   "outputs": [],
   "source": [
    "#Remove pronouns and vosotros-conjugated verbs from SpaCy's Spanish stopword list\n",
    "KEEP = set(['ella', 'ellas', 'ellos', 'él', 'nosotros', 'nosotras', 'tú', 'usted', 'ustedes', \n",
    "            'vosotros', 'vosotras', 'yo', 'os', 'vuestra', 'vuestro', 'vuestras', 'vuestros',\n",
    "            'deprisa', 'empleais', 'eres', 'estais', 'haceis', 'intentais', 'podeis', 'podriais', \n",
    "            'sabeis', 'sois', 'soyos', 'teneis', 'trabajais', 'usais', 'vais'])\n",
    "SPAN_STOP_WORDS = SPACY_STOP_WORDS.difference(KEEP)"
   ]
  },
  {
   "cell_type": "code",
   "execution_count": 114,
   "metadata": {
    "hidden": true,
    "slideshow": {
     "slide_type": "skip"
    }
   },
   "outputs": [],
   "source": [
    "NAMES = set(['mariana','gabriel', 'yaretzi', 'gabi', 'beto', 'hindenburg', 'juan', 'lucía', 'rudy', 'javier', 'ambulante', 'ambulantes', 'lulú', 'lu'])"
   ]
  },
  {
   "cell_type": "code",
   "execution_count": 115,
   "metadata": {
    "hidden": true,
    "slideshow": {
     "slide_type": "skip"
    }
   },
   "outputs": [],
   "source": [
    "NONWORDS = set(['sleep', 'number', 'laughs', 'ads', 'cor', 'eng', 'grn', 'jpn', 'xx', 'xxx', 'www', 'snd', 'do', 'to', 'wp', '021100', '021000','020608',\n",
    "                '0998883339', '0a', '000', '020904', '011127', '020024', '020421', '020316', '020511', '011029',\n",
    "               '020219, 020709', '020219', '020709', '020121', '020805'])"
   ]
  },
  {
   "cell_type": "code",
   "execution_count": 116,
   "metadata": {
    "hidden": true,
    "slideshow": {
     "slide_type": "skip"
    }
   },
   "outputs": [],
   "source": [
    "INTERJECTIONS = set([\n",
    " 'ahh',\n",
    " 'aaah',\n",
    " 'aaaah',\n",
    " 'ah',\n",
    " 'ajá', \n",
    " 'am',\n",
    " 'ay',\n",
    " 'eh',\n",
    " 'chuk',\n",
    " 'guau',\n",
    " 'hm',\n",
    " 'ja',\n",
    " 'je',\n",
    " 'mhm',\n",
    " 'mmhm',\n",
    " 'mjm',\n",
    " 'mm',\n",
    " 'mmm',\n",
    " 'mmh',\n",
    " 'ñam',\n",
    " 'oh', \n",
    " 'oi',\n",
    " 'oy',\n",
    " 'padum',\n",
    " 'ta',\n",
    " 'tun',\n",
    " 'uh',\n",
    " 'ujum',\n",
    " 'unjú',\n",
    " 'uy',\n",
    " 'zumzum'\n",
    "])\n"
   ]
  },
  {
   "cell_type": "code",
   "execution_count": 117,
   "metadata": {
    "hidden": true,
    "slideshow": {
     "slide_type": "skip"
    }
   },
   "outputs": [],
   "source": [
    "#Put pronouns into their own stopword list for optional inclusion\n",
    "PRO = set(['ella', 'ellas', 'ellos', 'él', 'nosotros', 'nosotras', 'tú', 'yo'])"
   ]
  },
  {
   "cell_type": "code",
   "execution_count": 118,
   "metadata": {
    "hidden": true,
    "slideshow": {
     "slide_type": "skip"
    }
   },
   "outputs": [],
   "source": [
    "#More words for for optional inclusion in stopwords\n",
    "OTHER = set([\n",
    "     'siento', 'estabas', 'sabía', 'subir', 'vino', 'feo', 'toca',\n",
    "    'mesa', 'paso', 'mil', 'hice', 'cama', 'teléfono', 'dejar', 'buscar', 'hombre', 'gustan', 'ropa', 'baño', 'tirar', 'rápido', 'tomar', 'pan', 'difícil', 'ayudo', 'pa',\n",
    " 'juan', 'cae', 'comprar', 'historia', 'doy', 'amarillo', 'media', 'noche', 'juego', 'pintar', 'ojo', 'espera', 'sacar', 'colores', 'perrito', 'hablando', 'ratito', 'hermano', 'tortuga', 'trae', 'ustedes', 'pie', 'guardar', 'café', 'cabe', 'amigos', 'semana', 'caballo', 'corazón', 'nariz', 'canción', 'fuiste', 'diciendo', 'león', 'tía', 'venir', 'comiendo', 'pasar', \n",
    " 'leche', 'cabeza', 'das', 'has', 'lobo', 'gente', 'sale', 'años', 'boca', 'ella', 'nosotros', 'nombre', 'ponemos', 'cosa', 'libro', 'dormir', 'queda', 'pongo', 'comida', 'él', 'tú', 'yo', 'dale', 'come', 'avión', 'coche', 'rojo', 'ellos', 'amor', 'nena', 'señora', 'año', 'hablar', 'rico','a_ver', 've',\n",
    " 'afuera', 'animales', 'oso', 'meses', 'forma', 'duele', 'aparte', 'sol', 'casita', 'torre', 'entrar', 'quieren', 'hacía', 'alguien', 'corre',\n",
    " 'oye',\n",
    " 'ya',\n",
    " 'abajo',\n",
    " 'acuerdas',\n",
    " 'acá',\n",
    " 'adiós',\n",
    " 'agua',\n",
    " 'allá',\n",
    " 'amigo',\n",
    " 'azul',\n",
    " 'bebé',\n",
    " 'bonita',\n",
    " 'bonito',\n",
    " 'caer',\n",
    " 'casa',\n",
    " 'cayó',\n",
    " 'color',\n",
    " 'comer',\n",
    " 'con',\n",
    " 'crees',\n",
    " 'cuento',\n",
    " 'cuidado',\n",
    " 'dame',\n",
    " 'de',\n",
    " 'deja',\n",
    " 'di',\n",
    " 'dices',\n",
    " 'diez',\n",
    " 'digo',\n",
    " 'dije',\n",
    " 'dile',\n",
    " 'dime',\n",
    " 'el',\n",
    " 'en',\n",
    " 'eres',\n",
    " 'es',\n",
    " 'escuela',\n",
    " 'espérame',\n",
    " 'está',\n",
    " 'estás',\n",
    " 'falta',\n",
    " 'fuerte',\n",
    " 'gato',\n",
    " 'gracias',\n",
    " 'grande',\n",
    " 'gusta',\n",
    " 'hiciste',\n",
    " 'hija',\n",
    " 'hijo',\n",
    " 'hola',\n",
    " 'hora',\n",
    " 'iba',\n",
    " 'jugar',\n",
    " 'la',\n",
    " 'llama',\n",
    " 'lo',\n",
    " 'los',\n",
    " 'mamá',\n",
    " 'mano',\n",
    " 'mañana',\n",
    " 'me',\n",
    " 'más',\n",
    " 'mira',\n",
    " 'niña',\n",
    " 'niño',\n",
    " 'niños',\n",
    " 'no',\n",
    " 'padre',\n",
    " 'papá',\n",
    " 'pasa',\n",
    " 'pasó',\n",
    " 'pero',\n",
    " 'perro',\n",
    " 'por',\n",
    " 'por_favor',\n",
    " 'porque',\n",
    " 'puedes',\n",
    " 'pues',\n",
    " 'que',\n",
    " 'quería',\n",
    " 'quieres',\n",
    " 'quiero',\n",
    " 'qué',\n",
    " 'salir',\n",
    " 'se',\n",
    " 'señor',\n",
    " 'si',\n",
    " 'siéntate',\n",
    " 'sí',\n",
    " 'te',\n",
    " 'ten',\n",
    " 'tienes',\n",
    " 'toma',\n",
    " 'un',\n",
    " 'una',\n",
    " 'vaca',\n",
    " 'vas',\n",
    " 'ven',\n",
    " 'vente',\n",
    " 'verde',\n",
    " 'ves',\n",
    " 'viene',\n",
    " 'viste', 'vi', 'vuelta', 'rana', 'hermana', 'miedo', 'jugando', 'decía', 'dibujar', 'pon', 'pone', 'cara', 'contar', 'vida', 'visto', 'poquito', 'vale', 'anda', 'salió', 'veo', 'camión'\n",
    "])\n"
   ]
  },
  {
   "cell_type": "markdown",
   "metadata": {
    "heading_collapsed": true,
    "hidden": true,
    "slideshow": {
     "slide_type": "skip"
    }
   },
   "source": [
    "###  Bag-of-words and bag-of-phrases encodings"
   ]
  },
  {
   "cell_type": "markdown",
   "metadata": {
    "hidden": true,
    "slideshow": {
     "slide_type": "skip"
    }
   },
   "source": [
    "The commented out code below corresponds to different kinds of encodings that were ultimately not used in the final model. However, they are kept here for future reference."
   ]
  },
  {
   "cell_type": "code",
   "execution_count": 119,
   "metadata": {
    "hidden": true,
    "slideshow": {
     "slide_type": "skip"
    }
   },
   "outputs": [],
   "source": [
    "#Use a variety of different bag-of-words encoding methods\n",
    "\n",
    "#This is the baseline, vanilla set of one-grams\n",
    "# vanilla = CountVectorizer(\n",
    "#     stop_words = SPAN_STOP_WORDS|NONWORDS|INTERJECTIONS|NAMES|PRO,\n",
    "# )\n",
    "\n",
    "#This is the best max_features I could get with one-grams\n",
    "# onegrams = TfidfVectorizer(max_features= 23630,\n",
    "#                            stop_words = SPAN_STOP_WORDS|NONWORDS|INTERJECTIONS|NAMES|PRO\n",
    "#                           )\n",
    "\n",
    "#This is the best max_features I could get with bi-grams\n",
    "# bigrams = TfidfVectorizer(max_features=77500,\n",
    "#                            stop_words = SPAN_STOP_WORDS|NONWORDS|INTERJECTIONS|NAMES,\n",
    "#                            ngram_range=(2,2)\n",
    "#                           )\n",
    "\n",
    "#So far this is the best vectorizer overall.\n",
    "cadillac = CountVectorizer(\n",
    "    stop_words = SPAN_STOP_WORDS|NONWORDS|INTERJECTIONS|NAMES,\n",
    "    ngram_range=(1,2)\n",
    ")\n",
    "\n",
    "#Choose which of the above transformers to use in the model\n",
    "chosentransformer = cadillac"
   ]
  },
  {
   "cell_type": "markdown",
   "metadata": {
    "slideshow": {
     "slide_type": "skip"
    }
   },
   "source": [
    "# Model"
   ]
  },
  {
   "cell_type": "markdown",
   "metadata": {
    "heading_collapsed": true,
    "slideshow": {
     "slide_type": "skip"
    }
   },
   "source": [
    "## Train a Naive Bayes predictor"
   ]
  },
  {
   "cell_type": "markdown",
   "metadata": {
    "hidden": true
   },
   "source": [
    "In this sub-section we train a Naive Bayes model using the embedding chosen above. Then we pickle it so that it can be accessed and used by the more user-friendly notebook `dialect_detector.ipynb`."
   ]
  },
  {
   "cell_type": "code",
   "execution_count": 120,
   "metadata": {
    "hidden": true,
    "slideshow": {
     "slide_type": "skip"
    }
   },
   "outputs": [
    {
     "name": "stdout",
     "output_type": "stream",
     "text": [
      "number of observations trained on: 107452\n",
      "number of features used: 111415\n"
     ]
    }
   ],
   "source": [
    "#Put together the fitted transformer with a Naive Bayes predictor and fit it on the training data\n",
    "\n",
    "features = chosentransformer\n",
    "predictor = MultinomialNB(alpha = 5)\n",
    "\n",
    "classifier = Pipeline([('features', features),\n",
    "                     ('predictor', predictor)])\n",
    "\n",
    "\n",
    "fit_cl = classifier.fit(train_input, train_target)\n",
    "\n",
    "\n",
    "#After fitting, print some metrics\n",
    "print(\"number of observations trained on:\", len(train_input))\n",
    "print(\"number of features used:\", len(features.get_feature_names()))"
   ]
  },
  {
   "cell_type": "code",
   "execution_count": 121,
   "metadata": {
    "hidden": true,
    "slideshow": {
     "slide_type": "skip"
    }
   },
   "outputs": [],
   "source": [
    "# pickle the classifier for use in other notebooks (e.g. dialect_predictor.ipynb)\n",
    "dill.dump(fit_cl, open(\"classifier.pkd\", 'wb'))"
   ]
  },
  {
   "cell_type": "markdown",
   "metadata": {
    "slideshow": {
     "slide_type": "skip"
    }
   },
   "source": [
    "## Interactive predictions"
   ]
  },
  {
   "cell_type": "markdown",
   "metadata": {
    "slideshow": {
     "slide_type": "skip"
    }
   },
   "source": [
    "Having trained the model, you can give it new text in order to generate on-the-fly predictions."
   ]
  },
  {
   "cell_type": "markdown",
   "metadata": {
    "heading_collapsed": true,
    "slideshow": {
     "slide_type": "skip"
    }
   },
   "source": [
    "### read in model from dill object (skip point 3)"
   ]
  },
  {
   "cell_type": "code",
   "execution_count": 122,
   "metadata": {
    "hidden": true,
    "slideshow": {
     "slide_type": "skip"
    }
   },
   "outputs": [],
   "source": [
    "classifier = dill.load(open(\"classifier.pkd\", 'rb'))"
   ]
  },
  {
   "cell_type": "code",
   "execution_count": 123,
   "metadata": {
    "hidden": true,
    "slideshow": {
     "slide_type": "skip"
    }
   },
   "outputs": [],
   "source": [
    "#Create interface for user to make on-the-fly predictions\n",
    "def classify(text):\n",
    "    if classifier.predict([text])[0]:\n",
    "        print(\"Mexican Spanish!\")\n",
    "    else:\n",
    "        print(\"Some other dialect!\")"
   ]
  },
  {
   "cell_type": "markdown",
   "metadata": {
    "slideshow": {
     "slide_type": "slide"
    }
   },
   "source": [
    "### Type sentence, predict dialect"
   ]
  },
  {
   "cell_type": "code",
   "execution_count": 124,
   "metadata": {
    "slideshow": {
     "slide_type": "fragment"
    }
   },
   "outputs": [
    {
     "name": "stdout",
     "output_type": "stream",
     "text": [
      "Some other dialect!\n"
     ]
    }
   ],
   "source": [
    "classify('vos sos mija')"
   ]
  },
  {
   "cell_type": "markdown",
   "metadata": {
    "slideshow": {
     "slide_type": "skip"
    }
   },
   "source": [
    "# Feature importance"
   ]
  },
  {
   "cell_type": "markdown",
   "metadata": {
    "slideshow": {
     "slide_type": "skip"
    }
   },
   "source": [
    "In this section, we examine the 'innards' of the trained model to understand which features (i.e. words or bigrams) that it thinks is most important for its predictions. For each feature, we can extract the (log) probability of that feature, given that the text being analyzed is Mexican Spanish, as well as the probability, given that it is non-Mexican Spanish. But what we really want to know is not P(word|MX) and P(word|non-MX), but instead P(MX|word) and P(non-MX|word). That is, how strongly does each feature predict that the text is/is not Mexican Spanish? The code below calculates P(MX|word) and P(non-MX|word), and Fig 1 displays the top ten values for P(MX|word)--that is, the strongest predictors of Mexican Spanish. We can think of these words as \"keywords\" that Alexa or Siri could be listening out for. "
   ]
  },
  {
   "cell_type": "markdown",
   "metadata": {
    "heading_collapsed": true,
    "slideshow": {
     "slide_type": "skip"
    }
   },
   "source": [
    "## P(MX|word) and P(non-MX|word)"
   ]
  },
  {
   "cell_type": "code",
   "execution_count": 125,
   "metadata": {
    "hidden": true,
    "slideshow": {
     "slide_type": "skip"
    }
   },
   "outputs": [],
   "source": [
    "# Step 1. Get words\n",
    "words = classifier.named_steps['features'].get_feature_names()"
   ]
  },
  {
   "cell_type": "markdown",
   "metadata": {
    "hidden": true,
    "slideshow": {
     "slide_type": "skip"
    }
   },
   "source": [
    "In order to calculate the feature importance of the words in our training dataset, we need to access the word counts. That's what this next cell does. Unfortunately, it does not seem to be possible to access these counts from the fitted classifier because we used a pipe to create it. Instead, we have to manually re-fit our chosen encoder (the `cadillac` Count vectorizer) on the training data. "
   ]
  },
  {
   "cell_type": "code",
   "execution_count": 127,
   "metadata": {
    "hidden": true,
    "slideshow": {
     "slide_type": "skip"
    }
   },
   "outputs": [],
   "source": [
    "# Step 2. Get each word's count\n",
    "featurecounts = features.fit_transform(train_input).toarray().sum(axis=0)\n",
    "wordcounts = featurecounts #This was calculated just after the model was fit (see section \"Train Naive Bayes predictor\")\n",
    "    \n",
    "#To do 1: figure out some way to access the transformed version of 'features' inside of the classifier pipe.\n",
    "# (Right now all I can do is access the UNtransformed version)\n",
    "# Consider calling .feature_count_.sum(axis=0) on the predictor IF you can be sure that the counts aren't weighted in some weird way\n",
    "\n",
    "#To do 2: Try to see if this produces the same result EVEN when features get fancier"
   ]
  },
  {
   "cell_type": "code",
   "execution_count": 128,
   "metadata": {
    "hidden": true,
    "slideshow": {
     "slide_type": "skip"
    }
   },
   "outputs": [],
   "source": [
    "# Step 3. Get each word's log P(word|MX) and log P(word|non-MX) \n",
    "logprob_MX = predictor.feature_log_prob_[1] #Pretty sure this is right\n",
    "\n",
    "logprob_nonMX = predictor.feature_log_prob_[0] #Pretty sure this is right"
   ]
  },
  {
   "cell_type": "code",
   "execution_count": 129,
   "metadata": {
    "hidden": true,
    "slideshow": {
     "slide_type": "skip"
    }
   },
   "outputs": [],
   "source": [
    "# Step 4. Put all log probs into a dataframe\n",
    "featimport_df = pd.DataFrame(\n",
    "    {'word': words, \n",
    "     'count': wordcounts,\n",
    "     'logP(word|MX)': logprob_MX, \n",
    "     'logP(word|nonMX)':logprob_nonMX\n",
    "    })"
   ]
  },
  {
   "cell_type": "code",
   "execution_count": 130,
   "metadata": {
    "hidden": true,
    "slideshow": {
     "slide_type": "skip"
    }
   },
   "outputs": [],
   "source": [
    "# Step 5. Calculate priors: log P(MX), log P(nonMX) and log P(word)\n",
    "\n",
    "logpriorMX = predictor.class_log_prior_[1] #This number is right\n",
    "logpriornonMX = predictor.class_log_prior_[0] #This number is right\n",
    "totalwords = featimport_df['count'].sum()\n",
    "\n",
    "featimport_df['logP(word)'] = np.log(featimport_df['count']/totalwords)"
   ]
  },
  {
   "cell_type": "code",
   "execution_count": 131,
   "metadata": {
    "hidden": true,
    "slideshow": {
     "slide_type": "skip"
    }
   },
   "outputs": [],
   "source": [
    "# Step 6. calculate log P(MX|word) and log P(nonMX|word) columns from the previous calculations\n",
    "\n",
    "\n",
    "featimport_df['logP(MX|word)'] = featimport_df['logP(word|MX)'] + logpriorMX - featimport_df['logP(word)']\n",
    "\n",
    "featimport_df['logP(nonMX|word)'] = featimport_df['logP(word|nonMX)'] + logpriornonMX - featimport_df['logP(word)']"
   ]
  },
  {
   "cell_type": "code",
   "execution_count": 132,
   "metadata": {
    "hidden": true,
    "slideshow": {
     "slide_type": "skip"
    }
   },
   "outputs": [],
   "source": [
    "# Step 7. calculate bare probabilities P(MX|word) and P(nonMX|word)\n",
    "\n",
    "featimport_df['P(MX|word)'] = np.exp(featimport_df['logP(MX|word)'])\n",
    "featimport_df['P(nonMX|word)'] = np.exp(featimport_df['logP(nonMX|word)'])"
   ]
  },
  {
   "cell_type": "code",
   "execution_count": 133,
   "metadata": {
    "hidden": true,
    "slideshow": {
     "slide_type": "skip"
    }
   },
   "outputs": [],
   "source": [
    "# Step 8. Exclude counts < 100\n",
    "#NOTE: This step is important in order to exclude words that are just not that common overall\n",
    "# and are therefore unhelpful in predicting dialects.\n",
    "\n",
    "frequentwds = featimport_df[featimport_df['count'] > 100]"
   ]
  },
  {
   "cell_type": "code",
   "execution_count": 136,
   "metadata": {
    "hidden": true,
    "slideshow": {
     "slide_type": "skip"
    }
   },
   "outputs": [
    {
     "data": {
      "text/html": [
       "<div>\n",
       "<style scoped>\n",
       "    .dataframe tbody tr th:only-of-type {\n",
       "        vertical-align: middle;\n",
       "    }\n",
       "\n",
       "    .dataframe tbody tr th {\n",
       "        vertical-align: top;\n",
       "    }\n",
       "\n",
       "    .dataframe thead th {\n",
       "        text-align: right;\n",
       "    }\n",
       "</style>\n",
       "<table border=\"1\" class=\"dataframe\">\n",
       "  <thead>\n",
       "    <tr style=\"text-align: right;\">\n",
       "      <th></th>\n",
       "      <th>word</th>\n",
       "      <th>count</th>\n",
       "      <th>logP(word|MX)</th>\n",
       "      <th>logP(word|nonMX)</th>\n",
       "      <th>logP(word)</th>\n",
       "      <th>logP(MX|word)</th>\n",
       "      <th>logP(nonMX|word)</th>\n",
       "      <th>P(MX|word)</th>\n",
       "      <th>P(nonMX|word)</th>\n",
       "    </tr>\n",
       "  </thead>\n",
       "  <tbody>\n",
       "    <tr>\n",
       "      <th>46140</th>\n",
       "      <td>guaraní</td>\n",
       "      <td>112</td>\n",
       "      <td>-11.858805</td>\n",
       "      <td>-8.703904</td>\n",
       "      <td>-7.884852</td>\n",
       "      <td>-4.616880</td>\n",
       "      <td>-1.565075</td>\n",
       "      <td>0.009884</td>\n",
       "      <td>0.209072</td>\n",
       "    </tr>\n",
       "    <tr>\n",
       "      <th>104805</th>\n",
       "      <td>vení</td>\n",
       "      <td>122</td>\n",
       "      <td>-11.858805</td>\n",
       "      <td>-8.621891</td>\n",
       "      <td>-7.799330</td>\n",
       "      <td>-4.702402</td>\n",
       "      <td>-1.568584</td>\n",
       "      <td>0.009073</td>\n",
       "      <td>0.208340</td>\n",
       "    </tr>\n",
       "    <tr>\n",
       "      <th>47980</th>\n",
       "      <td>hala</td>\n",
       "      <td>187</td>\n",
       "      <td>-11.858805</td>\n",
       "      <td>-8.208583</td>\n",
       "      <td>-7.372242</td>\n",
       "      <td>-5.129490</td>\n",
       "      <td>-1.582363</td>\n",
       "      <td>0.005920</td>\n",
       "      <td>0.205489</td>\n",
       "    </tr>\n",
       "    <tr>\n",
       "      <th>107351</th>\n",
       "      <td>vo</td>\n",
       "      <td>204</td>\n",
       "      <td>-11.858805</td>\n",
       "      <td>-8.123744</td>\n",
       "      <td>-7.285231</td>\n",
       "      <td>-5.216501</td>\n",
       "      <td>-1.584535</td>\n",
       "      <td>0.005426</td>\n",
       "      <td>0.205043</td>\n",
       "    </tr>\n",
       "    <tr>\n",
       "      <th>83193</th>\n",
       "      <td>querés</td>\n",
       "      <td>313</td>\n",
       "      <td>-11.858805</td>\n",
       "      <td>-7.704027</td>\n",
       "      <td>-6.857148</td>\n",
       "      <td>-5.644584</td>\n",
       "      <td>-1.592902</td>\n",
       "      <td>0.003537</td>\n",
       "      <td>0.203335</td>\n",
       "    </tr>\n",
       "    <tr>\n",
       "      <th>96281</th>\n",
       "      <td>tenés</td>\n",
       "      <td>258</td>\n",
       "      <td>-11.676483</td>\n",
       "      <td>-7.897733</td>\n",
       "      <td>-7.050391</td>\n",
       "      <td>-5.269019</td>\n",
       "      <td>-1.593365</td>\n",
       "      <td>0.005149</td>\n",
       "      <td>0.203241</td>\n",
       "    </tr>\n",
       "    <tr>\n",
       "      <th>107795</th>\n",
       "      <td>vos</td>\n",
       "      <td>453</td>\n",
       "      <td>-11.676483</td>\n",
       "      <td>-7.341395</td>\n",
       "      <td>-6.487459</td>\n",
       "      <td>-5.831952</td>\n",
       "      <td>-1.599958</td>\n",
       "      <td>0.002932</td>\n",
       "      <td>0.201905</td>\n",
       "    </tr>\n",
       "    <tr>\n",
       "      <th>64261</th>\n",
       "      <td>mirá</td>\n",
       "      <td>748</td>\n",
       "      <td>-11.858805</td>\n",
       "      <td>-6.842013</td>\n",
       "      <td>-5.985948</td>\n",
       "      <td>-6.515784</td>\n",
       "      <td>-1.602087</td>\n",
       "      <td>0.001480</td>\n",
       "      <td>0.201475</td>\n",
       "    </tr>\n",
       "    <tr>\n",
       "      <th>102731</th>\n",
       "      <td>vamo</td>\n",
       "      <td>158</td>\n",
       "      <td>-11.165658</td>\n",
       "      <td>-8.403483</td>\n",
       "      <td>-7.540756</td>\n",
       "      <td>-4.267829</td>\n",
       "      <td>-1.608750</td>\n",
       "      <td>0.014012</td>\n",
       "      <td>0.200138</td>\n",
       "    </tr>\n",
       "    <tr>\n",
       "      <th>90577</th>\n",
       "      <td>sapo</td>\n",
       "      <td>150</td>\n",
       "      <td>-11.165658</td>\n",
       "      <td>-8.455443</td>\n",
       "      <td>-7.592716</td>\n",
       "      <td>-4.215869</td>\n",
       "      <td>-1.608750</td>\n",
       "      <td>0.014759</td>\n",
       "      <td>0.200138</td>\n",
       "    </tr>\n",
       "  </tbody>\n",
       "</table>\n",
       "</div>"
      ],
      "text/plain": [
       "           word  count  logP(word|MX)  logP(word|nonMX)  logP(word)  \\\n",
       "46140   guaraní    112     -11.858805         -8.703904   -7.884852   \n",
       "104805     vení    122     -11.858805         -8.621891   -7.799330   \n",
       "47980      hala    187     -11.858805         -8.208583   -7.372242   \n",
       "107351       vo    204     -11.858805         -8.123744   -7.285231   \n",
       "83193    querés    313     -11.858805         -7.704027   -6.857148   \n",
       "96281     tenés    258     -11.676483         -7.897733   -7.050391   \n",
       "107795      vos    453     -11.676483         -7.341395   -6.487459   \n",
       "64261      mirá    748     -11.858805         -6.842013   -5.985948   \n",
       "102731     vamo    158     -11.165658         -8.403483   -7.540756   \n",
       "90577      sapo    150     -11.165658         -8.455443   -7.592716   \n",
       "\n",
       "        logP(MX|word)  logP(nonMX|word)  P(MX|word)  P(nonMX|word)  \n",
       "46140       -4.616880         -1.565075    0.009884       0.209072  \n",
       "104805      -4.702402         -1.568584    0.009073       0.208340  \n",
       "47980       -5.129490         -1.582363    0.005920       0.205489  \n",
       "107351      -5.216501         -1.584535    0.005426       0.205043  \n",
       "83193       -5.644584         -1.592902    0.003537       0.203335  \n",
       "96281       -5.269019         -1.593365    0.005149       0.203241  \n",
       "107795      -5.831952         -1.599958    0.002932       0.201905  \n",
       "64261       -6.515784         -1.602087    0.001480       0.201475  \n",
       "102731      -4.267829         -1.608750    0.014012       0.200138  \n",
       "90577       -4.215869         -1.608750    0.014759       0.200138  "
      ]
     },
     "execution_count": 136,
     "metadata": {},
     "output_type": "execute_result"
    }
   ],
   "source": [
    "nonmexicanisms = frequentwds.sort_values(by='P(nonMX|word)', ascending=False)\n",
    "nonmexicanisms.head(10)"
   ]
  },
  {
   "cell_type": "code",
   "execution_count": 137,
   "metadata": {
    "hidden": true,
    "slideshow": {
     "slide_type": "skip"
    }
   },
   "outputs": [
    {
     "data": {
      "text/html": [
       "<div>\n",
       "<style scoped>\n",
       "    .dataframe tbody tr th:only-of-type {\n",
       "        vertical-align: middle;\n",
       "    }\n",
       "\n",
       "    .dataframe tbody tr th {\n",
       "        vertical-align: top;\n",
       "    }\n",
       "\n",
       "    .dataframe thead th {\n",
       "        text-align: right;\n",
       "    }\n",
       "</style>\n",
       "<table border=\"1\" class=\"dataframe\">\n",
       "  <thead>\n",
       "    <tr style=\"text-align: right;\">\n",
       "      <th></th>\n",
       "      <th>word</th>\n",
       "      <th>count</th>\n",
       "      <th>logP(word|MX)</th>\n",
       "      <th>logP(word|nonMX)</th>\n",
       "      <th>logP(word)</th>\n",
       "      <th>logP(MX|word)</th>\n",
       "      <th>logP(nonMX|word)</th>\n",
       "      <th>P(MX|word)</th>\n",
       "      <th>P(nonMX|word)</th>\n",
       "    </tr>\n",
       "  </thead>\n",
       "  <tbody>\n",
       "    <tr>\n",
       "      <th>39720</th>\n",
       "      <td>espérame</td>\n",
       "      <td>109</td>\n",
       "      <td>-8.740855</td>\n",
       "      <td>-11.674318</td>\n",
       "      <td>-7.912003</td>\n",
       "      <td>-1.471779</td>\n",
       "      <td>-4.508338</td>\n",
       "      <td>0.229517</td>\n",
       "      <td>0.011017</td>\n",
       "    </tr>\n",
       "    <tr>\n",
       "      <th>111239</th>\n",
       "      <td>órale</td>\n",
       "      <td>190</td>\n",
       "      <td>-8.195243</td>\n",
       "      <td>-11.856640</td>\n",
       "      <td>-7.356327</td>\n",
       "      <td>-1.481844</td>\n",
       "      <td>-5.246336</td>\n",
       "      <td>0.227218</td>\n",
       "      <td>0.005267</td>\n",
       "    </tr>\n",
       "    <tr>\n",
       "      <th>110391</th>\n",
       "      <td>ándale</td>\n",
       "      <td>241</td>\n",
       "      <td>-7.962911</td>\n",
       "      <td>-11.856640</td>\n",
       "      <td>-7.118554</td>\n",
       "      <td>-1.487285</td>\n",
       "      <td>-5.484109</td>\n",
       "      <td>0.225985</td>\n",
       "      <td>0.004152</td>\n",
       "    </tr>\n",
       "    <tr>\n",
       "      <th>60175</th>\n",
       "      <td>mande</td>\n",
       "      <td>124</td>\n",
       "      <td>-8.631961</td>\n",
       "      <td>-11.386636</td>\n",
       "      <td>-7.783069</td>\n",
       "      <td>-1.491819</td>\n",
       "      <td>-4.349590</td>\n",
       "      <td>0.224963</td>\n",
       "      <td>0.012912</td>\n",
       "    </tr>\n",
       "    <tr>\n",
       "      <th>104762</th>\n",
       "      <td>vente</td>\n",
       "      <td>153</td>\n",
       "      <td>-8.431290</td>\n",
       "      <td>-11.268853</td>\n",
       "      <td>-7.572913</td>\n",
       "      <td>-1.501304</td>\n",
       "      <td>-4.441963</td>\n",
       "      <td>0.222839</td>\n",
       "      <td>0.011773</td>\n",
       "    </tr>\n",
       "    <tr>\n",
       "      <th>32393</th>\n",
       "      <td>dime</td>\n",
       "      <td>230</td>\n",
       "      <td>-8.034521</td>\n",
       "      <td>-11.068183</td>\n",
       "      <td>-7.165272</td>\n",
       "      <td>-1.512176</td>\n",
       "      <td>-4.648934</td>\n",
       "      <td>0.220430</td>\n",
       "      <td>0.009572</td>\n",
       "    </tr>\n",
       "    <tr>\n",
       "      <th>32234</th>\n",
       "      <td>dile</td>\n",
       "      <td>311</td>\n",
       "      <td>-7.734901</td>\n",
       "      <td>-10.981171</td>\n",
       "      <td>-6.863558</td>\n",
       "      <td>-1.514271</td>\n",
       "      <td>-4.863636</td>\n",
       "      <td>0.219969</td>\n",
       "      <td>0.007722</td>\n",
       "    </tr>\n",
       "    <tr>\n",
       "      <th>5967</th>\n",
       "      <td>ahorita</td>\n",
       "      <td>439</td>\n",
       "      <td>-7.392897</td>\n",
       "      <td>-10.827021</td>\n",
       "      <td>-6.518852</td>\n",
       "      <td>-1.516973</td>\n",
       "      <td>-5.054192</td>\n",
       "      <td>0.219375</td>\n",
       "      <td>0.006383</td>\n",
       "    </tr>\n",
       "    <tr>\n",
       "      <th>104318</th>\n",
       "      <td>ven ven</td>\n",
       "      <td>132</td>\n",
       "      <td>-8.608430</td>\n",
       "      <td>-10.901129</td>\n",
       "      <td>-7.720549</td>\n",
       "      <td>-1.530809</td>\n",
       "      <td>-3.926602</td>\n",
       "      <td>0.216361</td>\n",
       "      <td>0.019711</td>\n",
       "    </tr>\n",
       "    <tr>\n",
       "      <th>25729</th>\n",
       "      <td>crees</td>\n",
       "      <td>168</td>\n",
       "      <td>-8.431290</td>\n",
       "      <td>-10.288024</td>\n",
       "      <td>-7.479387</td>\n",
       "      <td>-1.594831</td>\n",
       "      <td>-3.554660</td>\n",
       "      <td>0.202943</td>\n",
       "      <td>0.028591</td>\n",
       "    </tr>\n",
       "  </tbody>\n",
       "</table>\n",
       "</div>"
      ],
      "text/plain": [
       "            word  count  logP(word|MX)  logP(word|nonMX)  logP(word)  \\\n",
       "39720   espérame    109      -8.740855        -11.674318   -7.912003   \n",
       "111239     órale    190      -8.195243        -11.856640   -7.356327   \n",
       "110391    ándale    241      -7.962911        -11.856640   -7.118554   \n",
       "60175      mande    124      -8.631961        -11.386636   -7.783069   \n",
       "104762     vente    153      -8.431290        -11.268853   -7.572913   \n",
       "32393       dime    230      -8.034521        -11.068183   -7.165272   \n",
       "32234       dile    311      -7.734901        -10.981171   -6.863558   \n",
       "5967     ahorita    439      -7.392897        -10.827021   -6.518852   \n",
       "104318   ven ven    132      -8.608430        -10.901129   -7.720549   \n",
       "25729      crees    168      -8.431290        -10.288024   -7.479387   \n",
       "\n",
       "        logP(MX|word)  logP(nonMX|word)  P(MX|word)  P(nonMX|word)  \n",
       "39720       -1.471779         -4.508338    0.229517       0.011017  \n",
       "111239      -1.481844         -5.246336    0.227218       0.005267  \n",
       "110391      -1.487285         -5.484109    0.225985       0.004152  \n",
       "60175       -1.491819         -4.349590    0.224963       0.012912  \n",
       "104762      -1.501304         -4.441963    0.222839       0.011773  \n",
       "32393       -1.512176         -4.648934    0.220430       0.009572  \n",
       "32234       -1.514271         -4.863636    0.219969       0.007722  \n",
       "5967        -1.516973         -5.054192    0.219375       0.006383  \n",
       "104318      -1.530809         -3.926602    0.216361       0.019711  \n",
       "25729       -1.594831         -3.554660    0.202943       0.028591  "
      ]
     },
     "execution_count": 137,
     "metadata": {},
     "output_type": "execute_result"
    }
   ],
   "source": [
    "mexicanisms = frequentwds.sort_values(by='P(MX|word)', ascending=False)\n",
    "mexicanisms.head(10)"
   ]
  },
  {
   "cell_type": "markdown",
   "metadata": {
    "slideshow": {
     "slide_type": "skip"
    }
   },
   "source": [
    "## fig 2: keywords for Alexa"
   ]
  },
  {
   "cell_type": "code",
   "execution_count": 138,
   "metadata": {
    "slideshow": {
     "slide_type": "skip"
    }
   },
   "outputs": [],
   "source": [
    "#Create a figure displaying the top 10 words that predict MX\n",
    "data = mexicanisms.head(10)\n",
    "\n",
    "#add translations, for an English-speaking audience\n",
    "translation = ['\"hold on\"', '\"wow!\"', '\"hurry up\"', '\"come again?\"', '\"come here\"', '\"tell me\"', '\"tell them\"', '\"in a sec\"', '\"come, come\"', '\"(do you) think\"']\n",
    "data.insert(0, 'translation', translation)"
   ]
  },
  {
   "cell_type": "code",
   "execution_count": 139,
   "metadata": {
    "slideshow": {
     "slide_type": "skip"
    }
   },
   "outputs": [
    {
     "name": "stderr",
     "output_type": "stream",
     "text": [
      "/home/jovyan/conda-envs/capstone-dev/lib/python3.7/site-packages/ipykernel_launcher.py:1: SettingWithCopyWarning: \n",
      "A value is trying to be set on a copy of a slice from a DataFrame.\n",
      "Try using .loc[row_indexer,col_indexer] = value instead\n",
      "\n",
      "See the caveats in the documentation: https://pandas.pydata.org/pandas-docs/stable/user_guide/indexing.html#returning-a-view-versus-a-copy\n",
      "  \"\"\"Entry point for launching an IPython kernel.\n"
     ]
    }
   ],
   "source": [
    "data['word/translation'] = data[['translation','word']].agg(':   '.join, axis=1)"
   ]
  },
  {
   "cell_type": "code",
   "execution_count": 140,
   "metadata": {
    "slideshow": {
     "slide_type": "skip"
    }
   },
   "outputs": [
    {
     "data": {
      "text/html": [
       "<div>\n",
       "<style scoped>\n",
       "    .dataframe tbody tr th:only-of-type {\n",
       "        vertical-align: middle;\n",
       "    }\n",
       "\n",
       "    .dataframe tbody tr th {\n",
       "        vertical-align: top;\n",
       "    }\n",
       "\n",
       "    .dataframe thead th {\n",
       "        text-align: right;\n",
       "    }\n",
       "</style>\n",
       "<table border=\"1\" class=\"dataframe\">\n",
       "  <thead>\n",
       "    <tr style=\"text-align: right;\">\n",
       "      <th></th>\n",
       "      <th>translation</th>\n",
       "      <th>word</th>\n",
       "      <th>count</th>\n",
       "      <th>logP(word|MX)</th>\n",
       "      <th>logP(word|nonMX)</th>\n",
       "      <th>logP(word)</th>\n",
       "      <th>logP(MX|word)</th>\n",
       "      <th>logP(nonMX|word)</th>\n",
       "      <th>P(MX|word)</th>\n",
       "      <th>P(nonMX|word)</th>\n",
       "      <th>word/translation</th>\n",
       "    </tr>\n",
       "  </thead>\n",
       "  <tbody>\n",
       "    <tr>\n",
       "      <th>39720</th>\n",
       "      <td>\"hold on\"</td>\n",
       "      <td>espérame</td>\n",
       "      <td>109</td>\n",
       "      <td>-8.740855</td>\n",
       "      <td>-11.674318</td>\n",
       "      <td>-7.912003</td>\n",
       "      <td>-1.471779</td>\n",
       "      <td>-4.508338</td>\n",
       "      <td>0.229517</td>\n",
       "      <td>0.011017</td>\n",
       "      <td>\"hold on\":   espérame</td>\n",
       "    </tr>\n",
       "    <tr>\n",
       "      <th>111239</th>\n",
       "      <td>\"wow!\"</td>\n",
       "      <td>órale</td>\n",
       "      <td>190</td>\n",
       "      <td>-8.195243</td>\n",
       "      <td>-11.856640</td>\n",
       "      <td>-7.356327</td>\n",
       "      <td>-1.481844</td>\n",
       "      <td>-5.246336</td>\n",
       "      <td>0.227218</td>\n",
       "      <td>0.005267</td>\n",
       "      <td>\"wow!\":   órale</td>\n",
       "    </tr>\n",
       "    <tr>\n",
       "      <th>110391</th>\n",
       "      <td>\"hurry up\"</td>\n",
       "      <td>ándale</td>\n",
       "      <td>241</td>\n",
       "      <td>-7.962911</td>\n",
       "      <td>-11.856640</td>\n",
       "      <td>-7.118554</td>\n",
       "      <td>-1.487285</td>\n",
       "      <td>-5.484109</td>\n",
       "      <td>0.225985</td>\n",
       "      <td>0.004152</td>\n",
       "      <td>\"hurry up\":   ándale</td>\n",
       "    </tr>\n",
       "    <tr>\n",
       "      <th>60175</th>\n",
       "      <td>\"come again?\"</td>\n",
       "      <td>mande</td>\n",
       "      <td>124</td>\n",
       "      <td>-8.631961</td>\n",
       "      <td>-11.386636</td>\n",
       "      <td>-7.783069</td>\n",
       "      <td>-1.491819</td>\n",
       "      <td>-4.349590</td>\n",
       "      <td>0.224963</td>\n",
       "      <td>0.012912</td>\n",
       "      <td>\"come again?\":   mande</td>\n",
       "    </tr>\n",
       "    <tr>\n",
       "      <th>104762</th>\n",
       "      <td>\"come here\"</td>\n",
       "      <td>vente</td>\n",
       "      <td>153</td>\n",
       "      <td>-8.431290</td>\n",
       "      <td>-11.268853</td>\n",
       "      <td>-7.572913</td>\n",
       "      <td>-1.501304</td>\n",
       "      <td>-4.441963</td>\n",
       "      <td>0.222839</td>\n",
       "      <td>0.011773</td>\n",
       "      <td>\"come here\":   vente</td>\n",
       "    </tr>\n",
       "    <tr>\n",
       "      <th>32393</th>\n",
       "      <td>\"tell me\"</td>\n",
       "      <td>dime</td>\n",
       "      <td>230</td>\n",
       "      <td>-8.034521</td>\n",
       "      <td>-11.068183</td>\n",
       "      <td>-7.165272</td>\n",
       "      <td>-1.512176</td>\n",
       "      <td>-4.648934</td>\n",
       "      <td>0.220430</td>\n",
       "      <td>0.009572</td>\n",
       "      <td>\"tell me\":   dime</td>\n",
       "    </tr>\n",
       "    <tr>\n",
       "      <th>32234</th>\n",
       "      <td>\"tell them\"</td>\n",
       "      <td>dile</td>\n",
       "      <td>311</td>\n",
       "      <td>-7.734901</td>\n",
       "      <td>-10.981171</td>\n",
       "      <td>-6.863558</td>\n",
       "      <td>-1.514271</td>\n",
       "      <td>-4.863636</td>\n",
       "      <td>0.219969</td>\n",
       "      <td>0.007722</td>\n",
       "      <td>\"tell them\":   dile</td>\n",
       "    </tr>\n",
       "    <tr>\n",
       "      <th>5967</th>\n",
       "      <td>\"in a sec\"</td>\n",
       "      <td>ahorita</td>\n",
       "      <td>439</td>\n",
       "      <td>-7.392897</td>\n",
       "      <td>-10.827021</td>\n",
       "      <td>-6.518852</td>\n",
       "      <td>-1.516973</td>\n",
       "      <td>-5.054192</td>\n",
       "      <td>0.219375</td>\n",
       "      <td>0.006383</td>\n",
       "      <td>\"in a sec\":   ahorita</td>\n",
       "    </tr>\n",
       "    <tr>\n",
       "      <th>104318</th>\n",
       "      <td>\"come, come\"</td>\n",
       "      <td>ven ven</td>\n",
       "      <td>132</td>\n",
       "      <td>-8.608430</td>\n",
       "      <td>-10.901129</td>\n",
       "      <td>-7.720549</td>\n",
       "      <td>-1.530809</td>\n",
       "      <td>-3.926602</td>\n",
       "      <td>0.216361</td>\n",
       "      <td>0.019711</td>\n",
       "      <td>\"come, come\":   ven ven</td>\n",
       "    </tr>\n",
       "    <tr>\n",
       "      <th>25729</th>\n",
       "      <td>\"(do you) think\"</td>\n",
       "      <td>crees</td>\n",
       "      <td>168</td>\n",
       "      <td>-8.431290</td>\n",
       "      <td>-10.288024</td>\n",
       "      <td>-7.479387</td>\n",
       "      <td>-1.594831</td>\n",
       "      <td>-3.554660</td>\n",
       "      <td>0.202943</td>\n",
       "      <td>0.028591</td>\n",
       "      <td>\"(do you) think\":   crees</td>\n",
       "    </tr>\n",
       "  </tbody>\n",
       "</table>\n",
       "</div>"
      ],
      "text/plain": [
       "             translation      word  count  logP(word|MX)  logP(word|nonMX)  \\\n",
       "39720          \"hold on\"  espérame    109      -8.740855        -11.674318   \n",
       "111239            \"wow!\"     órale    190      -8.195243        -11.856640   \n",
       "110391        \"hurry up\"    ándale    241      -7.962911        -11.856640   \n",
       "60175      \"come again?\"     mande    124      -8.631961        -11.386636   \n",
       "104762       \"come here\"     vente    153      -8.431290        -11.268853   \n",
       "32393          \"tell me\"      dime    230      -8.034521        -11.068183   \n",
       "32234        \"tell them\"      dile    311      -7.734901        -10.981171   \n",
       "5967          \"in a sec\"   ahorita    439      -7.392897        -10.827021   \n",
       "104318      \"come, come\"   ven ven    132      -8.608430        -10.901129   \n",
       "25729   \"(do you) think\"     crees    168      -8.431290        -10.288024   \n",
       "\n",
       "        logP(word)  logP(MX|word)  logP(nonMX|word)  P(MX|word)  \\\n",
       "39720    -7.912003      -1.471779         -4.508338    0.229517   \n",
       "111239   -7.356327      -1.481844         -5.246336    0.227218   \n",
       "110391   -7.118554      -1.487285         -5.484109    0.225985   \n",
       "60175    -7.783069      -1.491819         -4.349590    0.224963   \n",
       "104762   -7.572913      -1.501304         -4.441963    0.222839   \n",
       "32393    -7.165272      -1.512176         -4.648934    0.220430   \n",
       "32234    -6.863558      -1.514271         -4.863636    0.219969   \n",
       "5967     -6.518852      -1.516973         -5.054192    0.219375   \n",
       "104318   -7.720549      -1.530809         -3.926602    0.216361   \n",
       "25729    -7.479387      -1.594831         -3.554660    0.202943   \n",
       "\n",
       "        P(nonMX|word)           word/translation  \n",
       "39720        0.011017      \"hold on\":   espérame  \n",
       "111239       0.005267            \"wow!\":   órale  \n",
       "110391       0.004152       \"hurry up\":   ándale  \n",
       "60175        0.012912     \"come again?\":   mande  \n",
       "104762       0.011773       \"come here\":   vente  \n",
       "32393        0.009572          \"tell me\":   dime  \n",
       "32234        0.007722        \"tell them\":   dile  \n",
       "5967         0.006383      \"in a sec\":   ahorita  \n",
       "104318       0.019711    \"come, come\":   ven ven  \n",
       "25729        0.028591  \"(do you) think\":   crees  "
      ]
     },
     "execution_count": 140,
     "metadata": {},
     "output_type": "execute_result"
    }
   ],
   "source": [
    "data"
   ]
  },
  {
   "cell_type": "code",
   "execution_count": 141,
   "metadata": {
    "slideshow": {
     "slide_type": "skip"
    }
   },
   "outputs": [],
   "source": [
    "\n",
    "predictMX = alt.Chart(data).mark_bar().encode(\n",
    "    x = 'P(MX|word)',\n",
    "    y = alt.Y('word/translation:N', sort = '-x', title=None)\n",
    ").properties(title=\"Strongest predictors of Mexican Spanish\"\n",
    ").configure_title(fontSize=24\n",
    ").configure_axis(\n",
    "    titleFontSize=12,\n",
    "    labelFontSize=16\n",
    ")"
   ]
  },
  {
   "cell_type": "code",
   "execution_count": 142,
   "metadata": {
    "slideshow": {
     "slide_type": "slide"
    }
   },
   "outputs": [
    {
     "data": {
      "text/html": [
       "\n",
       "<div id=\"altair-viz-2dfaadfdaf4c45529624cc2772290a37\"></div>\n",
       "<script type=\"text/javascript\">\n",
       "  (function(spec, embedOpt){\n",
       "    let outputDiv = document.currentScript.previousElementSibling;\n",
       "    if (outputDiv.id !== \"altair-viz-2dfaadfdaf4c45529624cc2772290a37\") {\n",
       "      outputDiv = document.getElementById(\"altair-viz-2dfaadfdaf4c45529624cc2772290a37\");\n",
       "    }\n",
       "    const paths = {\n",
       "      \"vega\": \"https://cdn.jsdelivr.net/npm//vega@5?noext\",\n",
       "      \"vega-lib\": \"https://cdn.jsdelivr.net/npm//vega-lib?noext\",\n",
       "      \"vega-lite\": \"https://cdn.jsdelivr.net/npm//vega-lite@4.8.1?noext\",\n",
       "      \"vega-embed\": \"https://cdn.jsdelivr.net/npm//vega-embed@6?noext\",\n",
       "    };\n",
       "\n",
       "    function loadScript(lib) {\n",
       "      return new Promise(function(resolve, reject) {\n",
       "        var s = document.createElement('script');\n",
       "        s.src = paths[lib];\n",
       "        s.async = true;\n",
       "        s.onload = () => resolve(paths[lib]);\n",
       "        s.onerror = () => reject(`Error loading script: ${paths[lib]}`);\n",
       "        document.getElementsByTagName(\"head\")[0].appendChild(s);\n",
       "      });\n",
       "    }\n",
       "\n",
       "    function showError(err) {\n",
       "      outputDiv.innerHTML = `<div class=\"error\" style=\"color:red;\">${err}</div>`;\n",
       "      throw err;\n",
       "    }\n",
       "\n",
       "    function displayChart(vegaEmbed) {\n",
       "      vegaEmbed(outputDiv, spec, embedOpt)\n",
       "        .catch(err => showError(`Javascript Error: ${err.message}<br>This usually means there's a typo in your chart specification. See the javascript console for the full traceback.`));\n",
       "    }\n",
       "\n",
       "    if(typeof define === \"function\" && define.amd) {\n",
       "      requirejs.config({paths});\n",
       "      require([\"vega-embed\"], displayChart, err => showError(`Error loading script: ${err.message}`));\n",
       "    } else if (typeof vegaEmbed === \"function\") {\n",
       "      displayChart(vegaEmbed);\n",
       "    } else {\n",
       "      loadScript(\"vega\")\n",
       "        .then(() => loadScript(\"vega-lite\"))\n",
       "        .then(() => loadScript(\"vega-embed\"))\n",
       "        .catch(showError)\n",
       "        .then(() => displayChart(vegaEmbed));\n",
       "    }\n",
       "  })({\"config\": {\"view\": {\"continuousWidth\": 400, \"continuousHeight\": 300}, \"axis\": {\"labelFontSize\": 16, \"titleFontSize\": 12}, \"title\": {\"fontSize\": 24}}, \"data\": {\"name\": \"data-3cd2bf26053c911718df8375fd698951\"}, \"mark\": \"bar\", \"encoding\": {\"x\": {\"type\": \"quantitative\", \"field\": \"P(MX|word)\"}, \"y\": {\"type\": \"nominal\", \"field\": \"word/translation\", \"sort\": \"-x\", \"title\": null}}, \"title\": \"Strongest predictors of Mexican Spanish\", \"$schema\": \"https://vega.github.io/schema/vega-lite/v4.8.1.json\", \"datasets\": {\"data-3cd2bf26053c911718df8375fd698951\": [{\"translation\": \"\\\"hold on\\\"\", \"word\": \"esp\\u00e9rame\", \"count\": 109, \"logP(word|MX)\": -8.740854838584104, \"logP(word|nonMX)\": -11.674318427471682, \"logP(word)\": -7.9120031178723, \"logP(MX|word)\": -1.4717792202639997, \"logP(nonMX|word)\": -4.5083381579857305, \"P(MX|word)\": 0.2295167608174321, \"P(nonMX|word)\": 0.011016753074763342, \"word/translation\": \"\\\"hold on\\\":   esp\\u00e9rame\"}, {\"translation\": \"\\\"wow!\\\"\", \"word\": \"\\u00f3rale\", \"count\": 190, \"logP(word|MX)\": -8.195243098732698, \"logP(word|nonMX)\": -11.856639984265637, \"logP(word)\": -7.356326927940958, \"logP(MX|word)\": -1.4818436703439355, \"logP(nonMX|word)\": -5.246335904711027, \"P(MX|word)\": 0.22721838617487292, \"P(nonMX|word)\": 0.00526678107521581, \"word/translation\": \"\\\"wow!\\\":   \\u00f3rale\"}, {\"translation\": \"\\\"hurry up\\\"\", \"word\": \"\\u00e1ndale\", \"count\": 241, \"logP(word|MX)\": -7.962911121364082, \"logP(word|nonMX)\": -11.856639984265637, \"logP(word)\": -7.1185540666107885, \"logP(MX|word)\": -1.4872845543054884, \"logP(nonMX|word)\": -5.484108766041197, \"P(MX|word)\": 0.22598547440820424, \"P(nonMX|word)\": 0.004152234042701259, \"word/translation\": \"\\\"hurry up\\\":   \\u00e1ndale\"}, {\"translation\": \"\\\"come again?\\\"\", \"word\": \"mande\", \"count\": 124, \"logP(word|MX)\": -8.631960750344966, \"logP(word|nonMX)\": -11.3866363550199, \"logP(word)\": -7.783069434496407, \"logP(MX|word)\": -1.4918188154007543, \"logP(nonMX|word)\": -4.3495897689098415, \"P(MX|word)\": 0.22496311683318698, \"P(nonMX|word)\": 0.012912108442464579, \"word/translation\": \"\\\"come again?\\\":   mande\"}, {\"translation\": \"\\\"come here\\\"\", \"word\": \"vente\", \"count\": 153, \"logP(word|MX)\": -8.431290054882815, \"logP(word|nonMX)\": -11.268853319363517, \"logP(word)\": -7.572913078709008, \"logP(MX|word)\": -1.5013044757260028, \"logP(nonMX|word)\": -4.441963089040857, \"P(MX|word)\": 0.2228392820337449, \"P(nonMX|word)\": 0.01177280475636476, \"word/translation\": \"\\\"come here\\\":   vente\"}, {\"translation\": \"\\\"tell me\\\"\", \"word\": \"dime\", \"count\": 230, \"logP(word|MX)\": -8.034520653742206, \"logP(word|nonMX)\": -11.068182623901366, \"logP(word)\": -7.165271691178249, \"logP(MX|word)\": -1.5121764621161526, \"logP(nonMX|word)\": -4.6489337811094655, \"P(MX|word)\": 0.2204296986057684, \"P(nonMX|word)\": 0.009571802128000914, \"word/translation\": \"\\\"tell me\\\":   dime\"}, {\"translation\": \"\\\"tell them\\\"\", \"word\": \"dile\", \"count\": 311, \"logP(word|MX)\": -7.734901380398699, \"logP(word|nonMX)\": -10.981171246911737, \"logP(word)\": -6.863558087922209, \"logP(MX|word)\": -1.5142707920286842, \"logP(nonMX|word)\": -4.8636360073758755, \"P(MX|word)\": 0.21996852918339183, \"P(nonMX|word)\": 0.007722354245332504, \"word/translation\": \"\\\"tell them\\\":   dile\"}, {\"translation\": \"\\\"in a sec\\\"\", \"word\": \"ahorita\", \"count\": 439, \"logP(word|MX)\": -7.392896626207761, \"logP(word|nonMX)\": -10.827020567084478, \"logP(word)\": -6.518851587026273, \"logP(MX|word)\": -1.5169725387336825, \"logP(nonMX|word)\": -5.054191828444553, \"P(MX|word)\": 0.21937503203496597, \"P(nonMX|word)\": 0.006382522851969962, \"word/translation\": \"\\\"in a sec\\\":   ahorita\"}, {\"translation\": \"\\\"come, come\\\"\", \"word\": \"ven ven\", \"count\": 132, \"logP(word|MX)\": -8.608430252934774, \"logP(word|nonMX)\": -10.9011285392382, \"logP(word)\": -7.720549077515073, \"logP(MX|word)\": -1.5308086749718965, \"logP(nonMX|word)\": -3.926602310109476, \"P(MX|word)\": 0.2163606311245581, \"P(nonMX|word)\": 0.01971052917542886, \"word/translation\": \"\\\"come, come\\\":   ven ven\"}, {\"translation\": \"\\\"(do you) think\\\"\", \"word\": \"crees\", \"count\": 168, \"logP(word|MX)\": -8.431290054882815, \"logP(word|nonMX)\": -10.288024066351792, \"logP(word)\": -7.4793870206981845, \"logP(MX|word)\": -1.5948305337368263, \"logP(nonMX|word)\": -3.554659894039955, \"P(MX|word)\": 0.20294291756644625, \"P(nonMX|word)\": 0.02859109726545725, \"word/translation\": \"\\\"(do you) think\\\":   crees\"}]}}, {\"mode\": \"vega-lite\"});\n",
       "</script>"
      ],
      "text/plain": [
       "alt.Chart(...)"
      ]
     },
     "execution_count": 142,
     "metadata": {},
     "output_type": "execute_result"
    }
   ],
   "source": [
    "predictMX"
   ]
  },
  {
   "cell_type": "markdown",
   "metadata": {
    "slideshow": {
     "slide_type": "skip"
    }
   },
   "source": [
    "# Model performance"
   ]
  },
  {
   "cell_type": "markdown",
   "metadata": {
    "slideshow": {
     "slide_type": "skip"
    }
   },
   "source": [
    "In the first sub-section (\"confusion matrix\"), we use the model's confusion matrix to calculate its precision and recall. In the next sub-section (\"fig 3\") we visualize the model's accuracy, since this is more intuitive for non-experts. Currently, the model has low precision (it is calling too many things Mexican Spanish) so its accuracy is much higher for Mexican test sentences than for non-Mexican test sentences. Intuitively, this makes sense because the non-Mexican sentences are more heterogeneous--there is only one way to be Mexican Spanish, but there are many ways to be non-Mexican Spanish."
   ]
  },
  {
   "cell_type": "markdown",
   "metadata": {
    "slideshow": {
     "slide_type": "skip"
    }
   },
   "source": [
    "## confusion matrix"
   ]
  },
  {
   "cell_type": "code",
   "execution_count": 164,
   "metadata": {
    "slideshow": {
     "slide_type": "skip"
    }
   },
   "outputs": [],
   "source": [
    "#Fit the model on the (dev) test set\n",
    "predictions = classifier.predict(test_input)"
   ]
  },
  {
   "cell_type": "code",
   "execution_count": 165,
   "metadata": {
    "slideshow": {
     "slide_type": "skip"
    }
   },
   "outputs": [],
   "source": [
    "# calculate the confusion matrix: \n",
    "\n",
    "tn, fp, fn, tp = confusion_matrix(test_target, predictions).ravel()"
   ]
  },
  {
   "cell_type": "code",
   "execution_count": 145,
   "metadata": {
    "slideshow": {
     "slide_type": "skip"
    }
   },
   "outputs": [
    {
     "name": "stdout",
     "output_type": "stream",
     "text": [
      "Precision (33593 True positives vs. 20181 False positives): 62.47%\n",
      "Recall (33593 True positives vs. 4565 False negatives): 88.04%\n"
     ]
    }
   ],
   "source": [
    "# calculate precision and recall \n",
    "print(f'Precision ({tp} True positives vs. {fp} False positives): {round(tp/(tp+fp)*100, 2)}%'\n",
    "      + '\\n'\n",
    "      + f'Recall ({tp} True positives vs. {fn} False negatives): {round(tp/(tp+fn)*100, 2)}%')"
   ]
  },
  {
   "cell_type": "markdown",
   "metadata": {
    "slideshow": {
     "slide_type": "slide"
    }
   },
   "source": [
    "## fig 3: Better performance with Mexican Spanish"
   ]
  },
  {
   "cell_type": "code",
   "execution_count": 146,
   "metadata": {
    "slideshow": {
     "slide_type": "skip"
    }
   },
   "outputs": [],
   "source": [
    "#visualize accuracy\n",
    "performance = {\"count\": [tp, fp, tn, fn], \n",
    "               \"correct prediction?\": [\"yes\", \"no\", \"yes\", \"no\"],\n",
    "               \"correctness\": [\"correct\", \"incorrect\", \"correct\", \"incorrect\"],\n",
    "               \"dialect\": [\"Mexican\", \"Other dialects\", \"Other dialects\", \"Mexican\"]}\n",
    "\n",
    "performance = pd.DataFrame(performance)"
   ]
  },
  {
   "cell_type": "code",
   "execution_count": 147,
   "metadata": {
    "slideshow": {
     "slide_type": "skip"
    }
   },
   "outputs": [],
   "source": [
    "performancechart = alt.Chart(performance).mark_bar().encode(\n",
    "    y = alt.Y('dialect:N', title=None),\n",
    "    x = alt.X('count:Q', stack='normalize', title=None),\n",
    "    color = 'correct prediction?:N'\n",
    ").properties(title=\"Overall accuracy\"\n",
    ").configure_title(fontSize=24\n",
    ").configure_axis(\n",
    "    titleFontSize=12,\n",
    "    labelFontSize=16\n",
    ")"
   ]
  },
  {
   "cell_type": "code",
   "execution_count": 148,
   "metadata": {
    "slideshow": {
     "slide_type": "fragment"
    }
   },
   "outputs": [
    {
     "data": {
      "text/html": [
       "\n",
       "<div id=\"altair-viz-e7bfbcff7cf84e72ac3d65d5d5d16254\"></div>\n",
       "<script type=\"text/javascript\">\n",
       "  (function(spec, embedOpt){\n",
       "    let outputDiv = document.currentScript.previousElementSibling;\n",
       "    if (outputDiv.id !== \"altair-viz-e7bfbcff7cf84e72ac3d65d5d5d16254\") {\n",
       "      outputDiv = document.getElementById(\"altair-viz-e7bfbcff7cf84e72ac3d65d5d5d16254\");\n",
       "    }\n",
       "    const paths = {\n",
       "      \"vega\": \"https://cdn.jsdelivr.net/npm//vega@5?noext\",\n",
       "      \"vega-lib\": \"https://cdn.jsdelivr.net/npm//vega-lib?noext\",\n",
       "      \"vega-lite\": \"https://cdn.jsdelivr.net/npm//vega-lite@4.8.1?noext\",\n",
       "      \"vega-embed\": \"https://cdn.jsdelivr.net/npm//vega-embed@6?noext\",\n",
       "    };\n",
       "\n",
       "    function loadScript(lib) {\n",
       "      return new Promise(function(resolve, reject) {\n",
       "        var s = document.createElement('script');\n",
       "        s.src = paths[lib];\n",
       "        s.async = true;\n",
       "        s.onload = () => resolve(paths[lib]);\n",
       "        s.onerror = () => reject(`Error loading script: ${paths[lib]}`);\n",
       "        document.getElementsByTagName(\"head\")[0].appendChild(s);\n",
       "      });\n",
       "    }\n",
       "\n",
       "    function showError(err) {\n",
       "      outputDiv.innerHTML = `<div class=\"error\" style=\"color:red;\">${err}</div>`;\n",
       "      throw err;\n",
       "    }\n",
       "\n",
       "    function displayChart(vegaEmbed) {\n",
       "      vegaEmbed(outputDiv, spec, embedOpt)\n",
       "        .catch(err => showError(`Javascript Error: ${err.message}<br>This usually means there's a typo in your chart specification. See the javascript console for the full traceback.`));\n",
       "    }\n",
       "\n",
       "    if(typeof define === \"function\" && define.amd) {\n",
       "      requirejs.config({paths});\n",
       "      require([\"vega-embed\"], displayChart, err => showError(`Error loading script: ${err.message}`));\n",
       "    } else if (typeof vegaEmbed === \"function\") {\n",
       "      displayChart(vegaEmbed);\n",
       "    } else {\n",
       "      loadScript(\"vega\")\n",
       "        .then(() => loadScript(\"vega-lite\"))\n",
       "        .then(() => loadScript(\"vega-embed\"))\n",
       "        .catch(showError)\n",
       "        .then(() => displayChart(vegaEmbed));\n",
       "    }\n",
       "  })({\"config\": {\"view\": {\"continuousWidth\": 400, \"continuousHeight\": 300}, \"axis\": {\"labelFontSize\": 16, \"titleFontSize\": 12}, \"title\": {\"fontSize\": 24}}, \"data\": {\"name\": \"data-8af04c4e9514ca58ee13499cb9c7cc6a\"}, \"mark\": \"bar\", \"encoding\": {\"color\": {\"type\": \"nominal\", \"field\": \"correct prediction?\"}, \"x\": {\"type\": \"quantitative\", \"field\": \"count\", \"stack\": \"normalize\", \"title\": null}, \"y\": {\"type\": \"nominal\", \"field\": \"dialect\", \"title\": null}}, \"title\": \"Overall accuracy\", \"$schema\": \"https://vega.github.io/schema/vega-lite/v4.8.1.json\", \"datasets\": {\"data-8af04c4e9514ca58ee13499cb9c7cc6a\": [{\"count\": 33593, \"correct prediction?\": \"yes\", \"correctness\": \"correct\", \"dialect\": \"Mexican\"}, {\"count\": 20181, \"correct prediction?\": \"no\", \"correctness\": \"incorrect\", \"dialect\": \"Other dialects\"}, {\"count\": 18756, \"correct prediction?\": \"yes\", \"correctness\": \"correct\", \"dialect\": \"Other dialects\"}, {\"count\": 4565, \"correct prediction?\": \"no\", \"correctness\": \"incorrect\", \"dialect\": \"Mexican\"}]}}, {\"mode\": \"vega-lite\"});\n",
       "</script>"
      ],
      "text/plain": [
       "alt.Chart(...)"
      ]
     },
     "execution_count": 148,
     "metadata": {},
     "output_type": "execute_result"
    }
   ],
   "source": [
    "performancechart"
   ]
  },
  {
   "cell_type": "markdown",
   "metadata": {
    "slideshow": {
     "slide_type": "skip"
    }
   },
   "source": [
    "## Follow-up: performance by sentence length"
   ]
  },
  {
   "cell_type": "markdown",
   "metadata": {
    "slideshow": {
     "slide_type": "skip"
    }
   },
   "source": [
    "As a follow-up, we would like to see whether the model is more accurate for longer sentences. (Perhaps the accuracy with non-Mexican sentences is not so bad for longer sentences.) The line graph in this sub-section indicates that precision gets better for a while, but then peaks at 8-20 words, after which point both precision _and_ recall drop off.\n",
    "\n",
    "For purposes of presentation to non-technical audiences, we also create a version of fig. 3 that only includes sentences of length >3."
   ]
  },
  {
   "cell_type": "code",
   "execution_count": 149,
   "metadata": {
    "slideshow": {
     "slide_type": "skip"
    }
   },
   "outputs": [],
   "source": [
    "#Create a dataframe comparing predictions to target on THE TEST DATA\n",
    "sntc_perf = pd.DataFrame(zip(test_input, predictions, test_target), columns=['test_sentence', 'prediction', 'target'])"
   ]
  },
  {
   "cell_type": "code",
   "execution_count": 150,
   "metadata": {
    "slideshow": {
     "slide_type": "skip"
    }
   },
   "outputs": [],
   "source": [
    "# Insert a column for sentence length\n",
    "length = [len(sentence.split()) for sentence in sntc_perf['test_sentence']]\n",
    "sntc_perf.insert(1, 'length', length)"
   ]
  },
  {
   "cell_type": "code",
   "execution_count": 151,
   "metadata": {
    "slideshow": {
     "slide_type": "skip"
    }
   },
   "outputs": [
    {
     "data": {
      "text/html": [
       "<div>\n",
       "<style scoped>\n",
       "    .dataframe tbody tr th:only-of-type {\n",
       "        vertical-align: middle;\n",
       "    }\n",
       "\n",
       "    .dataframe tbody tr th {\n",
       "        vertical-align: top;\n",
       "    }\n",
       "\n",
       "    .dataframe thead th {\n",
       "        text-align: right;\n",
       "    }\n",
       "</style>\n",
       "<table border=\"1\" class=\"dataframe\">\n",
       "  <thead>\n",
       "    <tr style=\"text-align: right;\">\n",
       "      <th></th>\n",
       "      <th>test_sentence</th>\n",
       "      <th>length</th>\n",
       "      <th>prediction</th>\n",
       "      <th>target</th>\n",
       "      <th>cat_length</th>\n",
       "    </tr>\n",
       "  </thead>\n",
       "  <tbody>\n",
       "    <tr>\n",
       "      <th>0</th>\n",
       "      <td>en Oviedo ?</td>\n",
       "      <td>3</td>\n",
       "      <td>False</td>\n",
       "      <td>False</td>\n",
       "      <td>x_short</td>\n",
       "    </tr>\n",
       "    <tr>\n",
       "      <th>1</th>\n",
       "      <td>dos (.) &lt;a ver&gt; [/] a_ver (.) qué son estos ?</td>\n",
       "      <td>11</td>\n",
       "      <td>True</td>\n",
       "      <td>False</td>\n",
       "      <td>mid</td>\n",
       "    </tr>\n",
       "    <tr>\n",
       "      <th>2</th>\n",
       "      <td>sí [/] sí .</td>\n",
       "      <td>4</td>\n",
       "      <td>True</td>\n",
       "      <td>False</td>\n",
       "      <td>short</td>\n",
       "    </tr>\n",
       "    <tr>\n",
       "      <th>3</th>\n",
       "      <td>muy bien .</td>\n",
       "      <td>3</td>\n",
       "      <td>True</td>\n",
       "      <td>False</td>\n",
       "      <td>x_short</td>\n",
       "    </tr>\n",
       "    <tr>\n",
       "      <th>4</th>\n",
       "      <td>venga .</td>\n",
       "      <td>2</td>\n",
       "      <td>False</td>\n",
       "      <td>False</td>\n",
       "      <td>x_short</td>\n",
       "    </tr>\n",
       "    <tr>\n",
       "      <th>5</th>\n",
       "      <td>claro (.) a qué es chulo (.) eh ?</td>\n",
       "      <td>9</td>\n",
       "      <td>False</td>\n",
       "      <td>False</td>\n",
       "      <td>mid</td>\n",
       "    </tr>\n",
       "    <tr>\n",
       "      <th>6</th>\n",
       "      <td>está ya puesta (.) venga (.) me vas a contar e...</td>\n",
       "      <td>13</td>\n",
       "      <td>False</td>\n",
       "      <td>False</td>\n",
       "      <td>mid</td>\n",
       "    </tr>\n",
       "    <tr>\n",
       "      <th>7</th>\n",
       "      <td>venga (.) ven (.) ven (.) ven !</td>\n",
       "      <td>8</td>\n",
       "      <td>True</td>\n",
       "      <td>False</td>\n",
       "      <td>short</td>\n",
       "    </tr>\n",
       "    <tr>\n",
       "      <th>8</th>\n",
       "      <td>te lo voy a contar (.) venga .</td>\n",
       "      <td>8</td>\n",
       "      <td>False</td>\n",
       "      <td>False</td>\n",
       "      <td>short</td>\n",
       "    </tr>\n",
       "    <tr>\n",
       "      <th>9</th>\n",
       "      <td>se lo pides a (.) mamá .</td>\n",
       "      <td>7</td>\n",
       "      <td>False</td>\n",
       "      <td>False</td>\n",
       "      <td>short</td>\n",
       "    </tr>\n",
       "  </tbody>\n",
       "</table>\n",
       "</div>"
      ],
      "text/plain": [
       "                                       test_sentence  length  prediction  \\\n",
       "0                                        en Oviedo ?       3       False   \n",
       "1      dos (.) <a ver> [/] a_ver (.) qué son estos ?      11        True   \n",
       "2                                        sí [/] sí .       4        True   \n",
       "3                                         muy bien .       3        True   \n",
       "4                                            venga .       2       False   \n",
       "5                  claro (.) a qué es chulo (.) eh ?       9       False   \n",
       "6  está ya puesta (.) venga (.) me vas a contar e...      13       False   \n",
       "7                    venga (.) ven (.) ven (.) ven !       8        True   \n",
       "8                     te lo voy a contar (.) venga .       8       False   \n",
       "9                           se lo pides a (.) mamá .       7       False   \n",
       "\n",
       "   target cat_length  \n",
       "0   False    x_short  \n",
       "1   False        mid  \n",
       "2   False      short  \n",
       "3   False    x_short  \n",
       "4   False    x_short  \n",
       "5   False        mid  \n",
       "6   False        mid  \n",
       "7   False      short  \n",
       "8   False      short  \n",
       "9   False      short  "
      ]
     },
     "execution_count": 151,
     "metadata": {},
     "output_type": "execute_result"
    }
   ],
   "source": [
    "#Split by sentence length (extra-short: 1-3, short: 4-8, mid: 8-20, long: 21-33, extra-long: 34+)\n",
    "labs = ['x_short', 'short', 'mid', 'long', 'x_long']\n",
    "bins =[0, 3, 8, 20, 33, 500]\n",
    "sntc_perf['cat_length'] = pd.cut(sntc_perf['length'], bins=bins, labels=labs)\n",
    "\n",
    "sntc_perf.head(10)"
   ]
  },
  {
   "cell_type": "code",
   "execution_count": 152,
   "metadata": {
    "slideshow": {
     "slide_type": "skip"
    }
   },
   "outputs": [],
   "source": [
    "#Calculate confusion matrices by sentence length\n",
    "\n",
    "lengths = labs #each different sentence length\n",
    "n = [] #number of sentences of each length\n",
    "precision = [] #precision at this length\n",
    "recall = [] #recall at this length\n",
    "\n",
    "for interval in lengths:\n",
    "    df = sntc_perf[sntc_perf['cat_length'] == interval]\n",
    "    tn, fp, fn, tp = confusion_matrix(df['target'], df['prediction']).ravel()\n",
    "    precision.append(round(tp/(tp+fp), 2))\n",
    "    recall.append(round(tp/(tp+fn), 2))\n",
    "    n.append(sum([tn, fp, fn, tp]))\n",
    " \n",
    "# zip them all up into a df\n",
    "\n",
    "perf_by_length = pd.DataFrame(zip(lengths, n, precision, recall), columns=['length', 'n', 'precision', 'recall'])"
   ]
  },
  {
   "cell_type": "code",
   "execution_count": 153,
   "metadata": {
    "slideshow": {
     "slide_type": "skip"
    }
   },
   "outputs": [
    {
     "data": {
      "text/html": [
       "<div>\n",
       "<style scoped>\n",
       "    .dataframe tbody tr th:only-of-type {\n",
       "        vertical-align: middle;\n",
       "    }\n",
       "\n",
       "    .dataframe tbody tr th {\n",
       "        vertical-align: top;\n",
       "    }\n",
       "\n",
       "    .dataframe thead th {\n",
       "        text-align: right;\n",
       "    }\n",
       "</style>\n",
       "<table border=\"1\" class=\"dataframe\">\n",
       "  <thead>\n",
       "    <tr style=\"text-align: right;\">\n",
       "      <th></th>\n",
       "      <th>length</th>\n",
       "      <th>n</th>\n",
       "      <th>precision</th>\n",
       "      <th>recall</th>\n",
       "    </tr>\n",
       "  </thead>\n",
       "  <tbody>\n",
       "    <tr>\n",
       "      <th>0</th>\n",
       "      <td>x_short</td>\n",
       "      <td>25649</td>\n",
       "      <td>0.56</td>\n",
       "      <td>0.94</td>\n",
       "    </tr>\n",
       "    <tr>\n",
       "      <th>1</th>\n",
       "      <td>short</td>\n",
       "      <td>35909</td>\n",
       "      <td>0.65</td>\n",
       "      <td>0.86</td>\n",
       "    </tr>\n",
       "    <tr>\n",
       "      <th>2</th>\n",
       "      <td>mid</td>\n",
       "      <td>12108</td>\n",
       "      <td>0.73</td>\n",
       "      <td>0.83</td>\n",
       "    </tr>\n",
       "    <tr>\n",
       "      <th>3</th>\n",
       "      <td>long</td>\n",
       "      <td>1890</td>\n",
       "      <td>0.71</td>\n",
       "      <td>0.78</td>\n",
       "    </tr>\n",
       "    <tr>\n",
       "      <th>4</th>\n",
       "      <td>x_long</td>\n",
       "      <td>1534</td>\n",
       "      <td>0.59</td>\n",
       "      <td>0.65</td>\n",
       "    </tr>\n",
       "  </tbody>\n",
       "</table>\n",
       "</div>"
      ],
      "text/plain": [
       "    length      n  precision  recall\n",
       "0  x_short  25649       0.56    0.94\n",
       "1    short  35909       0.65    0.86\n",
       "2      mid  12108       0.73    0.83\n",
       "3     long   1890       0.71    0.78\n",
       "4   x_long   1534       0.59    0.65"
      ]
     },
     "execution_count": 153,
     "metadata": {},
     "output_type": "execute_result"
    }
   ],
   "source": [
    "perf_by_length"
   ]
  },
  {
   "cell_type": "code",
   "execution_count": 154,
   "metadata": {
    "slideshow": {
     "slide_type": "skip"
    }
   },
   "outputs": [
    {
     "data": {
      "text/html": [
       "<div>\n",
       "<style scoped>\n",
       "    .dataframe tbody tr th:only-of-type {\n",
       "        vertical-align: middle;\n",
       "    }\n",
       "\n",
       "    .dataframe tbody tr th {\n",
       "        vertical-align: top;\n",
       "    }\n",
       "\n",
       "    .dataframe thead th {\n",
       "        text-align: right;\n",
       "    }\n",
       "</style>\n",
       "<table border=\"1\" class=\"dataframe\">\n",
       "  <thead>\n",
       "    <tr style=\"text-align: right;\">\n",
       "      <th></th>\n",
       "      <th>sentence_length</th>\n",
       "      <th>variable</th>\n",
       "      <th>value</th>\n",
       "    </tr>\n",
       "  </thead>\n",
       "  <tbody>\n",
       "    <tr>\n",
       "      <th>0</th>\n",
       "      <td>1-3</td>\n",
       "      <td>precision</td>\n",
       "      <td>0.56</td>\n",
       "    </tr>\n",
       "    <tr>\n",
       "      <th>1</th>\n",
       "      <td>4-8</td>\n",
       "      <td>precision</td>\n",
       "      <td>0.65</td>\n",
       "    </tr>\n",
       "    <tr>\n",
       "      <th>2</th>\n",
       "      <td>8-20</td>\n",
       "      <td>precision</td>\n",
       "      <td>0.73</td>\n",
       "    </tr>\n",
       "    <tr>\n",
       "      <th>3</th>\n",
       "      <td>21-33</td>\n",
       "      <td>precision</td>\n",
       "      <td>0.71</td>\n",
       "    </tr>\n",
       "    <tr>\n",
       "      <th>4</th>\n",
       "      <td>34+</td>\n",
       "      <td>precision</td>\n",
       "      <td>0.59</td>\n",
       "    </tr>\n",
       "    <tr>\n",
       "      <th>5</th>\n",
       "      <td>1-3</td>\n",
       "      <td>recall</td>\n",
       "      <td>0.94</td>\n",
       "    </tr>\n",
       "    <tr>\n",
       "      <th>6</th>\n",
       "      <td>4-8</td>\n",
       "      <td>recall</td>\n",
       "      <td>0.86</td>\n",
       "    </tr>\n",
       "    <tr>\n",
       "      <th>7</th>\n",
       "      <td>8-20</td>\n",
       "      <td>recall</td>\n",
       "      <td>0.83</td>\n",
       "    </tr>\n",
       "    <tr>\n",
       "      <th>8</th>\n",
       "      <td>21-33</td>\n",
       "      <td>recall</td>\n",
       "      <td>0.78</td>\n",
       "    </tr>\n",
       "    <tr>\n",
       "      <th>9</th>\n",
       "      <td>34+</td>\n",
       "      <td>recall</td>\n",
       "      <td>0.65</td>\n",
       "    </tr>\n",
       "  </tbody>\n",
       "</table>\n",
       "</div>"
      ],
      "text/plain": [
       "  sentence_length   variable  value\n",
       "0             1-3  precision   0.56\n",
       "1             4-8  precision   0.65\n",
       "2            8-20  precision   0.73\n",
       "3           21-33  precision   0.71\n",
       "4             34+  precision   0.59\n",
       "5             1-3     recall   0.94\n",
       "6             4-8     recall   0.86\n",
       "7            8-20     recall   0.83\n",
       "8           21-33     recall   0.78\n",
       "9             34+     recall   0.65"
      ]
     },
     "execution_count": 154,
     "metadata": {},
     "output_type": "execute_result"
    }
   ],
   "source": [
    "# visualize performance and recall by sentnece length\n",
    "length_in_words = pd.Series(['1-3', '4-8', '8-20', '21-33', '34+']) \n",
    "data = perf_by_length[['precision', 'recall']]\n",
    "data.insert(0, 'sentence_length', length_in_words)\n",
    "data = pd.melt(data, id_vars='sentence_length', value_vars=['precision', 'recall'])\n",
    "data"
   ]
  },
  {
   "cell_type": "code",
   "execution_count": 155,
   "metadata": {
    "slideshow": {
     "slide_type": "skip"
    }
   },
   "outputs": [],
   "source": [
    "performancebylength = alt.Chart(data).mark_line().encode(\n",
    "    x=alt.X('sentence_length', sort=list(length_in_words)),\n",
    "    y='value',\n",
    "    color='variable'\n",
    ").properties(\n",
    "    width=400,\n",
    "    height=200\n",
    ")"
   ]
  },
  {
   "cell_type": "code",
   "execution_count": 156,
   "metadata": {
    "slideshow": {
     "slide_type": "skip"
    }
   },
   "outputs": [
    {
     "data": {
      "text/html": [
       "\n",
       "<div id=\"altair-viz-7d206e63fd4a4f78b4203fcef0ac6c0e\"></div>\n",
       "<script type=\"text/javascript\">\n",
       "  (function(spec, embedOpt){\n",
       "    let outputDiv = document.currentScript.previousElementSibling;\n",
       "    if (outputDiv.id !== \"altair-viz-7d206e63fd4a4f78b4203fcef0ac6c0e\") {\n",
       "      outputDiv = document.getElementById(\"altair-viz-7d206e63fd4a4f78b4203fcef0ac6c0e\");\n",
       "    }\n",
       "    const paths = {\n",
       "      \"vega\": \"https://cdn.jsdelivr.net/npm//vega@5?noext\",\n",
       "      \"vega-lib\": \"https://cdn.jsdelivr.net/npm//vega-lib?noext\",\n",
       "      \"vega-lite\": \"https://cdn.jsdelivr.net/npm//vega-lite@4.8.1?noext\",\n",
       "      \"vega-embed\": \"https://cdn.jsdelivr.net/npm//vega-embed@6?noext\",\n",
       "    };\n",
       "\n",
       "    function loadScript(lib) {\n",
       "      return new Promise(function(resolve, reject) {\n",
       "        var s = document.createElement('script');\n",
       "        s.src = paths[lib];\n",
       "        s.async = true;\n",
       "        s.onload = () => resolve(paths[lib]);\n",
       "        s.onerror = () => reject(`Error loading script: ${paths[lib]}`);\n",
       "        document.getElementsByTagName(\"head\")[0].appendChild(s);\n",
       "      });\n",
       "    }\n",
       "\n",
       "    function showError(err) {\n",
       "      outputDiv.innerHTML = `<div class=\"error\" style=\"color:red;\">${err}</div>`;\n",
       "      throw err;\n",
       "    }\n",
       "\n",
       "    function displayChart(vegaEmbed) {\n",
       "      vegaEmbed(outputDiv, spec, embedOpt)\n",
       "        .catch(err => showError(`Javascript Error: ${err.message}<br>This usually means there's a typo in your chart specification. See the javascript console for the full traceback.`));\n",
       "    }\n",
       "\n",
       "    if(typeof define === \"function\" && define.amd) {\n",
       "      requirejs.config({paths});\n",
       "      require([\"vega-embed\"], displayChart, err => showError(`Error loading script: ${err.message}`));\n",
       "    } else if (typeof vegaEmbed === \"function\") {\n",
       "      displayChart(vegaEmbed);\n",
       "    } else {\n",
       "      loadScript(\"vega\")\n",
       "        .then(() => loadScript(\"vega-lite\"))\n",
       "        .then(() => loadScript(\"vega-embed\"))\n",
       "        .catch(showError)\n",
       "        .then(() => displayChart(vegaEmbed));\n",
       "    }\n",
       "  })({\"config\": {\"view\": {\"continuousWidth\": 400, \"continuousHeight\": 300}}, \"data\": {\"name\": \"data-9e2ff89393858e2bc46f98d889e78eeb\"}, \"mark\": \"line\", \"encoding\": {\"color\": {\"type\": \"nominal\", \"field\": \"variable\"}, \"x\": {\"type\": \"nominal\", \"field\": \"sentence_length\", \"sort\": [\"1-3\", \"4-8\", \"8-20\", \"21-33\", \"34+\"]}, \"y\": {\"type\": \"quantitative\", \"field\": \"value\"}}, \"height\": 200, \"width\": 400, \"$schema\": \"https://vega.github.io/schema/vega-lite/v4.8.1.json\", \"datasets\": {\"data-9e2ff89393858e2bc46f98d889e78eeb\": [{\"sentence_length\": \"1-3\", \"variable\": \"precision\", \"value\": 0.56}, {\"sentence_length\": \"4-8\", \"variable\": \"precision\", \"value\": 0.65}, {\"sentence_length\": \"8-20\", \"variable\": \"precision\", \"value\": 0.73}, {\"sentence_length\": \"21-33\", \"variable\": \"precision\", \"value\": 0.71}, {\"sentence_length\": \"34+\", \"variable\": \"precision\", \"value\": 0.59}, {\"sentence_length\": \"1-3\", \"variable\": \"recall\", \"value\": 0.94}, {\"sentence_length\": \"4-8\", \"variable\": \"recall\", \"value\": 0.86}, {\"sentence_length\": \"8-20\", \"variable\": \"recall\", \"value\": 0.83}, {\"sentence_length\": \"21-33\", \"variable\": \"recall\", \"value\": 0.78}, {\"sentence_length\": \"34+\", \"variable\": \"recall\", \"value\": 0.65}]}}, {\"mode\": \"vega-lite\"});\n",
       "</script>"
      ],
      "text/plain": [
       "alt.Chart(...)"
      ]
     },
     "execution_count": 156,
     "metadata": {},
     "output_type": "execute_result"
    }
   ],
   "source": [
    "performancebylength"
   ]
  },
  {
   "cell_type": "markdown",
   "metadata": {
    "slideshow": {
     "slide_type": "skip"
    }
   },
   "source": [
    "### performance with ≥ 3 words"
   ]
  },
  {
   "cell_type": "code",
   "execution_count": 157,
   "metadata": {
    "slideshow": {
     "slide_type": "skip"
    }
   },
   "outputs": [
    {
     "data": {
      "text/html": [
       "<div>\n",
       "<style scoped>\n",
       "    .dataframe tbody tr th:only-of-type {\n",
       "        vertical-align: middle;\n",
       "    }\n",
       "\n",
       "    .dataframe tbody tr th {\n",
       "        vertical-align: top;\n",
       "    }\n",
       "\n",
       "    .dataframe thead th {\n",
       "        text-align: right;\n",
       "    }\n",
       "</style>\n",
       "<table border=\"1\" class=\"dataframe\">\n",
       "  <thead>\n",
       "    <tr style=\"text-align: right;\">\n",
       "      <th></th>\n",
       "      <th>test_sentence</th>\n",
       "      <th>length</th>\n",
       "      <th>prediction</th>\n",
       "      <th>target</th>\n",
       "      <th>cat_length</th>\n",
       "    </tr>\n",
       "  </thead>\n",
       "  <tbody>\n",
       "    <tr>\n",
       "      <th>1</th>\n",
       "      <td>dos (.) &lt;a ver&gt; [/] a_ver (.) qué son estos ?</td>\n",
       "      <td>11</td>\n",
       "      <td>True</td>\n",
       "      <td>False</td>\n",
       "      <td>mid</td>\n",
       "    </tr>\n",
       "    <tr>\n",
       "      <th>2</th>\n",
       "      <td>sí [/] sí .</td>\n",
       "      <td>4</td>\n",
       "      <td>True</td>\n",
       "      <td>False</td>\n",
       "      <td>short</td>\n",
       "    </tr>\n",
       "    <tr>\n",
       "      <th>5</th>\n",
       "      <td>claro (.) a qué es chulo (.) eh ?</td>\n",
       "      <td>9</td>\n",
       "      <td>False</td>\n",
       "      <td>False</td>\n",
       "      <td>mid</td>\n",
       "    </tr>\n",
       "    <tr>\n",
       "      <th>6</th>\n",
       "      <td>está ya puesta (.) venga (.) me vas a contar e...</td>\n",
       "      <td>13</td>\n",
       "      <td>False</td>\n",
       "      <td>False</td>\n",
       "      <td>mid</td>\n",
       "    </tr>\n",
       "    <tr>\n",
       "      <th>7</th>\n",
       "      <td>venga (.) ven (.) ven (.) ven !</td>\n",
       "      <td>8</td>\n",
       "      <td>True</td>\n",
       "      <td>False</td>\n",
       "      <td>short</td>\n",
       "    </tr>\n",
       "    <tr>\n",
       "      <th>...</th>\n",
       "      <td>...</td>\n",
       "      <td>...</td>\n",
       "      <td>...</td>\n",
       "      <td>...</td>\n",
       "      <td>...</td>\n",
       "    </tr>\n",
       "    <tr>\n",
       "      <th>77089</th>\n",
       "      <td>Pórtense bien, todos sabemos quiénes andan en ...</td>\n",
       "      <td>9</td>\n",
       "      <td>False</td>\n",
       "      <td>True</td>\n",
       "      <td>mid</td>\n",
       "    </tr>\n",
       "    <tr>\n",
       "      <th>77090</th>\n",
       "      <td>Vamos a sacudir el árbol y se van a caer mucha...</td>\n",
       "      <td>52</td>\n",
       "      <td>False</td>\n",
       "      <td>True</td>\n",
       "      <td>x_long</td>\n",
       "    </tr>\n",
       "    <tr>\n",
       "      <th>77091</th>\n",
       "      <td>Con el alcalde Cruz y los cinco policías libre...</td>\n",
       "      <td>34</td>\n",
       "      <td>False</td>\n",
       "      <td>True</td>\n",
       "      <td>x_long</td>\n",
       "    </tr>\n",
       "    <tr>\n",
       "      <th>77092</th>\n",
       "      <td>A la mamá de Jorge, María, la viuda de Moisés...</td>\n",
       "      <td>21</td>\n",
       "      <td>True</td>\n",
       "      <td>True</td>\n",
       "      <td>long</td>\n",
       "    </tr>\n",
       "    <tr>\n",
       "      <th>77093</th>\n",
       "      <td>Por ahora, Jorge sigue con su proyecto, con La...</td>\n",
       "      <td>32</td>\n",
       "      <td>True</td>\n",
       "      <td>True</td>\n",
       "      <td>long</td>\n",
       "    </tr>\n",
       "  </tbody>\n",
       "</table>\n",
       "<p>51441 rows × 5 columns</p>\n",
       "</div>"
      ],
      "text/plain": [
       "                                           test_sentence  length  prediction  \\\n",
       "1          dos (.) <a ver> [/] a_ver (.) qué son estos ?      11        True   \n",
       "2                                            sí [/] sí .       4        True   \n",
       "5                      claro (.) a qué es chulo (.) eh ?       9       False   \n",
       "6      está ya puesta (.) venga (.) me vas a contar e...      13       False   \n",
       "7                        venga (.) ven (.) ven (.) ven !       8        True   \n",
       "...                                                  ...     ...         ...   \n",
       "77089  Pórtense bien, todos sabemos quiénes andan en ...       9       False   \n",
       "77090  Vamos a sacudir el árbol y se van a caer mucha...      52       False   \n",
       "77091  Con el alcalde Cruz y los cinco policías libre...      34       False   \n",
       "77092   A la mamá de Jorge, María, la viuda de Moisés...      21        True   \n",
       "77093  Por ahora, Jorge sigue con su proyecto, con La...      32        True   \n",
       "\n",
       "       target cat_length  \n",
       "1       False        mid  \n",
       "2       False      short  \n",
       "5       False        mid  \n",
       "6       False        mid  \n",
       "7       False      short  \n",
       "...       ...        ...  \n",
       "77089    True        mid  \n",
       "77090    True     x_long  \n",
       "77091    True     x_long  \n",
       "77092    True       long  \n",
       "77093    True       long  \n",
       "\n",
       "[51441 rows x 5 columns]"
      ]
     },
     "execution_count": 157,
     "metadata": {},
     "output_type": "execute_result"
    }
   ],
   "source": [
    "#re-graph accuracy, excluding sentences with 3 words or less\n",
    "long_test_sentences = sntc_perf[sntc_perf['length'] > 3]\n",
    "long_test_sentences"
   ]
  },
  {
   "cell_type": "code",
   "execution_count": 158,
   "metadata": {
    "slideshow": {
     "slide_type": "skip"
    }
   },
   "outputs": [],
   "source": [
    "#Calculate accuracy with the confusion matrix\n",
    "tn, fp, fn, tp = confusion_matrix(long_test_sentences['target'], long_test_sentences['prediction']).ravel()"
   ]
  },
  {
   "cell_type": "code",
   "execution_count": 159,
   "metadata": {
    "slideshow": {
     "slide_type": "skip"
    }
   },
   "outputs": [],
   "source": [
    "#visualize accuracy\n",
    "longperformance = {\"count\": [tp, fp, tn, fn], \n",
    "               \"correct prediction?\": [\"yes\", \"no\", \"yes\", \"no\"],\n",
    "               \"correctness\": [\"correct\", \"incorrect\", \"correct\", \"incorrect\"],\n",
    "               \"dialect\": [\"Mexican\", \"Other dialects\", \"Other dialects\", \"Mexican\"]}\n",
    "\n",
    "longperformance = pd.DataFrame(longperformance)"
   ]
  },
  {
   "cell_type": "code",
   "execution_count": 160,
   "metadata": {
    "slideshow": {
     "slide_type": "skip"
    }
   },
   "outputs": [
    {
     "data": {
      "text/html": [
       "<div>\n",
       "<style scoped>\n",
       "    .dataframe tbody tr th:only-of-type {\n",
       "        vertical-align: middle;\n",
       "    }\n",
       "\n",
       "    .dataframe tbody tr th {\n",
       "        vertical-align: top;\n",
       "    }\n",
       "\n",
       "    .dataframe thead th {\n",
       "        text-align: right;\n",
       "    }\n",
       "</style>\n",
       "<table border=\"1\" class=\"dataframe\">\n",
       "  <thead>\n",
       "    <tr style=\"text-align: right;\">\n",
       "      <th></th>\n",
       "      <th>count</th>\n",
       "      <th>correct prediction?</th>\n",
       "      <th>correctness</th>\n",
       "      <th>dialect</th>\n",
       "    </tr>\n",
       "  </thead>\n",
       "  <tbody>\n",
       "    <tr>\n",
       "      <th>0</th>\n",
       "      <td>21527</td>\n",
       "      <td>yes</td>\n",
       "      <td>correct</td>\n",
       "      <td>Mexican</td>\n",
       "    </tr>\n",
       "    <tr>\n",
       "      <th>1</th>\n",
       "      <td>10667</td>\n",
       "      <td>no</td>\n",
       "      <td>incorrect</td>\n",
       "      <td>Other dialects</td>\n",
       "    </tr>\n",
       "    <tr>\n",
       "      <th>2</th>\n",
       "      <td>15463</td>\n",
       "      <td>yes</td>\n",
       "      <td>correct</td>\n",
       "      <td>Other dialects</td>\n",
       "    </tr>\n",
       "    <tr>\n",
       "      <th>3</th>\n",
       "      <td>3784</td>\n",
       "      <td>no</td>\n",
       "      <td>incorrect</td>\n",
       "      <td>Mexican</td>\n",
       "    </tr>\n",
       "  </tbody>\n",
       "</table>\n",
       "</div>"
      ],
      "text/plain": [
       "   count correct prediction? correctness         dialect\n",
       "0  21527                 yes     correct         Mexican\n",
       "1  10667                  no   incorrect  Other dialects\n",
       "2  15463                 yes     correct  Other dialects\n",
       "3   3784                  no   incorrect         Mexican"
      ]
     },
     "execution_count": 160,
     "metadata": {},
     "output_type": "execute_result"
    }
   ],
   "source": [
    "longperformance"
   ]
  },
  {
   "cell_type": "code",
   "execution_count": 161,
   "metadata": {
    "slideshow": {
     "slide_type": "skip"
    }
   },
   "outputs": [],
   "source": [
    "longer_performancechart = alt.Chart(longperformance).mark_bar().encode(\n",
    "    y = alt.Y('dialect:N', title=None),\n",
    "    x = alt.X('count:Q', stack='normalize', title=None),\n",
    "    color = 'correct prediction?:N'\n",
    ").properties(title=\"Sentences with at least 3 words\"\n",
    ").configure_title(fontSize=24\n",
    ").configure_axis(\n",
    "    titleFontSize=12,\n",
    "    labelFontSize=16\n",
    ")"
   ]
  },
  {
   "cell_type": "code",
   "execution_count": 162,
   "metadata": {
    "slideshow": {
     "slide_type": "fragment"
    }
   },
   "outputs": [
    {
     "data": {
      "text/html": [
       "\n",
       "<div id=\"altair-viz-0772a925fbdf4618ae53f961dcd79039\"></div>\n",
       "<script type=\"text/javascript\">\n",
       "  (function(spec, embedOpt){\n",
       "    let outputDiv = document.currentScript.previousElementSibling;\n",
       "    if (outputDiv.id !== \"altair-viz-0772a925fbdf4618ae53f961dcd79039\") {\n",
       "      outputDiv = document.getElementById(\"altair-viz-0772a925fbdf4618ae53f961dcd79039\");\n",
       "    }\n",
       "    const paths = {\n",
       "      \"vega\": \"https://cdn.jsdelivr.net/npm//vega@5?noext\",\n",
       "      \"vega-lib\": \"https://cdn.jsdelivr.net/npm//vega-lib?noext\",\n",
       "      \"vega-lite\": \"https://cdn.jsdelivr.net/npm//vega-lite@4.8.1?noext\",\n",
       "      \"vega-embed\": \"https://cdn.jsdelivr.net/npm//vega-embed@6?noext\",\n",
       "    };\n",
       "\n",
       "    function loadScript(lib) {\n",
       "      return new Promise(function(resolve, reject) {\n",
       "        var s = document.createElement('script');\n",
       "        s.src = paths[lib];\n",
       "        s.async = true;\n",
       "        s.onload = () => resolve(paths[lib]);\n",
       "        s.onerror = () => reject(`Error loading script: ${paths[lib]}`);\n",
       "        document.getElementsByTagName(\"head\")[0].appendChild(s);\n",
       "      });\n",
       "    }\n",
       "\n",
       "    function showError(err) {\n",
       "      outputDiv.innerHTML = `<div class=\"error\" style=\"color:red;\">${err}</div>`;\n",
       "      throw err;\n",
       "    }\n",
       "\n",
       "    function displayChart(vegaEmbed) {\n",
       "      vegaEmbed(outputDiv, spec, embedOpt)\n",
       "        .catch(err => showError(`Javascript Error: ${err.message}<br>This usually means there's a typo in your chart specification. See the javascript console for the full traceback.`));\n",
       "    }\n",
       "\n",
       "    if(typeof define === \"function\" && define.amd) {\n",
       "      requirejs.config({paths});\n",
       "      require([\"vega-embed\"], displayChart, err => showError(`Error loading script: ${err.message}`));\n",
       "    } else if (typeof vegaEmbed === \"function\") {\n",
       "      displayChart(vegaEmbed);\n",
       "    } else {\n",
       "      loadScript(\"vega\")\n",
       "        .then(() => loadScript(\"vega-lite\"))\n",
       "        .then(() => loadScript(\"vega-embed\"))\n",
       "        .catch(showError)\n",
       "        .then(() => displayChart(vegaEmbed));\n",
       "    }\n",
       "  })({\"config\": {\"view\": {\"continuousWidth\": 400, \"continuousHeight\": 300}, \"axis\": {\"labelFontSize\": 16, \"titleFontSize\": 12}, \"title\": {\"fontSize\": 24}}, \"data\": {\"name\": \"data-e2dd57566c2f551460fed3f487391857\"}, \"mark\": \"bar\", \"encoding\": {\"color\": {\"type\": \"nominal\", \"field\": \"correct prediction?\"}, \"x\": {\"type\": \"quantitative\", \"field\": \"count\", \"stack\": \"normalize\", \"title\": null}, \"y\": {\"type\": \"nominal\", \"field\": \"dialect\", \"title\": null}}, \"title\": \"Sentences with at least 3 words\", \"$schema\": \"https://vega.github.io/schema/vega-lite/v4.8.1.json\", \"datasets\": {\"data-e2dd57566c2f551460fed3f487391857\": [{\"count\": 21527, \"correct prediction?\": \"yes\", \"correctness\": \"correct\", \"dialect\": \"Mexican\"}, {\"count\": 10667, \"correct prediction?\": \"no\", \"correctness\": \"incorrect\", \"dialect\": \"Other dialects\"}, {\"count\": 15463, \"correct prediction?\": \"yes\", \"correctness\": \"correct\", \"dialect\": \"Other dialects\"}, {\"count\": 3784, \"correct prediction?\": \"no\", \"correctness\": \"incorrect\", \"dialect\": \"Mexican\"}]}}, {\"mode\": \"vega-lite\"});\n",
       "</script>"
      ],
      "text/plain": [
       "alt.Chart(...)"
      ]
     },
     "execution_count": 162,
     "metadata": {},
     "output_type": "execute_result"
    }
   ],
   "source": [
    "longer_performancechart"
   ]
  },
  {
   "cell_type": "code",
   "execution_count": null,
   "metadata": {
    "slideshow": {
     "slide_type": "skip"
    }
   },
   "outputs": [],
   "source": []
  }
 ],
 "metadata": {
  "celltoolbar": "Slideshow",
  "kernelspec": {
   "display_name": "Capstone Development",
   "language": "python",
   "name": "capstone-dev"
  },
  "language_info": {
   "codemirror_mode": {
    "name": "ipython",
    "version": 3
   },
   "file_extension": ".py",
   "mimetype": "text/x-python",
   "name": "python",
   "nbconvert_exporter": "python",
   "pygments_lexer": "ipython3",
   "version": "3.7.8"
  }
 },
 "nbformat": 4,
 "nbformat_minor": 4
}
