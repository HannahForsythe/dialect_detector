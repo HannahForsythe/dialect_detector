{
 "cells": [
  {
   "cell_type": "markdown",
   "metadata": {
    "slideshow": {
     "slide_type": "skip"
    }
   },
   "source": [
    "# Intro"
   ]
  },
  {
   "cell_type": "code",
   "execution_count": 10,
   "metadata": {
    "slideshow": {
     "slide_type": "skip"
    }
   },
   "outputs": [],
   "source": [
    "#Import all packages\n",
    "import requests\n",
    "import dill\n",
    "from bs4 import BeautifulSoup\n",
    "from datetime import datetime\n",
    "import re\n",
    "import pandas as pd\n",
    "import numpy as np\n",
    "import random\n",
    "import spacy\n",
    "from sklearn.naive_bayes import MultinomialNB\n",
    "from sklearn.pipeline import Pipeline, FeatureUnion\n",
    "from sklearn.metrics import confusion_matrix\n",
    "from sklearn.feature_extraction.text import CountVectorizer, TfidfVectorizer\n",
    "from sklearn.model_selection import GridSearchCV, ShuffleSplit\n",
    "import math\n",
    "import matplotlib as plt\n",
    "from matplotlib import pyplot\n",
    "import altair as alt\n",
    "import nltk\n",
    "from nltk import word_tokenize\n",
    "from nltk.corpus import stopwords"
   ]
  },
  {
   "cell_type": "code",
   "execution_count": 12,
   "metadata": {
    "slideshow": {
     "slide_type": "skip"
    }
   },
   "outputs": [],
   "source": [
    "# load Spanish models from spaCy (first download the model: !python -m spacy download es_core_news_sm)\n",
    "# nlp = spacy.load(\"es_core_news_sm\")\n",
    "# nlp('Esto es una frase.')"
   ]
  },
  {
   "cell_type": "code",
   "execution_count": 13,
   "metadata": {},
   "outputs": [],
   "source": [
    "#create a requirements.txt. This puts everything from my base environment. But I don't seem to be able to activate other environments. What about a virtual environment?\n",
    "# ! pip freeze > requirements.txt"
   ]
  },
  {
   "cell_type": "code",
   "execution_count": 14,
   "metadata": {},
   "outputs": [],
   "source": [
    "# ! cat requirements.txt"
   ]
  },
  {
   "cell_type": "markdown",
   "metadata": {
    "slideshow": {
     "slide_type": "skip"
    }
   },
   "source": [
    "### To-do list\n",
    "- implement different stopword lists for 1-grams and 2-grams\n",
    "- include POS features\n",
    "- include %pro-drop as a feature\n",
    "\n",
    "- clean up the list of countries ¡Ojo! The country for 'la jurado 10' is wrong. It should be Puerto Rico.\n",
    "- re-scrape stories formatted incorrectly\n",
    "- try a decision tree\n"
   ]
  },
  {
   "cell_type": "markdown",
   "metadata": {
    "slideshow": {
     "slide_type": "skip"
    }
   },
   "source": [
    "# Data wrangling"
   ]
  },
  {
   "cell_type": "markdown",
   "metadata": {
    "heading_collapsed": true,
    "slideshow": {
     "slide_type": "skip"
    }
   },
   "source": [
    "## Radio Ambulante data"
   ]
  },
  {
   "cell_type": "markdown",
   "metadata": {
    "heading_collapsed": true,
    "hidden": true,
    "slideshow": {
     "slide_type": "skip"
    }
   },
   "source": [
    "### Scraping"
   ]
  },
  {
   "cell_type": "code",
   "execution_count": 2,
   "metadata": {
    "hidden": true,
    "slideshow": {
     "slide_type": "skip"
    }
   },
   "outputs": [
    {
     "name": "stdout",
     "output_type": "stream",
     "text": [
      "https://radioambulante.org/transcripcion/transcripcion-los-pibes\n"
     ]
    }
   ],
   "source": [
    "#list of all post urls from pg 4\n",
    "\n",
    "page4 = requests.get('https://radioambulante.org/category/transcripcion/page/4')\n",
    "soup = BeautifulSoup(page4.text, \"lxml\")\n",
    "# print(soup.prettify())\n",
    "\n",
    "#print one example link from pg. 4\n",
    "title1 = soup.select('h4.entry-title')[0]\n",
    "link1 = title1.find('a', href=True)['href']\n",
    "print(link1)\n"
   ]
  },
  {
   "cell_type": "code",
   "execution_count": 3,
   "metadata": {
    "hidden": true,
    "slideshow": {
     "slide_type": "skip"
    }
   },
   "outputs": [
    {
     "name": "stdout",
     "output_type": "stream",
     "text": [
      "16\n"
     ]
    }
   ],
   "source": [
    "#Write a function to get the story links off of any arbitrary page\n",
    "def get_story_links(pageurl):\n",
    "    \"\"\"accept a full url for a page of story results,\n",
    "    return a list of all 16 story links\"\"\"\n",
    "    page_html = requests.get(pageurl)\n",
    "    soup = BeautifulSoup(page_html.text, \"lxml\")\n",
    "    \n",
    "    titles = soup.select('h4.entry-title')\n",
    "    story_links = []\n",
    "    for title in titles:\n",
    "        link = title.find('a', href=True)['href']\n",
    "        story_links.append(link)\n",
    "    \n",
    "    return(story_links)\n",
    "\n",
    "#sanity check: there should be 16 links on pg. 4\n",
    "print(len(get_story_links('https://radioambulante.org/category/transcripcion/page/4')))"
   ]
  },
  {
   "cell_type": "code",
   "execution_count": 4,
   "metadata": {
    "hidden": true,
    "slideshow": {
     "slide_type": "skip"
    }
   },
   "outputs": [
    {
     "name": "stdout",
     "output_type": "stream",
     "text": [
      "PAÍS\n",
      "Colombia\n"
     ]
    }
   ],
   "source": [
    "#extract country label from story 'el chamán' (2nd link on pg. 4)\n",
    "el_chaman_url = get_story_links('https://radioambulante.org/category/transcripcion/page/4')[1]\n",
    "# print(el_chaman_url)\n",
    "        \n",
    "el_chaman = requests.get(el_chaman_url)\n",
    "el_chaman_soup = BeautifulSoup(el_chaman.text, \"lxml\")\n",
    "el_chaman_metadata = el_chaman_soup.find(id='ra-meta')\n",
    "el_chaman_credits = el_chaman_metadata.find_all('p')\n",
    "\n",
    "for p in el_chaman_credits:\n",
    "    if 'PAÍS' in p.text:\n",
    "        el_chaman_country = p.text\n",
    "        \n",
    "print(el_chaman_country)"
   ]
  },
  {
   "cell_type": "code",
   "execution_count": 5,
   "metadata": {
    "hidden": true,
    "slideshow": {
     "slide_type": "skip"
    }
   },
   "outputs": [
    {
     "name": "stdout",
     "output_type": "stream",
     "text": [
      "Colombia\n",
      "Samuel Castaño\n",
      "Unknown\n"
     ]
    }
   ],
   "source": [
    "#functions to soupify any arbitrary story link and extract country\n",
    "\n",
    "def soupify(story_link):\n",
    "    \"\"\"accept a link and return its text as a BS object\"\"\"\n",
    "    story = requests.get(story_link)\n",
    "    story_soup = BeautifulSoup(story.text, \"lxml\")\n",
    "    \n",
    "    return story_soup\n",
    "    \n",
    "def get_country(story_soup):\n",
    "    \"\"\"accept a soupified story, return the country where it was reported\"\"\"\n",
    "    story_metadata = story_soup.find(id='ra-meta')\n",
    "    story_credits = story_metadata.find_all('p')\n",
    "    \n",
    "    country = 'Unknown'\n",
    "    for p in story_credits:\n",
    "        if 'PAÍS' in p.text:\n",
    "            country = p.text[5:]\n",
    "        else:\n",
    "            pass\n",
    "    \n",
    "    return country\n",
    "\n",
    "        \n",
    "#sanity check, the country of el_chaman_url should be Colombia:\n",
    "print(get_country(soupify(el_chaman_url)))\n",
    "#sanity check, the country of 'la jorado 10' should be a mistake (Samuel Castaño):\n",
    "print(get_country(soupify(get_story_links('https://radioambulante.org/category/transcripcion/page/4')[15])))\n",
    "#sanity check, the country of 'mais médicos' em portugués should be null:\n",
    "print(get_country(soupify(get_story_links('https://radioambulante.org/category/transcripcion/page/4')[6])))\n"
   ]
  },
  {
   "cell_type": "code",
   "execution_count": 6,
   "metadata": {
    "hidden": true,
    "slideshow": {
     "slide_type": "skip"
    }
   },
   "outputs": [
    {
     "name": "stdout",
     "output_type": "stream",
     "text": [
      "Argentina\n",
      "Colombia\n",
      "México y Estados Unidos\n",
      "Estados Unidos\n",
      "Perú\n",
      "Argentina\n",
      "Unknown\n",
      "Brasil\n",
      "Colombia\n",
      "Colombia\n",
      "Guatemala\n",
      "Estados Unidos\n",
      "Perú\n",
      "Estados Unidos\n",
      "Chile\n",
      "Samuel Castaño\n"
     ]
    }
   ],
   "source": [
    "#Get country from all stories on page 4\n",
    "page4_links = get_story_links('https://radioambulante.org/category/transcripcion/page/4')\n",
    "\n",
    "for story_link in page4_links:\n",
    "    print(get_country(soupify(story_link)))"
   ]
  },
  {
   "cell_type": "code",
   "execution_count": 8,
   "metadata": {
    "hidden": true,
    "slideshow": {
     "slide_type": "skip"
    }
   },
   "outputs": [
    {
     "name": "stdout",
     "output_type": "stream",
     "text": [
      "['España', 'Colombia', 'México', 'Brasil', 'Brasil', 'Chile', 'Nicaragua', 'Ecuador', 'México/Puerto Rico', 'Ecuador', 'Brasil', 'Brasil', 'México/Estados Unidos', 'Guatemala', 'Colombia', 'Guatemala', 'Chile', 'Ecuador', 'Perú', 'Argentina', 'Puerto Rico', 'Perú y Chile', 'Unknown', 'Argentina', 'El Salvador y México', 'Estados Unidos', 'Costa Rica', 'Colombia', 'Colombia', 'Estados Unidos', 'Argentina', 'Ecuador', 'Chile', 'México', 'Unknown', 'Cuba', 'Puerto Rico', 'S\\nMéxico y España', 'S\\nMéxico y España', 'Venezuela', 'S\\nEstados Unidos y Perú', 'Colombia', 'S\\nEstados Unidos y Guatemala', 'Costa Rica', 'Colombia y Brasil', 'Colombia', 'Estados Unidos', 'Venezuela', 'Argentina', 'Colombia', 'México y Estados Unidos', 'Estados Unidos', 'Perú', 'Argentina', 'Unknown', 'Brasil', 'Colombia', 'Colombia', 'Guatemala', 'Estados Unidos', 'Perú', 'Estados Unidos', 'Chile', 'Samuel Castaño', 'México', 'Colombia y Costa Rica', 'Estados Unidos', 'España y Perú', 'Perú', 'Chile y Brasil', 'República Dominicana', 'Colombia', 'Puerto Rico', 'Colombia', 'Estados Unidos', 'Colombia', 'Costa Rica', 'El Salvador', 'Perú', 'Colombia', 'Chile', 'México', 'Estados Unidos', 'Honduras', 'Perú', 'Bolivia', 'S\\nEstados Unidos y México', 'México', 'Perú', 'Costa Rica', 'Puerto Rico', 'S\\nMexico y Estados Unidos', 'Argentina', 'S\\nEstados Unidos y México', 'Colombia', 'Colombia', 'Argentina', 'Perú', 'S\\nCuba/Panamá', 'Cuba/Panamá/Estados Unidos', 'Chile', 'México', 'Argentina', 'Colombia', 'Lima, Perú', 'Venezuela', 'Perú', 'Chile', 'Estados Unidos', 'Colombia', 'Colombia', 'Chile', 'Argentina', 'Argentina', 'México', 'Colombia y Argentina', 'Perú', 'México', 'Chile', 'Cuba', 'Cuba', 'Estados Unidos', 'México', 'Perú', 'Puerto Rico', 'Argentina', 'Ecuador', 'Colombia', 'México, Estados Unidos', 'Puerto Rico', 'Uruguay', 'México', 'Honduras', 'Estados Unidos', 'Guatemala', 'México', 'Colombia', 'Puerto Rico', 'Colombia', 'Honduras', 'Mexico, Chile', 'Venezuela', 'Estados Unidos', 'Colombia, Reino Unido', 'México', 'México', 'Chile', 'Rio de Janeiro, Brasil', 'Perú', 'Estados Unidos, Chile, México, Inglaterra', 'Estados Unidos', 'Puerto Rico', 'De Perú a Estados Unidos', 'México', 'México', 'México', 'Estados Unidos', 'Estados Unidos', 'Santiago de Chile', 'México', 'Uruguay', 'Canadá', 'Argentina', 'España/Perú', 'Reynosa, México', 'Guatemala', 'Tegucigalpa, Honduras', 'Nueva York, Estados Unidos', 'Puerto Berrio, Colombia', 'Buenos Aires, Argentina']\n"
     ]
    }
   ],
   "source": [
    "#Print the country of each story on the whole Radio Ambulante site\n",
    "\n",
    "##get list of all pages to scrape \n",
    "pages = ['https://radioambulante.org/category/transcripcion/page/'+str(i) for i in range(1,12)]\n",
    "## first page is: https://radioambulante.org/category/transcripcion\n",
    "## second page is: https://radioambulante.org/category/transcripcion/page/2\n",
    "## last page is: https://radioambulante.org/category/transcripcion/page/11\n",
    "\n",
    "##scrape each page for its links and .extend the list of all_story_links = []\n",
    "all_story_links = []\n",
    "for page in pages:\n",
    "    all_story_links.extend(get_story_links(page))\n",
    "# print(all_story_links)\n",
    "\n",
    "##extract country from each story link in all_story_links\n",
    "countries = [get_country(soupify(story_link)) for story_link in all_story_links]\n",
    "print(countries)"
   ]
  },
  {
   "cell_type": "code",
   "execution_count": 10,
   "metadata": {
    "hidden": true,
    "slideshow": {
     "slide_type": "skip"
    }
   },
   "outputs": [
    {
     "data": {
      "text/html": [
       "<div>\n",
       "<style scoped>\n",
       "    .dataframe tbody tr th:only-of-type {\n",
       "        vertical-align: middle;\n",
       "    }\n",
       "\n",
       "    .dataframe tbody tr th {\n",
       "        vertical-align: top;\n",
       "    }\n",
       "\n",
       "    .dataframe thead th {\n",
       "        text-align: right;\n",
       "    }\n",
       "</style>\n",
       "<table border=\"1\" class=\"dataframe\">\n",
       "  <thead>\n",
       "    <tr style=\"text-align: right;\">\n",
       "      <th></th>\n",
       "      <th>0</th>\n",
       "    </tr>\n",
       "  </thead>\n",
       "  <tbody>\n",
       "    <tr>\n",
       "      <th>0</th>\n",
       "      <td>España</td>\n",
       "    </tr>\n",
       "    <tr>\n",
       "      <th>1</th>\n",
       "      <td>Colombia</td>\n",
       "    </tr>\n",
       "    <tr>\n",
       "      <th>2</th>\n",
       "      <td>México</td>\n",
       "    </tr>\n",
       "    <tr>\n",
       "      <th>3</th>\n",
       "      <td>Brasil</td>\n",
       "    </tr>\n",
       "    <tr>\n",
       "      <th>4</th>\n",
       "      <td>Brasil</td>\n",
       "    </tr>\n",
       "    <tr>\n",
       "      <th>...</th>\n",
       "      <td>...</td>\n",
       "    </tr>\n",
       "    <tr>\n",
       "      <th>165</th>\n",
       "      <td>Guatemala</td>\n",
       "    </tr>\n",
       "    <tr>\n",
       "      <th>166</th>\n",
       "      <td>Tegucigalpa, Honduras</td>\n",
       "    </tr>\n",
       "    <tr>\n",
       "      <th>167</th>\n",
       "      <td>Nueva York, Estados Unidos</td>\n",
       "    </tr>\n",
       "    <tr>\n",
       "      <th>168</th>\n",
       "      <td>Puerto Berrio, Colombia</td>\n",
       "    </tr>\n",
       "    <tr>\n",
       "      <th>169</th>\n",
       "      <td>Buenos Aires, Argentina</td>\n",
       "    </tr>\n",
       "  </tbody>\n",
       "</table>\n",
       "<p>170 rows × 1 columns</p>\n",
       "</div>"
      ],
      "text/plain": [
       "                              0\n",
       "0                        España\n",
       "1                      Colombia\n",
       "2                        México\n",
       "3                        Brasil\n",
       "4                        Brasil\n",
       "..                          ...\n",
       "165                   Guatemala\n",
       "166       Tegucigalpa, Honduras\n",
       "167  Nueva York, Estados Unidos\n",
       "168     Puerto Berrio, Colombia\n",
       "169     Buenos Aires, Argentina\n",
       "\n",
       "[170 rows x 1 columns]"
      ]
     },
     "execution_count": 10,
     "metadata": {},
     "output_type": "execute_result"
    }
   ],
   "source": [
    "countries_df = pd.DataFrame(countries)\n",
    "countries_df"
   ]
  },
  {
   "cell_type": "code",
   "execution_count": 11,
   "metadata": {
    "hidden": true,
    "slideshow": {
     "slide_type": "skip"
    }
   },
   "outputs": [
    {
     "name": "stdout",
     "output_type": "stream",
     "text": [
      "170\n",
      "54\n"
     ]
    }
   ],
   "source": [
    "#How many stories?\n",
    "print(len(all_story_links))\n",
    "\n",
    "#How many distinct countries?\n",
    "print(len(set(countries)))\n",
    "\n",
    "#How many stories from México?\n",
    "\n",
    "#How many stories from the Caribbean?\n",
    "\n",
    "#How many stories from Central America?\n",
    "\n",
    "#How many stories from Cono Sur?\n",
    "\n",
    "#How many stories from South America?\n",
    "\n",
    "#How many storeis from Spain & other areas?"
   ]
  },
  {
   "cell_type": "code",
   "execution_count": 12,
   "metadata": {
    "hidden": true,
    "slideshow": {
     "slide_type": "skip"
    }
   },
   "outputs": [
    {
     "name": "stdout",
     "output_type": "stream",
     "text": [
      "[('', ''), ('[Daniel Alarcón, host]:', ' Hola, ambulantes. Antes de comenzar quiero recordarles de nuestro nuevo podcast: El hilo. Es un poco diferente a Radio Ambulante, cada viernes revisamos una noticia importante de Latinoamérica y contamos la historia detrás de esa noticia. Y, claro, en estos días ese tema es coronavirus. El episodio del viernes pasado, por ejemplo, reportamos desde Guayaquil, Ecuador, una de las ciudades más golpeadas de la región. No se lo pierdan.\\xa0'), ('', 'Además quiero recordarles que cada viernes por las próximas cinco semanas vamos a poner el episodio de El hilo en este feed. O sea, Radio Ambulante los martes, episodio extra de El hilo los viernes. La idea es servirles mejor durante este periodo tan complejo. Más información en elhilo.audio. OK, entonces aquí va el episodio.'), ('[Daniel Alarcón, host]:', 'Bienvenidos a Radio Ambulante, desde NPR. Soy Daniel Alarcón.\\xa0'), ('(SOUNDBITE DE EXPLOSIONES)', 'NA'), ('[Daniel]: ', 'Eso que escuchan se grabó en San Lorenzo Almecatla, un pueblo en el centro de México, y apareció en un medio regional en 2018. La gente de San Lorenzo empezó a escuchar ese sonido en mayo de ese mismo año.'), ('(SOUNDBITE DE EXPLOSIONES)', 'NA'), ('[Daniel]: ', 'Y no tenían ni idea qué era. Así lo explica Nazario Cuautencos, que vive en San Lorenzo.'), ('[Nazario Cuautencos]:', ' Yo pensé que eran cuetes de los pueblos aledaños, ¿no?'), ('[Daniel]: ', 'Cuetes, o sea, fuegos artificiales. En México, como en muchas otras partes de Latinoamérica, son comunes en ciertas celebraciones, como el día de algún santo patrono. Pero estas explosiones se escuchaban mucho, mucho más fuerte.'), ('[Nazario]:', ' Cómo que se movía la… la tierra. Hacía: ¡zaz!\\xa0'), ('[Daniel]: ', 'Así que la explicación de los fuegos artificiales era poco probable.\\xa0'), ('[Nazario]:', 'San Lorenzo es una comunidad pequeña a las afueras de la ciudad de Puebla. Tomas la carretera que te lleva hacia la salida al noroeste de la ciudad, pasas algunas zonas industriales y en pocos minutos te encuentras en un lugar más rural: planicies verdes, con mucho sol, atravesadas por más carreteras que conectan los varios pueblos de la región.\\xa0'), ('[Daniel]: ', 'Nazario, como muchos de los pobladores de San Lorenzo, se dedica a la agricultura.'), ('[Nazario]: ', 'La mayoría cultivamos, este, lo que es maíz y calabaza, nada más. Y haba.\\xa0'), ('[Daniel]: ', 'Y fue desde las tierras que tiene a las afueras del pueblo, donde también está su casa, que Nazario empezó a escuchar esas explosiones. Y le llamó la atención cuánto duraban.'), ('[Nazario]: ', 'A veces se hacían dos o tres horas porque echaban… y luego como cada cinco minutos echaban uno y otro, y otro, y otro.\\xa0'), ('[Daniel]: ', 'Pero empezaron a darse cuenta que parecía haber un patrón.'), ('[Nazario]: ', 'Las nubes estaban bien negras, negras, así ya pa’ llover y empezaban a tronar: ¡zas! ¡zas! Y cuando veíamos, las nubes se empezaban a abrir. Y cuando vimos ya… ya no llovió. Ya se fue… se fueron las nubes.\\xa0'), ('[Daniel]: ', 'O sea, los ruidos sonaban cuando parecía que iba a llover. Y es que fue justo en los meses cuando comienza la temporada de lluvia que se empezaron a escuchar esas explosiones. Es una época muy importante para los campesinos como Nazario que practican agricultura de temporal, que depende de la lluvia para que crezcan los cultivos.\\xa0'), ('[Nazario]: ', 'Estela Ramírez vive en San Francisco Ocotlán, un pueblo muy cerca de San Lorenzo, y ella también empezó a notar más o menos al mismo tiempo la conexión entre las explosiones y la lluvia.'), ('[Estela Ramírez]:', ' Porque ya las aguas, este, ya anunciaban. Y incluso hasta metíamos la ropa, juntábamos, este, nuestros pollitos y todo ya, porque va a llover.\\xa0'), ('[Daniel]: ', 'Y lo mismo. Si las nubes aparecían, las explosiones sonaban. Además de la conexión con la lluvia, Estela un día se topó con otra cosa igual de preocupante.\\xa0'), ('[Estela]:', ' Tenemos unos doce árboles y amanecen ya tiraditos ahí los pajaritos muertos: seis, ocho. Una vez contamos hasta 16.\\xa0'), ('[Daniel]: ', 'Cuando descubrieron lo que provocaba ese ruido, Nazario y muchos de los vecinos de los alrededores se indignaron, y la noticia llegó a medios nacionales e internacionales. ¿Qué estaba provocando esas explosiones?'), ('[Estela]:', 'Nuestra editora Victoria Estrada nos cuenta.'), ('[Victoria Estrada]: ', 'La zona donde están San Lorenzo y Ocotlán, al noroeste de Puebla, es muy conocida además por otra cosa: ahí está una de las plantas de ensamblaje más grandes de la Volkswagen fuera de Europa. Es un terreno de 300 hectáreas y queda muy cerca de donde viven personas como Nazario.\\xa0'), ('[Nazario]: ', 'Usted puede ver que yo estoy cerca de aquí de Volkswagen. Estoy atrasito de Volkswagen.'), ('[Victoria]: ', 'La planta se construyó hace más de 50 años.\\xa0'), ('[Nazario]:', ' Anteriormente, cuando yo, este, llegué a esta zona solamente estaba Volkswagen y yo. No había nada. Casas arriba solamente habían tres.'), ('[Victoria]: ', 'Ahora ya se ve un parque industrial y un periférico que conecta con la ciudad. Ha pasado lo que en muchos lados: las ciudades crecen y empiezan a anexar las zonas que antes eran rurales.\\xa0'), ('[Nazario]:', 'Pronto se empezaron a correr rumores que explicaban de dónde venían esas explosiones. Él es Gerardo Pérez. Es ingeniero civil y vive en Ocotlán.'), ('[Gerardo Pérez]:', ' Me dijeron: “Oye, Gerardo, la Volkswagen echa cuetes para que no llueva”. Así, me lo comentaron.'), ('[Victoria]: ', 'La información de que las explosiones parecían venir de la Volkswagen empezó a correr de voz en voz y por grupos de chats. Y con esos rumores llegó algo más: que no eran cohetes ni bombas lo que estaban tirando, sino algo llamado “cañones antigranizo”.'), ('[Gerardo]: ', 'Entonces yo no sabía nada de los cañones antigranizo. O sea, no sabía nada del tema. Entonces, nos dimos a la tarea de investigar.'), ('[Nazario]: ', 'Gracias a Dios, pues, tenemos el internet y pues las personas a veces nos… nos… nos tenemos que meter a eso para, pues, documentarnos, ¿no?'), ('[Victoria]: ', 'No era mucha la información que había, pero básicamente se enteraron que esos cañones ya habían causado conflictos en otras partes donde se usaban, pues se decía que detenían el granizo y la lluvia. Los vecinos de la Volkswagen no sabían por qué la empresa quería que no granizara, ni menos por qué querían detener la lluvia, que era lo que parecía que estaba pasando.'), ('[Nazario]: ', 'Y aunque se llaman “cañones”, no son lo que uno se imaginaría: esos cañones negros de guerra que podrían aparecer en una película o serie ambientada en el siglo XVIII. Lo que ellos alcanzaban a ver a lo lejos eran unas estructuras más parecidas a una corneta metálica de unos seis metros de alto que apuntaba hacia el cielo.\\xa0'), ('[Victoria]: ', 'La falta de lluvia se fue prolongando por varias semanas y eso estaba afectando sus cultivos, pero nadie de la empresa se había pronunciado. Así que entre varios vecinos se reunieron y decidieron hablar con las autoridades municipales para discutir el uso de los cañones. Formaron una comisión, reunieron la información que habían sacado de internet y se la entregaron al presidente auxiliar del municipio y a los representantes de la Comisión Nacional del Agua. Pero les daban largas, los ignoraban y las respuestas no llegaban.'), ('[Nazario]: ', 'Entonces, este, pues nosotros nos… nos indignamos. Lo… por, le digo, por lo que nos estaba haciendo Volkswagen y tuvimos que, pues, tomar cartas en el asunto porque las autoridades se hacen de la vista gorda y no quieren hacer nada por… porque se nos haga justicia.'), ('[Victoria]: ', 'Así que los vecinos decidieron hacer algo para que tanto la empresa como las autoridades les prestaran atención.\\xa0'), ('(SOUNDBITE DE ARCHIVO)', 'NA'), ('[Periodista]: ', 'Pobladores de los alrededores del parque industrial FINSA cerraron el camino a San Lorenzo Almecatla. Están en contra de los cañones antigranizo que compró y que está utilizando la empresa Volkswagen. Argumenta que su uso ha provocado que ya no llueva en la zona, situación que está dañando los cultivos.'), ('[Victoria]: ', 'El 1 de junio de 2018 un grupo de unos 200 vecinos bloqueó la carretera y uno de los accesos a la planta de Volkswagen. Formaron una barrera para impedir el paso de los vehículos y llevaban carteles que decían “Por el agua” y “No cañones antigranizo”.'), ('[Periodista]: ', '\\xa0Los vecinos declararon lo que buscaban ante los medios.'), ('(SOUNDBITE DE ARCHIVO)', 'NA'), ('[Mujer]: ', 'Nuestras peticiones son que quiten los cañones antigranizo definitivamente y que si los vuelven a utilizar vamos a volver a cerrar, que hagan el pa… el pago económico por pérdida de cosechas en general.'), ('[Victoria]: ', 'Ese día el bloqueo de la carretera y del acceso a la planta de Volkswagen duró cinco horas. Un representante de la empresa salió a dar una declaración donde admitía que sí estaban usando esos “cañones antigranizo”, pero pidió que se creara una mesa de diálogo entre los vecinos, las autoridades y Volkswagen para explicar cómo funcionaban.'), ('[Mujer]: ', 'Este es Nazario otra vez.'), ('[Nazario]: ', 'Sí, ellos nos decían que… que los anti… los cañones antigranizo no le hacían daño al campesino, que era, este, pura superstición de nosotros y que no… que ignorábamos cuál eran la… el efecto que… que producían.'), ('[Victoria]: ', 'Y además decían que tenían los permisos necesarios para usar los cañones. Así que no dejarían de dispararlos.'), ('[Nazario]: ', 'Aquí hagamos una pausa para explicar cómo funcionan estos cañones. Es un tema complejo así que vamos por partes. Los cañones que estaba usando la Volkswagen los habían comprado de una empresa española llamada Sociedad Protección Anti Granizo, o SPAG por sus siglas.\\xa0'), ('[Victoria]: ', 'Este es David Ollivier, el director general de SPAG, describiendo para un canal de televisión cómo es que, según ellos, funcionan estos cañones.\\xa0'), ('(SOUNDBITE DE ARCHIVO)', 'NA'), ('[David Ollivier]: ', 'Lo que hacemos es una inyección de gas acetileno dentro de esa cámara de combustión creamos una chispa, esa chispa genera una… una explosión y esa explosión pro… produce una onda expansiva que es la que se… que es la que se expande hacia… hacia a la atmósfera'), ('[Victoria]: ', 'Según la SPAG la explosión produce ondas de choque, o sea, que van más rápido que la velocidad del sonido local. En su página web tienen un video promocional donde se supone que explican cómo funciona. Es puro dibujito, en realidad.\\xa0'), ('[David Ollivier]: ', 'Se ve que de un cañón disparan una onda blanca que se va expandiendo y va creando como una especie de domo. En la animación se ve cómo, apenas unos copos de nieve —que simbolizan el granizo— cruzan el borde del domo, se transforman en gotas de lluvia.'), ('[Victoria]: ', 'Lo importante es que, según esta explicación, las ondas no afectan la caída de lluvia.'), ('[David Ollivier]: ', 'La SPAG lleva ya 40 años en el mercado y dicen que han vendido estos cañones a más de 20 países, entre ellos Argentina, Nueva Zelanda, Australia, y ahora México. La mayoría de sus clientes son agricultores que tienen cultivos vulnerables al granizo, como la pera o el durazno. Pero, claro, Volkswagen no estaba cultivando frutas, sino armando autos, que se quedan al aire libre y también pueden ser dañados por el granizo.'), ('[Victoria]: ', 'Ni Volkswagen ni la SPAG han revelado cuál es el precio de los cañones que se instalaron en la armadora, pero se ha reportado que les pudo haber costado más de 1 millón de pesos —unos 64 mil dólares, al cambio de la época—. Es bastante menos de lo que cuestan otras alternativas, como los seguros por las pérdidas que pueda causar el granizo o las mallas antigranizo. Por ejemplo, para instalar la malla, se reportó que Volkswagen necesitaría pagar una licencia al municipio de más de 4 millones de pesos —más de 200 mil dólares, en ese entonces— y a eso añadir el costo de la malla y su instalación.\\xa0'), ('[David Ollivier]: ', 'Comparado con eso, los cañones son una ganga.'), ('[Victoria]: ', 'Esa primera protesta no tuvo mucho eco. Los campesinos reportaron que la Volkswagen siguió usando los cañones durante junio y julio del 2018. Pero a los vecinos de San Lorenzo y Ocotlán, se le unieron productores de otros pueblos vecinos, como Canoa, San Miguel Espejo, Xonacatepec, Aparicio, Acajete,Tepatlaxco y la Junta Auxiliar de la Resurrección.'), ('[David Ollivier]: ', 'En una rueda de prensa a principios de agosto, los campesinos anunciaron que según sus estimaciones ya se habían perdido casi 2 mil hectáreas de maíz, y, según declararon, eso había afectado a unas 100 mil personas en la región.'), ('[Victoria]: ', 'Como respuesta, el secretario estatal de Desarrollo Rural, Sustentabilidad y Ordenamiento Territorial anunció que la Comisión Nacional del Agua había descartado que los cañones tuvieran efectos negativos, pero aun así el gobierno de Puebla le había pedido a la Volkswagen que dejaran de usarlos hasta que se determinara si realmente habían tenido algo que ver con la falta de lluvia en la zona.\\xa0'), ('[David Ollivier]: ', 'O sea, que por lo menos se tenía que investigar las quejas de los vecinos agricultores.\\xa0'), ('[Victoria]: ', 'Pero los cañones seguían retumbando.\\xa0'), ('[David Ollivier]: ', 'Así que el 8 de agosto volvieron a tomar la carretera. Esta vez la toma duró una hora y terminó igual que la vez pasada: con un acuerdo para empezar mesas de diálogo entre la empresa, las autoridades y los campesinos.\\xa0'), ('[Victoria]: ', 'Aunque las protestas de los campesinos parecían no llegan a mucho, los medios cada vez ponían más atención a lo que estaba pasando en Puebla, y pronto, de ser una noticia local llegó a medios nacionales.\\xa0'), ('[David Ollivier]: ', 'Para tratar de explicar los efectos que tenían los cañones, los medios empezaron a consultar con investigadores y académicos. En uno de los noticieros salió una nota donde entrevistaron a Jesús Gómez, un doctor en Edafología —o sea, estudios del suelo— que se especializa en cambio climático. Fue muy enfático en lo perjudicial que eran estas ondas de los cañones.'), ('(SOUNDBITE DE ARCHIVO)', 'NA'), ('[Jesús Gómez]: ', 'Hay un daño colateral muy alto, cambia radicalmente toda la condición, sobre todo de balance de humedad porque disminuye muy considerablemente la precipitación.'), ('[Victoria]: ', 'Pero no todos los investigadores que entrevistaban los medios parecían coincidir. Mientras que Gómez decía que los cañones disminuyen la lluvia, en otro noticiero una doctora en física, Belinka González, dijo otra cosa.\\xa0'), ('(SOUNDBITE DE ARCHIVO)', 'NA'), ('[Belinka González]: ', 'Lo que provocan es que llueva, no que no llueva. No existen métodos para hacer que no llueva. Lo que haces es que llueva en otra región o en otro momento. Y puedes evitar que el agua llegue a congelarse y caiga en forma de granizo haciéndola que se precipite antes.'), ('[Victoria]: ', 'Pero tampoco era claro que eso era lo que estaba pasando, porque no había lluvia en la zona. Todo el asunto era muy confuso.'), ('[Belinka González]: ', 'Como respuesta a toda la atención que estaba atrayendo la noticia, el 13 de agosto de 2018, representantes de la Volkswagen dieron una conferencia de prensa para explicar cómo funcionaban esos cañones y por qué seguían usándolos.\\xa0'), ('[Victoria]: ', 'En la conferencia estaban tres ejecutivos de Volkswagen. La primera en hablar fue Sara Marengo, asistente técnico de la Oficina de la Presidencia de Volkswagen de México, quien quiso dejar una cosa muy en claro.'), ('(SOUNDBITE DE ARCHIVO)', 'NA'), ('[Sara Marengo]: ', 'El objetivo manifiesto de Volkswagen de México es la protección del medio ambiente: el agua, el suelo, del aire y los recursos en todos sus procesos de producción, así como una relación de buena vecindad.'), ('[Victoria]: ', 'Luego, Julio Marín, gerente de Gestión Ambiental, Sustentabilidad y Sistemas de Gestión para Volkswagen, explicó que habían instalado los cañones, porque 2017 había sido un año con tormentas de granizo especialmente fuertes que habían dañado los autos nuevos que se armaban y guardaban en los lotes. Eso les había causado pérdidas de 20 millones de dólares. Así que habían comprado tres cañones, aunque para ellos tiene un nombre más complejo: “dispositivos sónicos antigranizo”.'), ('(SOUNDBITE DE ARCHIVO)', 'NA'), ('[Julio Marín]:', ' Estos dispositivos sónicos fueron seleccionados después de que nuestras áreas de ingeniería buscaran alternativas de… qué hacer y cómo detener estos daños que se están dando tanto en las cosechas de nuestros compañeros campesinos como también en nuestros autos terminados.'), ('[Victoria]: ', 'Sobre las preocupaciones de los campesinos, solo dijeron que estaban haciendo los estudios de impacto ambiental que les había pedido el gobierno. Pero insistieron en que habían consultado otros estudios y a expertos que les habían dicho que los cañones no afectan la lluvia y por ende no deberían afectar a los campesinos.\\xa0'), ('[Julio Marín]:', 'La conferencia duró poco más de veinte minutos. Y terminó con los comentarios de Carlos Luna, el vicepresidente de Relaciones Corporativas de Volkswagen, quien aclaró que, fuera lo que fuera, tener y usar esos cañones era legal.\\xa0'), ('(SOUNDBITE DE ARCHIVO)', 'NA'), ('[Carlos Luna]: ', 'Nosotros contamos con todos los permisos, las autorizaciones necesarias que nos han acordado las secretarías de Medio Ambiente y por lo tanto están bajo función, eh, regulada por parte del Gobierno.'), ('[Victoria]: ', 'Traté insistentemente de hablar con Julio Marín y con otros representantes de la Volkswagen, pero nunca me respondieron.\\xa0'), ('[Carlos Luna]: ', 'Gerardo Pérez y Estela Ramírez, que viven en Ocotlán y de quienes ya habíamos escuchado, participaron en las mesas de diálogo que había propuesto Volkswagen desde la primera protesta para tratar de llegar a un acuerdo sobre el uso de los cañones. Pero, según ellos, esas reuniones en realidad no eran un diálogo, los directivos de la Volkswagen solo les enseñaban documento tras documento para tratar de convencerlos.'), ('[Gerardo]: ', 'Ellos nos mostraron una ficha técnica e incluso yo les comentaba: “Pues si una ficha técnica viene del constructor pues va a decir que no afecta, ¿verdad?”'), ('[Victoria]: ', 'O sea, que no era un dictamen imparcial de una tercera parte y que su validez era muy cuestionable.'), ('[Gerardo]: ', 'Cuando entrevisté a Gerardo, me mostró una parte del expediente que les habían dado.'), ('[Victoria]: ', 'Y, este, estos papeles ¿qué… qué son? ¿Lo que había traído?'), ('[Gerardo]: ', 'Bueno, sí, hay algo de… de acá, de… por ejemplo, mire, aquí nosotros… yo bajé unas… los límites de Cuautlancingo.'), ('[Victoria]: ', 'Y entre todos esos papeles estaba un documento clave. Era la evidencia clara de que no era cierto que estaban cumpliendo con las condiciones del permiso que les había aprobado el gobierno.'), ('[Gerardo]: ', 'Este es el expediente que tenemos, ¿no? Dice: “Los dispositivos antigranizo operarán menos de dos horas por año y contarán con un sistema antisonoro que reduce significativamente el nivel del ruido». O sea, aquí claramente lo está diciendo que deben operar menos de dos horas por año\\xa0 … y en una… y en un solo día —ellos mismos nos dieron el expediente— fueron casi… aquí tienen, mira, del 23, 24, 25… de abril a mayo fueron once horas nada más.'), ('[Victoria]: ', 'O sea, que ellos mismos habían llevado el registro de cuántas veces y por cuánto tiempo los habían prendido. Y eran muchas horas, más de las dos que autorizaba el permiso.'), ('[Gerardo]: ', 'También decía que la Volkswagen necesitaba obtener las autorizaciones que fueran necesarias a nivel municipal, estatal y federal. Y ese fue otro punto que los vecinos sabían que no habían cumplido.'), ('[Gerardo]: ', 'Porque también nosotros como pueblos originarios, para… para que se haga ese tipo de proyectos, deben de ser consultados a los pueblos originarios.'), ('[Victoria]: ', 'Y esto es importante porque según los tratados internacionales que México ha ratificado, los pueblos originarios tienen el derecho a ser consultados previamente sobre cualquier situación que afecte sus intereses. Y, por supuesto, la instalación de una maquinaria que pudiera afectar la caída de granizo en la zona forma parte de esto.'), ('[Gerardo]: ', 'Y en base a una consulta y el pueblo decide, cosa que también no hicieron. O sea, había muchas anomalías en el… en el expediente.'), ('[Victoria]: ', 'A pesar de todas estas anomalías, los vecinos nunca sintieron que tenían el respaldo de las autoridades en sus reclamos. Según Estela, desde el inicio, esas mesas de diálogo no fueron muy productivas.'), ('[Estela]: ', 'A nosotros… ¿cómo le podré explicar? Pues, prácticamente nos ignoraban. Sí, porque así fue. Realmente que nos… no nos escuchaban nuestras peticiones, nuestros sentires como pueblo. Nunca hubo eso.'), ('[Daniel]: ', 'Hasta este momento había dos cosas claras: Volkswagen no dejaría de disparar los cañones para disolver el granizo y los vecinos no dejarían de reclamar para que les devolvieran las lluvias. Esto llamó la atención de muchas personas en el país, pero sobre todo de algunos meteorólogos, que empezaron a decir algo que contradecía tanto a la empresa como a los campesinos: que los cañones antigranizo no servían para nada.\\xa0'), ('[Estela]: ', 'Una pausa y volvemos.'), ('[Squarespace]: ', 'Este podcast y el siguiente mensaje son patrocinados por Squarespace, el creador de sitios web dedicado a proporcionar a sus clientes plantillas fáciles de usar y diseñadas por profesionales. Únete a los millones de diseñadores gráficos, arquitectos, abogados y otros profesionales que usan Squarespace para promocionar su negocio. Visita ya Squarespace.com/NPR para una prueba gratuita de 14 días, y cuando estés listo para lanzar tu página, usa el código NPR para ahorrarte 10 por ciento en la compra de tu primer sitio web o dominio.'), ('[Code Switch]: ', 'Ya sea que hablemos de las protestas de atletas, la prohibición de que los musulmanes ingresen al país, la violencia con armas de fuego, la reforma educativa o la música que te está dando vida en este momento, la raza es el subtexto de gran parte de la historia estadounidense. Y en Code Switch, de NPR, ese subtexto se vuelve texto. Suscríbete y escucha todos los miércoles.'), ('[Up First]: ', 'Mientras dormías, un montón de noticias estaban pasando alrededor del mundo. Up First es el podcast de NPR que te mantiene informado sobre los grandes acontecimientos en un corto tiempo. Comparte diez minutos de tu día con Up First, desde NPR, de lunes a sábado.'), ('[Daniel]: ', 'Estamos de vuelta en Radio Ambulante. Soy Daniel Alarcón. Antes de la pausa escuchamos los problemas que tuvieron los vecinos de San Lorenzo Almecatla, de Ocotlán y otros pueblos vecinos de Volkswagen. En la primavera de 2018 la planta armadora empezó a usar cañones para detener el granizo que estaba dañando los carros en sus lotes.\\xa0'), ('[Up First]: ', 'Los vecinos decían que los cañones estaban ahuyentando la lluvia, pero la empresa aseguraba que solo afectaban el granizo y que además tenían los permisos para usarlos. Pero lo único cierto es que no estaba lloviendo como normalmente pasaba en esa época. Eso estaba afectando las cosechas, así que habían empezado a protestar para exigir que Volkswagen dejara de usarlos.\\xa0'), ('[Daniel]: ', 'Pero a ese conflicto se agregó la voz de algunos científicos como ella, Graciela Raga. Su argumento era sencillo:'), ('[Graciela Raga]: ', 'Lo que puedo decirle es que no hay realmente estudios que hayan documentado que ninguno de los métodos tienen una efectividad probada. Menos que menos los de los cañones que están en superficie. Es totalmente no efectivo. Eso ya está. O sea, no hay forma.\\xa0'), ('[Daniel]: ', 'O sea, que esos cañones en realidad no estaban haciendo lo que ninguna de las partes aseguraba.'), ('[Graciela Raga]: ', 'Victoria Estrada nos sigue contando.'), ('[Victoria]: ', 'La idea de disparar al cielo para tratar de evitar que llueva o granice es muy vieja. Empezó hace más de 500 años con esos cañones de guerra que todos hemos visto. En esa época disparaban balas de cañón —metálicas y muy pesadas— hacia las nubes. Benvenuto Cellini, un escultor italiano renacentista, reportó en 1554 en su autobiografía que había logrado destruir una tormenta a cañonazos.'), ('[Graciela Raga]: ', 'Desde entonces ha habido variaciones. Por ejemplo, a finales del siglo XIX se concedió una patente a un general en Estados Unidos que había desarrollado un proceso para que lloviera más: el invento era detonar explosivos que se elevaban hacia las nubes a bordo de globos.\\xa0'), ('[Victoria]: ', 'Según la empresa que los vende, el cañón que estaba usando Volkswagen se diseñó en los setentas y, como dijimos, no dispara balas, sino una onda sónica. Pero, en esencia, la idea es muy parecida a como empezó: disparar al cielo para tratar de cambiar el tiempo.'), ('[Graciela Raga]: ', 'Para entender cómo podría funcionar eso hablé con Graciela Raga, a quien escucharon antes. Ella es meteoróloga e investigadora del Centro de Ciencias de la Atmósfera de la Universidad Nacional Autónoma de México. Tiene un doctorado en Ciencias Atmosféricas en Estados Unidos, y ha trabajado en varios centros de investigación, incluyendo en Inglaterra y Canadá.'), ('[Graciela]: ', 'Haciendo mediciones de, eh, las características de las nubes dentro de las nubes, con aviones que tienen instrumental bastante sofisticado.'), ('[Victoria]: ', 'Para medir diferentes cosas: el contenido de agua, el tamaño de las gotas o la turbulencia en las nubes, por ejemplo. Todas esas mediciones…'), ('[Graciela]: ', 'Permiten, eh, una meyor… mayor… o mejor caracterización de las condiciones dentro de las nubes.'), ('[Victoria]: ', 'A mí todo eso me sonaba extraño y la verdad no sé mucho sobre nubes. Así que le pedí a Raga que me explicara sobre el tema desde cero, como si yo fuera una niña de ocho años, porque para este momento ya estaba muy confundida con todo lo que había leído sobre los cañones.\\xa0'), ('[Graciela]: ', 'Así que vamos por pasos:\\xa0'), ('[Graciela]: ', 'La formación de… de nubes es bastante… es algo bastante común en… en nuestro planeta y depende principalmente de dos cosas: la disponibilidad de vapor de agua.'), ('[Victoria]: ', 'O sea, se necesita que haya humedad en la atmósfera. Y la segunda cosa:\\xa0'), ('[Graciela]: ', 'El vapor de agua tiene que condensar sobre una partícula que ya exista.\\xa0'), ('[Victoria]: ', 'Me dijo que el agua no condensa, es decir, no pasa de estado gaseoso a líquido, en la nada. Necesita esas partículas diminutas como polvo, sales marinas o esporas de plantas.'), ('[Graciela]: ', 'Una vez que se tiene el vapor de agua y las partículas es necesario también que las partículas suban a una altura donde la temperatura es más baja.\\xa0'), ('[Graciela]: ', 'Y cuando la humedad es cien por ciento, condensa el vapor de agua sobre estas partículas y entonces nos da lugar como las primeras nubecitas que… que vemos.'), ('[Victoria]: ', 'Ese proceso tiene que durar lo suficiente para que las nubes crezcan y crezcan y crezcan. Si eso no pasa, pues ahí queda, pero si sí, de ahí sigue la formación de lluvia y granizo.'), ('[Graciela]: ', 'Me dijo que en esencia son procesos similares. Principalmente lo que cambia es que para que haya granizo tienen que formarse cristales de hielo y que eso solo pasa en un tipo de nube que se llama '), ('[Victoria]: ', 'Ya sean gotas o cristalitos, lo que sigue…\\xa0'), ('[Graciela]: ', 'Son los choques entre las gotas y cristales los que producen el crecimiento de estas… estos hidrometeoros.'), ('[Victoria]: ', 'No se asusten, hidrometeoros es otra forma de llamar a las partículas de lluvia y de granizo. El punto es que están chocando dentro de la nube y eso hace que se vuelvan más grandes. Dentro de la nube es un caos y es casi imposible saber desde afuera en qué momento está. Cuando ya no pueden estar suspendidas más en el aire por su peso, caen a la tierra, como lluvia o como granizo.'), ('[Graciela]: ', 'Después de toda esa explicación entendí que los meteorólogos tienen esto bastante claro. Pero entonces me surgía una duda que le planteé a Raga: ¿Por qué es tan difícil saber con cien por ciento de exactitud cuándo va a llover? Porque, OK, en los medios vemos todos los días pronósticos y probabilidades de lluvia, o a veces incluso de granizo, pero los más exactos en el mundo, solo llegan a un noventa por ciento de certeza, nunca es cien.\\xa0'), ('[Victoria]: ', 'Y me dijo que a pesar de que tenemos un conocimiento bastante preciso de lo que ocurre dentro de las nubes, no podemos reproducir lo que pasa ahí dentro en una computadora a las microescalas necesarias. Y es que el problema es que no hay ninguna computadora lo suficientemente poderosa como para poder simular cómo se mueve cada gotita dentro de una nube. Es increíblemente complejo. Lo más que se puede hacer es dar una probabilidad de que llueva o no. Pero nunca una certeza.'), ('[Graciela]: ', 'Entonces, retomemos un poco. Ya explicamos cómo se forman las nubes, la lluvia y el granizo. Los meteorólogos no discuten eso. Lo que sí se pone en duda es la capacidad de modificar esas condiciones de forma artificial.\\xa0'), ('[Victoria]: ', 'Y sí, es una ambición de la humanidad controlar el clima. Se está intentando ahora y no solo con los cañones de la Volkswagen. Raga me habló sobre un método: el de “sembrar nubes”, un proceso en el que se disparan cohetes —desde la superficie o desde aviones— que liberan partículas de yoduro de plata en las nubes. La idea es cargar las nubes con partículas y que eso acelere el proceso de la lluvia. Eso haría que llueva antes y no se alcance a formar el granizo.\\xa0'), ('[Graciela]: ', 'De hecho, durante la ceremonia de inauguración de las olimpiadas en China en 2008 se reportó que el gobierno usó este método para que no lloviera durante el evento. La ceremonia de inauguración estuvo seca.'), ('[Victoria]: ', 'Pero aunque en el laboratorio se ha comprobado que el yoduro de plata sirve para condensar el vapor de agua, otra cosa es que eso sirva con las nubes.'), ('[Graciela]: ', 'Porque hay que sembrar en un momento en particular. Ahora, ¿cómo llegó a sembrar en ese instante en particular, si tengo que pedir permiso para despegar con el avión? Entonces, realmente es muy difícil esa… desde el punto de vista experimental, hacer esa siembra y que sea efectiva.\\xa0'), ('[Victoria]: ', 'Es muy complicado probar si la siembra de nubes tiene un efecto real o si es que en realidad no se iba a formar granizo, y de todas formas iba a llover antes. Nunca es una certeza total.\\xa0'), ('[Graciela]: ', 'Entonces, la evidencia de que la siembra funciona o no, no pasa de anécdotas. No hay datos duros que se puedan considerar pruebas, para darle una validez científica a estos métodos.'), ('[Victoria]: ', 'Pero Raga me aclaró que una cosa es la siembra de nubes y otra lo que hacen los cañones antigranizo. Los cañones no liberan partículas en las nubes, solo queman acetileno para producir una onda sónica.'), ('[Graciela]: ', 'Y eso es importante, porque una de las críticas que se ha hecho a la siembra de nubes es que las partículas de cloro con yoduro de plata que se sueltan son tóxicas para los seres vivos. Las personas que apoyan el uso de la siembra argumentan que la cantidad de partículas que se liberan al ambiente no es suficiente como para causar daños, así que no hay problema.'), ('[Victoria]: ', 'Aun así, su uso es controversial. En un artículo sobre el uso de los cañones que se publicó en Armenia, se proponía que eran una alternativa más ecológica a la siembra de nubes, porque no usan el yoduro de plata.'), ('[Graciela]: ', 'El problema, claro, es que la explicación que dan los fabricantes sobre cómo funcionan los cañones no parece tener ningún sustento científico. Lo que dicen ellos es que…'), ('[Graciela]: ', 'El principio físico es que el… el aire que está contenido en las semillas del granizo va a vibrar con el sonido y va a hacer que se rompa el granizo.\\xa0'), ('[Victoria]: ', 'Lo que decía Ollivier en el video que escuchamos antes.\\xa0'), ('[Graciela]: ', 'Pero no es tan sencillo decir que algo funciona porque “hay un principio físico”. Se necesita probar, por lo menos en el papel, con fórmulas y una teoría. Y luego hacer pruebas para llegar a una conclusión.\\xa0'), ('[Graciela]: ', 'Yo conozco y conocí a —varios han muerto— muchos de los más importantes físicos que han trabajado en el laboratorio estudios de granizo, y eso no está probado.\\xa0'), ('[Victoria]: ', 'Y sí, trataron de probarlo. Se intentaron romper cristales de hielo en laboratorios con sonido —imitando lo que hacen los cañones— y no resultó. Por lo menos no a los niveles que se necesitaría para afectar una tormenta de granizo. Según Raga, no tiene sentido pensar que la explosión sónica del cañón va a deshacer el granizo cuando va cayendo, si las ondas expansivas de los truenos durante una tormenta —que son mucho más fuertes y están más cerca de las nubes— no deshacen el granizo.'), ('[Graciela]:', ' Entonces realmente la efectividad de esa tecnología es nula.'), ('[Victoria]: ', 'La postura de la Organización Meteorológica Mundial de las Naciones Unidas sobre las tecnologías que tratan de modificar el tiempo —como los cañones antigranizo o la siembra de nubes— es que, y cito, “no tienen ninguna base científica y deben ser tomadas con sospecha”.\\xa0'), ('[Graciela]:', 'Y al hablar de las posibles consecuencias ambientales que pueden tener, solo dicen que, cito, “no se han demostrado, pero no se pueden descartar”.'), ('[Graciela]:', ' Ciertamente tendría que haber mayor regulación y este es el rol del Estado, ¿no? En la regulación, de que no haya una propaganda totalmente falsa y que la gente no lo compre. Pero… pero, bueno, no hay mucha regulación en ese sentido en México.'), ('[Victoria]: ', 'Ni tampoco en otros países.\\xa0'), ('[Graciela]:', 'Aunque la intervención del gobierno parece volverse cada más necesaria: el conflicto entre la Volkswagen y los agricultores de los pueblos vecinos no es el primero que ha habido en México a causa de los cañones antigranizo.\\xa0'), ('[Victoria]: ', 'En Jalisco, otro estado del centro de México, ha habido problemas por su uso desde hace diez años. Pero ahí no era una planta armadora de autos la que empezó a usar los cañones, sino otros agricultores. Ellos los estaban usando para proteger sus cultivos de aguacate, fresas, arándano, moras y tomate, que son un tipo de cosecha que se ve muy afectada por el granizo y que además son cultivos que no necesitan lluvia de temporada, porque utilizan el riego. O sea, que si dejara de llover, no los afectaría.\\xa0'), ('[Graciela]:', 'En Jalisco pasó lo mismo que en Puebla: los campesinos que no estaban usando los cañones y que tenían cultivos como el maíz —que necesita la lluvia— empezaron a investigar. Con uno de los que hablaron fue con un profesor-investigador en la Universidad de Guadalajara, Ricardo García de Alba.\\xa0'), ('[Ricardo García de Alba]: ', 'Yo estaba escéptico a esta tecnología. Sin embargo, eh, muchos productores rurales del sur de Jalisco empezaron a tener inquietudes respecto a que se usaban una serie de artefactos que les impedía la lluvia.'), ('[Victoria]: ', 'Los campesinos afectados en Jalisco también fueron a las autoridades a denunciar.\\xa0'), ('[Ricardo García de Alba]: ', 'Sin embargo la autoridad local, las autoridades estatales y federales estaban escépticos a situaciones de que una pa… una tecnología como el asunto de los cañones antigranizo pudiera inhibir la lluvia en particular.'), ('[Victoria]: ', 'Que es la misma postura de la Organización Meteorológica Mundial y de la mayoría de los científicos.\\xa0'), ('[Ricardo García de Alba]: ', 'Pero lo que llama la atención es que este escepticismo e incertidumbre no hayan sido razones suficientes para prohibir el uso de los cañones, sino la excusa para no regularlos y dejar que se usaran sin antes hacer los estudios para medir los impactos que pueden tener en el ambiente.'), ('[Victoria]: ', 'Para García de Alba, el tema es que el uso de los cañones se está volviendo un problema social.\\xa0'), ('[Ricardo García de Alba]: ', 'En todas partes del mundo donde se usan cañones: Argentina, Chile, España, Francia, en el norte del país, en el centro del país. Donde quiera que se están usando los cañones, el reclamo social es exactamente el mismo.'), ('[Victoria]: ', 'Que se regule o que no se permita su uso. Pero los fabricantes se escudan detrás de las afirmaciones científicas: que los cañones no afectan la lluvia, aunque convenientemente omiten que el mismo consenso científico dice que tampoco están afectando el granizo, y que no está probado que los cañones sirvan para cambiar el tiempo.'), ('[Ricardo García de Alba]: ', 'García de Alba en un inicio también había dudado que los cañones pudieran tener algún efecto, iba en contra de todo lo que sabía sobre los procesos de formación de nubes y lluvia, pero ante la insistencia de los campesinos, quienes le relataban sus experiencias diarias, ese escepticismo se transformó en curiosidad. Así que ahora, él ve claro el papel que deben cumplir los científicos en este conflicto…'), ('[Ricardo García de Alba]: ', 'La investigación tiene que resolver los problemas sociales y si esto es un problema hay que darle respuesta. Y hay que explicar y hay que decir a la sociedad qué es o no es lo que se están imaginando.'), ('[Victoria]: ', 'O sea, hay que proponer investigaciones científicas serias, con pruebas reales para resolver una problemática social que claramente existe.'), ('[Ricardo García de Alba]: ', 'Porque aunque no afecten la caída de lluvia o el granizo, no es claro tampoco cuáles son los efectos que sí están causando los cañones. Y averiguar esto es complicado, porque García de Alba dice que no tiene todos los datos que necesita para saber cómo funcionan los cañones.'), ('[Ricardo García de Alba]: ', 'Es una información que tiene que ver con derechos de autor, que tienen que ver con propiedad intelectual y propiedad industrial.\\xa0'), ('[Victoria]: ', 'Pues como vimos al comienzo, las explicaciones que se encuentran en los videos o los sitios de internet de los fabricantes son bastante simples y vagas. No contienen todos los datos que permiten probar o refutar su efectividad.\\xa0'), ('[Ricardo García de Alba]: ', 'García de Alba lo que querría es poder hacer experimentos.'), ('[Ricardo García de Alba]: ', 'Si queremos saber exactamente qué sucede con un cañón, primero tenemos que tener un cañón para fines de investigación y crear el mismo protocolo de activación.\\xa0'), ('[Victoria]: ', 'Es decir, usarlo igual que lo usan los agricultores de Jalisco o la Volkswagen.'), ('[Ricardo García de Alba]: ', 'Se activa el sistema de cañones cuando hay la presencia de un '), ('[Victoria]: ', 'Las nubes que producen granizo.'), ('[Ricardo García de Alba]: ', 'Y se tiene que generar, lanzar globos sonda que permita registrar los cambios de temperatura, de presión, de humedad relativa, ¿sí?, que la columna del… del cañón pudiera estar produciendo.'), ('[Victoria]: ', 'Según García de Alba esto serviría para comprobar si es cierto lo que dicen los que venden los cañones, y si no es:\\xa0'), ('[Ricardo García de Alba]: ', 'Pues entonces es simple: no metamos tecnologías, no engañemos a los propios productores frutícolas. Porque el cañón no es bara… no es barato, más todo lo que implica su funcionamiento y todo lo que implica su mantenimiento.\\xa0'), ('[Victoria]: ', 'García de Alba explicó que han sido esos mismos costos los que han impedido hacer los experimentos, pues hasta ahora no han conseguido financiamiento ni siquiera para comprar un cañón. Pero, aún haciendo esos experimentos, hay otros científicos que piensan que obtener una respuesta definitiva sobre su impacto en el tiempo sería muy difícil, pues puede haber miles de otras variables que afecten las observaciones. Porque así es el tiempo.'), ('[Ricardo García de Alba]: ', 'Se ha documentado el uso ocasional de los cañones en países como Estados Unidos y Alemania, pero aun así realmente no se pueden encontrar estudios serios sobre los efectos que están teniendo hoy en día. Los estudios que mencionó Raga antes —donde se determinó que no había pruebas que comprobaran que estaban afectando la lluvia o el granizo— se realizaron en los ochentas y, desde entonces, parece que el asunto quedó ahí, a pesar de que los cañones se siguen vendiendo y usando. De hecho en los últimos años, el gobierno de la India empezó a financiar la compra de cañones para crear un sistema regional de protección antigranizo que protegiera los cultivos de manzanas.'), ('[Victoria]: ', 'Aunque no detengan el granizo o la lluvia, lo que sí es cierto es que para hacer explosiones cada siete segundos, durante horas —como lo escuchaban los vecinos de San Lorenzo— se están quemando combustibles y eso, todos lo sabemos, contamina. Tampoco se han hecho los estudios ambientales para saber qué impacto puede estar teniendo ese ruido estruendoso en las aves, insectos o plantas que están cerca. Además de lo incómodo y dañino que podría ser para las personas.'), ('[Nazario]: ', 'En el caso mío yo esperaba un promedio de siete toneladas de maíz, que es poquito lo que yo saco, pero al final solamente levanté dos toneladas.'), ('[Victoria]: ', 'Este es Nazario, a quien ya escuchamos al principio de esta historia. En la temporada de cosecha de 2018, la falta de lluvia le causó una pérdida importante.'), ('[Nazario]: ', 'Sí, nos vimos muy afectados. La mazorca ya no se dio, este, debido a que seguía echando cuetes, pues ya la milpa ya no creció. Ya no… ya no fue lo mismo.'), ('[Victoria]: ', 'Las autoridades declararon ante los medios que la canícula —es decir, la temporada caliente del año— había sido la más severa en casi 80 años y que eso había ocasionado una sequía en varias partes del estado.'), ('[Nazario]: ', 'Los campesinos de San Lorenzo, Ocotlán y las demás poblaciones cercanas no llegaron a ningún acuerdo formal con la empresa. Las mesas de diálogo simplemente dejaron de ocurrir y a finales de agosto la Volkswagen anunció que dejaría de usar los cañones de manera automática —ahora solo lo harían de manera manual— y que iba a colocar mallas antigranizo para resolver el problema que tenían con los carros que se veían afectados por el granizo.\\xa0'), ('[Victoria]: ', 'Según Nazario, esto ocurrió porque la Volkswagen ya no quería tener problemas.'), ('[Nazario]: ', 'Porque si seguía usando iba… se iba a hacer un conflicto social aquí en el estado.'), ('[Victoria]: ', '¿Un… un conflicto social cómo?'), ('[Nazario]: ', 'Un conflicto social donde todos los pueblos se levantaran en contra de Volkswagen y podría terminar tal vez hasta quemada o echadas de acá del… del país.\\xa0'), ('[Victoria]: ', 'Y esa explicación tiene sentido porque la empresa ya había estado envuelta en un escándalo ambiental unos años antes: el Dieselgate. En 2015 se reveló que Volkswagen había instalado un software en sus carros para simular emisiones menos contaminantes al momento de someterlos a pruebas de los reguladores en Estados Unidos, pero en realidad los carros estaban contaminando a niveles más altos que los permitidos por ese país.\\xa0'), ('[Nazario]: ', 'Aunque las revelaciones sobre ese fraude habían sucedido en 2015, las consecuencias seguían en 2018. En mayo de ese año, cuando los vecinos apenas empezaban a darse cuenta de los cañonazos, el expresidente ejecutivo de Volkswagen fue acusado de fraude y conspiración en los Estados Unidos en relación al llamado “Dieselgate”. Y las demandas en contra de la empresa seguían acumulándose con pérdidas de miles de millones de dólares.'), ('[Victoria]: ', 'Al parecer no fueron los argumentos científicos, ni el reclamo de los campesinos lo que los hizo cambiar de opinión.\\xa0'), ('[Nazario]: ', 'Quizá burlarse de las leyes ambientales fue fácil para Volkswagen, meterle un software a sus autos y ya. Burlarse de la naturaleza, pues, es más complejo.\\xa0'), ('[Victoria]: ', 'Estuve en San Lorenzo Almecatla y San Francisco Ocotlán en el verano de 2019, un año después de todo el conflicto con la Volkswagen, y las personas con las que hablé me contaron que ese año la cosecha iba mucho mejor.\\xa0'), ('[Nazario]: ', 'Este, pues aparentemente van bien, van muy bien ahorita. Hasta en este momento tenemos buen… buen avance de nuestras cosechas, van muy bien.'), ('[Victoria]: ', '¿Todavía no saben cuántas toneladas van a ser?'), ('[Nazario]: ', 'No, todavía no sabemos cómo.. cómo nos vaya, ¿no? Ojalá y siga lloviendo porque dentro de poco va a empezar a jilotear y necesitamos el agua.'), ('[Victoria]: ', 'Jilotear, que es cuando empiezan a salir las mazorcas de elote. Estela también me dijo otra cosa.'), ('[Estela]: ', 'No hay ni un ave muerta. No sé si se han dado cuenta, pero no hay aves muertas.\\xa0'), ('[Victoria]: ', 'Y, claro, ya no se escuchaban los cañones.'), ('[Daniel]: ', 'Victoria Estrada es editora de Radio Ambulante. Vive en Xalapa, Veracruz.\\xa0'), ('[Victoria]: ', 'Esta historia fue editada por Camila Segura y por mí. El diseño de sonido y la música son de Andrés Azpiri y Rémy Lozano. Emiliano Rodríguez Mega y Andrea López Cruzado hicieron el '), ('[Daniel]: ', 'El resto del equipo de Radio Ambulante incluye a Lisette Arévalo, Jorge Caraballo, Miranda Mazariegos, Patrick Moseley, Laura Rojas Aponte, Barbara Sawhill, David Trujillo, Elsa Liliana Ulloa y Luis Fernando Vargas. Carolina Guerrero es la CEO.'), ('[Victoria]: ', 'Radio Ambulante es un podcast de Radio Ambulante Estudios, y se produce y se mezcla en el programa Hindenburg PRO. Tenemos otro podcast: un podcast de noticias que sale cada viernes. Se llama El hilo. Búscalo en elhilo.audio.'), ('[Daniel]: ', 'Radio Ambulante cuenta las historias de América Latina. Soy Daniel Alarcón. Gracias por escuchar.')]\n"
     ]
    }
   ],
   "source": [
    "#Extract transcription from story disparos_al_cielo as a list of (speaker, utterance) tuples\n",
    "\n",
    "disparos_al_cielo_url ='https://radioambulante.org/transcripcion/disparos-al-cielo-transcripcion'\n",
    "disparos_al_cielo = requests.get(disparos_al_cielo_url)\n",
    "disparos_al_cielo_soup = BeautifulSoup(disparos_al_cielo.text, \"lxml\")\n",
    "disparos_al_cielo_transcript = disparos_al_cielo_soup.find('div', class_='qode-post-text-main').find_all('p')\n",
    "\n",
    "speakers = ['']\n",
    "utterances = ['']\n",
    "for index,line in enumerate(disparos_al_cielo_transcript):\n",
    "    #add each line's speaker to the list of speakers\n",
    "    if line.find('b'):\n",
    "        speaker = line.find('b').text\n",
    "    else:\n",
    "        speaker = speakers[index-1]\n",
    "    speakers.append(speaker)\n",
    "    #add each line's utterance to the list of utterances\n",
    "    if line.find('span'):\n",
    "        utterance = line.find('span').text\n",
    "    else:\n",
    "        utterance = 'NA'\n",
    "    utterances.append(utterance)\n",
    "        \n",
    "disparos_al_cielo_spkr_utt = list(zip(speakers, utterances))\n",
    "print(disparos_al_cielo_spkr_utt)"
   ]
  },
  {
   "cell_type": "code",
   "execution_count": 13,
   "metadata": {
    "hidden": true,
    "slideshow": {
     "slide_type": "skip"
    }
   },
   "outputs": [
    {
     "data": {
      "text/plain": [
       "True"
      ]
     },
     "execution_count": 13,
     "metadata": {},
     "output_type": "execute_result"
    }
   ],
   "source": [
    "#Write a function to extract transcriptions from any arbitrary soupified story\n",
    "def get_transcription(story_soup):\n",
    "    \"\"\"accepts any soupified story and returns its transcription\n",
    "    as a list of (speaker, utterance tuples)\"\"\"\n",
    "    transcript = story_soup.find('div', class_='qode-post-text-main').find_all('p')\n",
    "    \n",
    "    speakers = ['']\n",
    "    utterances = ['']\n",
    "    \n",
    "    #add each line's speaker to the list of speakers\n",
    "    for index,line in enumerate(transcript):\n",
    "        if line.find('b'):\n",
    "            speaker = line.find('b').text #The speaker should be located in a bold text (check this later)\n",
    "        else:\n",
    "            speaker = speakers[index-1] #When the speaker is missing, get it from the previous line\n",
    "            \n",
    "        speakers.append(speaker)\n",
    "        \n",
    "        if line.find('span'): #The utterances should be located in a span tag (check this later)\n",
    "            utterance = line.find('span').text\n",
    "        else:\n",
    "            utterance = 'NA'\n",
    "            \n",
    "        utterances.append(utterance)\n",
    "        \n",
    "    return list(zip(speakers, utterances))\n",
    "            \n",
    "    \n",
    "#sanity check on disparos_al_cielo\n",
    "get_transcription(soupify(disparos_al_cielo_url)) == disparos_al_cielo_spkr_utt"
   ]
  },
  {
   "cell_type": "code",
   "execution_count": 14,
   "metadata": {
    "hidden": true,
    "slideshow": {
     "slide_type": "skip"
    }
   },
   "outputs": [
    {
     "name": "stdout",
     "output_type": "stream",
     "text": [
      "{'url': 'https://radioambulante.org/transcripcion/disparos-al-cielo-transcripcion', 'title': ['disparos-al-cielo-transcripcion'], 'country': 'México', 'transcription': [('', ''), ('[Daniel Alarcón, host]:', ' Hola, ambulantes. Antes de comenzar quiero recordarles de nuestro nuevo podcast: El hilo. Es un poco diferente a Radio Ambulante, cada viernes revisamos una noticia importante de Latinoamérica y contamos la historia detrás de esa noticia. Y, claro, en estos días ese tema es coronavirus. El episodio del viernes pasado, por ejemplo, reportamos desde Guayaquil, Ecuador, una de las ciudades más golpeadas de la región. No se lo pierdan.\\xa0'), ('', 'Además quiero recordarles que cada viernes por las próximas cinco semanas vamos a poner el episodio de El hilo en este feed. O sea, Radio Ambulante los martes, episodio extra de El hilo los viernes. La idea es servirles mejor durante este periodo tan complejo. Más información en elhilo.audio. OK, entonces aquí va el episodio.'), ('[Daniel Alarcón, host]:', 'Bienvenidos a Radio Ambulante, desde NPR. Soy Daniel Alarcón.\\xa0'), ('(SOUNDBITE DE EXPLOSIONES)', 'NA'), ('[Daniel]: ', 'Eso que escuchan se grabó en San Lorenzo Almecatla, un pueblo en el centro de México, y apareció en un medio regional en 2018. La gente de San Lorenzo empezó a escuchar ese sonido en mayo de ese mismo año.'), ('(SOUNDBITE DE EXPLOSIONES)', 'NA'), ('[Daniel]: ', 'Y no tenían ni idea qué era. Así lo explica Nazario Cuautencos, que vive en San Lorenzo.'), ('[Nazario Cuautencos]:', ' Yo pensé que eran cuetes de los pueblos aledaños, ¿no?'), ('[Daniel]: ', 'Cuetes, o sea, fuegos artificiales. En México, como en muchas otras partes de Latinoamérica, son comunes en ciertas celebraciones, como el día de algún santo patrono. Pero estas explosiones se escuchaban mucho, mucho más fuerte.'), ('[Nazario]:', ' Cómo que se movía la… la tierra. Hacía: ¡zaz!\\xa0'), ('[Daniel]: ', 'Así que la explicación de los fuegos artificiales era poco probable.\\xa0'), ('[Nazario]:', 'San Lorenzo es una comunidad pequeña a las afueras de la ciudad de Puebla. Tomas la carretera que te lleva hacia la salida al noroeste de la ciudad, pasas algunas zonas industriales y en pocos minutos te encuentras en un lugar más rural: planicies verdes, con mucho sol, atravesadas por más carreteras que conectan los varios pueblos de la región.\\xa0'), ('[Daniel]: ', 'Nazario, como muchos de los pobladores de San Lorenzo, se dedica a la agricultura.'), ('[Nazario]: ', 'La mayoría cultivamos, este, lo que es maíz y calabaza, nada más. Y haba.\\xa0'), ('[Daniel]: ', 'Y fue desde las tierras que tiene a las afueras del pueblo, donde también está su casa, que Nazario empezó a escuchar esas explosiones. Y le llamó la atención cuánto duraban.'), ('[Nazario]: ', 'A veces se hacían dos o tres horas porque echaban… y luego como cada cinco minutos echaban uno y otro, y otro, y otro.\\xa0'), ('[Daniel]: ', 'Pero empezaron a darse cuenta que parecía haber un patrón.'), ('[Nazario]: ', 'Las nubes estaban bien negras, negras, así ya pa’ llover y empezaban a tronar: ¡zas! ¡zas! Y cuando veíamos, las nubes se empezaban a abrir. Y cuando vimos ya… ya no llovió. Ya se fue… se fueron las nubes.\\xa0'), ('[Daniel]: ', 'O sea, los ruidos sonaban cuando parecía que iba a llover. Y es que fue justo en los meses cuando comienza la temporada de lluvia que se empezaron a escuchar esas explosiones. Es una época muy importante para los campesinos como Nazario que practican agricultura de temporal, que depende de la lluvia para que crezcan los cultivos.\\xa0'), ('[Nazario]: ', 'Estela Ramírez vive en San Francisco Ocotlán, un pueblo muy cerca de San Lorenzo, y ella también empezó a notar más o menos al mismo tiempo la conexión entre las explosiones y la lluvia.'), ('[Estela Ramírez]:', ' Porque ya las aguas, este, ya anunciaban. Y incluso hasta metíamos la ropa, juntábamos, este, nuestros pollitos y todo ya, porque va a llover.\\xa0'), ('[Daniel]: ', 'Y lo mismo. Si las nubes aparecían, las explosiones sonaban. Además de la conexión con la lluvia, Estela un día se topó con otra cosa igual de preocupante.\\xa0'), ('[Estela]:', ' Tenemos unos doce árboles y amanecen ya tiraditos ahí los pajaritos muertos: seis, ocho. Una vez contamos hasta 16.\\xa0'), ('[Daniel]: ', 'Cuando descubrieron lo que provocaba ese ruido, Nazario y muchos de los vecinos de los alrededores se indignaron, y la noticia llegó a medios nacionales e internacionales. ¿Qué estaba provocando esas explosiones?'), ('[Estela]:', 'Nuestra editora Victoria Estrada nos cuenta.'), ('[Victoria Estrada]: ', 'La zona donde están San Lorenzo y Ocotlán, al noroeste de Puebla, es muy conocida además por otra cosa: ahí está una de las plantas de ensamblaje más grandes de la Volkswagen fuera de Europa. Es un terreno de 300 hectáreas y queda muy cerca de donde viven personas como Nazario.\\xa0'), ('[Nazario]: ', 'Usted puede ver que yo estoy cerca de aquí de Volkswagen. Estoy atrasito de Volkswagen.'), ('[Victoria]: ', 'La planta se construyó hace más de 50 años.\\xa0'), ('[Nazario]:', ' Anteriormente, cuando yo, este, llegué a esta zona solamente estaba Volkswagen y yo. No había nada. Casas arriba solamente habían tres.'), ('[Victoria]: ', 'Ahora ya se ve un parque industrial y un periférico que conecta con la ciudad. Ha pasado lo que en muchos lados: las ciudades crecen y empiezan a anexar las zonas que antes eran rurales.\\xa0'), ('[Nazario]:', 'Pronto se empezaron a correr rumores que explicaban de dónde venían esas explosiones. Él es Gerardo Pérez. Es ingeniero civil y vive en Ocotlán.'), ('[Gerardo Pérez]:', ' Me dijeron: “Oye, Gerardo, la Volkswagen echa cuetes para que no llueva”. Así, me lo comentaron.'), ('[Victoria]: ', 'La información de que las explosiones parecían venir de la Volkswagen empezó a correr de voz en voz y por grupos de chats. Y con esos rumores llegó algo más: que no eran cohetes ni bombas lo que estaban tirando, sino algo llamado “cañones antigranizo”.'), ('[Gerardo]: ', 'Entonces yo no sabía nada de los cañones antigranizo. O sea, no sabía nada del tema. Entonces, nos dimos a la tarea de investigar.'), ('[Nazario]: ', 'Gracias a Dios, pues, tenemos el internet y pues las personas a veces nos… nos… nos tenemos que meter a eso para, pues, documentarnos, ¿no?'), ('[Victoria]: ', 'No era mucha la información que había, pero básicamente se enteraron que esos cañones ya habían causado conflictos en otras partes donde se usaban, pues se decía que detenían el granizo y la lluvia. Los vecinos de la Volkswagen no sabían por qué la empresa quería que no granizara, ni menos por qué querían detener la lluvia, que era lo que parecía que estaba pasando.'), ('[Nazario]: ', 'Y aunque se llaman “cañones”, no son lo que uno se imaginaría: esos cañones negros de guerra que podrían aparecer en una película o serie ambientada en el siglo XVIII. Lo que ellos alcanzaban a ver a lo lejos eran unas estructuras más parecidas a una corneta metálica de unos seis metros de alto que apuntaba hacia el cielo.\\xa0'), ('[Victoria]: ', 'La falta de lluvia se fue prolongando por varias semanas y eso estaba afectando sus cultivos, pero nadie de la empresa se había pronunciado. Así que entre varios vecinos se reunieron y decidieron hablar con las autoridades municipales para discutir el uso de los cañones. Formaron una comisión, reunieron la información que habían sacado de internet y se la entregaron al presidente auxiliar del municipio y a los representantes de la Comisión Nacional del Agua. Pero les daban largas, los ignoraban y las respuestas no llegaban.'), ('[Nazario]: ', 'Entonces, este, pues nosotros nos… nos indignamos. Lo… por, le digo, por lo que nos estaba haciendo Volkswagen y tuvimos que, pues, tomar cartas en el asunto porque las autoridades se hacen de la vista gorda y no quieren hacer nada por… porque se nos haga justicia.'), ('[Victoria]: ', 'Así que los vecinos decidieron hacer algo para que tanto la empresa como las autoridades les prestaran atención.\\xa0'), ('(SOUNDBITE DE ARCHIVO)', 'NA'), ('[Periodista]: ', 'Pobladores de los alrededores del parque industrial FINSA cerraron el camino a San Lorenzo Almecatla. Están en contra de los cañones antigranizo que compró y que está utilizando la empresa Volkswagen. Argumenta que su uso ha provocado que ya no llueva en la zona, situación que está dañando los cultivos.'), ('[Victoria]: ', 'El 1 de junio de 2018 un grupo de unos 200 vecinos bloqueó la carretera y uno de los accesos a la planta de Volkswagen. Formaron una barrera para impedir el paso de los vehículos y llevaban carteles que decían “Por el agua” y “No cañones antigranizo”.'), ('[Periodista]: ', '\\xa0Los vecinos declararon lo que buscaban ante los medios.'), ('(SOUNDBITE DE ARCHIVO)', 'NA'), ('[Mujer]: ', 'Nuestras peticiones son que quiten los cañones antigranizo definitivamente y que si los vuelven a utilizar vamos a volver a cerrar, que hagan el pa… el pago económico por pérdida de cosechas en general.'), ('[Victoria]: ', 'Ese día el bloqueo de la carretera y del acceso a la planta de Volkswagen duró cinco horas. Un representante de la empresa salió a dar una declaración donde admitía que sí estaban usando esos “cañones antigranizo”, pero pidió que se creara una mesa de diálogo entre los vecinos, las autoridades y Volkswagen para explicar cómo funcionaban.'), ('[Mujer]: ', 'Este es Nazario otra vez.'), ('[Nazario]: ', 'Sí, ellos nos decían que… que los anti… los cañones antigranizo no le hacían daño al campesino, que era, este, pura superstición de nosotros y que no… que ignorábamos cuál eran la… el efecto que… que producían.'), ('[Victoria]: ', 'Y además decían que tenían los permisos necesarios para usar los cañones. Así que no dejarían de dispararlos.'), ('[Nazario]: ', 'Aquí hagamos una pausa para explicar cómo funcionan estos cañones. Es un tema complejo así que vamos por partes. Los cañones que estaba usando la Volkswagen los habían comprado de una empresa española llamada Sociedad Protección Anti Granizo, o SPAG por sus siglas.\\xa0'), ('[Victoria]: ', 'Este es David Ollivier, el director general de SPAG, describiendo para un canal de televisión cómo es que, según ellos, funcionan estos cañones.\\xa0'), ('(SOUNDBITE DE ARCHIVO)', 'NA'), ('[David Ollivier]: ', 'Lo que hacemos es una inyección de gas acetileno dentro de esa cámara de combustión creamos una chispa, esa chispa genera una… una explosión y esa explosión pro… produce una onda expansiva que es la que se… que es la que se expande hacia… hacia a la atmósfera'), ('[Victoria]: ', 'Según la SPAG la explosión produce ondas de choque, o sea, que van más rápido que la velocidad del sonido local. En su página web tienen un video promocional donde se supone que explican cómo funciona. Es puro dibujito, en realidad.\\xa0'), ('[David Ollivier]: ', 'Se ve que de un cañón disparan una onda blanca que se va expandiendo y va creando como una especie de domo. En la animación se ve cómo, apenas unos copos de nieve —que simbolizan el granizo— cruzan el borde del domo, se transforman en gotas de lluvia.'), ('[Victoria]: ', 'Lo importante es que, según esta explicación, las ondas no afectan la caída de lluvia.'), ('[David Ollivier]: ', 'La SPAG lleva ya 40 años en el mercado y dicen que han vendido estos cañones a más de 20 países, entre ellos Argentina, Nueva Zelanda, Australia, y ahora México. La mayoría de sus clientes son agricultores que tienen cultivos vulnerables al granizo, como la pera o el durazno. Pero, claro, Volkswagen no estaba cultivando frutas, sino armando autos, que se quedan al aire libre y también pueden ser dañados por el granizo.'), ('[Victoria]: ', 'Ni Volkswagen ni la SPAG han revelado cuál es el precio de los cañones que se instalaron en la armadora, pero se ha reportado que les pudo haber costado más de 1 millón de pesos —unos 64 mil dólares, al cambio de la época—. Es bastante menos de lo que cuestan otras alternativas, como los seguros por las pérdidas que pueda causar el granizo o las mallas antigranizo. Por ejemplo, para instalar la malla, se reportó que Volkswagen necesitaría pagar una licencia al municipio de más de 4 millones de pesos —más de 200 mil dólares, en ese entonces— y a eso añadir el costo de la malla y su instalación.\\xa0'), ('[David Ollivier]: ', 'Comparado con eso, los cañones son una ganga.'), ('[Victoria]: ', 'Esa primera protesta no tuvo mucho eco. Los campesinos reportaron que la Volkswagen siguió usando los cañones durante junio y julio del 2018. Pero a los vecinos de San Lorenzo y Ocotlán, se le unieron productores de otros pueblos vecinos, como Canoa, San Miguel Espejo, Xonacatepec, Aparicio, Acajete,Tepatlaxco y la Junta Auxiliar de la Resurrección.'), ('[David Ollivier]: ', 'En una rueda de prensa a principios de agosto, los campesinos anunciaron que según sus estimaciones ya se habían perdido casi 2 mil hectáreas de maíz, y, según declararon, eso había afectado a unas 100 mil personas en la región.'), ('[Victoria]: ', 'Como respuesta, el secretario estatal de Desarrollo Rural, Sustentabilidad y Ordenamiento Territorial anunció que la Comisión Nacional del Agua había descartado que los cañones tuvieran efectos negativos, pero aun así el gobierno de Puebla le había pedido a la Volkswagen que dejaran de usarlos hasta que se determinara si realmente habían tenido algo que ver con la falta de lluvia en la zona.\\xa0'), ('[David Ollivier]: ', 'O sea, que por lo menos se tenía que investigar las quejas de los vecinos agricultores.\\xa0'), ('[Victoria]: ', 'Pero los cañones seguían retumbando.\\xa0'), ('[David Ollivier]: ', 'Así que el 8 de agosto volvieron a tomar la carretera. Esta vez la toma duró una hora y terminó igual que la vez pasada: con un acuerdo para empezar mesas de diálogo entre la empresa, las autoridades y los campesinos.\\xa0'), ('[Victoria]: ', 'Aunque las protestas de los campesinos parecían no llegan a mucho, los medios cada vez ponían más atención a lo que estaba pasando en Puebla, y pronto, de ser una noticia local llegó a medios nacionales.\\xa0'), ('[David Ollivier]: ', 'Para tratar de explicar los efectos que tenían los cañones, los medios empezaron a consultar con investigadores y académicos. En uno de los noticieros salió una nota donde entrevistaron a Jesús Gómez, un doctor en Edafología —o sea, estudios del suelo— que se especializa en cambio climático. Fue muy enfático en lo perjudicial que eran estas ondas de los cañones.'), ('(SOUNDBITE DE ARCHIVO)', 'NA'), ('[Jesús Gómez]: ', 'Hay un daño colateral muy alto, cambia radicalmente toda la condición, sobre todo de balance de humedad porque disminuye muy considerablemente la precipitación.'), ('[Victoria]: ', 'Pero no todos los investigadores que entrevistaban los medios parecían coincidir. Mientras que Gómez decía que los cañones disminuyen la lluvia, en otro noticiero una doctora en física, Belinka González, dijo otra cosa.\\xa0'), ('(SOUNDBITE DE ARCHIVO)', 'NA'), ('[Belinka González]: ', 'Lo que provocan es que llueva, no que no llueva. No existen métodos para hacer que no llueva. Lo que haces es que llueva en otra región o en otro momento. Y puedes evitar que el agua llegue a congelarse y caiga en forma de granizo haciéndola que se precipite antes.'), ('[Victoria]: ', 'Pero tampoco era claro que eso era lo que estaba pasando, porque no había lluvia en la zona. Todo el asunto era muy confuso.'), ('[Belinka González]: ', 'Como respuesta a toda la atención que estaba atrayendo la noticia, el 13 de agosto de 2018, representantes de la Volkswagen dieron una conferencia de prensa para explicar cómo funcionaban esos cañones y por qué seguían usándolos.\\xa0'), ('[Victoria]: ', 'En la conferencia estaban tres ejecutivos de Volkswagen. La primera en hablar fue Sara Marengo, asistente técnico de la Oficina de la Presidencia de Volkswagen de México, quien quiso dejar una cosa muy en claro.'), ('(SOUNDBITE DE ARCHIVO)', 'NA'), ('[Sara Marengo]: ', 'El objetivo manifiesto de Volkswagen de México es la protección del medio ambiente: el agua, el suelo, del aire y los recursos en todos sus procesos de producción, así como una relación de buena vecindad.'), ('[Victoria]: ', 'Luego, Julio Marín, gerente de Gestión Ambiental, Sustentabilidad y Sistemas de Gestión para Volkswagen, explicó que habían instalado los cañones, porque 2017 había sido un año con tormentas de granizo especialmente fuertes que habían dañado los autos nuevos que se armaban y guardaban en los lotes. Eso les había causado pérdidas de 20 millones de dólares. Así que habían comprado tres cañones, aunque para ellos tiene un nombre más complejo: “dispositivos sónicos antigranizo”.'), ('(SOUNDBITE DE ARCHIVO)', 'NA'), ('[Julio Marín]:', ' Estos dispositivos sónicos fueron seleccionados después de que nuestras áreas de ingeniería buscaran alternativas de… qué hacer y cómo detener estos daños que se están dando tanto en las cosechas de nuestros compañeros campesinos como también en nuestros autos terminados.'), ('[Victoria]: ', 'Sobre las preocupaciones de los campesinos, solo dijeron que estaban haciendo los estudios de impacto ambiental que les había pedido el gobierno. Pero insistieron en que habían consultado otros estudios y a expertos que les habían dicho que los cañones no afectan la lluvia y por ende no deberían afectar a los campesinos.\\xa0'), ('[Julio Marín]:', 'La conferencia duró poco más de veinte minutos. Y terminó con los comentarios de Carlos Luna, el vicepresidente de Relaciones Corporativas de Volkswagen, quien aclaró que, fuera lo que fuera, tener y usar esos cañones era legal.\\xa0'), ('(SOUNDBITE DE ARCHIVO)', 'NA'), ('[Carlos Luna]: ', 'Nosotros contamos con todos los permisos, las autorizaciones necesarias que nos han acordado las secretarías de Medio Ambiente y por lo tanto están bajo función, eh, regulada por parte del Gobierno.'), ('[Victoria]: ', 'Traté insistentemente de hablar con Julio Marín y con otros representantes de la Volkswagen, pero nunca me respondieron.\\xa0'), ('[Carlos Luna]: ', 'Gerardo Pérez y Estela Ramírez, que viven en Ocotlán y de quienes ya habíamos escuchado, participaron en las mesas de diálogo que había propuesto Volkswagen desde la primera protesta para tratar de llegar a un acuerdo sobre el uso de los cañones. Pero, según ellos, esas reuniones en realidad no eran un diálogo, los directivos de la Volkswagen solo les enseñaban documento tras documento para tratar de convencerlos.'), ('[Gerardo]: ', 'Ellos nos mostraron una ficha técnica e incluso yo les comentaba: “Pues si una ficha técnica viene del constructor pues va a decir que no afecta, ¿verdad?”'), ('[Victoria]: ', 'O sea, que no era un dictamen imparcial de una tercera parte y que su validez era muy cuestionable.'), ('[Gerardo]: ', 'Cuando entrevisté a Gerardo, me mostró una parte del expediente que les habían dado.'), ('[Victoria]: ', 'Y, este, estos papeles ¿qué… qué son? ¿Lo que había traído?'), ('[Gerardo]: ', 'Bueno, sí, hay algo de… de acá, de… por ejemplo, mire, aquí nosotros… yo bajé unas… los límites de Cuautlancingo.'), ('[Victoria]: ', 'Y entre todos esos papeles estaba un documento clave. Era la evidencia clara de que no era cierto que estaban cumpliendo con las condiciones del permiso que les había aprobado el gobierno.'), ('[Gerardo]: ', 'Este es el expediente que tenemos, ¿no? Dice: “Los dispositivos antigranizo operarán menos de dos horas por año y contarán con un sistema antisonoro que reduce significativamente el nivel del ruido». O sea, aquí claramente lo está diciendo que deben operar menos de dos horas por año\\xa0 … y en una… y en un solo día —ellos mismos nos dieron el expediente— fueron casi… aquí tienen, mira, del 23, 24, 25… de abril a mayo fueron once horas nada más.'), ('[Victoria]: ', 'O sea, que ellos mismos habían llevado el registro de cuántas veces y por cuánto tiempo los habían prendido. Y eran muchas horas, más de las dos que autorizaba el permiso.'), ('[Gerardo]: ', 'También decía que la Volkswagen necesitaba obtener las autorizaciones que fueran necesarias a nivel municipal, estatal y federal. Y ese fue otro punto que los vecinos sabían que no habían cumplido.'), ('[Gerardo]: ', 'Porque también nosotros como pueblos originarios, para… para que se haga ese tipo de proyectos, deben de ser consultados a los pueblos originarios.'), ('[Victoria]: ', 'Y esto es importante porque según los tratados internacionales que México ha ratificado, los pueblos originarios tienen el derecho a ser consultados previamente sobre cualquier situación que afecte sus intereses. Y, por supuesto, la instalación de una maquinaria que pudiera afectar la caída de granizo en la zona forma parte de esto.'), ('[Gerardo]: ', 'Y en base a una consulta y el pueblo decide, cosa que también no hicieron. O sea, había muchas anomalías en el… en el expediente.'), ('[Victoria]: ', 'A pesar de todas estas anomalías, los vecinos nunca sintieron que tenían el respaldo de las autoridades en sus reclamos. Según Estela, desde el inicio, esas mesas de diálogo no fueron muy productivas.'), ('[Estela]: ', 'A nosotros… ¿cómo le podré explicar? Pues, prácticamente nos ignoraban. Sí, porque así fue. Realmente que nos… no nos escuchaban nuestras peticiones, nuestros sentires como pueblo. Nunca hubo eso.'), ('[Daniel]: ', 'Hasta este momento había dos cosas claras: Volkswagen no dejaría de disparar los cañones para disolver el granizo y los vecinos no dejarían de reclamar para que les devolvieran las lluvias. Esto llamó la atención de muchas personas en el país, pero sobre todo de algunos meteorólogos, que empezaron a decir algo que contradecía tanto a la empresa como a los campesinos: que los cañones antigranizo no servían para nada.\\xa0'), ('[Estela]: ', 'Una pausa y volvemos.'), ('[Squarespace]: ', 'Este podcast y el siguiente mensaje son patrocinados por Squarespace, el creador de sitios web dedicado a proporcionar a sus clientes plantillas fáciles de usar y diseñadas por profesionales. Únete a los millones de diseñadores gráficos, arquitectos, abogados y otros profesionales que usan Squarespace para promocionar su negocio. Visita ya Squarespace.com/NPR para una prueba gratuita de 14 días, y cuando estés listo para lanzar tu página, usa el código NPR para ahorrarte 10 por ciento en la compra de tu primer sitio web o dominio.'), ('[Code Switch]: ', 'Ya sea que hablemos de las protestas de atletas, la prohibición de que los musulmanes ingresen al país, la violencia con armas de fuego, la reforma educativa o la música que te está dando vida en este momento, la raza es el subtexto de gran parte de la historia estadounidense. Y en Code Switch, de NPR, ese subtexto se vuelve texto. Suscríbete y escucha todos los miércoles.'), ('[Up First]: ', 'Mientras dormías, un montón de noticias estaban pasando alrededor del mundo. Up First es el podcast de NPR que te mantiene informado sobre los grandes acontecimientos en un corto tiempo. Comparte diez minutos de tu día con Up First, desde NPR, de lunes a sábado.'), ('[Daniel]: ', 'Estamos de vuelta en Radio Ambulante. Soy Daniel Alarcón. Antes de la pausa escuchamos los problemas que tuvieron los vecinos de San Lorenzo Almecatla, de Ocotlán y otros pueblos vecinos de Volkswagen. En la primavera de 2018 la planta armadora empezó a usar cañones para detener el granizo que estaba dañando los carros en sus lotes.\\xa0'), ('[Up First]: ', 'Los vecinos decían que los cañones estaban ahuyentando la lluvia, pero la empresa aseguraba que solo afectaban el granizo y que además tenían los permisos para usarlos. Pero lo único cierto es que no estaba lloviendo como normalmente pasaba en esa época. Eso estaba afectando las cosechas, así que habían empezado a protestar para exigir que Volkswagen dejara de usarlos.\\xa0'), ('[Daniel]: ', 'Pero a ese conflicto se agregó la voz de algunos científicos como ella, Graciela Raga. Su argumento era sencillo:'), ('[Graciela Raga]: ', 'Lo que puedo decirle es que no hay realmente estudios que hayan documentado que ninguno de los métodos tienen una efectividad probada. Menos que menos los de los cañones que están en superficie. Es totalmente no efectivo. Eso ya está. O sea, no hay forma.\\xa0'), ('[Daniel]: ', 'O sea, que esos cañones en realidad no estaban haciendo lo que ninguna de las partes aseguraba.'), ('[Graciela Raga]: ', 'Victoria Estrada nos sigue contando.'), ('[Victoria]: ', 'La idea de disparar al cielo para tratar de evitar que llueva o granice es muy vieja. Empezó hace más de 500 años con esos cañones de guerra que todos hemos visto. En esa época disparaban balas de cañón —metálicas y muy pesadas— hacia las nubes. Benvenuto Cellini, un escultor italiano renacentista, reportó en 1554 en su autobiografía que había logrado destruir una tormenta a cañonazos.'), ('[Graciela Raga]: ', 'Desde entonces ha habido variaciones. Por ejemplo, a finales del siglo XIX se concedió una patente a un general en Estados Unidos que había desarrollado un proceso para que lloviera más: el invento era detonar explosivos que se elevaban hacia las nubes a bordo de globos.\\xa0'), ('[Victoria]: ', 'Según la empresa que los vende, el cañón que estaba usando Volkswagen se diseñó en los setentas y, como dijimos, no dispara balas, sino una onda sónica. Pero, en esencia, la idea es muy parecida a como empezó: disparar al cielo para tratar de cambiar el tiempo.'), ('[Graciela Raga]: ', 'Para entender cómo podría funcionar eso hablé con Graciela Raga, a quien escucharon antes. Ella es meteoróloga e investigadora del Centro de Ciencias de la Atmósfera de la Universidad Nacional Autónoma de México. Tiene un doctorado en Ciencias Atmosféricas en Estados Unidos, y ha trabajado en varios centros de investigación, incluyendo en Inglaterra y Canadá.'), ('[Graciela]: ', 'Haciendo mediciones de, eh, las características de las nubes dentro de las nubes, con aviones que tienen instrumental bastante sofisticado.'), ('[Victoria]: ', 'Para medir diferentes cosas: el contenido de agua, el tamaño de las gotas o la turbulencia en las nubes, por ejemplo. Todas esas mediciones…'), ('[Graciela]: ', 'Permiten, eh, una meyor… mayor… o mejor caracterización de las condiciones dentro de las nubes.'), ('[Victoria]: ', 'A mí todo eso me sonaba extraño y la verdad no sé mucho sobre nubes. Así que le pedí a Raga que me explicara sobre el tema desde cero, como si yo fuera una niña de ocho años, porque para este momento ya estaba muy confundida con todo lo que había leído sobre los cañones.\\xa0'), ('[Graciela]: ', 'Así que vamos por pasos:\\xa0'), ('[Graciela]: ', 'La formación de… de nubes es bastante… es algo bastante común en… en nuestro planeta y depende principalmente de dos cosas: la disponibilidad de vapor de agua.'), ('[Victoria]: ', 'O sea, se necesita que haya humedad en la atmósfera. Y la segunda cosa:\\xa0'), ('[Graciela]: ', 'El vapor de agua tiene que condensar sobre una partícula que ya exista.\\xa0'), ('[Victoria]: ', 'Me dijo que el agua no condensa, es decir, no pasa de estado gaseoso a líquido, en la nada. Necesita esas partículas diminutas como polvo, sales marinas o esporas de plantas.'), ('[Graciela]: ', 'Una vez que se tiene el vapor de agua y las partículas es necesario también que las partículas suban a una altura donde la temperatura es más baja.\\xa0'), ('[Graciela]: ', 'Y cuando la humedad es cien por ciento, condensa el vapor de agua sobre estas partículas y entonces nos da lugar como las primeras nubecitas que… que vemos.'), ('[Victoria]: ', 'Ese proceso tiene que durar lo suficiente para que las nubes crezcan y crezcan y crezcan. Si eso no pasa, pues ahí queda, pero si sí, de ahí sigue la formación de lluvia y granizo.'), ('[Graciela]: ', 'Me dijo que en esencia son procesos similares. Principalmente lo que cambia es que para que haya granizo tienen que formarse cristales de hielo y que eso solo pasa en un tipo de nube que se llama '), ('[Victoria]: ', 'Ya sean gotas o cristalitos, lo que sigue…\\xa0'), ('[Graciela]: ', 'Son los choques entre las gotas y cristales los que producen el crecimiento de estas… estos hidrometeoros.'), ('[Victoria]: ', 'No se asusten, hidrometeoros es otra forma de llamar a las partículas de lluvia y de granizo. El punto es que están chocando dentro de la nube y eso hace que se vuelvan más grandes. Dentro de la nube es un caos y es casi imposible saber desde afuera en qué momento está. Cuando ya no pueden estar suspendidas más en el aire por su peso, caen a la tierra, como lluvia o como granizo.'), ('[Graciela]: ', 'Después de toda esa explicación entendí que los meteorólogos tienen esto bastante claro. Pero entonces me surgía una duda que le planteé a Raga: ¿Por qué es tan difícil saber con cien por ciento de exactitud cuándo va a llover? Porque, OK, en los medios vemos todos los días pronósticos y probabilidades de lluvia, o a veces incluso de granizo, pero los más exactos en el mundo, solo llegan a un noventa por ciento de certeza, nunca es cien.\\xa0'), ('[Victoria]: ', 'Y me dijo que a pesar de que tenemos un conocimiento bastante preciso de lo que ocurre dentro de las nubes, no podemos reproducir lo que pasa ahí dentro en una computadora a las microescalas necesarias. Y es que el problema es que no hay ninguna computadora lo suficientemente poderosa como para poder simular cómo se mueve cada gotita dentro de una nube. Es increíblemente complejo. Lo más que se puede hacer es dar una probabilidad de que llueva o no. Pero nunca una certeza.'), ('[Graciela]: ', 'Entonces, retomemos un poco. Ya explicamos cómo se forman las nubes, la lluvia y el granizo. Los meteorólogos no discuten eso. Lo que sí se pone en duda es la capacidad de modificar esas condiciones de forma artificial.\\xa0'), ('[Victoria]: ', 'Y sí, es una ambición de la humanidad controlar el clima. Se está intentando ahora y no solo con los cañones de la Volkswagen. Raga me habló sobre un método: el de “sembrar nubes”, un proceso en el que se disparan cohetes —desde la superficie o desde aviones— que liberan partículas de yoduro de plata en las nubes. La idea es cargar las nubes con partículas y que eso acelere el proceso de la lluvia. Eso haría que llueva antes y no se alcance a formar el granizo.\\xa0'), ('[Graciela]: ', 'De hecho, durante la ceremonia de inauguración de las olimpiadas en China en 2008 se reportó que el gobierno usó este método para que no lloviera durante el evento. La ceremonia de inauguración estuvo seca.'), ('[Victoria]: ', 'Pero aunque en el laboratorio se ha comprobado que el yoduro de plata sirve para condensar el vapor de agua, otra cosa es que eso sirva con las nubes.'), ('[Graciela]: ', 'Porque hay que sembrar en un momento en particular. Ahora, ¿cómo llegó a sembrar en ese instante en particular, si tengo que pedir permiso para despegar con el avión? Entonces, realmente es muy difícil esa… desde el punto de vista experimental, hacer esa siembra y que sea efectiva.\\xa0'), ('[Victoria]: ', 'Es muy complicado probar si la siembra de nubes tiene un efecto real o si es que en realidad no se iba a formar granizo, y de todas formas iba a llover antes. Nunca es una certeza total.\\xa0'), ('[Graciela]: ', 'Entonces, la evidencia de que la siembra funciona o no, no pasa de anécdotas. No hay datos duros que se puedan considerar pruebas, para darle una validez científica a estos métodos.'), ('[Victoria]: ', 'Pero Raga me aclaró que una cosa es la siembra de nubes y otra lo que hacen los cañones antigranizo. Los cañones no liberan partículas en las nubes, solo queman acetileno para producir una onda sónica.'), ('[Graciela]: ', 'Y eso es importante, porque una de las críticas que se ha hecho a la siembra de nubes es que las partículas de cloro con yoduro de plata que se sueltan son tóxicas para los seres vivos. Las personas que apoyan el uso de la siembra argumentan que la cantidad de partículas que se liberan al ambiente no es suficiente como para causar daños, así que no hay problema.'), ('[Victoria]: ', 'Aun así, su uso es controversial. En un artículo sobre el uso de los cañones que se publicó en Armenia, se proponía que eran una alternativa más ecológica a la siembra de nubes, porque no usan el yoduro de plata.'), ('[Graciela]: ', 'El problema, claro, es que la explicación que dan los fabricantes sobre cómo funcionan los cañones no parece tener ningún sustento científico. Lo que dicen ellos es que…'), ('[Graciela]: ', 'El principio físico es que el… el aire que está contenido en las semillas del granizo va a vibrar con el sonido y va a hacer que se rompa el granizo.\\xa0'), ('[Victoria]: ', 'Lo que decía Ollivier en el video que escuchamos antes.\\xa0'), ('[Graciela]: ', 'Pero no es tan sencillo decir que algo funciona porque “hay un principio físico”. Se necesita probar, por lo menos en el papel, con fórmulas y una teoría. Y luego hacer pruebas para llegar a una conclusión.\\xa0'), ('[Graciela]: ', 'Yo conozco y conocí a —varios han muerto— muchos de los más importantes físicos que han trabajado en el laboratorio estudios de granizo, y eso no está probado.\\xa0'), ('[Victoria]: ', 'Y sí, trataron de probarlo. Se intentaron romper cristales de hielo en laboratorios con sonido —imitando lo que hacen los cañones— y no resultó. Por lo menos no a los niveles que se necesitaría para afectar una tormenta de granizo. Según Raga, no tiene sentido pensar que la explosión sónica del cañón va a deshacer el granizo cuando va cayendo, si las ondas expansivas de los truenos durante una tormenta —que son mucho más fuertes y están más cerca de las nubes— no deshacen el granizo.'), ('[Graciela]:', ' Entonces realmente la efectividad de esa tecnología es nula.'), ('[Victoria]: ', 'La postura de la Organización Meteorológica Mundial de las Naciones Unidas sobre las tecnologías que tratan de modificar el tiempo —como los cañones antigranizo o la siembra de nubes— es que, y cito, “no tienen ninguna base científica y deben ser tomadas con sospecha”.\\xa0'), ('[Graciela]:', 'Y al hablar de las posibles consecuencias ambientales que pueden tener, solo dicen que, cito, “no se han demostrado, pero no se pueden descartar”.'), ('[Graciela]:', ' Ciertamente tendría que haber mayor regulación y este es el rol del Estado, ¿no? En la regulación, de que no haya una propaganda totalmente falsa y que la gente no lo compre. Pero… pero, bueno, no hay mucha regulación en ese sentido en México.'), ('[Victoria]: ', 'Ni tampoco en otros países.\\xa0'), ('[Graciela]:', 'Aunque la intervención del gobierno parece volverse cada más necesaria: el conflicto entre la Volkswagen y los agricultores de los pueblos vecinos no es el primero que ha habido en México a causa de los cañones antigranizo.\\xa0'), ('[Victoria]: ', 'En Jalisco, otro estado del centro de México, ha habido problemas por su uso desde hace diez años. Pero ahí no era una planta armadora de autos la que empezó a usar los cañones, sino otros agricultores. Ellos los estaban usando para proteger sus cultivos de aguacate, fresas, arándano, moras y tomate, que son un tipo de cosecha que se ve muy afectada por el granizo y que además son cultivos que no necesitan lluvia de temporada, porque utilizan el riego. O sea, que si dejara de llover, no los afectaría.\\xa0'), ('[Graciela]:', 'En Jalisco pasó lo mismo que en Puebla: los campesinos que no estaban usando los cañones y que tenían cultivos como el maíz —que necesita la lluvia— empezaron a investigar. Con uno de los que hablaron fue con un profesor-investigador en la Universidad de Guadalajara, Ricardo García de Alba.\\xa0'), ('[Ricardo García de Alba]: ', 'Yo estaba escéptico a esta tecnología. Sin embargo, eh, muchos productores rurales del sur de Jalisco empezaron a tener inquietudes respecto a que se usaban una serie de artefactos que les impedía la lluvia.'), ('[Victoria]: ', 'Los campesinos afectados en Jalisco también fueron a las autoridades a denunciar.\\xa0'), ('[Ricardo García de Alba]: ', 'Sin embargo la autoridad local, las autoridades estatales y federales estaban escépticos a situaciones de que una pa… una tecnología como el asunto de los cañones antigranizo pudiera inhibir la lluvia en particular.'), ('[Victoria]: ', 'Que es la misma postura de la Organización Meteorológica Mundial y de la mayoría de los científicos.\\xa0'), ('[Ricardo García de Alba]: ', 'Pero lo que llama la atención es que este escepticismo e incertidumbre no hayan sido razones suficientes para prohibir el uso de los cañones, sino la excusa para no regularlos y dejar que se usaran sin antes hacer los estudios para medir los impactos que pueden tener en el ambiente.'), ('[Victoria]: ', 'Para García de Alba, el tema es que el uso de los cañones se está volviendo un problema social.\\xa0'), ('[Ricardo García de Alba]: ', 'En todas partes del mundo donde se usan cañones: Argentina, Chile, España, Francia, en el norte del país, en el centro del país. Donde quiera que se están usando los cañones, el reclamo social es exactamente el mismo.'), ('[Victoria]: ', 'Que se regule o que no se permita su uso. Pero los fabricantes se escudan detrás de las afirmaciones científicas: que los cañones no afectan la lluvia, aunque convenientemente omiten que el mismo consenso científico dice que tampoco están afectando el granizo, y que no está probado que los cañones sirvan para cambiar el tiempo.'), ('[Ricardo García de Alba]: ', 'García de Alba en un inicio también había dudado que los cañones pudieran tener algún efecto, iba en contra de todo lo que sabía sobre los procesos de formación de nubes y lluvia, pero ante la insistencia de los campesinos, quienes le relataban sus experiencias diarias, ese escepticismo se transformó en curiosidad. Así que ahora, él ve claro el papel que deben cumplir los científicos en este conflicto…'), ('[Ricardo García de Alba]: ', 'La investigación tiene que resolver los problemas sociales y si esto es un problema hay que darle respuesta. Y hay que explicar y hay que decir a la sociedad qué es o no es lo que se están imaginando.'), ('[Victoria]: ', 'O sea, hay que proponer investigaciones científicas serias, con pruebas reales para resolver una problemática social que claramente existe.'), ('[Ricardo García de Alba]: ', 'Porque aunque no afecten la caída de lluvia o el granizo, no es claro tampoco cuáles son los efectos que sí están causando los cañones. Y averiguar esto es complicado, porque García de Alba dice que no tiene todos los datos que necesita para saber cómo funcionan los cañones.'), ('[Ricardo García de Alba]: ', 'Es una información que tiene que ver con derechos de autor, que tienen que ver con propiedad intelectual y propiedad industrial.\\xa0'), ('[Victoria]: ', 'Pues como vimos al comienzo, las explicaciones que se encuentran en los videos o los sitios de internet de los fabricantes son bastante simples y vagas. No contienen todos los datos que permiten probar o refutar su efectividad.\\xa0'), ('[Ricardo García de Alba]: ', 'García de Alba lo que querría es poder hacer experimentos.'), ('[Ricardo García de Alba]: ', 'Si queremos saber exactamente qué sucede con un cañón, primero tenemos que tener un cañón para fines de investigación y crear el mismo protocolo de activación.\\xa0'), ('[Victoria]: ', 'Es decir, usarlo igual que lo usan los agricultores de Jalisco o la Volkswagen.'), ('[Ricardo García de Alba]: ', 'Se activa el sistema de cañones cuando hay la presencia de un '), ('[Victoria]: ', 'Las nubes que producen granizo.'), ('[Ricardo García de Alba]: ', 'Y se tiene que generar, lanzar globos sonda que permita registrar los cambios de temperatura, de presión, de humedad relativa, ¿sí?, que la columna del… del cañón pudiera estar produciendo.'), ('[Victoria]: ', 'Según García de Alba esto serviría para comprobar si es cierto lo que dicen los que venden los cañones, y si no es:\\xa0'), ('[Ricardo García de Alba]: ', 'Pues entonces es simple: no metamos tecnologías, no engañemos a los propios productores frutícolas. Porque el cañón no es bara… no es barato, más todo lo que implica su funcionamiento y todo lo que implica su mantenimiento.\\xa0'), ('[Victoria]: ', 'García de Alba explicó que han sido esos mismos costos los que han impedido hacer los experimentos, pues hasta ahora no han conseguido financiamiento ni siquiera para comprar un cañón. Pero, aún haciendo esos experimentos, hay otros científicos que piensan que obtener una respuesta definitiva sobre su impacto en el tiempo sería muy difícil, pues puede haber miles de otras variables que afecten las observaciones. Porque así es el tiempo.'), ('[Ricardo García de Alba]: ', 'Se ha documentado el uso ocasional de los cañones en países como Estados Unidos y Alemania, pero aun así realmente no se pueden encontrar estudios serios sobre los efectos que están teniendo hoy en día. Los estudios que mencionó Raga antes —donde se determinó que no había pruebas que comprobaran que estaban afectando la lluvia o el granizo— se realizaron en los ochentas y, desde entonces, parece que el asunto quedó ahí, a pesar de que los cañones se siguen vendiendo y usando. De hecho en los últimos años, el gobierno de la India empezó a financiar la compra de cañones para crear un sistema regional de protección antigranizo que protegiera los cultivos de manzanas.'), ('[Victoria]: ', 'Aunque no detengan el granizo o la lluvia, lo que sí es cierto es que para hacer explosiones cada siete segundos, durante horas —como lo escuchaban los vecinos de San Lorenzo— se están quemando combustibles y eso, todos lo sabemos, contamina. Tampoco se han hecho los estudios ambientales para saber qué impacto puede estar teniendo ese ruido estruendoso en las aves, insectos o plantas que están cerca. Además de lo incómodo y dañino que podría ser para las personas.'), ('[Nazario]: ', 'En el caso mío yo esperaba un promedio de siete toneladas de maíz, que es poquito lo que yo saco, pero al final solamente levanté dos toneladas.'), ('[Victoria]: ', 'Este es Nazario, a quien ya escuchamos al principio de esta historia. En la temporada de cosecha de 2018, la falta de lluvia le causó una pérdida importante.'), ('[Nazario]: ', 'Sí, nos vimos muy afectados. La mazorca ya no se dio, este, debido a que seguía echando cuetes, pues ya la milpa ya no creció. Ya no… ya no fue lo mismo.'), ('[Victoria]: ', 'Las autoridades declararon ante los medios que la canícula —es decir, la temporada caliente del año— había sido la más severa en casi 80 años y que eso había ocasionado una sequía en varias partes del estado.'), ('[Nazario]: ', 'Los campesinos de San Lorenzo, Ocotlán y las demás poblaciones cercanas no llegaron a ningún acuerdo formal con la empresa. Las mesas de diálogo simplemente dejaron de ocurrir y a finales de agosto la Volkswagen anunció que dejaría de usar los cañones de manera automática —ahora solo lo harían de manera manual— y que iba a colocar mallas antigranizo para resolver el problema que tenían con los carros que se veían afectados por el granizo.\\xa0'), ('[Victoria]: ', 'Según Nazario, esto ocurrió porque la Volkswagen ya no quería tener problemas.'), ('[Nazario]: ', 'Porque si seguía usando iba… se iba a hacer un conflicto social aquí en el estado.'), ('[Victoria]: ', '¿Un… un conflicto social cómo?'), ('[Nazario]: ', 'Un conflicto social donde todos los pueblos se levantaran en contra de Volkswagen y podría terminar tal vez hasta quemada o echadas de acá del… del país.\\xa0'), ('[Victoria]: ', 'Y esa explicación tiene sentido porque la empresa ya había estado envuelta en un escándalo ambiental unos años antes: el Dieselgate. En 2015 se reveló que Volkswagen había instalado un software en sus carros para simular emisiones menos contaminantes al momento de someterlos a pruebas de los reguladores en Estados Unidos, pero en realidad los carros estaban contaminando a niveles más altos que los permitidos por ese país.\\xa0'), ('[Nazario]: ', 'Aunque las revelaciones sobre ese fraude habían sucedido en 2015, las consecuencias seguían en 2018. En mayo de ese año, cuando los vecinos apenas empezaban a darse cuenta de los cañonazos, el expresidente ejecutivo de Volkswagen fue acusado de fraude y conspiración en los Estados Unidos en relación al llamado “Dieselgate”. Y las demandas en contra de la empresa seguían acumulándose con pérdidas de miles de millones de dólares.'), ('[Victoria]: ', 'Al parecer no fueron los argumentos científicos, ni el reclamo de los campesinos lo que los hizo cambiar de opinión.\\xa0'), ('[Nazario]: ', 'Quizá burlarse de las leyes ambientales fue fácil para Volkswagen, meterle un software a sus autos y ya. Burlarse de la naturaleza, pues, es más complejo.\\xa0'), ('[Victoria]: ', 'Estuve en San Lorenzo Almecatla y San Francisco Ocotlán en el verano de 2019, un año después de todo el conflicto con la Volkswagen, y las personas con las que hablé me contaron que ese año la cosecha iba mucho mejor.\\xa0'), ('[Nazario]: ', 'Este, pues aparentemente van bien, van muy bien ahorita. Hasta en este momento tenemos buen… buen avance de nuestras cosechas, van muy bien.'), ('[Victoria]: ', '¿Todavía no saben cuántas toneladas van a ser?'), ('[Nazario]: ', 'No, todavía no sabemos cómo.. cómo nos vaya, ¿no? Ojalá y siga lloviendo porque dentro de poco va a empezar a jilotear y necesitamos el agua.'), ('[Victoria]: ', 'Jilotear, que es cuando empiezan a salir las mazorcas de elote. Estela también me dijo otra cosa.'), ('[Estela]: ', 'No hay ni un ave muerta. No sé si se han dado cuenta, pero no hay aves muertas.\\xa0'), ('[Victoria]: ', 'Y, claro, ya no se escuchaban los cañones.'), ('[Daniel]: ', 'Victoria Estrada es editora de Radio Ambulante. Vive en Xalapa, Veracruz.\\xa0'), ('[Victoria]: ', 'Esta historia fue editada por Camila Segura y por mí. El diseño de sonido y la música son de Andrés Azpiri y Rémy Lozano. Emiliano Rodríguez Mega y Andrea López Cruzado hicieron el '), ('[Daniel]: ', 'El resto del equipo de Radio Ambulante incluye a Lisette Arévalo, Jorge Caraballo, Miranda Mazariegos, Patrick Moseley, Laura Rojas Aponte, Barbara Sawhill, David Trujillo, Elsa Liliana Ulloa y Luis Fernando Vargas. Carolina Guerrero es la CEO.'), ('[Victoria]: ', 'Radio Ambulante es un podcast de Radio Ambulante Estudios, y se produce y se mezcla en el programa Hindenburg PRO. Tenemos otro podcast: un podcast de noticias que sale cada viernes. Se llama El hilo. Búscalo en elhilo.audio.'), ('[Daniel]: ', 'Radio Ambulante cuenta las historias de América Latina. Soy Daniel Alarcón. Gracias por escuchar.')]}\n"
     ]
    }
   ],
   "source": [
    "#Build a dictionary for disparos_al_cielo\n",
    "\n",
    "disparos_al_cielo_dict = {\n",
    "    'url': '',\n",
    "    'title': '',\n",
    "    'country': '',\n",
    "    'transcription': []\n",
    "    }\n",
    "\n",
    "disparos_al_cielo_dict['url'] = 'https://radioambulante.org/transcripcion/disparos-al-cielo-transcripcion'\n",
    "disparos_al_cielo_dict['title'] = re.findall(r'transcripcion/(.+)', disparos_al_cielo_dict['url'])\n",
    "\n",
    "story_soup = soupify(disparos_al_cielo_dict['url']) #this is where the story url gets scraped\n",
    "disparos_al_cielo_dict['country'] = get_country(story_soup)\n",
    "disparos_al_cielo_dict['transcription'] = get_transcription(story_soup)\n",
    "\n",
    "print(disparos_al_cielo_dict)\n",
    "\n"
   ]
  },
  {
   "cell_type": "code",
   "execution_count": 15,
   "metadata": {
    "hidden": true,
    "slideshow": {
     "slide_type": "skip"
    }
   },
   "outputs": [
    {
     "data": {
      "text/plain": [
       "True"
      ]
     },
     "execution_count": 15,
     "metadata": {},
     "output_type": "execute_result"
    }
   ],
   "source": [
    "#Build a dictionary for any arbitrary story \n",
    "#keys: storyid, url, title, country, transcription (values = a list of (speaker,utterance) tuples)\n",
    "\n",
    "def process(story_link):\n",
    "    #Set up the story's dictionary keys with default values\n",
    "    story_dict = {\n",
    "        'url': '',\n",
    "        'title': '',\n",
    "        'country': '',\n",
    "        'transcription': []\n",
    "        }\n",
    "    \n",
    "    #Fill in the dictionary's values one by one\n",
    "    story_dict['url'] = story_link\n",
    "    story_dict['title'] = re.findall(r'transcripcion/(.+)', story_dict['url'])\n",
    "    \n",
    "    #Scrape the story's page ONCE and then parse its country and transcription\n",
    "    story_soup = soupify(story_dict['url'])\n",
    "    \n",
    "    story_dict['country'] = get_country(story_soup)\n",
    "    story_dict['transcription'] = get_transcription(story_soup)\n",
    "\n",
    "    return story_dict\n",
    "    \n",
    "    \n",
    "# sanity check on disparos_al_cielo\n",
    "process('https://radioambulante.org/transcripcion/disparos-al-cielo-transcripcion') == disparos_al_cielo_dict"
   ]
  },
  {
   "cell_type": "code",
   "execution_count": 16,
   "metadata": {
    "hidden": true,
    "slideshow": {
     "slide_type": "skip"
    }
   },
   "outputs": [
    {
     "name": "stdout",
     "output_type": "stream",
     "text": [
      "juntos-a-la-distancia\n",
      "['juntos-a-la-distancia-transcripcion']\n",
      "transcripcion-soy-marron-2\n",
      "['transcripcion-soy-marron-2']\n"
     ]
    }
   ],
   "source": [
    "#Process the first 30 stories and put a list of those dictionaries into a cache\n",
    "cache1 = []\n",
    "links = [story_link for story_link in all_story_links[:30]]\n",
    "for link in links:\n",
    "    cache1.append(process(link))\n",
    "    \n",
    "#sanity check first story \n",
    "print('juntos-a-la-distancia')\n",
    "print(cache1[0]['title'])\n",
    "#sanity check last story\n",
    "print('transcripcion-soy-marron-2')\n",
    "print(cache1[-1]['title'])"
   ]
  },
  {
   "cell_type": "code",
   "execution_count": 17,
   "metadata": {
    "hidden": true,
    "slideshow": {
     "slide_type": "skip"
    }
   },
   "outputs": [
    {
     "name": "stdout",
     "output_type": "stream",
     "text": [
      "un-punto-en-el-cielo\n",
      "['un-punto-en-el-cielo-transcripcion']\n",
      "postville-iowa\n",
      "['postville-iowa']\n"
     ]
    }
   ],
   "source": [
    "#Process the next 30 stories \n",
    "cache2 = []\n",
    "links = [story_link for story_link in all_story_links[30:60]]\n",
    "for link in links:\n",
    "    cache2.append(process(link))\n",
    "    \n",
    "#sanity check first story \n",
    "print('un-punto-en-el-cielo')\n",
    "print(cache2[0]['title'])\n",
    "#sanity check last story\n",
    "print('postville-iowa')\n",
    "print(cache2[-1]['title'])"
   ]
  },
  {
   "cell_type": "code",
   "execution_count": 18,
   "metadata": {
    "hidden": true,
    "slideshow": {
     "slide_type": "skip"
    }
   },
   "outputs": [
    {
     "name": "stdout",
     "output_type": "stream",
     "text": [
      "el-hijo\n",
      "['transcripcion-el-hijo']\n",
      "el-area-gris\n",
      "['transcripcion-el-area-gris']\n"
     ]
    }
   ],
   "source": [
    "#Process the next 30 stories \n",
    "cache3 = []\n",
    "links = [story_link for story_link in all_story_links[60:90]]\n",
    "for link in links:\n",
    "    cache3.append(process(link))\n",
    "    \n",
    "#sanity check first story \n",
    "print('el-hijo')\n",
    "print(cache3[0]['title'])\n",
    "#sanity check last story\n",
    "print('el-area-gris')\n",
    "print(cache3[-1]['title'])"
   ]
  },
  {
   "cell_type": "code",
   "execution_count": 19,
   "metadata": {
    "hidden": true,
    "slideshow": {
     "slide_type": "skip"
    }
   },
   "outputs": [
    {
     "name": "stdout",
     "output_type": "stream",
     "text": [
      "a-oscuras\n",
      "['transcripcion-a-oscuras']\n",
      "sobrevivientes-2\n",
      "['transcripcion-los-sobrevivientes-2']\n"
     ]
    }
   ],
   "source": [
    "#Process the next 30 stories \n",
    "cache4 = []\n",
    "links = [story_link for story_link in all_story_links[90:120]]\n",
    "for link in links:\n",
    "    cache4.append(process(link))\n",
    "    \n",
    "#sanity check first story \n",
    "print('a-oscuras')\n",
    "print(cache4[0]['title'])\n",
    "#sanity check last story\n",
    "print('sobrevivientes-2')\n",
    "print(cache4[-1]['title'])"
   ]
  },
  {
   "cell_type": "code",
   "execution_count": 20,
   "metadata": {
    "hidden": true,
    "slideshow": {
     "slide_type": "skip"
    }
   },
   "outputs": [
    {
     "name": "stdout",
     "output_type": "stream",
     "text": [
      "cuando-la-habana-era-friki\n",
      "['transcripcion-cuando-la-habana-era-friki']\n",
      "mesa-mundial\n",
      "['transcripcion-mesa-mundial']\n"
     ]
    }
   ],
   "source": [
    "#Process the next 30 stories \n",
    "cache5 = []\n",
    "links = [story_link for story_link in all_story_links[120:150]]\n",
    "for link in links:\n",
    "    cache5.append(process(link))\n",
    "    \n",
    "#sanity check first story \n",
    "print('cuando-la-habana-era-friki')\n",
    "print(cache5[0]['title'])\n",
    "#sanity check last story\n",
    "print('mesa-mundial')\n",
    "print(cache5[-1]['title'])"
   ]
  },
  {
   "cell_type": "code",
   "execution_count": 21,
   "metadata": {
    "hidden": true,
    "slideshow": {
     "slide_type": "skip"
    }
   },
   "outputs": [
    {
     "name": "stdout",
     "output_type": "stream",
     "text": [
      "la-palabra-prohibida\n",
      "['transcripcion-la-palabra-prohibida']\n",
      "la-caida-del-river\n",
      "['transcripcion-la-caida-del-river']\n"
     ]
    }
   ],
   "source": [
    "#Process the last stories \n",
    "cache6 = []\n",
    "links = [story_link for story_link in all_story_links[150:]]\n",
    "for link in links:\n",
    "    cache6.append(process(link))\n",
    "    \n",
    "#sanity check first story \n",
    "print('la-palabra-prohibida')\n",
    "print(cache6[0]['title'])\n",
    "#sanity check last story\n",
    "print('la-caida-del-river')\n",
    "print(cache6[-1]['title'])"
   ]
  },
  {
   "cell_type": "code",
   "execution_count": 22,
   "metadata": {
    "hidden": true,
    "slideshow": {
     "slide_type": "skip"
    }
   },
   "outputs": [],
   "source": [
    "#concatenate caches\n",
    "caches = cache1 + cache2 + cache3 + cache4 + cache5 + cache6"
   ]
  },
  {
   "cell_type": "markdown",
   "metadata": {
    "heading_collapsed": true,
    "hidden": true,
    "slideshow": {
     "slide_type": "skip"
    }
   },
   "source": [
    "### Cleaning and saving to disk"
   ]
  },
  {
   "cell_type": "code",
   "execution_count": 23,
   "metadata": {
    "hidden": true,
    "slideshow": {
     "slide_type": "skip"
    }
   },
   "outputs": [
    {
     "name": "stdout",
     "output_type": "stream",
     "text": [
      "['juntos-a-la-distancia-transcripcion']\n",
      "['transcripcion-la-caida-del-river']\n",
      "170\n"
     ]
    }
   ],
   "source": [
    "#check first story\n",
    "print(caches[0]['title'])\n",
    "#check last story\n",
    "print(caches[-1]['title'])\n",
    "#total stories\n",
    "print(len(caches))\n",
    "# #print out all story titles\n",
    "# for index in range(len(caches)):\n",
    "#     print(caches[index]['title'])"
   ]
  },
  {
   "cell_type": "code",
   "execution_count": 26,
   "metadata": {
    "hidden": true,
    "slideshow": {
     "slide_type": "skip"
    }
   },
   "outputs": [],
   "source": [
    "df = pd.DataFrame(caches)"
   ]
  },
  {
   "cell_type": "code",
   "execution_count": 27,
   "metadata": {
    "hidden": true,
    "slideshow": {
     "slide_type": "skip"
    }
   },
   "outputs": [
    {
     "data": {
      "text/html": [
       "<div>\n",
       "<style scoped>\n",
       "    .dataframe tbody tr th:only-of-type {\n",
       "        vertical-align: middle;\n",
       "    }\n",
       "\n",
       "    .dataframe tbody tr th {\n",
       "        vertical-align: top;\n",
       "    }\n",
       "\n",
       "    .dataframe thead th {\n",
       "        text-align: right;\n",
       "    }\n",
       "</style>\n",
       "<table border=\"1\" class=\"dataframe\">\n",
       "  <thead>\n",
       "    <tr style=\"text-align: right;\">\n",
       "      <th></th>\n",
       "      <th>url</th>\n",
       "      <th>country</th>\n",
       "      <th>transcription</th>\n",
       "    </tr>\n",
       "  </thead>\n",
       "  <tbody>\n",
       "    <tr>\n",
       "      <th>150</th>\n",
       "      <td>https://radioambulante.org/transcripcion/trans...</td>\n",
       "      <td>Estados Unidos</td>\n",
       "      <td>[(, ), (, NA), (, NA), (, NA), (, NA), (, NA),...</td>\n",
       "    </tr>\n",
       "    <tr>\n",
       "      <th>151</th>\n",
       "      <td>https://radioambulante.org/transcripcion/trans...</td>\n",
       "      <td>Puerto Rico</td>\n",
       "      <td>[(, ), (, NA), (, NA), (, NA), (, NA), (, NA),...</td>\n",
       "    </tr>\n",
       "    <tr>\n",
       "      <th>152</th>\n",
       "      <td>https://radioambulante.org/transcripcion/trans...</td>\n",
       "      <td>De Perú a Estados Unidos</td>\n",
       "      <td>[(, ), (, NA), (, NA), (, NA), (, NA), (, NA),...</td>\n",
       "    </tr>\n",
       "    <tr>\n",
       "      <th>153</th>\n",
       "      <td>https://radioambulante.org/transcripcion/trans...</td>\n",
       "      <td>México</td>\n",
       "      <td>[(, ), (, NA), (, NA), (, NA), (, NA), (, NA),...</td>\n",
       "    </tr>\n",
       "    <tr>\n",
       "      <th>154</th>\n",
       "      <td>https://radioambulante.org/transcripcion/trans...</td>\n",
       "      <td>México</td>\n",
       "      <td>[(, ), (, NA), (, NA), (, NA), (, NA), (, NA),...</td>\n",
       "    </tr>\n",
       "    <tr>\n",
       "      <th>155</th>\n",
       "      <td>https://radioambulante.org/transcripcion/trans...</td>\n",
       "      <td>México</td>\n",
       "      <td>[(, ), (, NA), (, NA), (, NA), (, NA), (, NA),...</td>\n",
       "    </tr>\n",
       "    <tr>\n",
       "      <th>156</th>\n",
       "      <td>https://radioambulante.org/transcripcion/trans...</td>\n",
       "      <td>Estados Unidos</td>\n",
       "      <td>[(, ), (, NA), (, NA), (, NA), (, NA), (, NA),...</td>\n",
       "    </tr>\n",
       "    <tr>\n",
       "      <th>157</th>\n",
       "      <td>https://radioambulante.org/transcripcion/trans...</td>\n",
       "      <td>Estados Unidos</td>\n",
       "      <td>[(, ), (, NA), (, NA), (, NA), (, NA), (, NA),...</td>\n",
       "    </tr>\n",
       "    <tr>\n",
       "      <th>158</th>\n",
       "      <td>https://radioambulante.org/transcripcion/trans...</td>\n",
       "      <td>Santiago de Chile</td>\n",
       "      <td>[(, ), (, NA), (, NA), (, NA), (, NA), (, NA),...</td>\n",
       "    </tr>\n",
       "    <tr>\n",
       "      <th>159</th>\n",
       "      <td>https://radioambulante.org/transcripcion/trans...</td>\n",
       "      <td>México</td>\n",
       "      <td>[(, ), (, El conductor se bajó del autobús e i...</td>\n",
       "    </tr>\n",
       "    <tr>\n",
       "      <th>160</th>\n",
       "      <td>https://radioambulante.org/transcripcion/trans...</td>\n",
       "      <td>Uruguay</td>\n",
       "      <td>[(, ), (, NA), (, NA), (, NA), (, NA), (, NA),...</td>\n",
       "    </tr>\n",
       "    <tr>\n",
       "      <th>161</th>\n",
       "      <td>https://radioambulante.org/transcripcion/trans...</td>\n",
       "      <td>Canadá</td>\n",
       "      <td>[(, ), (, NA), (, NA), (, NA), (, NA), (, NA),...</td>\n",
       "    </tr>\n",
       "    <tr>\n",
       "      <th>162</th>\n",
       "      <td>https://radioambulante.org/transcripcion/trans...</td>\n",
       "      <td>Argentina</td>\n",
       "      <td>[(, ), (, NA), (, NA), (, NA), (, NA), (, NA),...</td>\n",
       "    </tr>\n",
       "    <tr>\n",
       "      <th>163</th>\n",
       "      <td>https://radioambulante.org/transcripcion/trans...</td>\n",
       "      <td>España/Perú</td>\n",
       "      <td>[(, ), (, NA), (, NA), (, NA), (, NA), (, NA),...</td>\n",
       "    </tr>\n",
       "    <tr>\n",
       "      <th>164</th>\n",
       "      <td>https://radioambulante.org/transcripcion/trans...</td>\n",
       "      <td>Reynosa, México</td>\n",
       "      <td>[(, ), (, NA), (, NA), (, NA), (, NA), (, NA),...</td>\n",
       "    </tr>\n",
       "    <tr>\n",
       "      <th>165</th>\n",
       "      <td>https://radioambulante.org/transcripcion/trans...</td>\n",
       "      <td>Guatemala</td>\n",
       "      <td>[(, ), (, Bienvenidos a Radio Ambulante. Soy D...</td>\n",
       "    </tr>\n",
       "    <tr>\n",
       "      <th>166</th>\n",
       "      <td>https://radioambulante.org/transcripcion/trans...</td>\n",
       "      <td>Tegucigalpa, Honduras</td>\n",
       "      <td>[(, ), (, NA), (, NA), (, NA), (, NA), (, NA),...</td>\n",
       "    </tr>\n",
       "    <tr>\n",
       "      <th>167</th>\n",
       "      <td>https://radioambulante.org/transcripcion/trans...</td>\n",
       "      <td>Nueva York, Estados Unidos</td>\n",
       "      <td>[(, ), (, NA), (, NA), (, NA), (, NA), (, NA),...</td>\n",
       "    </tr>\n",
       "    <tr>\n",
       "      <th>168</th>\n",
       "      <td>https://radioambulante.org/transcripcion/trans...</td>\n",
       "      <td>Puerto Berrio, Colombia</td>\n",
       "      <td>[(, ), (,  Soy Daniel Alarcón. Hoy en Radio Am...</td>\n",
       "    </tr>\n",
       "    <tr>\n",
       "      <th>169</th>\n",
       "      <td>https://radioambulante.org/transcripcion/trans...</td>\n",
       "      <td>Buenos Aires, Argentina</td>\n",
       "      <td>[(, ), (, NA), (, NA), (, NA), (, NA), (, NA),...</td>\n",
       "    </tr>\n",
       "  </tbody>\n",
       "</table>\n",
       "</div>"
      ],
      "text/plain": [
       "                                                   url  \\\n",
       "150  https://radioambulante.org/transcripcion/trans...   \n",
       "151  https://radioambulante.org/transcripcion/trans...   \n",
       "152  https://radioambulante.org/transcripcion/trans...   \n",
       "153  https://radioambulante.org/transcripcion/trans...   \n",
       "154  https://radioambulante.org/transcripcion/trans...   \n",
       "155  https://radioambulante.org/transcripcion/trans...   \n",
       "156  https://radioambulante.org/transcripcion/trans...   \n",
       "157  https://radioambulante.org/transcripcion/trans...   \n",
       "158  https://radioambulante.org/transcripcion/trans...   \n",
       "159  https://radioambulante.org/transcripcion/trans...   \n",
       "160  https://radioambulante.org/transcripcion/trans...   \n",
       "161  https://radioambulante.org/transcripcion/trans...   \n",
       "162  https://radioambulante.org/transcripcion/trans...   \n",
       "163  https://radioambulante.org/transcripcion/trans...   \n",
       "164  https://radioambulante.org/transcripcion/trans...   \n",
       "165  https://radioambulante.org/transcripcion/trans...   \n",
       "166  https://radioambulante.org/transcripcion/trans...   \n",
       "167  https://radioambulante.org/transcripcion/trans...   \n",
       "168  https://radioambulante.org/transcripcion/trans...   \n",
       "169  https://radioambulante.org/transcripcion/trans...   \n",
       "\n",
       "                        country  \\\n",
       "150              Estados Unidos   \n",
       "151                 Puerto Rico   \n",
       "152    De Perú a Estados Unidos   \n",
       "153                      México   \n",
       "154                      México   \n",
       "155                      México   \n",
       "156              Estados Unidos   \n",
       "157              Estados Unidos   \n",
       "158           Santiago de Chile   \n",
       "159                      México   \n",
       "160                     Uruguay   \n",
       "161                      Canadá   \n",
       "162                   Argentina   \n",
       "163                 España/Perú   \n",
       "164             Reynosa, México   \n",
       "165                   Guatemala   \n",
       "166       Tegucigalpa, Honduras   \n",
       "167  Nueva York, Estados Unidos   \n",
       "168     Puerto Berrio, Colombia   \n",
       "169     Buenos Aires, Argentina   \n",
       "\n",
       "                                         transcription  \n",
       "150  [(, ), (, NA), (, NA), (, NA), (, NA), (, NA),...  \n",
       "151  [(, ), (, NA), (, NA), (, NA), (, NA), (, NA),...  \n",
       "152  [(, ), (, NA), (, NA), (, NA), (, NA), (, NA),...  \n",
       "153  [(, ), (, NA), (, NA), (, NA), (, NA), (, NA),...  \n",
       "154  [(, ), (, NA), (, NA), (, NA), (, NA), (, NA),...  \n",
       "155  [(, ), (, NA), (, NA), (, NA), (, NA), (, NA),...  \n",
       "156  [(, ), (, NA), (, NA), (, NA), (, NA), (, NA),...  \n",
       "157  [(, ), (, NA), (, NA), (, NA), (, NA), (, NA),...  \n",
       "158  [(, ), (, NA), (, NA), (, NA), (, NA), (, NA),...  \n",
       "159  [(, ), (, El conductor se bajó del autobús e i...  \n",
       "160  [(, ), (, NA), (, NA), (, NA), (, NA), (, NA),...  \n",
       "161  [(, ), (, NA), (, NA), (, NA), (, NA), (, NA),...  \n",
       "162  [(, ), (, NA), (, NA), (, NA), (, NA), (, NA),...  \n",
       "163  [(, ), (, NA), (, NA), (, NA), (, NA), (, NA),...  \n",
       "164  [(, ), (, NA), (, NA), (, NA), (, NA), (, NA),...  \n",
       "165  [(, ), (, Bienvenidos a Radio Ambulante. Soy D...  \n",
       "166  [(, ), (, NA), (, NA), (, NA), (, NA), (, NA),...  \n",
       "167  [(, ), (, NA), (, NA), (, NA), (, NA), (, NA),...  \n",
       "168  [(, ), (,  Soy Daniel Alarcón. Hoy en Radio Am...  \n",
       "169  [(, ), (, NA), (, NA), (, NA), (, NA), (, NA),...  "
      ]
     },
     "execution_count": 27,
     "metadata": {},
     "output_type": "execute_result"
    }
   ],
   "source": [
    "#Stories that didn't get parsed: 1, 32, 33, 34?, 54, 107?, 114, 125, 135-146, 148, 149?, 150-159, 160-164, 165, 166, 167, 169\n",
    "df[['url','country','transcription']].iloc[150:170]"
   ]
  },
  {
   "cell_type": "code",
   "execution_count": 28,
   "metadata": {
    "hidden": true,
    "slideshow": {
     "slide_type": "skip"
    }
   },
   "outputs": [
    {
     "name": "stdout",
     "output_type": "stream",
     "text": [
      "170\n",
      "129 good links remaining\n",
      "41 links to reprocess\n"
     ]
    }
   ],
   "source": [
    "#Separate out the bad links for re-processing later on\n",
    "print(len(caches))\n",
    "bad_story_indices = [1, 32, 33, 34, 54, 107, 114, 125, 135, 136, 137, 138, 139, 140, 141, 142, 143, 144, 145, 146, 148, 149, 150, 151, 152, 153, 154, 155, 156, 157, 158, 159, 160, 161, 162, 163, 164, 165, 166, 167, 169]\n",
    "good_urls = []\n",
    "bad_urls = []\n",
    "\n",
    "for index, story in enumerate(caches):\n",
    "    #group urls of the \n",
    "    if index in bad_story_indices:\n",
    "        bad_urls.append(caches[index]['url'])\n",
    "    else:\n",
    "#         print(caches[index]['title'], 'is good')\n",
    "        good_urls.append(caches[index])\n",
    "    \n",
    "print(len(good_urls), 'good links remaining')\n",
    "print(len(bad_urls), 'links to reprocess')\n"
   ]
  },
  {
   "cell_type": "code",
   "execution_count": 29,
   "metadata": {
    "hidden": true,
    "slideshow": {
     "slide_type": "skip"
    }
   },
   "outputs": [],
   "source": [
    "#unpack dictionaries of GOOD transcriptions\n",
    "#first, unpack the first transcription into a fully specified df:\n",
    "\n",
    "#unpack speakers and utterances as columns\n",
    "story0 = pd.DataFrame(good_urls[0]['transcription'], columns=['speaker', 'utterance'])\n",
    "\n",
    "#assign a story ID\n",
    "storyID = ['good-0'] * len(story0)\n",
    "story0.insert(0, 'storyID', storyID, True) \n",
    "\n",
    "#expand the story's url, title, and country into columns of the same length \n",
    "url = [good_urls[0]['url']] * len(story0)\n",
    "story0.insert(1, 'url', url, True)\n",
    "\n",
    "title = [good_urls[0]['title']] *len(story0)\n",
    "story0.insert(2, 'title', title, True)\n",
    "\n",
    "country = [good_urls[0]['country']] *len(story0)\n",
    "story0.insert(3, 'country', country, True)"
   ]
  },
  {
   "cell_type": "code",
   "execution_count": 30,
   "metadata": {
    "hidden": true,
    "slideshow": {
     "slide_type": "skip"
    }
   },
   "outputs": [],
   "source": [
    "#For every other story in good_urls, cast it to a df and vertically append it to the original story\n",
    "full_df = story0\n",
    "\n",
    "for index, story in enumerate(good_urls[1:]):\n",
    "    #print index to assess progress\n",
    "#     print(index)\n",
    "    \n",
    "    #unpack speakers and utterances as columns\n",
    "    story = pd.DataFrame(good_urls[index]['transcription'], columns=['speaker', 'utterance'])\n",
    "    \n",
    "    #assign a story ID\n",
    "    storyID = ['good-'+ str(index)] * len(story)\n",
    "    story.insert(0, 'storyID', storyID, True) \n",
    "\n",
    "    #expand the story's url, title, and country into columns of the same length \n",
    "    url = [good_urls[index]['url']] * len(story)\n",
    "    story.insert(1, 'url', url, True)\n",
    "\n",
    "    title = [good_urls[index]['title']] *len(story)\n",
    "    story.insert(2, 'title', title, True)\n",
    "\n",
    "    country = [good_urls[index]['country']] *len(story)\n",
    "    story.insert(3, 'country', country, True)    \n",
    "\n",
    "    #vertically append to the original story\n",
    "    full_df = full_df.append(story, ignore_index=True)\n",
    "    \n",
    "    \n",
    "    "
   ]
  },
  {
   "cell_type": "code",
   "execution_count": 81,
   "metadata": {
    "hidden": true,
    "slideshow": {
     "slide_type": "skip"
    }
   },
   "outputs": [
    {
     "name": "stdout",
     "output_type": "stream",
     "text": [
      "['España' 'México' 'Brasil' 'Chile' 'Nicaragua' 'Ecuador'\n",
      " 'México/Puerto Rico' 'México/Estados Unidos' 'Guatemala' 'Colombia'\n",
      " 'Perú' 'Argentina' 'Puerto Rico' 'Perú y Chile' 'Unknown'\n",
      " 'El Salvador y México' 'Estados Unidos' 'Costa Rica' 'Cuba'\n",
      " 'S\\nMéxico y España' 'Venezuela' 'S\\nEstados Unidos y Perú'\n",
      " 'S\\nEstados Unidos y Guatemala' 'Colombia y Brasil'\n",
      " 'México y Estados Unidos' 'Samuel Castaño' 'Colombia y Costa Rica'\n",
      " 'España y Perú' 'Chile y Brasil' 'República Dominicana' 'El Salvador'\n",
      " 'Honduras' 'Bolivia' 'S\\nEstados Unidos y México'\n",
      " 'S\\nMexico y Estados Unidos' 'S\\nCuba/Panamá'\n",
      " 'Cuba/Panamá/Estados Unidos' 'Lima, Perú' 'Colombia y Argentina'\n",
      " 'México, Estados Unidos' 'Uruguay' 'Rio de Janeiro, Brasil']\n"
     ]
    }
   ],
   "source": [
    "# Filter out stories from Brasil or mixed countries\n",
    "# print(full_df['country'].unique())\n",
    "keep = ['España', 'México', 'Chile', 'Nicaragua', 'Ecuador',\n",
    "       'Guatemala','Colombia', 'Perú', 'Argentina', 'Puerto Rico', 'Estados Unidos', 'Costa Rica',\n",
    "       'Cuba', 'Venezuela', 'República Dominicana', 'El Salvador', 'Honduras', 'Bolivia',\n",
    "       'Lima, Perú','Uruguay']\n",
    "drop = ['Brasil', 'México/Puerto Rico', 'México/Estados Unidos', 'Perú y Chile',\n",
    "       'Unknown', 'El Salvador y México', 'S\\nMéxico y España', 'S\\nEstados Unidos y Perú', \n",
    "        'S\\nEstados Unidos y Guatemala','Colombia y Brasil', 'México y Estados Unidos', \n",
    "        'Samuel Castaño', 'Colombia y Costa Rica', 'España y Perú', 'Chile y Brasil',\n",
    "        'S\\nEstados Unidos y México', 'S\\nMexico y Estados Unidos','S\\nCuba/Panamá', \n",
    "        'Cuba/Panamá/Estados Unidos', 'Colombia y Argentina', 'México, Estados Unidos', \n",
    "        'Rio de Janeiro, Brasil']"
   ]
  },
  {
   "cell_type": "code",
   "execution_count": 112,
   "metadata": {
    "hidden": true,
    "slideshow": {
     "slide_type": "skip"
    }
   },
   "outputs": [
    {
     "name": "stdout",
     "output_type": "stream",
     "text": [
      "128\n",
      "100\n"
     ]
    }
   ],
   "source": [
    "clean_stories = full_df[full_df['country'].isin(keep)]\n",
    "#how many stories originally?\n",
    "print(len(full_df['storyID'].unique()))\n",
    "#How many stories left over?\n",
    "print(len(clean_stories['storyID'].unique()))"
   ]
  },
  {
   "cell_type": "code",
   "execution_count": 128,
   "metadata": {
    "hidden": true,
    "slideshow": {
     "slide_type": "skip"
    }
   },
   "outputs": [
    {
     "name": "stderr",
     "output_type": "stream",
     "text": [
      "/opt/conda/envs/data3/lib/python3.7/site-packages/pandas/core/generic.py:6746: SettingWithCopyWarning: \n",
      "A value is trying to be set on a copy of a slice from a DataFrame\n",
      "\n",
      "See the caveats in the documentation: https://pandas.pydata.org/pandas-docs/stable/user_guide/indexing.html#returning-a-view-versus-a-copy\n",
      "  self._update_inplace(new_data)\n"
     ]
    }
   ],
   "source": [
    "#Drop rows with blank, or \"NA\" utterances\n",
    "clean_stories['utterance'].replace('', np.nan, inplace=True)\n",
    "clean_stories['utterance'].replace('NA', np.nan, inplace=True)\n",
    "\n",
    "# Drop rows with blank, \"NA\", ':', '\\n', '.', '. ' or speakers\n",
    "clean_stories['speaker'].replace('', np.nan, inplace=True)\n",
    "clean_stories['speaker'].replace('NA', np.nan, inplace=True)\n",
    "clean_stories['speaker'].replace(':', np.nan, inplace=True)\n",
    "clean_stories['speaker'].replace('\\n', np.nan, inplace=True)\n",
    "clean_stories['speaker'].replace('.', np.nan, inplace=True)\n",
    "clean_stories['speaker'].replace('. ', np.nan, inplace=True)"
   ]
  },
  {
   "cell_type": "code",
   "execution_count": 129,
   "metadata": {
    "hidden": true,
    "slideshow": {
     "slide_type": "skip"
    }
   },
   "outputs": [
    {
     "name": "stderr",
     "output_type": "stream",
     "text": [
      "/opt/conda/envs/data3/lib/python3.7/site-packages/ipykernel_launcher.py:1: SettingWithCopyWarning: \n",
      "A value is trying to be set on a copy of a slice from a DataFrame\n",
      "\n",
      "See the caveats in the documentation: https://pandas.pydata.org/pandas-docs/stable/user_guide/indexing.html#returning-a-view-versus-a-copy\n",
      "  \"\"\"Entry point for launching an IPython kernel.\n"
     ]
    },
    {
     "data": {
      "text/html": [
       "<div>\n",
       "<style scoped>\n",
       "    .dataframe tbody tr th:only-of-type {\n",
       "        vertical-align: middle;\n",
       "    }\n",
       "\n",
       "    .dataframe tbody tr th {\n",
       "        vertical-align: top;\n",
       "    }\n",
       "\n",
       "    .dataframe thead th {\n",
       "        text-align: right;\n",
       "    }\n",
       "</style>\n",
       "<table border=\"1\" class=\"dataframe\">\n",
       "  <thead>\n",
       "    <tr style=\"text-align: right;\">\n",
       "      <th></th>\n",
       "      <th>storyID</th>\n",
       "      <th>url</th>\n",
       "      <th>title</th>\n",
       "      <th>country</th>\n",
       "      <th>speaker</th>\n",
       "      <th>utterance</th>\n",
       "    </tr>\n",
       "  </thead>\n",
       "  <tbody>\n",
       "    <tr>\n",
       "      <th>1</th>\n",
       "      <td>good-0</td>\n",
       "      <td>https://radioambulante.org/transcripcion/junto...</td>\n",
       "      <td>[juntos-a-la-distancia-transcripcion]</td>\n",
       "      <td>España</td>\n",
       "      <td>[Jorge Caraballo, editor de Crecimiento]:</td>\n",
       "      <td>¡Hola, gracias por escuchar Radio Ambulante! N...</td>\n",
       "    </tr>\n",
       "    <tr>\n",
       "      <th>2</th>\n",
       "      <td>good-0</td>\n",
       "      <td>https://radioambulante.org/transcripcion/junto...</td>\n",
       "      <td>[juntos-a-la-distancia-transcripcion]</td>\n",
       "      <td>España</td>\n",
       "      <td>[Daniel Alarcón, host]:</td>\n",
       "      <td>Bienvenidos a Radio Ambulante, desde NPR. Soy ...</td>\n",
       "    </tr>\n",
       "    <tr>\n",
       "      <th>3</th>\n",
       "      <td>good-0</td>\n",
       "      <td>https://radioambulante.org/transcripcion/junto...</td>\n",
       "      <td>[juntos-a-la-distancia-transcripcion]</td>\n",
       "      <td>España</td>\n",
       "      <td>[Jorge Caraballo, editor de Crecimiento]:</td>\n",
       "      <td>Entonces antes de comenzar el episodio de hoy ...</td>\n",
       "    </tr>\n",
       "    <tr>\n",
       "      <th>4</th>\n",
       "      <td>good-0</td>\n",
       "      <td>https://radioambulante.org/transcripcion/junto...</td>\n",
       "      <td>[juntos-a-la-distancia-transcripcion]</td>\n",
       "      <td>España</td>\n",
       "      <td>[Daniel Alarcón, host]:</td>\n",
       "      <td>Lo que nos ha llenado de energía y de motivaci...</td>\n",
       "    </tr>\n",
       "    <tr>\n",
       "      <th>5</th>\n",
       "      <td>good-0</td>\n",
       "      <td>https://radioambulante.org/transcripcion/junto...</td>\n",
       "      <td>[juntos-a-la-distancia-transcripcion]</td>\n",
       "      <td>España</td>\n",
       "      <td>[Jorge Caraballo, editor de Crecimiento]:</td>\n",
       "      <td>Recuerden que parte del equipo seguirá sacando...</td>\n",
       "    </tr>\n",
       "    <tr>\n",
       "      <th>...</th>\n",
       "      <td>...</td>\n",
       "      <td>...</td>\n",
       "      <td>...</td>\n",
       "      <td>...</td>\n",
       "      <td>...</td>\n",
       "      <td>...</td>\n",
       "    </tr>\n",
       "    <tr>\n",
       "      <th>26968</th>\n",
       "      <td>good-125</td>\n",
       "      <td>https://radioambulante.org/transcripcion/trans...</td>\n",
       "      <td>[transcripcion-confesion]</td>\n",
       "      <td>Estados Unidos</td>\n",
       "      <td>Vanessa Potkin:</td>\n",
       "      <td>Silvia: Ángel no ha sabido nada de la víctima ...</td>\n",
       "    </tr>\n",
       "    <tr>\n",
       "      <th>26970</th>\n",
       "      <td>good-125</td>\n",
       "      <td>https://radioambulante.org/transcripcion/trans...</td>\n",
       "      <td>[transcripcion-confesion]</td>\n",
       "      <td>Estados Unidos</td>\n",
       "      <td>Vanessa Potkin:</td>\n",
       "      <td>No estoy contra el sistema. Tengo mucha descon...</td>\n",
       "    </tr>\n",
       "    <tr>\n",
       "      <th>26972</th>\n",
       "      <td>good-125</td>\n",
       "      <td>https://radioambulante.org/transcripcion/trans...</td>\n",
       "      <td>[transcripcion-confesion]</td>\n",
       "      <td>Estados Unidos</td>\n",
       "      <td>Vanessa Potkin:</td>\n",
       "      <td>—</td>\n",
       "    </tr>\n",
       "    <tr>\n",
       "      <th>26976</th>\n",
       "      <td>good-125</td>\n",
       "      <td>https://radioambulante.org/transcripcion/trans...</td>\n",
       "      <td>[transcripcion-confesion]</td>\n",
       "      <td>Estados Unidos</td>\n",
       "      <td>Vanessa Potkin:</td>\n",
       "      <td>Camila Segura es nuestra editora principal, y ...</td>\n",
       "    </tr>\n",
       "    <tr>\n",
       "      <th>26978</th>\n",
       "      <td>good-125</td>\n",
       "      <td>https://radioambulante.org/transcripcion/trans...</td>\n",
       "      <td>[transcripcion-confesion]</td>\n",
       "      <td>Estados Unidos</td>\n",
       "      <td>Vanessa Potkin:</td>\n",
       "      <td>Radio Ambulante cuenta las historias de Améric...</td>\n",
       "    </tr>\n",
       "  </tbody>\n",
       "</table>\n",
       "<p>16508 rows × 6 columns</p>\n",
       "</div>"
      ],
      "text/plain": [
       "        storyID                                                url  \\\n",
       "1        good-0  https://radioambulante.org/transcripcion/junto...   \n",
       "2        good-0  https://radioambulante.org/transcripcion/junto...   \n",
       "3        good-0  https://radioambulante.org/transcripcion/junto...   \n",
       "4        good-0  https://radioambulante.org/transcripcion/junto...   \n",
       "5        good-0  https://radioambulante.org/transcripcion/junto...   \n",
       "...         ...                                                ...   \n",
       "26968  good-125  https://radioambulante.org/transcripcion/trans...   \n",
       "26970  good-125  https://radioambulante.org/transcripcion/trans...   \n",
       "26972  good-125  https://radioambulante.org/transcripcion/trans...   \n",
       "26976  good-125  https://radioambulante.org/transcripcion/trans...   \n",
       "26978  good-125  https://radioambulante.org/transcripcion/trans...   \n",
       "\n",
       "                                       title         country  \\\n",
       "1      [juntos-a-la-distancia-transcripcion]          España   \n",
       "2      [juntos-a-la-distancia-transcripcion]          España   \n",
       "3      [juntos-a-la-distancia-transcripcion]          España   \n",
       "4      [juntos-a-la-distancia-transcripcion]          España   \n",
       "5      [juntos-a-la-distancia-transcripcion]          España   \n",
       "...                                      ...             ...   \n",
       "26968              [transcripcion-confesion]  Estados Unidos   \n",
       "26970              [transcripcion-confesion]  Estados Unidos   \n",
       "26972              [transcripcion-confesion]  Estados Unidos   \n",
       "26976              [transcripcion-confesion]  Estados Unidos   \n",
       "26978              [transcripcion-confesion]  Estados Unidos   \n",
       "\n",
       "                                          speaker  \\\n",
       "1      [Jorge Caraballo, editor de Crecimiento]:    \n",
       "2                        [Daniel Alarcón, host]:    \n",
       "3      [Jorge Caraballo, editor de Crecimiento]:    \n",
       "4                        [Daniel Alarcón, host]:    \n",
       "5      [Jorge Caraballo, editor de Crecimiento]:    \n",
       "...                                           ...   \n",
       "26968                            Vanessa Potkin:    \n",
       "26970                            Vanessa Potkin:    \n",
       "26972                            Vanessa Potkin:    \n",
       "26976                            Vanessa Potkin:    \n",
       "26978                            Vanessa Potkin:    \n",
       "\n",
       "                                               utterance  \n",
       "1      ¡Hola, gracias por escuchar Radio Ambulante! N...  \n",
       "2      Bienvenidos a Radio Ambulante, desde NPR. Soy ...  \n",
       "3      Entonces antes de comenzar el episodio de hoy ...  \n",
       "4      Lo que nos ha llenado de energía y de motivaci...  \n",
       "5      Recuerden que parte del equipo seguirá sacando...  \n",
       "...                                                  ...  \n",
       "26968  Silvia: Ángel no ha sabido nada de la víctima ...  \n",
       "26970  No estoy contra el sistema. Tengo mucha descon...  \n",
       "26972                                                  —  \n",
       "26976  Camila Segura es nuestra editora principal, y ...  \n",
       "26978  Radio Ambulante cuenta las historias de Améric...  \n",
       "\n",
       "[16508 rows x 6 columns]"
      ]
     },
     "execution_count": 129,
     "metadata": {},
     "output_type": "execute_result"
    }
   ],
   "source": [
    "clean_stories.dropna(subset=['utterance', 'speaker'], inplace=True)\n",
    "clean_stories"
   ]
  },
  {
   "cell_type": "code",
   "execution_count": 155,
   "metadata": {
    "hidden": true,
    "slideshow": {
     "slide_type": "skip"
    }
   },
   "outputs": [
    {
     "name": "stdout",
     "output_type": "stream",
     "text": [
      "1432\n",
      "1275\n"
     ]
    }
   ],
   "source": [
    "#clean out speakers that cannot be clearly identified as native speakers of a specific dialect\n",
    "\n",
    "#regex to identify soundbites and ads\n",
    "ads = '.*SOUNDBITE.*|.*RISA.*|.*televisión.*|.*All Songs Considered.*|.*Alt.*Latino.*|.*Ask Me Another.*|.*Code.*Switch.*|.*Embedded.*|.*EveryAction.*|.*Fresh Air.*|.*Gene Demby.*|.*Guy.*|.*HBO.*|.*Hanna Rosin.*|.*Hidden Brain.*|.*Planet Money.*|.*How I Built This.*|.*It’s Been a Minute.*|.*Joshua Johnson.*|.*Kelly.*|.*Latino.*USA.*|.*Life Kit.*|.*Linda Holmes.*|.*Lulu.*|.*Lupa.*|.*María Hinojosa.*|.*Matt Holzman.*|.*Mindy Thomas.*|.*NPR Politics.*|.*Ophira Eisenberg.*|.*Peter.*|.*Planet Money.*|.*Pop Culture.*|.*Promo.*|.*Reportero de NPR.*|.*Robin Hilton.*|.*Sam Sanders.*|.*Scott Detrow.*|.*Shereen Marisol Meraji.*|.*Squarespace.*|.*StoryCorps.*|.*TED.*|.*Terry Gross.*|.*The Indicator.*|.*Throughline.*|.*TurboTax.*|.*Up First.*|.*Wait Wait.*|.*Wow in the World.*|.*Here and Now.*' \n",
    "\n",
    "#people who probably are speaking English (or a translation of them)\n",
    "english = '.*Bill.*Clinton.*|.*Cowgirl.*|.*Donald Trump.*|.*Felix Contreras.*|.*Kristjen Nielsen.*|.*Machine.*|.*Malcom X.*|.*Margaret Thatcher.*|.*Martin Luther King.*|.*Neil Armstrong.*|.*Nelson Mandela.*|.*Speaker of the House.*|.*Stacey.*|.*Thomas Homan.*|.*Wolf Blitzer.*|.*John Oliver.*|.*GPS.*|.*Agente de ICE.*|.*Axl Rose.*|.*Bill Spencer.*|.*Ginger.*|.*John Gibler.*|.*Michael Donovan.*|.*Nicole Tyler.*'\n",
    "\n",
    "#others that I know are misplaced or should be exlcuded\n",
    "other = '.*Graciela.*|\\xa0|\\xa0\\xa0'\n",
    "\n",
    "clean_speakers = clean_stories[(clean_stories['speaker'].str.match(ads) == False) & (clean_stories['speaker'].str.match(english) == False) & (clean_stories['speaker'].str.match(other) == False)]\n",
    "\n",
    "#How many different speakers originally?\n",
    "print(len(sorted(clean_stories['speaker'].unique())))\n",
    "\n",
    "#How many different speakers left over?\n",
    "print(len(clean_speakers['speaker'].unique()))"
   ]
  },
  {
   "cell_type": "code",
   "execution_count": 156,
   "metadata": {
    "hidden": true,
    "slideshow": {
     "slide_type": "skip"
    }
   },
   "outputs": [],
   "source": [
    "#Add a dialect column\n",
    "#Step 1: replace country names with dialect names, using a dictionary\n",
    "dialectdict = {'España': 'Spain',\n",
    "               'México': 'Mexican',\n",
    "               'Chile': 'Chilean', \n",
    "               'Nicaragua': 'Nicaraguan', \n",
    "               'Ecuador': 'Ecuadorean', \n",
    "               'Guatemala': 'Guatemalan',\n",
    "               'Colombia': 'Colombian', \n",
    "               'Perú': 'Peruvian', \n",
    "               'Argentina': 'Argentinian', \n",
    "               'Puerto Rico': 'Puertorican', \n",
    "               'Estados Unidos': 'US',\n",
    "               'Costa Rica': 'Costarican', \n",
    "               'Cuba': 'Cuban', \n",
    "               'Venezuela': 'Venezuelan', \n",
    "               'República Dominicana': 'Dominican',\n",
    "               'El Salvador': 'Salvadoran', \n",
    "               'Honduras': 'Honduran', \n",
    "               'Bolivia': 'Bolivian', \n",
    "               'Lima, Perú': 'Peruvian', \n",
    "               'Uruguay': 'Uruguayan'\n",
    "              }\n",
    "dialects = clean_speakers[['country']].replace(dialectdict)\n",
    "clean_speakers.insert(4, 'dialect', dialects)"
   ]
  },
  {
   "cell_type": "code",
   "execution_count": 157,
   "metadata": {
    "hidden": true,
    "slideshow": {
     "slide_type": "skip"
    }
   },
   "outputs": [
    {
     "name": "stdout",
     "output_type": "stream",
     "text": [
      "1091\n"
     ]
    }
   ],
   "source": [
    "# Step 2: (For now) remove producer and host lines, plus anyone with the same first name\n",
    "    # (To do): replace producer and host lines with their own dialect\n",
    "    # host full names are:\n",
    "    # Vanessa Potkin, Daniel Alarcón, Andrés Azpiri, Camila Segura, Clara Ibarra, \n",
    "    # David Trujillo, Dennis Maxwell, Eliezer Budasoff, Gabriela Wiener, Jorge Caraballo, \n",
    "    # Lisette Arévalo, Luis Fernando Vargas, Luis Trelles, Mariana Martínez, Silvia Viñas\n",
    "\n",
    "#regex to identify Radioambulante hosts and producers\n",
    "\n",
    "hosts = '.*Vanessa.*Potkin.*|.*Daniel.*|.*Andrés.*|.*Camila.*|.*Clara.*|.*David.*|.*Dennis.*|.*Eliezer.*|.*Gabriela.*|.*Jorge.*|.*Lisette.*|.*Luis.*|.*Mariana.*|.*Silvia.*'\n",
    "\n",
    "radioambulante = clean_speakers[clean_speakers['speaker'].str.match(hosts) == False]\n",
    "\n",
    "#How many different speakers left over?\n",
    "print(len(radioambulante['speaker'].unique()))"
   ]
  },
  {
   "cell_type": "code",
   "execution_count": 158,
   "metadata": {
    "hidden": true,
    "slideshow": {
     "slide_type": "skip"
    }
   },
   "outputs": [
    {
     "name": "stdout",
     "output_type": "stream",
     "text": [
      "[Rafael Escorza]:\n",
      "[Rafael Martínez]:\n",
      "[Rafael Samudio]:\n",
      "[Rafael]:\n",
      "[Rafael]: \n",
      "[Ramón Barrios]: \n",
      "[Ramón López]: \n",
      "[Ramón]:\n",
      "[Ramón]: \n",
      "[Raquel Villareal]: \n",
      "[Ray Charrupí]: \n",
      "[Ray]: \n",
      "[Raúl Soto]: \n",
      "[Raúl]\n",
      "[Raúl]:\n",
      "[Raúl]: \n",
      "[Recluso]: \n",
      "[Remy Lozano]: \n",
      "[René Gonzales]:\n",
      "[René]:\n",
      "[René]: \n",
      "[Reportaje]: \n",
      "[Reportera]: \n",
      "[Reportero]:\n",
      "[Reportero]: \n",
      "[Rescatista]:\n",
      "[Rescatista]: \n",
      "[Rescatistas]: \n",
      "[Residente]: \n",
      "[Reyes]: “\n",
      "[Ricardo García de Alba]: \n",
      "[Ricardo Lozano]: \n",
      "[Ricardo Rosselló]:\n",
      "[Ricardo] :\n",
      "[Ricardo]:\n",
      "[Ricardo]: \n",
      "[Ricardo]:  \n",
      "[Ricardo  Rosselló]: \n",
      "[Rick Nagel]: \n",
      "[Rick]: \n",
      "[Roberth Pereira]\n",
      "[Roberth]\n",
      "[Roberto Ampuero]: \n",
      "[Roberto Lozano]: \n",
      "[Roberto Zamora]: \n",
      "[Roberto]:\n",
      "[Roberto]: \n",
      "[Roberto]: \n",
      "[Rocío Figueroa]: \n",
      "[Rocío]:\n",
      "[Rocío]: \n",
      "[Rodlin Etienne]: \n",
      "[Rodlin]\n",
      "[Rodlin]: \n",
      "[Rodolfo Pérez]:\n",
      "[Rodolfo]:\n",
      "[Rodrigo Cid]: \n",
      "[Rodrigo Hidalgo]:\n",
      "[Rodrigo]:\n",
      "[Rodrigo]: \n",
      "[Rogelio Cisneros]: \n",
      "[Rogelio]:\n",
      "[Rogelio]: \n",
      "[Roosevelt Rojas]: \n",
      "[Roosevelt]:\n",
      "[Roosevelt]: \n",
      "[Rosa Muñoz]: \n",
      "[Rosa]:\n",
      "[Rosa]: \n",
      "[Rosi]: \n",
      "[Rosina Castillo]: \n",
      "[Rosina]:\n",
      "[Rosina]: \n",
      "[Ryan Loveless]: \n",
      "[Ryan]: \n",
      "[Santiago Rivas]:\n",
      "[Santiago Rivas]: \n",
      "[Santiago Sierra]: \n",
      "[Santiago Sánchez]: \n",
      "[Santiago]:\n",
      "[Santiago]: \n",
      "[Sara Marengo]: \n",
      "[Sarahí Maldonado]:\n",
      "[Sarahí]:\n",
      "[Sarahí]: \n",
      "[Sebastián Piñera]:\n",
      "[Sebastián Senior]:\n",
      "[Sergio Morales]:\n",
      "[Sergio Morales]: \n",
      "[Sergio]: \n",
      "[Señora nacionalista]:\n",
      "[Shaylin Castro]:\n",
      "[Shaylin]:\n",
      "[Sinar Alvarado Padre]: \n",
      "[Sinar Alvarado padre]: \n",
      "[Sinar Alvarado padre]: \n",
      "[Sinar Alvarado, reportero]: \n",
      "[Sinar Alvarado]: \n",
      "[Sinar]:\n",
      "[Sinar]: \n",
      "[Sinar]: \n",
      "[Slash]:\n",
      "[Slash]: \n",
      "[Soldado Micolta]:\n",
      "[Soldado Micolta]: \n",
      "[Sylvia Constaín]: \n",
      "[Tania Cortés]: \n",
      "[Tania]:\n",
      "[Tatiana García]: \n",
      "[Teniente Galtieri]: \n",
      "[Teniente]:\n",
      "[Teniente]: \n",
      "[Teniente]:  \n",
      "[Teresa Sabogal]: \n",
      "[Testigo]: \n",
      "[Tilden Aponte]:\n",
      "[Tilden]: \n",
      "[Titular 1]: \n",
      "[Titular 2]: \n",
      "[Titular 3]:\n",
      "[Tommy Chávez]: \n",
      "[Tommy]:\n",
      "[Tommy]: \n",
      "[Trent Reznor]\n",
      "[Trinidad]:\n",
      "[Trinidad]: \n",
      "[Tugrul Giray]: \n",
      "[Tugrul]:\n",
      "[Tugrul]: \n",
      "[Uriel]: \n",
      "[Valeria Paván]: \n",
      "[Valeria]: \n",
      "[Vanadis Phumpiu]: \n",
      "[Vanadis]:\n",
      "[Vanadis]: \n",
      "[Venezolanos en documental]: \n",
      "[Verónica Salcedo] \n",
      "[Verónica Salcedo]: \n",
      "[Verónica]: \n",
      "[Victoria Estrada]: \n",
      "[Victoria]: \n",
      "[Vladimir Álvarez]: \n",
      "[Vladimir]: \n",
      "[Voces]:\n",
      "[Voces]: \n",
      "[Voz 1]: \n",
      "[Voz 2]: \n",
      "[Voz 3]: \n",
      "[Voz 4]: \n",
      "[Voz 5]: \n",
      "[Voz]:\n",
      "[Voz]: \n",
      "[Víctor Basterra]: \n",
      "[Víctor Buso]: \n",
      "[Víctor Rena]: \n",
      "[Víctor Ángel Buso]: \n",
      "[Víctor]:\n",
      "[Víctor]: \n",
      "[Wilbert Torre]: \n",
      "[Wálmaro Gutiérrez]: \n",
      "[Ximena Castillo]: \n",
      "[Ximena]: \n",
      "[Yadira Collazo]: \n",
      "[Yadira]:\n",
      "[Yadira]: \n",
      "[Yamid Amat]:\n",
      "[Yamid Amat]: \n",
      "[Yerimé]: \n",
      "[Yolanda Isaza]: \n",
      "[Yolanda]:\n",
      "[Yolanda]: \n",
      "[Yomari]:\n",
      "[Yomari]: \n",
      "[Zapeta]:\n",
      "[Zapeta]: \n",
      "[Álvaro Casallas]:\n",
      "[Álvaro Casallas]: \n",
      "[Álvaro Rodríguez]: \n",
      "[Álvaro Urbina]: \n",
      "[Álvaro]\n",
      "[Álvaro]:\n",
      "[Álvaro]: \n",
      "[Álvaro]: \n",
      "[Érick López]:\n",
      "[Érick López]: \n",
      "Álvaro Castillo: \n",
      "Álvaro: \n",
      "Álvaro: “\n",
      "Ángel: \n",
      "Óscar:\n",
      "Óscar: \n"
     ]
    }
   ],
   "source": [
    "for speaker in sorted(radioambulante['speaker'].unique())[900:]:\n",
    "    print(speaker)"
   ]
  },
  {
   "cell_type": "code",
   "execution_count": 31,
   "metadata": {
    "hidden": true,
    "slideshow": {
     "slide_type": "skip"
    }
   },
   "outputs": [],
   "source": [
    "# #(For now) only use the Mexican speakers from disparos al cielo\n",
    "\n",
    "# story1 = full_df[(full_df['storyID'] == 'good-1')]\n",
    "# story1['speaker'].unique()\n",
    "\n",
    "# #regex expression to identify non-mexican speakers\n",
    "# nonmex = '.*Victoria.*|.*Daniel.*|.*SOUNDBITE.*|.*Squarespace.*|.*Code Switch.*|.*Up First.*'\n",
    "\n",
    "# #remove non-mexicans and blank speakers\n",
    "# mexicans = story1[(story1['speaker'].str.match(nonmex) == False) & (story1['speaker'] != '')]\n",
    "\n",
    "# #assign dialect column =Mexico\n",
    "# dialect = ['Mexican'] * len(mexicans)\n",
    "# mexicans.insert(4, 'dialect', dialect)"
   ]
  },
  {
   "cell_type": "code",
   "execution_count": 39,
   "metadata": {
    "hidden": true,
    "slideshow": {
     "slide_type": "skip"
    }
   },
   "outputs": [],
   "source": [
    "#For later: clean up the speaker column using the following dictionary:\n",
    "\n",
    "\n",
    "# speaker_codes = {'[Daniel Alarcón, host]:' : 'host', \n",
    "#                  '[Daniel Alarcón]:' : 'host', \n",
    "#                  '[Daniel Alarcon]:' : 'host', \n",
    "#                  '[Daniel]:' : 'host', \n",
    "#                  '' : 'exclude', \n",
    "#                  '[Camila Segura]: \t' : 'editor'}  \n",
    "  \n",
    "# # Remap the values of the dataframe to the large df:\n",
    "# full_df['real_speaker']= full_df['speaker'].map(speaker_codes) "
   ]
  },
  {
   "cell_type": "code",
   "execution_count": 118,
   "metadata": {
    "hidden": true,
    "slideshow": {
     "slide_type": "skip"
    }
   },
   "outputs": [],
   "source": [
    "#(For now) The output dataset is just the one good story df from above\n",
    "# radioambulante = mexicans"
   ]
  },
  {
   "cell_type": "code",
   "execution_count": 160,
   "metadata": {
    "hidden": true,
    "slideshow": {
     "slide_type": "skip"
    }
   },
   "outputs": [],
   "source": [
    "# save radioambulante df to disk\n",
    "radioambulante.to_csv(\"radioambulante.csv\")\n"
   ]
  },
  {
   "cell_type": "markdown",
   "metadata": {
    "heading_collapsed": true,
    "hidden": true,
    "slideshow": {
     "slide_type": "skip"
    }
   },
   "source": [
    "### Read in radioambulante data from disk"
   ]
  },
  {
   "cell_type": "code",
   "execution_count": 346,
   "metadata": {
    "hidden": true,
    "slideshow": {
     "slide_type": "subslide"
    }
   },
   "outputs": [],
   "source": [
    "#re-read in from disk\n",
    "radioambulante = pd.read_csv(\"radioambulante.csv\")"
   ]
  },
  {
   "cell_type": "markdown",
   "metadata": {
    "heading_collapsed": true,
    "slideshow": {
     "slide_type": "skip"
    }
   },
   "source": [
    "## Childes data"
   ]
  },
  {
   "cell_type": "code",
   "execution_count": 347,
   "metadata": {
    "hidden": true,
    "slideshow": {
     "slide_type": "subslide"
    }
   },
   "outputs": [],
   "source": [
    "#Load the CHILDES dataset as a pandas df\n",
    "childes = pd.read_csv(\"childes.csv\", low_memory=False)"
   ]
  },
  {
   "cell_type": "code",
   "execution_count": 257,
   "metadata": {
    "hidden": true,
    "slideshow": {
     "slide_type": "skip"
    }
   },
   "outputs": [],
   "source": [
    "# childes.info()"
   ]
  },
  {
   "cell_type": "markdown",
   "metadata": {
    "slideshow": {
     "slide_type": "skip"
    }
   },
   "source": [
    "## Full dataset"
   ]
  },
  {
   "cell_type": "markdown",
   "metadata": {
    "heading_collapsed": true,
    "slideshow": {
     "slide_type": "skip"
    }
   },
   "source": [
    "### prep and save to disk"
   ]
  },
  {
   "cell_type": "code",
   "execution_count": 348,
   "metadata": {
    "hidden": true,
    "slideshow": {
     "slide_type": "skip"
    }
   },
   "outputs": [],
   "source": [
    "#Add a \"source\" column to each dataset before merging them\n",
    "\n",
    "source = ['radioambulante'] *len(radioambulante)\n",
    "radioambulante.insert(1, 'source', source)\n",
    "\n",
    "source = ['childes'] *len(childes)\n",
    "childes.insert(1, 'source', source)"
   ]
  },
  {
   "cell_type": "code",
   "execution_count": 349,
   "metadata": {
    "hidden": true,
    "slideshow": {
     "slide_type": "skip"
    }
   },
   "outputs": [],
   "source": [
    "#merge childes to radioambulante on dialect, speaker, and utterance\n",
    "src_dlct_spkr_utt = [childes[['source','dialect', 'speaker', 'utterance']], radioambulante[['source','dialect', 'speaker', 'utterance']]]\n",
    "raw_data = pd.concat(src_dlct_spkr_utt)"
   ]
  },
  {
   "cell_type": "code",
   "execution_count": 350,
   "metadata": {
    "hidden": true,
    "slideshow": {
     "slide_type": "skip"
    }
   },
   "outputs": [
    {
     "data": {
      "text/html": [
       "<div>\n",
       "<style scoped>\n",
       "    .dataframe tbody tr th:only-of-type {\n",
       "        vertical-align: middle;\n",
       "    }\n",
       "\n",
       "    .dataframe tbody tr th {\n",
       "        vertical-align: top;\n",
       "    }\n",
       "\n",
       "    .dataframe thead th {\n",
       "        text-align: right;\n",
       "    }\n",
       "</style>\n",
       "<table border=\"1\" class=\"dataframe\">\n",
       "  <thead>\n",
       "    <tr style=\"text-align: right;\">\n",
       "      <th></th>\n",
       "      <th>source</th>\n",
       "      <th>dialect</th>\n",
       "      <th>speaker</th>\n",
       "      <th>utterance</th>\n",
       "    </tr>\n",
       "  </thead>\n",
       "  <tbody>\n",
       "    <tr>\n",
       "      <th>0</th>\n",
       "      <td>childes</td>\n",
       "      <td>Spain</td>\n",
       "      <td>INV-DZIZ</td>\n",
       "      <td>en Oviedo ?</td>\n",
       "    </tr>\n",
       "    <tr>\n",
       "      <th>1</th>\n",
       "      <td>childes</td>\n",
       "      <td>Spain</td>\n",
       "      <td>INV-DZIZ</td>\n",
       "      <td>ah (.) es la casa de Sergio (.) sí ?</td>\n",
       "    </tr>\n",
       "    <tr>\n",
       "      <th>2</th>\n",
       "      <td>childes</td>\n",
       "      <td>Spain</td>\n",
       "      <td>INV-DZIZ</td>\n",
       "      <td>ah (.) oye (.) y (.) cuántos años tienes ?</td>\n",
       "    </tr>\n",
       "    <tr>\n",
       "      <th>3</th>\n",
       "      <td>childes</td>\n",
       "      <td>Spain</td>\n",
       "      <td>INV-DZIZ</td>\n",
       "      <td>dos (.) &lt;a ver&gt; [/] a_ver (.) qué son estos ?</td>\n",
       "    </tr>\n",
       "    <tr>\n",
       "      <th>4</th>\n",
       "      <td>childes</td>\n",
       "      <td>Spain</td>\n",
       "      <td>INV-DZIZ</td>\n",
       "      <td>ah (.) tienes tres añitos .</td>\n",
       "    </tr>\n",
       "    <tr>\n",
       "      <th>...</th>\n",
       "      <td>...</td>\n",
       "      <td>...</td>\n",
       "      <td>...</td>\n",
       "      <td>...</td>\n",
       "    </tr>\n",
       "    <tr>\n",
       "      <th>8543</th>\n",
       "      <td>radioambulante</td>\n",
       "      <td>Mexican</td>\n",
       "      <td>María:</td>\n",
       "      <td>Pues a la vez pues me enorgullezco o lo siento...</td>\n",
       "    </tr>\n",
       "    <tr>\n",
       "      <th>8544</th>\n",
       "      <td>radioambulante</td>\n",
       "      <td>Mexican</td>\n",
       "      <td>Carola:</td>\n",
       "      <td>Por ahora, Jorge sigue con su proyecto, con La...</td>\n",
       "    </tr>\n",
       "    <tr>\n",
       "      <th>8545</th>\n",
       "      <td>radioambulante</td>\n",
       "      <td>Mexican</td>\n",
       "      <td>María:</td>\n",
       "      <td>——–</td>\n",
       "    </tr>\n",
       "    <tr>\n",
       "      <th>8546</th>\n",
       "      <td>radioambulante</td>\n",
       "      <td>Mexican</td>\n",
       "      <td>María:</td>\n",
       "      <td>Y cinco meses después, en julio y en la Ciudad...</td>\n",
       "    </tr>\n",
       "    <tr>\n",
       "      <th>8547</th>\n",
       "      <td>radioambulante</td>\n",
       "      <td>Mexican</td>\n",
       "      <td>María:</td>\n",
       "      <td>Esta historia fue editada por Camila Segura, S...</td>\n",
       "    </tr>\n",
       "  </tbody>\n",
       "</table>\n",
       "<p>206804 rows × 4 columns</p>\n",
       "</div>"
      ],
      "text/plain": [
       "              source  dialect   speaker  \\\n",
       "0            childes    Spain  INV-DZIZ   \n",
       "1            childes    Spain  INV-DZIZ   \n",
       "2            childes    Spain  INV-DZIZ   \n",
       "3            childes    Spain  INV-DZIZ   \n",
       "4            childes    Spain  INV-DZIZ   \n",
       "...              ...      ...       ...   \n",
       "8543  radioambulante  Mexican   María:    \n",
       "8544  radioambulante  Mexican  Carola:    \n",
       "8545  radioambulante  Mexican   María:    \n",
       "8546  radioambulante  Mexican   María:    \n",
       "8547  radioambulante  Mexican   María:    \n",
       "\n",
       "                                              utterance  \n",
       "0                                           en Oviedo ?  \n",
       "1                  ah (.) es la casa de Sergio (.) sí ?  \n",
       "2            ah (.) oye (.) y (.) cuántos años tienes ?  \n",
       "3         dos (.) <a ver> [/] a_ver (.) qué son estos ?  \n",
       "4                           ah (.) tienes tres añitos .  \n",
       "...                                                 ...  \n",
       "8543  Pues a la vez pues me enorgullezco o lo siento...  \n",
       "8544  Por ahora, Jorge sigue con su proyecto, con La...  \n",
       "8545                                                ——–  \n",
       "8546  Y cinco meses después, en julio y en la Ciudad...  \n",
       "8547  Esta historia fue editada por Camila Segura, S...  \n",
       "\n",
       "[206804 rows x 4 columns]"
      ]
     },
     "execution_count": 350,
     "metadata": {},
     "output_type": "execute_result"
    }
   ],
   "source": [
    "#Take a look at the full dataset\n",
    "raw_data"
   ]
  },
  {
   "cell_type": "code",
   "execution_count": 351,
   "metadata": {
    "hidden": true,
    "slideshow": {
     "slide_type": "skip"
    }
   },
   "outputs": [],
   "source": [
    "#add a column of dialect REGION (to make the plot below better)\n",
    "regionsdict = {\n",
    "                'Spain': 'Spain',\n",
    "               'Mexican': 'Mexico',\n",
    "               'Chilean': 'Cono Sur', \n",
    "               'Nicaraguan': 'North & Central America', \n",
    "               'Ecuadorean': 'South America', \n",
    "               'Guatemalan': 'North & Central America',\n",
    "               'Colombian': 'South America', \n",
    "               'Peruvian': 'South America', \n",
    "               'Argentinian': 'Cono Sur', \n",
    "               'Puertorican': 'Caribbean', \n",
    "               'US': 'North & Central America',\n",
    "               'Costarican': 'North & Central America', \n",
    "               'Cuban': 'Caribbean', \n",
    "               'Venezuelan': 'Caribbean', \n",
    "               'Dominican': 'Caribbean',\n",
    "               'Salvadoran': 'North & Central America', \n",
    "               'Honduran': 'North & Central America', \n",
    "               'Bolivian': 'South America', \n",
    "               'Uruguayan': 'Cono Sur',\n",
    "               'Paraguayan': 'Paraguayan',\n",
    "}\n",
    "regions = raw_data[['dialect']].replace(regionsdict)\n",
    "raw_data.insert(2, 'region', regions)\n"
   ]
  },
  {
   "cell_type": "code",
   "execution_count": 352,
   "metadata": {
    "hidden": true,
    "scrolled": true,
    "slideshow": {
     "slide_type": "skip"
    }
   },
   "outputs": [],
   "source": [
    "#add a column of dialect values that will be our target. Mexican = 1, everything else = 0\n",
    "\n",
    "target = list(raw_data['dialect'] == 'Mexican')\n",
    "raw_data.insert(0, 'target', target)"
   ]
  },
  {
   "cell_type": "code",
   "execution_count": 353,
   "metadata": {
    "hidden": true,
    "slideshow": {
     "slide_type": "skip"
    }
   },
   "outputs": [
    {
     "data": {
      "text/html": [
       "<div>\n",
       "<style scoped>\n",
       "    .dataframe tbody tr th:only-of-type {\n",
       "        vertical-align: middle;\n",
       "    }\n",
       "\n",
       "    .dataframe tbody tr th {\n",
       "        vertical-align: top;\n",
       "    }\n",
       "\n",
       "    .dataframe thead th {\n",
       "        text-align: right;\n",
       "    }\n",
       "</style>\n",
       "<table border=\"1\" class=\"dataframe\">\n",
       "  <thead>\n",
       "    <tr style=\"text-align: right;\">\n",
       "      <th></th>\n",
       "      <th>target</th>\n",
       "      <th>source</th>\n",
       "      <th>dialect</th>\n",
       "      <th>region</th>\n",
       "      <th>speaker</th>\n",
       "      <th>utterance</th>\n",
       "    </tr>\n",
       "  </thead>\n",
       "  <tbody>\n",
       "    <tr>\n",
       "      <th>0</th>\n",
       "      <td>False</td>\n",
       "      <td>childes</td>\n",
       "      <td>Spain</td>\n",
       "      <td>Spain</td>\n",
       "      <td>INV-DZIZ</td>\n",
       "      <td>en Oviedo ?</td>\n",
       "    </tr>\n",
       "    <tr>\n",
       "      <th>1</th>\n",
       "      <td>False</td>\n",
       "      <td>childes</td>\n",
       "      <td>Spain</td>\n",
       "      <td>Spain</td>\n",
       "      <td>INV-DZIZ</td>\n",
       "      <td>ah (.) es la casa de Sergio (.) sí ?</td>\n",
       "    </tr>\n",
       "    <tr>\n",
       "      <th>2</th>\n",
       "      <td>False</td>\n",
       "      <td>childes</td>\n",
       "      <td>Spain</td>\n",
       "      <td>Spain</td>\n",
       "      <td>INV-DZIZ</td>\n",
       "      <td>ah (.) oye (.) y (.) cuántos años tienes ?</td>\n",
       "    </tr>\n",
       "    <tr>\n",
       "      <th>3</th>\n",
       "      <td>False</td>\n",
       "      <td>childes</td>\n",
       "      <td>Spain</td>\n",
       "      <td>Spain</td>\n",
       "      <td>INV-DZIZ</td>\n",
       "      <td>dos (.) &lt;a ver&gt; [/] a_ver (.) qué son estos ?</td>\n",
       "    </tr>\n",
       "    <tr>\n",
       "      <th>4</th>\n",
       "      <td>False</td>\n",
       "      <td>childes</td>\n",
       "      <td>Spain</td>\n",
       "      <td>Spain</td>\n",
       "      <td>INV-DZIZ</td>\n",
       "      <td>ah (.) tienes tres añitos .</td>\n",
       "    </tr>\n",
       "  </tbody>\n",
       "</table>\n",
       "</div>"
      ],
      "text/plain": [
       "   target   source dialect region   speaker  \\\n",
       "0   False  childes   Spain  Spain  INV-DZIZ   \n",
       "1   False  childes   Spain  Spain  INV-DZIZ   \n",
       "2   False  childes   Spain  Spain  INV-DZIZ   \n",
       "3   False  childes   Spain  Spain  INV-DZIZ   \n",
       "4   False  childes   Spain  Spain  INV-DZIZ   \n",
       "\n",
       "                                       utterance  \n",
       "0                                    en Oviedo ?  \n",
       "1           ah (.) es la casa de Sergio (.) sí ?  \n",
       "2     ah (.) oye (.) y (.) cuántos años tienes ?  \n",
       "3  dos (.) <a ver> [/] a_ver (.) qué son estos ?  \n",
       "4                    ah (.) tienes tres añitos .  "
      ]
     },
     "execution_count": 353,
     "metadata": {},
     "output_type": "execute_result"
    }
   ],
   "source": [
    "raw_data.head()"
   ]
  },
  {
   "cell_type": "code",
   "execution_count": 354,
   "metadata": {
    "hidden": true,
    "slideshow": {
     "slide_type": "skip"
    }
   },
   "outputs": [],
   "source": [
    "# save to disk\n",
    "raw_data.to_csv(\"raw_data.csv\")"
   ]
  },
  {
   "cell_type": "markdown",
   "metadata": {
    "heading_collapsed": true,
    "slideshow": {
     "slide_type": "skip"
    }
   },
   "source": [
    "### Read in full dataset from disk"
   ]
  },
  {
   "cell_type": "code",
   "execution_count": 15,
   "metadata": {
    "hidden": true,
    "slideshow": {
     "slide_type": "skip"
    }
   },
   "outputs": [],
   "source": [
    "#read in full dataset from disk\n",
    "raw_data = pd.read_csv(\"raw_data.csv\")"
   ]
  },
  {
   "cell_type": "markdown",
   "metadata": {
    "heading_collapsed": true,
    "slideshow": {
     "slide_type": "skip"
    }
   },
   "source": [
    "# Dialect distribution"
   ]
  },
  {
   "cell_type": "code",
   "execution_count": 16,
   "metadata": {
    "hidden": true,
    "slideshow": {
     "slide_type": "skip"
    }
   },
   "outputs": [],
   "source": [
    "#Distribution of utterances from each dialect\n",
    "# dialects = sorted(raw_data['region'].unique())\n",
    "dialects = ['\\nCaribbean', 'Southern Cone', 'Mexico', '\\nNorth \\n& Central \\nAmerica', 'Paraguay', 'Other South America', 'Spain']\n",
    "total_utterances = raw_data['region'].value_counts().sort_index()\n",
    "total_data = sum(total_utterances)\n",
    "#     colors = ['black', 'beige', 'green', 'lightblue', 'red','blue', 'gold'], \n",
    "colors = ['beige', 'lightcoral', 'green', 'grey', 'orange','brown', 'gold']\n",
    "#     autopct = lambda x: '{:.0f}'.format(x * total_data/100)"
   ]
  },
  {
   "cell_type": "markdown",
   "metadata": {
    "heading_collapsed": true,
    "hidden": true,
    "slideshow": {
     "slide_type": "slide"
    }
   },
   "source": [
    "## Data by dialect region"
   ]
  },
  {
   "cell_type": "code",
   "execution_count": 17,
   "metadata": {
    "hidden": true,
    "slideshow": {
     "slide_type": "fragment"
    }
   },
   "outputs": [
    {
     "data": {
      "image/png": "[encoded data removed]",
      "text/plain": [
       "<Figure size 432x288 with 1 Axes>"
      ]
     },
     "metadata": {},
     "output_type": "display_data"
    }
   ],
   "source": [
    "dlctfig = plt.pyplot.figure()\n",
    "ax = dlctfig.add_axes([0, 0, 1, 2])\n",
    "pie = ax.pie(total_utterances, labels = dialects, colors = colors, startangle = 60, autopct = '%1.1f%%', textprops={'fontsize': 16})"
   ]
  },
  {
   "cell_type": "markdown",
   "metadata": {
    "heading_collapsed": true,
    "slideshow": {
     "slide_type": "skip"
    }
   },
   "source": [
    "# Test-train split"
   ]
  },
  {
   "cell_type": "code",
   "execution_count": 419,
   "metadata": {
    "hidden": true,
    "slideshow": {
     "slide_type": "skip"
    }
   },
   "outputs": [],
   "source": [
    "# Choose 10% randomly from raw_data dataframe to be the final test set.\n",
    "n_test = round(.10 * len(raw_data))\n",
    "\n",
    "test_index = random.sample(list(raw_data.index), n_test)\n",
    "\n",
    "finaltest = raw_data.loc[raw_data.index.isin(test_index)]\n",
    "# finaltest.head(25)\n",
    "\n",
    "remainder = raw_data.loc[~raw_data.index.isin(test_index)]\n",
    "# remainder.head(25)\n",
    "\n",
    "# Split the remainder into 60% train and 40% (dev) test set\n",
    "\n",
    "n_dev = round(.4 *len(remainder))\n",
    "\n",
    "dev_index = random.sample(list(remainder.index), n_dev)\n",
    "\n",
    "test = remainder.loc[remainder.index.isin(dev_index)]\n",
    "# test.head(25)\n",
    "\n",
    "train = remainder.loc[~remainder.index.isin(dev_index)]\n",
    "# train.head(25)"
   ]
  },
  {
   "cell_type": "code",
   "execution_count": 423,
   "metadata": {
    "hidden": true,
    "slideshow": {
     "slide_type": "skip"
    }
   },
   "outputs": [],
   "source": [
    "# Sanity check that the three dfs are not overlapping\n",
    "# finaltest.head(25)\n",
    "# test.head(25)\n",
    "# train.head(25)"
   ]
  },
  {
   "cell_type": "code",
   "execution_count": 424,
   "metadata": {
    "hidden": true,
    "slideshow": {
     "slide_type": "skip"
    }
   },
   "outputs": [
    {
     "name": "stdout",
     "output_type": "stream",
     "text": [
      "True     56493\n",
      "False    50959\n",
      "Name: target, dtype: int64\n",
      "False    38937\n",
      "True     38158\n",
      "Name: target, dtype: int64\n"
     ]
    }
   ],
   "source": [
    "#Make sure that both sets have Mexican and non-Mexican data\n",
    "print(train['target'].value_counts())\n",
    "print(test['target'].value_counts())"
   ]
  },
  {
   "cell_type": "code",
   "execution_count": 433,
   "metadata": {
    "hidden": true,
    "slideshow": {
     "slide_type": "skip"
    }
   },
   "outputs": [],
   "source": [
    "#Save everything to disk\n",
    "finaltest.to_csv(\"finaltest.csv\")"
   ]
  },
  {
   "cell_type": "code",
   "execution_count": 436,
   "metadata": {
    "hidden": true,
    "slideshow": {
     "slide_type": "skip"
    }
   },
   "outputs": [],
   "source": [
    "test.to_csv(\"test.csv\")\n",
    "train.to_csv(\"train.csv\")"
   ]
  },
  {
   "cell_type": "markdown",
   "metadata": {
    "slideshow": {
     "slide_type": "skip"
    }
   },
   "source": [
    "# Feature engineering"
   ]
  },
  {
   "cell_type": "markdown",
   "metadata": {
    "slideshow": {
     "slide_type": "skip"
    }
   },
   "source": [
    "### Read in training data from disk (skip to here)"
   ]
  },
  {
   "cell_type": "code",
   "execution_count": 18,
   "metadata": {
    "slideshow": {
     "slide_type": "skip"
    }
   },
   "outputs": [],
   "source": [
    "train = pd.read_csv(\"train.csv\")\n",
    "test = pd.read_csv(\"test.csv\")"
   ]
  },
  {
   "cell_type": "code",
   "execution_count": 19,
   "metadata": {
    "slideshow": {
     "slide_type": "skip"
    }
   },
   "outputs": [],
   "source": [
    "#Separate the input from the output in both cases\n",
    "train_input = train['utterance']\n",
    "train_target = train['target']\n",
    "test_input = test['utterance']\n",
    "test_target = test['target']"
   ]
  },
  {
   "cell_type": "markdown",
   "metadata": {
    "heading_collapsed": true,
    "slideshow": {
     "slide_type": "skip"
    }
   },
   "source": [
    "### To do: grammatical encoding and other exclusions"
   ]
  },
  {
   "cell_type": "code",
   "execution_count": 100,
   "metadata": {
    "hidden": true,
    "slideshow": {
     "slide_type": "skip"
    }
   },
   "outputs": [],
   "source": [
    "# Next time: try to access the Spanish tokenizer\n",
    "# nlp = spacy.load(\"es_core_news_sm\")"
   ]
  },
  {
   "cell_type": "code",
   "execution_count": 926,
   "metadata": {
    "hidden": true,
    "slideshow": {
     "slide_type": "skip"
    }
   },
   "outputs": [],
   "source": [
    "#Create a grouped list consisting of tokenized utterances from raw_data. \n",
    "#THIS TAKES A WHILE\n",
    "# tokens = [nlp(utt) for utt in raw_data['utterance']]\n",
    "# tokens"
   ]
  },
  {
   "cell_type": "markdown",
   "metadata": {
    "heading_collapsed": true,
    "slideshow": {
     "slide_type": "skip"
    }
   },
   "source": [
    "### Stop words"
   ]
  },
  {
   "cell_type": "code",
   "execution_count": 21,
   "metadata": {
    "hidden": true,
    "slideshow": {
     "slide_type": "skip"
    }
   },
   "outputs": [
    {
     "data": {
      "text/plain": [
       "551"
      ]
     },
     "execution_count": 21,
     "metadata": {},
     "output_type": "execute_result"
    }
   ],
   "source": [
    "from spacy.lang.es.stop_words import STOP_WORDS as SPACY_STOP_WORDS\n",
    "\n",
    "len(SPACY_STOP_WORDS)"
   ]
  },
  {
   "cell_type": "code",
   "execution_count": 22,
   "metadata": {
    "hidden": true,
    "slideshow": {
     "slide_type": "skip"
    }
   },
   "outputs": [],
   "source": [
    "#Remove pronouns and vosotros-conjugated verbs from SpaCy's Spanish stopword list\n",
    "KEEP = set(['ella', 'ellas', 'ellos', 'él', 'nosotros', 'nosotras', 'tú', 'usted', 'ustedes', \n",
    "            'vosotros', 'vosotras', 'yo', 'os', 'vuestra', 'vuestro', 'vuestras', 'vuestros',\n",
    "            'deprisa', 'empleais', 'eres', 'estais', 'haceis', 'intentais', 'podeis', 'podriais', \n",
    "            'sabeis', 'sois', 'soyos', 'teneis', 'trabajais', 'usais', 'vais'])\n",
    "SPAN_STOP_WORDS = SPACY_STOP_WORDS.difference(KEEP)"
   ]
  },
  {
   "cell_type": "code",
   "execution_count": 23,
   "metadata": {
    "hidden": true,
    "slideshow": {
     "slide_type": "skip"
    }
   },
   "outputs": [],
   "source": [
    "#Put names, interjections, and non-words in their own stopword lists\n",
    "NAMES = set(['mariana','gabriel', 'yaretzi', 'gabi', 'beto', 'hindenburg', 'juan', 'lucía', 'rudy', 'javier', 'ambulante', 'ambulantes', 'lulú', 'lu'])"
   ]
  },
  {
   "cell_type": "code",
   "execution_count": 24,
   "metadata": {
    "hidden": true,
    "slideshow": {
     "slide_type": "skip"
    }
   },
   "outputs": [],
   "source": [
    "NONWORDS = set(['sleep', 'number', 'laughs', 'ads', 'cor', 'eng', 'grn', 'jpn', 'xx', 'xxx', 'www', 'snd', 'do', 'to', 'wp', '021100', '021000','020608',\n",
    "                '0998883339', '0a', '000', '020904', '011127', '020024', '020421', '020316', '020511', '011029',\n",
    "               '020219, 020709', '020219', '020709', '020121', '020805'])"
   ]
  },
  {
   "cell_type": "code",
   "execution_count": 25,
   "metadata": {
    "hidden": true,
    "slideshow": {
     "slide_type": "skip"
    }
   },
   "outputs": [],
   "source": [
    "INTERJECTIONS = set([\n",
    " 'ahh',\n",
    " 'aaah',\n",
    " 'aaaah',\n",
    " 'ah',\n",
    " 'ajá', \n",
    " 'am',\n",
    " 'ay',\n",
    " 'eh',\n",
    " 'chuk',\n",
    " 'guau',\n",
    " 'hm',\n",
    " 'ja',\n",
    " 'je',\n",
    " 'mhm',\n",
    " 'mmhm',\n",
    " 'mjm',\n",
    " 'mm',\n",
    " 'mmm',\n",
    " 'mmh',\n",
    " 'ñam',\n",
    " 'oh', \n",
    " 'oi',\n",
    " 'oy',\n",
    " 'padum',\n",
    " 'ta',\n",
    " 'tun',\n",
    " 'uh',\n",
    " 'ujum',\n",
    " 'unjú',\n",
    " 'uy',\n",
    " 'zumzum'\n",
    "])\n"
   ]
  },
  {
   "cell_type": "code",
   "execution_count": 26,
   "metadata": {
    "hidden": true,
    "slideshow": {
     "slide_type": "skip"
    }
   },
   "outputs": [],
   "source": [
    "#Put pronouns into their own stopword list for optional inclusion\n",
    "PRO = set(['ella', 'ellas', 'ellos', 'él', 'nosotros', 'nosotras', 'tú', 'yo'])"
   ]
  },
  {
   "cell_type": "code",
   "execution_count": 27,
   "metadata": {
    "hidden": true,
    "slideshow": {
     "slide_type": "skip"
    }
   },
   "outputs": [],
   "source": [
    "#More words for for optional inclusion in stopwords\n",
    "OTHER = set([\n",
    "     'siento', 'estabas', 'sabía', 'subir', 'vino', 'feo', 'toca',\n",
    "    'mesa', 'paso', 'mil', 'hice', 'cama', 'teléfono', 'dejar', 'buscar', 'hombre', 'gustan', 'ropa', 'baño', 'tirar', 'rápido', 'tomar', 'pan', 'difícil', 'ayudo', 'pa',\n",
    " 'juan', 'cae', 'comprar', 'historia', 'doy', 'amarillo', 'media', 'noche', 'juego', 'pintar', 'ojo', 'espera', 'sacar', 'colores', 'perrito', 'hablando', 'ratito', 'hermano', 'tortuga', 'trae', 'ustedes', 'pie', 'guardar', 'café', 'cabe', 'amigos', 'semana', 'caballo', 'corazón', 'nariz', 'canción', 'fuiste', 'diciendo', 'león', 'tía', 'venir', 'comiendo', 'pasar', \n",
    " 'leche', 'cabeza', 'das', 'has', 'lobo', 'gente', 'sale', 'años', 'boca', 'ella', 'nosotros', 'nombre', 'ponemos', 'cosa', 'libro', 'dormir', 'queda', 'pongo', 'comida', 'él', 'tú', 'yo', 'dale', 'come', 'avión', 'coche', 'rojo', 'ellos', 'amor', 'nena', 'señora', 'año', 'hablar', 'rico','a_ver', 've',\n",
    " 'afuera', 'animales', 'oso', 'meses', 'forma', 'duele', 'aparte', 'sol', 'casita', 'torre', 'entrar', 'quieren', 'hacía', 'alguien', 'corre',\n",
    " 'oye',\n",
    " 'ya',\n",
    " 'abajo',\n",
    " 'acuerdas',\n",
    " 'acá',\n",
    " 'adiós',\n",
    " 'agua',\n",
    " 'allá',\n",
    " 'amigo',\n",
    " 'azul',\n",
    " 'bebé',\n",
    " 'bonita',\n",
    " 'bonito',\n",
    " 'caer',\n",
    " 'casa',\n",
    " 'cayó',\n",
    " 'color',\n",
    " 'comer',\n",
    " 'con',\n",
    " 'crees',\n",
    " 'cuento',\n",
    " 'cuidado',\n",
    " 'dame',\n",
    " 'de',\n",
    " 'deja',\n",
    " 'di',\n",
    " 'dices',\n",
    " 'diez',\n",
    " 'digo',\n",
    " 'dije',\n",
    " 'dile',\n",
    " 'dime',\n",
    " 'el',\n",
    " 'en',\n",
    " 'eres',\n",
    " 'es',\n",
    " 'escuela',\n",
    " 'espérame',\n",
    " 'está',\n",
    " 'estás',\n",
    " 'falta',\n",
    " 'fuerte',\n",
    " 'gato',\n",
    " 'gracias',\n",
    " 'grande',\n",
    " 'gusta',\n",
    " 'hiciste',\n",
    " 'hija',\n",
    " 'hijo',\n",
    " 'hola',\n",
    " 'hora',\n",
    " 'iba',\n",
    " 'jugar',\n",
    " 'la',\n",
    " 'llama',\n",
    " 'lo',\n",
    " 'los',\n",
    " 'mamá',\n",
    " 'mano',\n",
    " 'mañana',\n",
    " 'me',\n",
    " 'más',\n",
    " 'mira',\n",
    " 'niña',\n",
    " 'niño',\n",
    " 'niños',\n",
    " 'no',\n",
    " 'padre',\n",
    " 'papá',\n",
    " 'pasa',\n",
    " 'pasó',\n",
    " 'pero',\n",
    " 'perro',\n",
    " 'por',\n",
    " 'por_favor',\n",
    " 'porque',\n",
    " 'puedes',\n",
    " 'pues',\n",
    " 'que',\n",
    " 'quería',\n",
    " 'quieres',\n",
    " 'quiero',\n",
    " 'qué',\n",
    " 'salir',\n",
    " 'se',\n",
    " 'señor',\n",
    " 'si',\n",
    " 'siéntate',\n",
    " 'sí',\n",
    " 'te',\n",
    " 'ten',\n",
    " 'tienes',\n",
    " 'toma',\n",
    " 'un',\n",
    " 'una',\n",
    " 'vaca',\n",
    " 'vas',\n",
    " 'ven',\n",
    " 'vente',\n",
    " 'verde',\n",
    " 'ves',\n",
    " 'viene',\n",
    " 'viste', 'vi', 'vuelta', 'rana', 'hermana', 'miedo', 'jugando', 'decía', 'dibujar', 'pon', 'pone', 'cara', 'contar', 'vida', 'visto', 'poquito', 'vale', 'anda', 'salió', 'veo', 'camión'\n",
    "])\n"
   ]
  },
  {
   "cell_type": "markdown",
   "metadata": {
    "heading_collapsed": true,
    "slideshow": {
     "slide_type": "skip"
    }
   },
   "source": [
    "###  Bag-of-words and bag-of-phrases encodings"
   ]
  },
  {
   "cell_type": "code",
   "execution_count": 28,
   "metadata": {
    "hidden": true,
    "slideshow": {
     "slide_type": "skip"
    }
   },
   "outputs": [],
   "source": [
    "#Use a variety of different bag-of-words encoding methods\n",
    "\n",
    "#This is the baseline, vanilla set of one-grams\n",
    "# vanilla = CountVectorizer(\n",
    "#     stop_words = SPAN_STOP_WORDS|NONWORDS|INTERJECTIONS|NAMES|PRO,\n",
    "# )\n",
    "\n",
    "#This is the best max_features I could get with one-grams\n",
    "# onegrams = TfidfVectorizer(max_features= 23630,\n",
    "#                            stop_words = SPAN_STOP_WORDS|NONWORDS|INTERJECTIONS|NAMES|PRO\n",
    "#                           )\n",
    "\n",
    "#This is the best max_features I could get with bi-grams\n",
    "# bigrams = TfidfVectorizer(max_features=77500,\n",
    "#                            stop_words = SPAN_STOP_WORDS|NONWORDS|INTERJECTIONS|NAMES,\n",
    "#                            ngram_range=(2,2)\n",
    "#                           )\n",
    "\n",
    "#So far this is the best vectorizer overall.\n",
    "# when including the OTHER stopwords list, it produces lower accuracy but more reasonable results \n",
    "cadillac = CountVectorizer(\n",
    "    stop_words = SPAN_STOP_WORDS|NONWORDS|INTERJECTIONS|NAMES,\n",
    "    ngram_range=(1,2)\n",
    ")\n",
    "\n",
    "#Choose which of the above transformers to use in the model\n",
    "chosentransformer = cadillac"
   ]
  },
  {
   "cell_type": "markdown",
   "metadata": {
    "slideshow": {
     "slide_type": "skip"
    }
   },
   "source": [
    "# Model"
   ]
  },
  {
   "cell_type": "markdown",
   "metadata": {
    "slideshow": {
     "slide_type": "skip"
    }
   },
   "source": [
    "## Train a Naive Bayes predictor"
   ]
  },
  {
   "cell_type": "code",
   "execution_count": 29,
   "metadata": {
    "slideshow": {
     "slide_type": "skip"
    }
   },
   "outputs": [
    {
     "name": "stdout",
     "output_type": "stream",
     "text": [
      "number of observations trained on: 107452\n",
      "number of features used: 111415\n"
     ]
    }
   ],
   "source": [
    "#Put together the fitted transformer with a Naive Bayes predictor and fit it on the training data\n",
    "\n",
    "features = chosentransformer\n",
    "predictor = MultinomialNB(alpha = 5)\n",
    "\n",
    "classifier = Pipeline([('features', features),\n",
    "                     ('predictor', predictor)])\n",
    "\n",
    "\n",
    "fit_cl = classifier.fit(train_input, train_target)\n",
    "\n",
    "\n",
    "#After fitting, print some metrics\n",
    "print(\"number of observations trained on:\", len(train_input))\n",
    "print(\"number of features used:\", len(features.get_feature_names()))"
   ]
  },
  {
   "cell_type": "code",
   "execution_count": 31,
   "metadata": {},
   "outputs": [],
   "source": [
    "# pickle the classifier for later use, if needed\n",
    "dill.dump(fit_cl, open(\"classifier.pkd\", 'wb'))\n",
    "# dill.dump(all_captions, open('nysd-captions.pkd', 'wb'))"
   ]
  },
  {
   "cell_type": "code",
   "execution_count": 32,
   "metadata": {
    "slideshow": {
     "slide_type": "skip"
    }
   },
   "outputs": [],
   "source": [
    "# Re-run the count vectorizer on the training data again, in order to get counts of each feature\n",
    "# This will be used later to calculate P(word)\n",
    "#  To do: figure out some way to access the transformed version of 'features' inside of the classifier pipe.\n",
    "# (Right now all I can do is access the UNtransformed version)\n",
    "# Consider calling .feature_count_.sum(axis=0) on the predictor IF you can be sure that the counts aren't weighted in some weird way\n",
    "\n",
    "featurecounts = features.fit_transform(train_input).toarray().sum(axis=0)"
   ]
  },
  {
   "cell_type": "markdown",
   "metadata": {
    "slideshow": {
     "slide_type": "slide"
    }
   },
   "source": [
    "## Type sentence, predict dialect"
   ]
  },
  {
   "cell_type": "markdown",
   "metadata": {},
   "source": [
    "### read in model from dill object"
   ]
  },
  {
   "cell_type": "code",
   "execution_count": 35,
   "metadata": {},
   "outputs": [],
   "source": [
    "# all_captions = dill.load(open('nysd-captions.pkd', 'rb'))\n",
    "classifier = dill.load(open(\"classifier.pkd\", 'rb'))"
   ]
  },
  {
   "cell_type": "code",
   "execution_count": 38,
   "metadata": {
    "slideshow": {
     "slide_type": "skip"
    }
   },
   "outputs": [],
   "source": [
    "#Create interface for user to make on-the-fly predictions\n",
    "def classify(text):\n",
    "    if classifier.predict([text])[0]:\n",
    "        print(\"Mexican Spanish!\")\n",
    "    else:\n",
    "        print(\"Some other dialect!\")"
   ]
  },
  {
   "cell_type": "markdown",
   "metadata": {},
   "source": [
    "### interactive predictor"
   ]
  },
  {
   "cell_type": "code",
   "execution_count": 40,
   "metadata": {
    "slideshow": {
     "slide_type": "fragment"
    }
   },
   "outputs": [
    {
     "name": "stdout",
     "output_type": "stream",
     "text": [
      "Some other dialect!\n"
     ]
    }
   ],
   "source": [
    "classify('vos sos mija')"
   ]
  },
  {
   "cell_type": "markdown",
   "metadata": {
    "slideshow": {
     "slide_type": "skip"
    }
   },
   "source": [
    "# Feature importance"
   ]
  },
  {
   "cell_type": "markdown",
   "metadata": {
    "slideshow": {
     "slide_type": "skip"
    }
   },
   "source": [
    "### code"
   ]
  },
  {
   "cell_type": "code",
   "execution_count": 41,
   "metadata": {
    "slideshow": {
     "slide_type": "skip"
    }
   },
   "outputs": [],
   "source": [
    "# #Get P(word|MX) and P(word|non-MX) for all words\n",
    "# smallcorpus = ['una oración mexicana', 'otra oración mexicana mexicana', 'un enunciado español']\n",
    "# smalltargets = [1, 1, 0]\n",
    "# cv = CountVectorizer()\n",
    "# cv_fit = cv.fit_transform(smallcorpus)\n",
    "# pred = MultinomialNB()\n",
    "# pred.fit(cv_fit, smalltargets)"
   ]
  },
  {
   "cell_type": "code",
   "execution_count": 42,
   "metadata": {
    "slideshow": {
     "slide_type": "skip"
    }
   },
   "outputs": [],
   "source": [
    "# a = cv.get_feature_names()\n",
    "# print(a)\n",
    "# b = cv_fit.toarray().sum(axis=0)\n",
    "# print(b)\n",
    "# c = pred.feature_log_prob_[1]\n",
    "# print(c)\n",
    "# d = pred.feature_count_.sum(axis=0)\n",
    "# print(d)\n",
    "\n",
    "# pd.DataFrame({'a': a, 'b': b, 'c': c, 'd':d})"
   ]
  },
  {
   "cell_type": "code",
   "execution_count": 43,
   "metadata": {
    "slideshow": {
     "slide_type": "skip"
    }
   },
   "outputs": [],
   "source": [
    "#Get P(word|MX) and P(word|non-MX) for all words\n",
    "\n",
    "# Step 1. Get words\n",
    "words = classifier.named_steps['features'].get_feature_names()\n",
    "\n",
    "# Step 2. Get each word's count\n",
    "wordcounts = featurecounts #This was calculated just after the model was fit (see section \"Train Naive Bayes predictor\")\n",
    "    #To do: Try to see if this produces the same result EVEN when features get fancier\n",
    "    # altwordcounts = predictor.feature_count_.sum(axis=0) #\n",
    "\n",
    "# Step 3. Get each word's log P(word|MX) and log P(word|non-MX) \n",
    "logprob_MX = predictor.feature_log_prob_[1] #Pretty sure this is right\n",
    "\n",
    "logprob_nonMX = predictor.feature_log_prob_[0] #Pretty sure this is right"
   ]
  },
  {
   "cell_type": "code",
   "execution_count": 44,
   "metadata": {
    "slideshow": {
     "slide_type": "skip"
    }
   },
   "outputs": [],
   "source": [
    "# Step 4. Put all log probs into a dataframe\n",
    "featimport_df = pd.DataFrame(\n",
    "    {'word': words, \n",
    "     'count': wordcounts,\n",
    "#      'altcount': altwordcounts, \n",
    "     'logP(word|MX)': logprob_MX, \n",
    "     'logP(word|nonMX)':logprob_nonMX\n",
    "    })\n",
    "\n",
    "#To do: check if count and altcount produce all the same predictions\n",
    "# featimport_df['check'] = featimport_df['count'] - featimport_df['altcount']\n",
    "\n",
    "# featimport_df['check'].sum() == 0"
   ]
  },
  {
   "cell_type": "code",
   "execution_count": 45,
   "metadata": {
    "slideshow": {
     "slide_type": "skip"
    }
   },
   "outputs": [],
   "source": [
    "# Step 5. Calculate priors: log P(MX), log P(nonMX) and log P(word)\n",
    "\n",
    "logpriorMX = predictor.class_log_prior_[1] #This number is right\n",
    "logpriornonMX = predictor.class_log_prior_[0] #This number is right\n",
    "totalwords = featimport_df['count'].sum()\n",
    "\n",
    "featimport_df['logP(word)'] = np.log(featimport_df['count']/totalwords)\n",
    "\n",
    "\n",
    "# priormex = predictor.class_count_[0]/predictor.class_count_.sum()\n",
    "# priornonmex = 1- priormex\n",
    "# print(np.log(priormex))\n",
    "# print(np.log(priornonmex))\n",
    "# print(predictor.class_prior)\n",
    "# print(predictor.class_log_prior_)\n",
    "# print(predictor.class_count_)"
   ]
  },
  {
   "cell_type": "code",
   "execution_count": 46,
   "metadata": {
    "slideshow": {
     "slide_type": "skip"
    }
   },
   "outputs": [],
   "source": [
    "# Step 6. calculate log P(MX|word) and log P(nonMX|word) columns from the previous calculations\n",
    "\n",
    "\n",
    "featimport_df['logP(MX|word)'] = featimport_df['logP(word|MX)'] + logpriorMX - featimport_df['logP(word)']\n",
    "\n",
    "featimport_df['logP(nonMX|word)'] = featimport_df['logP(word|nonMX)'] + logpriornonMX - featimport_df['logP(word)']"
   ]
  },
  {
   "cell_type": "code",
   "execution_count": 47,
   "metadata": {
    "slideshow": {
     "slide_type": "skip"
    }
   },
   "outputs": [],
   "source": [
    "# Step 7. calculate bare probabilities P(MX|word) and P(nonMX|word)\n",
    "\n",
    "featimport_df['P(MX|word)'] = np.exp(featimport_df['logP(MX|word)'])\n",
    "featimport_df['P(nonMX|word)'] = np.exp(featimport_df['logP(nonMX|word)'])"
   ]
  },
  {
   "cell_type": "code",
   "execution_count": 48,
   "metadata": {
    "slideshow": {
     "slide_type": "skip"
    }
   },
   "outputs": [],
   "source": [
    "# Step 8. Exclude counts < 100\n",
    "frequentwds = featimport_df[featimport_df['count'] > 100]"
   ]
  },
  {
   "cell_type": "code",
   "execution_count": 49,
   "metadata": {
    "slideshow": {
     "slide_type": "skip"
    }
   },
   "outputs": [
    {
     "data": {
      "text/html": [
       "<div>\n",
       "<style scoped>\n",
       "    .dataframe tbody tr th:only-of-type {\n",
       "        vertical-align: middle;\n",
       "    }\n",
       "\n",
       "    .dataframe tbody tr th {\n",
       "        vertical-align: top;\n",
       "    }\n",
       "\n",
       "    .dataframe thead th {\n",
       "        text-align: right;\n",
       "    }\n",
       "</style>\n",
       "<table border=\"1\" class=\"dataframe\">\n",
       "  <thead>\n",
       "    <tr style=\"text-align: right;\">\n",
       "      <th></th>\n",
       "      <th>word</th>\n",
       "      <th>count</th>\n",
       "      <th>logP(word|MX)</th>\n",
       "      <th>logP(word|nonMX)</th>\n",
       "      <th>logP(word)</th>\n",
       "      <th>logP(MX|word)</th>\n",
       "      <th>logP(nonMX|word)</th>\n",
       "      <th>P(MX|word)</th>\n",
       "      <th>P(nonMX|word)</th>\n",
       "    </tr>\n",
       "  </thead>\n",
       "  <tbody>\n",
       "    <tr>\n",
       "      <th>46140</th>\n",
       "      <td>guaraní</td>\n",
       "      <td>112</td>\n",
       "      <td>-11.858805</td>\n",
       "      <td>-8.703904</td>\n",
       "      <td>-7.884852</td>\n",
       "      <td>-4.616880</td>\n",
       "      <td>-1.565075</td>\n",
       "      <td>0.009884</td>\n",
       "      <td>0.209072</td>\n",
       "    </tr>\n",
       "    <tr>\n",
       "      <th>104805</th>\n",
       "      <td>vení</td>\n",
       "      <td>122</td>\n",
       "      <td>-11.858805</td>\n",
       "      <td>-8.621891</td>\n",
       "      <td>-7.799330</td>\n",
       "      <td>-4.702402</td>\n",
       "      <td>-1.568584</td>\n",
       "      <td>0.009073</td>\n",
       "      <td>0.208340</td>\n",
       "    </tr>\n",
       "    <tr>\n",
       "      <th>47980</th>\n",
       "      <td>hala</td>\n",
       "      <td>187</td>\n",
       "      <td>-11.858805</td>\n",
       "      <td>-8.208583</td>\n",
       "      <td>-7.372242</td>\n",
       "      <td>-5.129490</td>\n",
       "      <td>-1.582363</td>\n",
       "      <td>0.005920</td>\n",
       "      <td>0.205489</td>\n",
       "    </tr>\n",
       "    <tr>\n",
       "      <th>107351</th>\n",
       "      <td>vo</td>\n",
       "      <td>204</td>\n",
       "      <td>-11.858805</td>\n",
       "      <td>-8.123744</td>\n",
       "      <td>-7.285231</td>\n",
       "      <td>-5.216501</td>\n",
       "      <td>-1.584535</td>\n",
       "      <td>0.005426</td>\n",
       "      <td>0.205043</td>\n",
       "    </tr>\n",
       "    <tr>\n",
       "      <th>83193</th>\n",
       "      <td>querés</td>\n",
       "      <td>313</td>\n",
       "      <td>-11.858805</td>\n",
       "      <td>-7.704027</td>\n",
       "      <td>-6.857148</td>\n",
       "      <td>-5.644584</td>\n",
       "      <td>-1.592902</td>\n",
       "      <td>0.003537</td>\n",
       "      <td>0.203335</td>\n",
       "    </tr>\n",
       "    <tr>\n",
       "      <th>96281</th>\n",
       "      <td>tenés</td>\n",
       "      <td>258</td>\n",
       "      <td>-11.676483</td>\n",
       "      <td>-7.897733</td>\n",
       "      <td>-7.050391</td>\n",
       "      <td>-5.269019</td>\n",
       "      <td>-1.593365</td>\n",
       "      <td>0.005149</td>\n",
       "      <td>0.203241</td>\n",
       "    </tr>\n",
       "    <tr>\n",
       "      <th>107795</th>\n",
       "      <td>vos</td>\n",
       "      <td>453</td>\n",
       "      <td>-11.676483</td>\n",
       "      <td>-7.341395</td>\n",
       "      <td>-6.487459</td>\n",
       "      <td>-5.831952</td>\n",
       "      <td>-1.599958</td>\n",
       "      <td>0.002932</td>\n",
       "      <td>0.201905</td>\n",
       "    </tr>\n",
       "    <tr>\n",
       "      <th>64261</th>\n",
       "      <td>mirá</td>\n",
       "      <td>748</td>\n",
       "      <td>-11.858805</td>\n",
       "      <td>-6.842013</td>\n",
       "      <td>-5.985948</td>\n",
       "      <td>-6.515784</td>\n",
       "      <td>-1.602087</td>\n",
       "      <td>0.001480</td>\n",
       "      <td>0.201475</td>\n",
       "    </tr>\n",
       "    <tr>\n",
       "      <th>102731</th>\n",
       "      <td>vamo</td>\n",
       "      <td>158</td>\n",
       "      <td>-11.165658</td>\n",
       "      <td>-8.403483</td>\n",
       "      <td>-7.540756</td>\n",
       "      <td>-4.267829</td>\n",
       "      <td>-1.608750</td>\n",
       "      <td>0.014012</td>\n",
       "      <td>0.200138</td>\n",
       "    </tr>\n",
       "    <tr>\n",
       "      <th>90577</th>\n",
       "      <td>sapo</td>\n",
       "      <td>150</td>\n",
       "      <td>-11.165658</td>\n",
       "      <td>-8.455443</td>\n",
       "      <td>-7.592716</td>\n",
       "      <td>-4.215869</td>\n",
       "      <td>-1.608750</td>\n",
       "      <td>0.014759</td>\n",
       "      <td>0.200138</td>\n",
       "    </tr>\n",
       "    <tr>\n",
       "      <th>53365</th>\n",
       "      <td>jardín</td>\n",
       "      <td>107</td>\n",
       "      <td>-10.829185</td>\n",
       "      <td>-8.831349</td>\n",
       "      <td>-7.930522</td>\n",
       "      <td>-3.541591</td>\n",
       "      <td>-1.646850</td>\n",
       "      <td>0.028967</td>\n",
       "      <td>0.192656</td>\n",
       "    </tr>\n",
       "    <tr>\n",
       "      <th>104472</th>\n",
       "      <td>venga</td>\n",
       "      <td>583</td>\n",
       "      <td>-9.754671</td>\n",
       "      <td>-7.152530</td>\n",
       "      <td>-6.235164</td>\n",
       "      <td>-4.162434</td>\n",
       "      <td>-1.663389</td>\n",
       "      <td>0.015570</td>\n",
       "      <td>0.189496</td>\n",
       "    </tr>\n",
       "    <tr>\n",
       "      <th>100666</th>\n",
       "      <td>tá</td>\n",
       "      <td>331</td>\n",
       "      <td>-9.730573</td>\n",
       "      <td>-7.765634</td>\n",
       "      <td>-6.801233</td>\n",
       "      <td>-3.572268</td>\n",
       "      <td>-1.710425</td>\n",
       "      <td>0.028092</td>\n",
       "      <td>0.180789</td>\n",
       "    </tr>\n",
       "    <tr>\n",
       "      <th>102610</th>\n",
       "      <td>vale</td>\n",
       "      <td>517</td>\n",
       "      <td>-9.219747</td>\n",
       "      <td>-7.341395</td>\n",
       "      <td>-6.355308</td>\n",
       "      <td>-3.507367</td>\n",
       "      <td>-1.732109</td>\n",
       "      <td>0.029976</td>\n",
       "      <td>0.176911</td>\n",
       "    </tr>\n",
       "    <tr>\n",
       "      <th>41801</th>\n",
       "      <td>familia</td>\n",
       "      <td>129</td>\n",
       "      <td>-10.136038</td>\n",
       "      <td>-8.756548</td>\n",
       "      <td>-7.743539</td>\n",
       "      <td>-3.035427</td>\n",
       "      <td>-1.759032</td>\n",
       "      <td>0.048054</td>\n",
       "      <td>0.172211</td>\n",
       "    </tr>\n",
       "    <tr>\n",
       "      <th>66275</th>\n",
       "      <td>má</td>\n",
       "      <td>204</td>\n",
       "      <td>-9.779363</td>\n",
       "      <td>-8.307023</td>\n",
       "      <td>-7.285231</td>\n",
       "      <td>-3.137060</td>\n",
       "      <td>-1.767814</td>\n",
       "      <td>0.043410</td>\n",
       "      <td>0.170706</td>\n",
       "    </tr>\n",
       "    <tr>\n",
       "      <th>48111</th>\n",
       "      <td>has</td>\n",
       "      <td>591</td>\n",
       "      <td>-8.893532</td>\n",
       "      <td>-7.243502</td>\n",
       "      <td>-6.221535</td>\n",
       "      <td>-3.314924</td>\n",
       "      <td>-1.767989</td>\n",
       "      <td>0.036337</td>\n",
       "      <td>0.170676</td>\n",
       "    </tr>\n",
       "    <tr>\n",
       "      <th>85517</th>\n",
       "      <td>re</td>\n",
       "      <td>112</td>\n",
       "      <td>-10.172406</td>\n",
       "      <td>-8.912201</td>\n",
       "      <td>-7.884852</td>\n",
       "      <td>-2.930481</td>\n",
       "      <td>-1.773372</td>\n",
       "      <td>0.053371</td>\n",
       "      <td>0.169760</td>\n",
       "    </tr>\n",
       "    <tr>\n",
       "      <th>75496</th>\n",
       "      <td>personas</td>\n",
       "      <td>105</td>\n",
       "      <td>-10.136038</td>\n",
       "      <td>-9.000170</td>\n",
       "      <td>-7.949391</td>\n",
       "      <td>-2.829575</td>\n",
       "      <td>-1.796802</td>\n",
       "      <td>0.059038</td>\n",
       "      <td>0.165828</td>\n",
       "    </tr>\n",
       "    <tr>\n",
       "      <th>67441</th>\n",
       "      <td>nene</td>\n",
       "      <td>139</td>\n",
       "      <td>-9.941882</td>\n",
       "      <td>-8.721146</td>\n",
       "      <td>-7.668877</td>\n",
       "      <td>-2.915933</td>\n",
       "      <td>-1.798292</td>\n",
       "      <td>0.054154</td>\n",
       "      <td>0.165582</td>\n",
       "    </tr>\n",
       "    <tr>\n",
       "      <th>77771</th>\n",
       "      <td>podía</td>\n",
       "      <td>107</td>\n",
       "      <td>-10.034255</td>\n",
       "      <td>-9.011731</td>\n",
       "      <td>-7.930522</td>\n",
       "      <td>-2.746661</td>\n",
       "      <td>-1.827231</td>\n",
       "      <td>0.064142</td>\n",
       "      <td>0.160858</td>\n",
       "    </tr>\n",
       "    <tr>\n",
       "      <th>4305</th>\n",
       "      <td>acá acá</td>\n",
       "      <td>110</td>\n",
       "      <td>-10.002507</td>\n",
       "      <td>-8.988741</td>\n",
       "      <td>-7.902871</td>\n",
       "      <td>-2.742564</td>\n",
       "      <td>-1.831893</td>\n",
       "      <td>0.064405</td>\n",
       "      <td>0.160110</td>\n",
       "    </tr>\n",
       "    <tr>\n",
       "      <th>78977</th>\n",
       "      <td>poquito</td>\n",
       "      <td>297</td>\n",
       "      <td>-9.219747</td>\n",
       "      <td>-7.998018</td>\n",
       "      <td>-6.909619</td>\n",
       "      <td>-2.953056</td>\n",
       "      <td>-1.834422</td>\n",
       "      <td>0.052180</td>\n",
       "      <td>0.159706</td>\n",
       "    </tr>\n",
       "    <tr>\n",
       "      <th>12288</th>\n",
       "      <td>barco</td>\n",
       "      <td>133</td>\n",
       "      <td>-9.857325</td>\n",
       "      <td>-8.802639</td>\n",
       "      <td>-7.713002</td>\n",
       "      <td>-2.787250</td>\n",
       "      <td>-1.835660</td>\n",
       "      <td>0.061590</td>\n",
       "      <td>0.159508</td>\n",
       "    </tr>\n",
       "    <tr>\n",
       "      <th>76272</th>\n",
       "      <td>piezas</td>\n",
       "      <td>118</td>\n",
       "      <td>-9.941882</td>\n",
       "      <td>-8.922783</td>\n",
       "      <td>-7.832666</td>\n",
       "      <td>-2.752143</td>\n",
       "      <td>-1.836140</td>\n",
       "      <td>0.063791</td>\n",
       "      <td>0.159432</td>\n",
       "    </tr>\n",
       "  </tbody>\n",
       "</table>\n",
       "</div>"
      ],
      "text/plain": [
       "            word  count  logP(word|MX)  logP(word|nonMX)  logP(word)  \\\n",
       "46140    guaraní    112     -11.858805         -8.703904   -7.884852   \n",
       "104805      vení    122     -11.858805         -8.621891   -7.799330   \n",
       "47980       hala    187     -11.858805         -8.208583   -7.372242   \n",
       "107351        vo    204     -11.858805         -8.123744   -7.285231   \n",
       "83193     querés    313     -11.858805         -7.704027   -6.857148   \n",
       "96281      tenés    258     -11.676483         -7.897733   -7.050391   \n",
       "107795       vos    453     -11.676483         -7.341395   -6.487459   \n",
       "64261       mirá    748     -11.858805         -6.842013   -5.985948   \n",
       "102731      vamo    158     -11.165658         -8.403483   -7.540756   \n",
       "90577       sapo    150     -11.165658         -8.455443   -7.592716   \n",
       "53365     jardín    107     -10.829185         -8.831349   -7.930522   \n",
       "104472     venga    583      -9.754671         -7.152530   -6.235164   \n",
       "100666        tá    331      -9.730573         -7.765634   -6.801233   \n",
       "102610      vale    517      -9.219747         -7.341395   -6.355308   \n",
       "41801    familia    129     -10.136038         -8.756548   -7.743539   \n",
       "66275         má    204      -9.779363         -8.307023   -7.285231   \n",
       "48111        has    591      -8.893532         -7.243502   -6.221535   \n",
       "85517         re    112     -10.172406         -8.912201   -7.884852   \n",
       "75496   personas    105     -10.136038         -9.000170   -7.949391   \n",
       "67441       nene    139      -9.941882         -8.721146   -7.668877   \n",
       "77771      podía    107     -10.034255         -9.011731   -7.930522   \n",
       "4305     acá acá    110     -10.002507         -8.988741   -7.902871   \n",
       "78977    poquito    297      -9.219747         -7.998018   -6.909619   \n",
       "12288      barco    133      -9.857325         -8.802639   -7.713002   \n",
       "76272     piezas    118      -9.941882         -8.922783   -7.832666   \n",
       "\n",
       "        logP(MX|word)  logP(nonMX|word)  P(MX|word)  P(nonMX|word)  \n",
       "46140       -4.616880         -1.565075    0.009884       0.209072  \n",
       "104805      -4.702402         -1.568584    0.009073       0.208340  \n",
       "47980       -5.129490         -1.582363    0.005920       0.205489  \n",
       "107351      -5.216501         -1.584535    0.005426       0.205043  \n",
       "83193       -5.644584         -1.592902    0.003537       0.203335  \n",
       "96281       -5.269019         -1.593365    0.005149       0.203241  \n",
       "107795      -5.831952         -1.599958    0.002932       0.201905  \n",
       "64261       -6.515784         -1.602087    0.001480       0.201475  \n",
       "102731      -4.267829         -1.608750    0.014012       0.200138  \n",
       "90577       -4.215869         -1.608750    0.014759       0.200138  \n",
       "53365       -3.541591         -1.646850    0.028967       0.192656  \n",
       "104472      -4.162434         -1.663389    0.015570       0.189496  \n",
       "100666      -3.572268         -1.710425    0.028092       0.180789  \n",
       "102610      -3.507367         -1.732109    0.029976       0.176911  \n",
       "41801       -3.035427         -1.759032    0.048054       0.172211  \n",
       "66275       -3.137060         -1.767814    0.043410       0.170706  \n",
       "48111       -3.314924         -1.767989    0.036337       0.170676  \n",
       "85517       -2.930481         -1.773372    0.053371       0.169760  \n",
       "75496       -2.829575         -1.796802    0.059038       0.165828  \n",
       "67441       -2.915933         -1.798292    0.054154       0.165582  \n",
       "77771       -2.746661         -1.827231    0.064142       0.160858  \n",
       "4305        -2.742564         -1.831893    0.064405       0.160110  \n",
       "78977       -2.953056         -1.834422    0.052180       0.159706  \n",
       "12288       -2.787250         -1.835660    0.061590       0.159508  \n",
       "76272       -2.752143         -1.836140    0.063791       0.159432  "
      ]
     },
     "execution_count": 49,
     "metadata": {},
     "output_type": "execute_result"
    }
   ],
   "source": [
    "nonmexicanisms = frequentwds.sort_values(by='P(nonMX|word)', ascending=False)\n",
    "nonmexicanisms.head(25)"
   ]
  },
  {
   "cell_type": "code",
   "execution_count": 50,
   "metadata": {
    "slideshow": {
     "slide_type": "skip"
    }
   },
   "outputs": [
    {
     "data": {
      "text/html": [
       "<div>\n",
       "<style scoped>\n",
       "    .dataframe tbody tr th:only-of-type {\n",
       "        vertical-align: middle;\n",
       "    }\n",
       "\n",
       "    .dataframe tbody tr th {\n",
       "        vertical-align: top;\n",
       "    }\n",
       "\n",
       "    .dataframe thead th {\n",
       "        text-align: right;\n",
       "    }\n",
       "</style>\n",
       "<table border=\"1\" class=\"dataframe\">\n",
       "  <thead>\n",
       "    <tr style=\"text-align: right;\">\n",
       "      <th></th>\n",
       "      <th>word</th>\n",
       "      <th>count</th>\n",
       "      <th>logP(word|MX)</th>\n",
       "      <th>logP(word|nonMX)</th>\n",
       "      <th>logP(word)</th>\n",
       "      <th>logP(MX|word)</th>\n",
       "      <th>logP(nonMX|word)</th>\n",
       "      <th>P(MX|word)</th>\n",
       "      <th>P(nonMX|word)</th>\n",
       "    </tr>\n",
       "  </thead>\n",
       "  <tbody>\n",
       "    <tr>\n",
       "      <th>39720</th>\n",
       "      <td>espérame</td>\n",
       "      <td>109</td>\n",
       "      <td>-8.740855</td>\n",
       "      <td>-11.674318</td>\n",
       "      <td>-7.912003</td>\n",
       "      <td>-1.471779</td>\n",
       "      <td>-4.508338</td>\n",
       "      <td>0.229517</td>\n",
       "      <td>0.011017</td>\n",
       "    </tr>\n",
       "    <tr>\n",
       "      <th>111239</th>\n",
       "      <td>órale</td>\n",
       "      <td>190</td>\n",
       "      <td>-8.195243</td>\n",
       "      <td>-11.856640</td>\n",
       "      <td>-7.356327</td>\n",
       "      <td>-1.481844</td>\n",
       "      <td>-5.246336</td>\n",
       "      <td>0.227218</td>\n",
       "      <td>0.005267</td>\n",
       "    </tr>\n",
       "    <tr>\n",
       "      <th>110391</th>\n",
       "      <td>ándale</td>\n",
       "      <td>241</td>\n",
       "      <td>-7.962911</td>\n",
       "      <td>-11.856640</td>\n",
       "      <td>-7.118554</td>\n",
       "      <td>-1.487285</td>\n",
       "      <td>-5.484109</td>\n",
       "      <td>0.225985</td>\n",
       "      <td>0.004152</td>\n",
       "    </tr>\n",
       "    <tr>\n",
       "      <th>60175</th>\n",
       "      <td>mande</td>\n",
       "      <td>124</td>\n",
       "      <td>-8.631961</td>\n",
       "      <td>-11.386636</td>\n",
       "      <td>-7.783069</td>\n",
       "      <td>-1.491819</td>\n",
       "      <td>-4.349590</td>\n",
       "      <td>0.224963</td>\n",
       "      <td>0.012912</td>\n",
       "    </tr>\n",
       "    <tr>\n",
       "      <th>104762</th>\n",
       "      <td>vente</td>\n",
       "      <td>153</td>\n",
       "      <td>-8.431290</td>\n",
       "      <td>-11.268853</td>\n",
       "      <td>-7.572913</td>\n",
       "      <td>-1.501304</td>\n",
       "      <td>-4.441963</td>\n",
       "      <td>0.222839</td>\n",
       "      <td>0.011773</td>\n",
       "    </tr>\n",
       "    <tr>\n",
       "      <th>32393</th>\n",
       "      <td>dime</td>\n",
       "      <td>230</td>\n",
       "      <td>-8.034521</td>\n",
       "      <td>-11.068183</td>\n",
       "      <td>-7.165272</td>\n",
       "      <td>-1.512176</td>\n",
       "      <td>-4.648934</td>\n",
       "      <td>0.220430</td>\n",
       "      <td>0.009572</td>\n",
       "    </tr>\n",
       "    <tr>\n",
       "      <th>32234</th>\n",
       "      <td>dile</td>\n",
       "      <td>311</td>\n",
       "      <td>-7.734901</td>\n",
       "      <td>-10.981171</td>\n",
       "      <td>-6.863558</td>\n",
       "      <td>-1.514271</td>\n",
       "      <td>-4.863636</td>\n",
       "      <td>0.219969</td>\n",
       "      <td>0.007722</td>\n",
       "    </tr>\n",
       "    <tr>\n",
       "      <th>5967</th>\n",
       "      <td>ahorita</td>\n",
       "      <td>439</td>\n",
       "      <td>-7.392897</td>\n",
       "      <td>-10.827021</td>\n",
       "      <td>-6.518852</td>\n",
       "      <td>-1.516973</td>\n",
       "      <td>-5.054192</td>\n",
       "      <td>0.219375</td>\n",
       "      <td>0.006383</td>\n",
       "    </tr>\n",
       "    <tr>\n",
       "      <th>104318</th>\n",
       "      <td>ven ven</td>\n",
       "      <td>132</td>\n",
       "      <td>-8.608430</td>\n",
       "      <td>-10.901129</td>\n",
       "      <td>-7.720549</td>\n",
       "      <td>-1.530809</td>\n",
       "      <td>-3.926602</td>\n",
       "      <td>0.216361</td>\n",
       "      <td>0.019711</td>\n",
       "    </tr>\n",
       "    <tr>\n",
       "      <th>25729</th>\n",
       "      <td>crees</td>\n",
       "      <td>168</td>\n",
       "      <td>-8.431290</td>\n",
       "      <td>-10.288024</td>\n",
       "      <td>-7.479387</td>\n",
       "      <td>-1.594831</td>\n",
       "      <td>-3.554660</td>\n",
       "      <td>0.202943</td>\n",
       "      <td>0.028591</td>\n",
       "    </tr>\n",
       "    <tr>\n",
       "      <th>13980</th>\n",
       "      <td>bravo</td>\n",
       "      <td>103</td>\n",
       "      <td>-8.924948</td>\n",
       "      <td>-10.521639</td>\n",
       "      <td>-7.968622</td>\n",
       "      <td>-1.599253</td>\n",
       "      <td>-3.299040</td>\n",
       "      <td>0.202047</td>\n",
       "      <td>0.036919</td>\n",
       "    </tr>\n",
       "    <tr>\n",
       "      <th>27354</th>\n",
       "      <td>cuéntame</td>\n",
       "      <td>101</td>\n",
       "      <td>-8.957383</td>\n",
       "      <td>-10.470346</td>\n",
       "      <td>-7.988230</td>\n",
       "      <td>-1.612080</td>\n",
       "      <td>-3.228138</td>\n",
       "      <td>0.199472</td>\n",
       "      <td>0.039631</td>\n",
       "    </tr>\n",
       "    <tr>\n",
       "      <th>74311</th>\n",
       "      <td>pelota</td>\n",
       "      <td>105</td>\n",
       "      <td>-8.946454</td>\n",
       "      <td>-10.330584</td>\n",
       "      <td>-7.949391</td>\n",
       "      <td>-1.639991</td>\n",
       "      <td>-3.127216</td>\n",
       "      <td>0.193982</td>\n",
       "      <td>0.043840</td>\n",
       "    </tr>\n",
       "    <tr>\n",
       "      <th>96048</th>\n",
       "      <td>ten</td>\n",
       "      <td>145</td>\n",
       "      <td>-8.624056</td>\n",
       "      <td>-10.133873</td>\n",
       "      <td>-7.626617</td>\n",
       "      <td>-1.640366</td>\n",
       "      <td>-3.253279</td>\n",
       "      <td>0.193909</td>\n",
       "      <td>0.038647</td>\n",
       "    </tr>\n",
       "    <tr>\n",
       "      <th>39745</th>\n",
       "      <td>espérate</td>\n",
       "      <td>103</td>\n",
       "      <td>-8.979606</td>\n",
       "      <td>-10.288024</td>\n",
       "      <td>-7.968622</td>\n",
       "      <td>-1.653912</td>\n",
       "      <td>-3.065425</td>\n",
       "      <td>0.191300</td>\n",
       "      <td>0.046634</td>\n",
       "    </tr>\n",
       "    <tr>\n",
       "      <th>27952</th>\n",
       "      <td>dame</td>\n",
       "      <td>120</td>\n",
       "      <td>-8.833514</td>\n",
       "      <td>-10.170241</td>\n",
       "      <td>-7.815859</td>\n",
       "      <td>-1.660582</td>\n",
       "      <td>-3.100405</td>\n",
       "      <td>0.190028</td>\n",
       "      <td>0.045031</td>\n",
       "    </tr>\n",
       "    <tr>\n",
       "      <th>104126</th>\n",
       "      <td>ven</td>\n",
       "      <td>967</td>\n",
       "      <td>-6.752859</td>\n",
       "      <td>-8.442197</td>\n",
       "      <td>-5.729153</td>\n",
       "      <td>-1.666634</td>\n",
       "      <td>-3.459068</td>\n",
       "      <td>0.188882</td>\n",
       "      <td>0.031459</td>\n",
       "    </tr>\n",
       "    <tr>\n",
       "      <th>63705</th>\n",
       "      <td>mira mira</td>\n",
       "      <td>114</td>\n",
       "      <td>-8.893532</td>\n",
       "      <td>-10.170241</td>\n",
       "      <td>-7.867153</td>\n",
       "      <td>-1.669307</td>\n",
       "      <td>-3.049111</td>\n",
       "      <td>0.188378</td>\n",
       "      <td>0.047401</td>\n",
       "    </tr>\n",
       "    <tr>\n",
       "      <th>43923</th>\n",
       "      <td>fíjate</td>\n",
       "      <td>142</td>\n",
       "      <td>-8.680751</td>\n",
       "      <td>-10.000342</td>\n",
       "      <td>-7.647524</td>\n",
       "      <td>-1.676154</td>\n",
       "      <td>-3.098841</td>\n",
       "      <td>0.187092</td>\n",
       "      <td>0.045101</td>\n",
       "    </tr>\n",
       "    <tr>\n",
       "      <th>49107</th>\n",
       "      <td>hija</td>\n",
       "      <td>323</td>\n",
       "      <td>-7.877256</td>\n",
       "      <td>-9.291691</td>\n",
       "      <td>-6.825699</td>\n",
       "      <td>-1.694484</td>\n",
       "      <td>-3.212015</td>\n",
       "      <td>0.183694</td>\n",
       "      <td>0.040275</td>\n",
       "    </tr>\n",
       "    <tr>\n",
       "      <th>31417</th>\n",
       "      <td>diez</td>\n",
       "      <td>158</td>\n",
       "      <td>-8.593045</td>\n",
       "      <td>-9.855160</td>\n",
       "      <td>-7.540756</td>\n",
       "      <td>-1.695217</td>\n",
       "      <td>-3.060427</td>\n",
       "      <td>0.183559</td>\n",
       "      <td>0.046868</td>\n",
       "    </tr>\n",
       "    <tr>\n",
       "      <th>17356</th>\n",
       "      <td>carro</td>\n",
       "      <td>103</td>\n",
       "      <td>-9.025591</td>\n",
       "      <td>-10.133873</td>\n",
       "      <td>-7.968622</td>\n",
       "      <td>-1.699897</td>\n",
       "      <td>-2.911274</td>\n",
       "      <td>0.182702</td>\n",
       "      <td>0.054406</td>\n",
       "    </tr>\n",
       "    <tr>\n",
       "      <th>15246</th>\n",
       "      <td>caer</td>\n",
       "      <td>151</td>\n",
       "      <td>-8.647961</td>\n",
       "      <td>-9.855160</td>\n",
       "      <td>-7.586071</td>\n",
       "      <td>-1.704817</td>\n",
       "      <td>-3.015112</td>\n",
       "      <td>0.181806</td>\n",
       "      <td>0.049040</td>\n",
       "    </tr>\n",
       "    <tr>\n",
       "      <th>39046</th>\n",
       "      <td>escuela</td>\n",
       "      <td>218</td>\n",
       "      <td>-8.286459</td>\n",
       "      <td>-9.554055</td>\n",
       "      <td>-7.218856</td>\n",
       "      <td>-1.710531</td>\n",
       "      <td>-3.081222</td>\n",
       "      <td>0.180770</td>\n",
       "      <td>0.045903</td>\n",
       "    </tr>\n",
       "    <tr>\n",
       "      <th>59627</th>\n",
       "      <td>mami</td>\n",
       "      <td>104</td>\n",
       "      <td>-9.037426</td>\n",
       "      <td>-10.064881</td>\n",
       "      <td>-7.958960</td>\n",
       "      <td>-1.721393</td>\n",
       "      <td>-2.851943</td>\n",
       "      <td>0.178817</td>\n",
       "      <td>0.057732</td>\n",
       "    </tr>\n",
       "  </tbody>\n",
       "</table>\n",
       "</div>"
      ],
      "text/plain": [
       "             word  count  logP(word|MX)  logP(word|nonMX)  logP(word)  \\\n",
       "39720    espérame    109      -8.740855        -11.674318   -7.912003   \n",
       "111239      órale    190      -8.195243        -11.856640   -7.356327   \n",
       "110391     ándale    241      -7.962911        -11.856640   -7.118554   \n",
       "60175       mande    124      -8.631961        -11.386636   -7.783069   \n",
       "104762      vente    153      -8.431290        -11.268853   -7.572913   \n",
       "32393        dime    230      -8.034521        -11.068183   -7.165272   \n",
       "32234        dile    311      -7.734901        -10.981171   -6.863558   \n",
       "5967      ahorita    439      -7.392897        -10.827021   -6.518852   \n",
       "104318    ven ven    132      -8.608430        -10.901129   -7.720549   \n",
       "25729       crees    168      -8.431290        -10.288024   -7.479387   \n",
       "13980       bravo    103      -8.924948        -10.521639   -7.968622   \n",
       "27354    cuéntame    101      -8.957383        -10.470346   -7.988230   \n",
       "74311      pelota    105      -8.946454        -10.330584   -7.949391   \n",
       "96048         ten    145      -8.624056        -10.133873   -7.626617   \n",
       "39745    espérate    103      -8.979606        -10.288024   -7.968622   \n",
       "27952        dame    120      -8.833514        -10.170241   -7.815859   \n",
       "104126        ven    967      -6.752859         -8.442197   -5.729153   \n",
       "63705   mira mira    114      -8.893532        -10.170241   -7.867153   \n",
       "43923      fíjate    142      -8.680751        -10.000342   -7.647524   \n",
       "49107        hija    323      -7.877256         -9.291691   -6.825699   \n",
       "31417        diez    158      -8.593045         -9.855160   -7.540756   \n",
       "17356       carro    103      -9.025591        -10.133873   -7.968622   \n",
       "15246        caer    151      -8.647961         -9.855160   -7.586071   \n",
       "39046     escuela    218      -8.286459         -9.554055   -7.218856   \n",
       "59627        mami    104      -9.037426        -10.064881   -7.958960   \n",
       "\n",
       "        logP(MX|word)  logP(nonMX|word)  P(MX|word)  P(nonMX|word)  \n",
       "39720       -1.471779         -4.508338    0.229517       0.011017  \n",
       "111239      -1.481844         -5.246336    0.227218       0.005267  \n",
       "110391      -1.487285         -5.484109    0.225985       0.004152  \n",
       "60175       -1.491819         -4.349590    0.224963       0.012912  \n",
       "104762      -1.501304         -4.441963    0.222839       0.011773  \n",
       "32393       -1.512176         -4.648934    0.220430       0.009572  \n",
       "32234       -1.514271         -4.863636    0.219969       0.007722  \n",
       "5967        -1.516973         -5.054192    0.219375       0.006383  \n",
       "104318      -1.530809         -3.926602    0.216361       0.019711  \n",
       "25729       -1.594831         -3.554660    0.202943       0.028591  \n",
       "13980       -1.599253         -3.299040    0.202047       0.036919  \n",
       "27354       -1.612080         -3.228138    0.199472       0.039631  \n",
       "74311       -1.639991         -3.127216    0.193982       0.043840  \n",
       "96048       -1.640366         -3.253279    0.193909       0.038647  \n",
       "39745       -1.653912         -3.065425    0.191300       0.046634  \n",
       "27952       -1.660582         -3.100405    0.190028       0.045031  \n",
       "104126      -1.666634         -3.459068    0.188882       0.031459  \n",
       "63705       -1.669307         -3.049111    0.188378       0.047401  \n",
       "43923       -1.676154         -3.098841    0.187092       0.045101  \n",
       "49107       -1.694484         -3.212015    0.183694       0.040275  \n",
       "31417       -1.695217         -3.060427    0.183559       0.046868  \n",
       "17356       -1.699897         -2.911274    0.182702       0.054406  \n",
       "15246       -1.704817         -3.015112    0.181806       0.049040  \n",
       "39046       -1.710531         -3.081222    0.180770       0.045903  \n",
       "59627       -1.721393         -2.851943    0.178817       0.057732  "
      ]
     },
     "execution_count": 50,
     "metadata": {},
     "output_type": "execute_result"
    }
   ],
   "source": [
    "mexicanisms = frequentwds.sort_values(by='P(MX|word)', ascending=False)\n",
    "mexicanisms.head(25)"
   ]
  },
  {
   "cell_type": "code",
   "execution_count": 51,
   "metadata": {
    "slideshow": {
     "slide_type": "skip"
    }
   },
   "outputs": [],
   "source": [
    "#Create a figure displaying the top 10 words that predict MX\n",
    "data = mexicanisms.head(10)\n",
    "\n",
    "#add translations, for an English-speaking audience\n",
    "translation = ['\"hold on\"', '\"wow!\"', '\"hurry up\"', '\"come again?\"', '\"come here\"', '\"tell me\"', '\"tell them\"', '\"in a sec\"', '\"come, come\"', '\"(do you) think\"']\n",
    "data.insert(0, 'translation', translation)"
   ]
  },
  {
   "cell_type": "code",
   "execution_count": 52,
   "metadata": {
    "slideshow": {
     "slide_type": "skip"
    }
   },
   "outputs": [
    {
     "name": "stderr",
     "output_type": "stream",
     "text": [
      "/home/jovyan/conda-envs/capstone-dev/lib/python3.7/site-packages/ipykernel_launcher.py:1: SettingWithCopyWarning: \n",
      "A value is trying to be set on a copy of a slice from a DataFrame.\n",
      "Try using .loc[row_indexer,col_indexer] = value instead\n",
      "\n",
      "See the caveats in the documentation: https://pandas.pydata.org/pandas-docs/stable/user_guide/indexing.html#returning-a-view-versus-a-copy\n",
      "  \"\"\"Entry point for launching an IPython kernel.\n"
     ]
    }
   ],
   "source": [
    "data['word/translation'] = data[['translation','word']].agg(':   '.join, axis=1)"
   ]
  },
  {
   "cell_type": "code",
   "execution_count": 53,
   "metadata": {
    "slideshow": {
     "slide_type": "skip"
    }
   },
   "outputs": [
    {
     "data": {
      "text/html": [
       "<div>\n",
       "<style scoped>\n",
       "    .dataframe tbody tr th:only-of-type {\n",
       "        vertical-align: middle;\n",
       "    }\n",
       "\n",
       "    .dataframe tbody tr th {\n",
       "        vertical-align: top;\n",
       "    }\n",
       "\n",
       "    .dataframe thead th {\n",
       "        text-align: right;\n",
       "    }\n",
       "</style>\n",
       "<table border=\"1\" class=\"dataframe\">\n",
       "  <thead>\n",
       "    <tr style=\"text-align: right;\">\n",
       "      <th></th>\n",
       "      <th>translation</th>\n",
       "      <th>word</th>\n",
       "      <th>count</th>\n",
       "      <th>logP(word|MX)</th>\n",
       "      <th>logP(word|nonMX)</th>\n",
       "      <th>logP(word)</th>\n",
       "      <th>logP(MX|word)</th>\n",
       "      <th>logP(nonMX|word)</th>\n",
       "      <th>P(MX|word)</th>\n",
       "      <th>P(nonMX|word)</th>\n",
       "      <th>word/translation</th>\n",
       "    </tr>\n",
       "  </thead>\n",
       "  <tbody>\n",
       "    <tr>\n",
       "      <th>39720</th>\n",
       "      <td>\"hold on\"</td>\n",
       "      <td>espérame</td>\n",
       "      <td>109</td>\n",
       "      <td>-8.740855</td>\n",
       "      <td>-11.674318</td>\n",
       "      <td>-7.912003</td>\n",
       "      <td>-1.471779</td>\n",
       "      <td>-4.508338</td>\n",
       "      <td>0.229517</td>\n",
       "      <td>0.011017</td>\n",
       "      <td>\"hold on\":   espérame</td>\n",
       "    </tr>\n",
       "    <tr>\n",
       "      <th>111239</th>\n",
       "      <td>\"wow!\"</td>\n",
       "      <td>órale</td>\n",
       "      <td>190</td>\n",
       "      <td>-8.195243</td>\n",
       "      <td>-11.856640</td>\n",
       "      <td>-7.356327</td>\n",
       "      <td>-1.481844</td>\n",
       "      <td>-5.246336</td>\n",
       "      <td>0.227218</td>\n",
       "      <td>0.005267</td>\n",
       "      <td>\"wow!\":   órale</td>\n",
       "    </tr>\n",
       "    <tr>\n",
       "      <th>110391</th>\n",
       "      <td>\"hurry up\"</td>\n",
       "      <td>ándale</td>\n",
       "      <td>241</td>\n",
       "      <td>-7.962911</td>\n",
       "      <td>-11.856640</td>\n",
       "      <td>-7.118554</td>\n",
       "      <td>-1.487285</td>\n",
       "      <td>-5.484109</td>\n",
       "      <td>0.225985</td>\n",
       "      <td>0.004152</td>\n",
       "      <td>\"hurry up\":   ándale</td>\n",
       "    </tr>\n",
       "    <tr>\n",
       "      <th>60175</th>\n",
       "      <td>\"come again?\"</td>\n",
       "      <td>mande</td>\n",
       "      <td>124</td>\n",
       "      <td>-8.631961</td>\n",
       "      <td>-11.386636</td>\n",
       "      <td>-7.783069</td>\n",
       "      <td>-1.491819</td>\n",
       "      <td>-4.349590</td>\n",
       "      <td>0.224963</td>\n",
       "      <td>0.012912</td>\n",
       "      <td>\"come again?\":   mande</td>\n",
       "    </tr>\n",
       "    <tr>\n",
       "      <th>104762</th>\n",
       "      <td>\"come here\"</td>\n",
       "      <td>vente</td>\n",
       "      <td>153</td>\n",
       "      <td>-8.431290</td>\n",
       "      <td>-11.268853</td>\n",
       "      <td>-7.572913</td>\n",
       "      <td>-1.501304</td>\n",
       "      <td>-4.441963</td>\n",
       "      <td>0.222839</td>\n",
       "      <td>0.011773</td>\n",
       "      <td>\"come here\":   vente</td>\n",
       "    </tr>\n",
       "    <tr>\n",
       "      <th>32393</th>\n",
       "      <td>\"tell me\"</td>\n",
       "      <td>dime</td>\n",
       "      <td>230</td>\n",
       "      <td>-8.034521</td>\n",
       "      <td>-11.068183</td>\n",
       "      <td>-7.165272</td>\n",
       "      <td>-1.512176</td>\n",
       "      <td>-4.648934</td>\n",
       "      <td>0.220430</td>\n",
       "      <td>0.009572</td>\n",
       "      <td>\"tell me\":   dime</td>\n",
       "    </tr>\n",
       "    <tr>\n",
       "      <th>32234</th>\n",
       "      <td>\"tell them\"</td>\n",
       "      <td>dile</td>\n",
       "      <td>311</td>\n",
       "      <td>-7.734901</td>\n",
       "      <td>-10.981171</td>\n",
       "      <td>-6.863558</td>\n",
       "      <td>-1.514271</td>\n",
       "      <td>-4.863636</td>\n",
       "      <td>0.219969</td>\n",
       "      <td>0.007722</td>\n",
       "      <td>\"tell them\":   dile</td>\n",
       "    </tr>\n",
       "    <tr>\n",
       "      <th>5967</th>\n",
       "      <td>\"in a sec\"</td>\n",
       "      <td>ahorita</td>\n",
       "      <td>439</td>\n",
       "      <td>-7.392897</td>\n",
       "      <td>-10.827021</td>\n",
       "      <td>-6.518852</td>\n",
       "      <td>-1.516973</td>\n",
       "      <td>-5.054192</td>\n",
       "      <td>0.219375</td>\n",
       "      <td>0.006383</td>\n",
       "      <td>\"in a sec\":   ahorita</td>\n",
       "    </tr>\n",
       "    <tr>\n",
       "      <th>104318</th>\n",
       "      <td>\"come, come\"</td>\n",
       "      <td>ven ven</td>\n",
       "      <td>132</td>\n",
       "      <td>-8.608430</td>\n",
       "      <td>-10.901129</td>\n",
       "      <td>-7.720549</td>\n",
       "      <td>-1.530809</td>\n",
       "      <td>-3.926602</td>\n",
       "      <td>0.216361</td>\n",
       "      <td>0.019711</td>\n",
       "      <td>\"come, come\":   ven ven</td>\n",
       "    </tr>\n",
       "    <tr>\n",
       "      <th>25729</th>\n",
       "      <td>\"(do you) think\"</td>\n",
       "      <td>crees</td>\n",
       "      <td>168</td>\n",
       "      <td>-8.431290</td>\n",
       "      <td>-10.288024</td>\n",
       "      <td>-7.479387</td>\n",
       "      <td>-1.594831</td>\n",
       "      <td>-3.554660</td>\n",
       "      <td>0.202943</td>\n",
       "      <td>0.028591</td>\n",
       "      <td>\"(do you) think\":   crees</td>\n",
       "    </tr>\n",
       "  </tbody>\n",
       "</table>\n",
       "</div>"
      ],
      "text/plain": [
       "             translation      word  count  logP(word|MX)  logP(word|nonMX)  \\\n",
       "39720          \"hold on\"  espérame    109      -8.740855        -11.674318   \n",
       "111239            \"wow!\"     órale    190      -8.195243        -11.856640   \n",
       "110391        \"hurry up\"    ándale    241      -7.962911        -11.856640   \n",
       "60175      \"come again?\"     mande    124      -8.631961        -11.386636   \n",
       "104762       \"come here\"     vente    153      -8.431290        -11.268853   \n",
       "32393          \"tell me\"      dime    230      -8.034521        -11.068183   \n",
       "32234        \"tell them\"      dile    311      -7.734901        -10.981171   \n",
       "5967          \"in a sec\"   ahorita    439      -7.392897        -10.827021   \n",
       "104318      \"come, come\"   ven ven    132      -8.608430        -10.901129   \n",
       "25729   \"(do you) think\"     crees    168      -8.431290        -10.288024   \n",
       "\n",
       "        logP(word)  logP(MX|word)  logP(nonMX|word)  P(MX|word)  \\\n",
       "39720    -7.912003      -1.471779         -4.508338    0.229517   \n",
       "111239   -7.356327      -1.481844         -5.246336    0.227218   \n",
       "110391   -7.118554      -1.487285         -5.484109    0.225985   \n",
       "60175    -7.783069      -1.491819         -4.349590    0.224963   \n",
       "104762   -7.572913      -1.501304         -4.441963    0.222839   \n",
       "32393    -7.165272      -1.512176         -4.648934    0.220430   \n",
       "32234    -6.863558      -1.514271         -4.863636    0.219969   \n",
       "5967     -6.518852      -1.516973         -5.054192    0.219375   \n",
       "104318   -7.720549      -1.530809         -3.926602    0.216361   \n",
       "25729    -7.479387      -1.594831         -3.554660    0.202943   \n",
       "\n",
       "        P(nonMX|word)           word/translation  \n",
       "39720        0.011017      \"hold on\":   espérame  \n",
       "111239       0.005267            \"wow!\":   órale  \n",
       "110391       0.004152       \"hurry up\":   ándale  \n",
       "60175        0.012912     \"come again?\":   mande  \n",
       "104762       0.011773       \"come here\":   vente  \n",
       "32393        0.009572          \"tell me\":   dime  \n",
       "32234        0.007722        \"tell them\":   dile  \n",
       "5967         0.006383      \"in a sec\":   ahorita  \n",
       "104318       0.019711    \"come, come\":   ven ven  \n",
       "25729        0.028591  \"(do you) think\":   crees  "
      ]
     },
     "execution_count": 53,
     "metadata": {},
     "output_type": "execute_result"
    }
   ],
   "source": [
    "data"
   ]
  },
  {
   "cell_type": "markdown",
   "metadata": {
    "slideshow": {
     "slide_type": "slide"
    }
   },
   "source": [
    "## fig: keywords for Alexa"
   ]
  },
  {
   "cell_type": "code",
   "execution_count": 55,
   "metadata": {
    "slideshow": {
     "slide_type": "skip"
    }
   },
   "outputs": [],
   "source": [
    "\n",
    "predictMX = alt.Chart(data).mark_bar().encode(\n",
    "    x = 'P(MX|word)',\n",
    "    y = alt.Y('word/translation:N', sort = '-x', title=None)\n",
    ").properties(title=\"Strongest predictors of Mexican Spanish\"\n",
    ").configure_title(fontSize=24\n",
    ").configure_axis(\n",
    "    titleFontSize=12,\n",
    "    labelFontSize=16\n",
    ")"
   ]
  },
  {
   "cell_type": "code",
   "execution_count": 56,
   "metadata": {
    "slideshow": {
     "slide_type": "fragment"
    }
   },
   "outputs": [
    {
     "data": {
      "text/html": [
       "\n",
       "<div id=\"altair-viz-bcdafbce864f490ba963b18e3feddcf5\"></div>\n",
       "<script type=\"text/javascript\">\n",
       "  (function(spec, embedOpt){\n",
       "    let outputDiv = document.currentScript.previousElementSibling;\n",
       "    if (outputDiv.id !== \"altair-viz-bcdafbce864f490ba963b18e3feddcf5\") {\n",
       "      outputDiv = document.getElementById(\"altair-viz-bcdafbce864f490ba963b18e3feddcf5\");\n",
       "    }\n",
       "    const paths = {\n",
       "      \"vega\": \"https://cdn.jsdelivr.net/npm//vega@5?noext\",\n",
       "      \"vega-lib\": \"https://cdn.jsdelivr.net/npm//vega-lib?noext\",\n",
       "      \"vega-lite\": \"https://cdn.jsdelivr.net/npm//vega-lite@4.8.1?noext\",\n",
       "      \"vega-embed\": \"https://cdn.jsdelivr.net/npm//vega-embed@6?noext\",\n",
       "    };\n",
       "\n",
       "    function loadScript(lib) {\n",
       "      return new Promise(function(resolve, reject) {\n",
       "        var s = document.createElement('script');\n",
       "        s.src = paths[lib];\n",
       "        s.async = true;\n",
       "        s.onload = () => resolve(paths[lib]);\n",
       "        s.onerror = () => reject(`Error loading script: ${paths[lib]}`);\n",
       "        document.getElementsByTagName(\"head\")[0].appendChild(s);\n",
       "      });\n",
       "    }\n",
       "\n",
       "    function showError(err) {\n",
       "      outputDiv.innerHTML = `<div class=\"error\" style=\"color:red;\">${err}</div>`;\n",
       "      throw err;\n",
       "    }\n",
       "\n",
       "    function displayChart(vegaEmbed) {\n",
       "      vegaEmbed(outputDiv, spec, embedOpt)\n",
       "        .catch(err => showError(`Javascript Error: ${err.message}<br>This usually means there's a typo in your chart specification. See the javascript console for the full traceback.`));\n",
       "    }\n",
       "\n",
       "    if(typeof define === \"function\" && define.amd) {\n",
       "      requirejs.config({paths});\n",
       "      require([\"vega-embed\"], displayChart, err => showError(`Error loading script: ${err.message}`));\n",
       "    } else if (typeof vegaEmbed === \"function\") {\n",
       "      displayChart(vegaEmbed);\n",
       "    } else {\n",
       "      loadScript(\"vega\")\n",
       "        .then(() => loadScript(\"vega-lite\"))\n",
       "        .then(() => loadScript(\"vega-embed\"))\n",
       "        .catch(showError)\n",
       "        .then(() => displayChart(vegaEmbed));\n",
       "    }\n",
       "  })({\"config\": {\"view\": {\"continuousWidth\": 400, \"continuousHeight\": 300}, \"axis\": {\"labelFontSize\": 16, \"titleFontSize\": 12}, \"title\": {\"fontSize\": 24}}, \"data\": {\"name\": \"data-3cd2bf26053c911718df8375fd698951\"}, \"mark\": \"bar\", \"encoding\": {\"x\": {\"type\": \"quantitative\", \"field\": \"P(MX|word)\"}, \"y\": {\"type\": \"nominal\", \"field\": \"word/translation\", \"sort\": \"-x\", \"title\": null}}, \"title\": \"Strongest predictors of Mexican Spanish\", \"$schema\": \"https://vega.github.io/schema/vega-lite/v4.8.1.json\", \"datasets\": {\"data-3cd2bf26053c911718df8375fd698951\": [{\"translation\": \"\\\"hold on\\\"\", \"word\": \"esp\\u00e9rame\", \"count\": 109, \"logP(word|MX)\": -8.740854838584104, \"logP(word|nonMX)\": -11.674318427471682, \"logP(word)\": -7.9120031178723, \"logP(MX|word)\": -1.4717792202639997, \"logP(nonMX|word)\": -4.5083381579857305, \"P(MX|word)\": 0.2295167608174321, \"P(nonMX|word)\": 0.011016753074763342, \"word/translation\": \"\\\"hold on\\\":   esp\\u00e9rame\"}, {\"translation\": \"\\\"wow!\\\"\", \"word\": \"\\u00f3rale\", \"count\": 190, \"logP(word|MX)\": -8.195243098732698, \"logP(word|nonMX)\": -11.856639984265637, \"logP(word)\": -7.356326927940958, \"logP(MX|word)\": -1.4818436703439355, \"logP(nonMX|word)\": -5.246335904711027, \"P(MX|word)\": 0.22721838617487292, \"P(nonMX|word)\": 0.00526678107521581, \"word/translation\": \"\\\"wow!\\\":   \\u00f3rale\"}, {\"translation\": \"\\\"hurry up\\\"\", \"word\": \"\\u00e1ndale\", \"count\": 241, \"logP(word|MX)\": -7.962911121364082, \"logP(word|nonMX)\": -11.856639984265637, \"logP(word)\": -7.1185540666107885, \"logP(MX|word)\": -1.4872845543054884, \"logP(nonMX|word)\": -5.484108766041197, \"P(MX|word)\": 0.22598547440820424, \"P(nonMX|word)\": 0.004152234042701259, \"word/translation\": \"\\\"hurry up\\\":   \\u00e1ndale\"}, {\"translation\": \"\\\"come again?\\\"\", \"word\": \"mande\", \"count\": 124, \"logP(word|MX)\": -8.631960750344966, \"logP(word|nonMX)\": -11.3866363550199, \"logP(word)\": -7.783069434496407, \"logP(MX|word)\": -1.4918188154007543, \"logP(nonMX|word)\": -4.3495897689098415, \"P(MX|word)\": 0.22496311683318698, \"P(nonMX|word)\": 0.012912108442464579, \"word/translation\": \"\\\"come again?\\\":   mande\"}, {\"translation\": \"\\\"come here\\\"\", \"word\": \"vente\", \"count\": 153, \"logP(word|MX)\": -8.431290054882815, \"logP(word|nonMX)\": -11.268853319363517, \"logP(word)\": -7.572913078709008, \"logP(MX|word)\": -1.5013044757260028, \"logP(nonMX|word)\": -4.441963089040857, \"P(MX|word)\": 0.2228392820337449, \"P(nonMX|word)\": 0.01177280475636476, \"word/translation\": \"\\\"come here\\\":   vente\"}, {\"translation\": \"\\\"tell me\\\"\", \"word\": \"dime\", \"count\": 230, \"logP(word|MX)\": -8.034520653742206, \"logP(word|nonMX)\": -11.068182623901366, \"logP(word)\": -7.165271691178249, \"logP(MX|word)\": -1.5121764621161526, \"logP(nonMX|word)\": -4.6489337811094655, \"P(MX|word)\": 0.2204296986057684, \"P(nonMX|word)\": 0.009571802128000914, \"word/translation\": \"\\\"tell me\\\":   dime\"}, {\"translation\": \"\\\"tell them\\\"\", \"word\": \"dile\", \"count\": 311, \"logP(word|MX)\": -7.734901380398699, \"logP(word|nonMX)\": -10.981171246911737, \"logP(word)\": -6.863558087922209, \"logP(MX|word)\": -1.5142707920286842, \"logP(nonMX|word)\": -4.8636360073758755, \"P(MX|word)\": 0.21996852918339183, \"P(nonMX|word)\": 0.007722354245332504, \"word/translation\": \"\\\"tell them\\\":   dile\"}, {\"translation\": \"\\\"in a sec\\\"\", \"word\": \"ahorita\", \"count\": 439, \"logP(word|MX)\": -7.392896626207761, \"logP(word|nonMX)\": -10.827020567084478, \"logP(word)\": -6.518851587026273, \"logP(MX|word)\": -1.5169725387336825, \"logP(nonMX|word)\": -5.054191828444553, \"P(MX|word)\": 0.21937503203496597, \"P(nonMX|word)\": 0.006382522851969962, \"word/translation\": \"\\\"in a sec\\\":   ahorita\"}, {\"translation\": \"\\\"come, come\\\"\", \"word\": \"ven ven\", \"count\": 132, \"logP(word|MX)\": -8.608430252934774, \"logP(word|nonMX)\": -10.9011285392382, \"logP(word)\": -7.720549077515073, \"logP(MX|word)\": -1.5308086749718965, \"logP(nonMX|word)\": -3.926602310109476, \"P(MX|word)\": 0.2163606311245581, \"P(nonMX|word)\": 0.01971052917542886, \"word/translation\": \"\\\"come, come\\\":   ven ven\"}, {\"translation\": \"\\\"(do you) think\\\"\", \"word\": \"crees\", \"count\": 168, \"logP(word|MX)\": -8.431290054882815, \"logP(word|nonMX)\": -10.288024066351792, \"logP(word)\": -7.4793870206981845, \"logP(MX|word)\": -1.5948305337368263, \"logP(nonMX|word)\": -3.554659894039955, \"P(MX|word)\": 0.20294291756644625, \"P(nonMX|word)\": 0.02859109726545725, \"word/translation\": \"\\\"(do you) think\\\":   crees\"}]}}, {\"mode\": \"vega-lite\"});\n",
       "</script>"
      ],
      "text/plain": [
       "alt.Chart(...)"
      ]
     },
     "execution_count": 56,
     "metadata": {},
     "output_type": "execute_result"
    }
   ],
   "source": [
    "predictMX"
   ]
  },
  {
   "cell_type": "markdown",
   "metadata": {
    "heading_collapsed": true,
    "slideshow": {
     "slide_type": "skip"
    }
   },
   "source": [
    "### P(word|dialect) [consider deleting]"
   ]
  },
  {
   "cell_type": "code",
   "execution_count": 57,
   "metadata": {
    "hidden": true,
    "slideshow": {
     "slide_type": "skip"
    }
   },
   "outputs": [
    {
     "name": "stdout",
     "output_type": "stream",
     "text": [
      "top Mexicanisms:\n",
      "['mira', 'a_ver', 'yo', 'tú', 'vas', 'quieres', 'ven', 'oye', 'acá', 'llama']\n",
      "\n",
      "top Non-Mexicanisms:\n",
      "['yo', 'mira', 'acá', 'mirá', 'vas', 'a_ver', 'quieres', 'venga', 'mamá', 'tú']\n",
      "\n",
      "Degree of overlap: 0.7\n",
      "overlapping elements:\n",
      "{'tú', 'mira', 'acá', 'a_ver', 'vas', 'quieres', 'yo'}\n"
     ]
    }
   ],
   "source": [
    "#Get the top ten most probable words in Mex and non-Mex dialects\n",
    "mex_indices = predictor.feature_log_prob_[1].argsort()[::-1][:10]\n",
    "mex_words = list(np.take(features.get_feature_names(), mex_indices))\n",
    "\n",
    "nonmex_indices = predictor.feature_log_prob_[0].argsort()[::-1][:10]\n",
    "nonmex_words = list(np.take(features.get_feature_names(), nonmex_indices))\n",
    "\n",
    "print('top Mexicanisms:')\n",
    "print(mex_words)\n",
    "print('\\ntop Non-Mexicanisms:')\n",
    "print(nonmex_words)\n",
    "\n",
    "#Measure how much overlap there is between these lists\n",
    "def prop_overlap(l1, l2):\n",
    "    \"\"\"calculate proportion of overlap between elements of \n",
    "    l1 and l2, which are lists of equal length\"\"\"\n",
    "    set1 = set(l1)\n",
    "    set2 = set(l2)\n",
    "    \n",
    "    overlap = set1.intersection(set2)\n",
    "    prop = len(overlap)/len(set1)\n",
    "    return prop\n",
    "  \n",
    "print(f\"\\nDegree of overlap: {prop_overlap(mex_words, nonmex_words)}\")    \n",
    "\n",
    "print(\"overlapping elements:\")\n",
    "print(set(mex_words).intersection(nonmex_words))"
   ]
  },
  {
   "cell_type": "code",
   "execution_count": 58,
   "metadata": {
    "hidden": true,
    "slideshow": {
     "slide_type": "skip"
    }
   },
   "outputs": [
    {
     "data": {
      "text/html": [
       "<div>\n",
       "<style scoped>\n",
       "    .dataframe tbody tr th:only-of-type {\n",
       "        vertical-align: middle;\n",
       "    }\n",
       "\n",
       "    .dataframe tbody tr th {\n",
       "        vertical-align: top;\n",
       "    }\n",
       "\n",
       "    .dataframe thead th {\n",
       "        text-align: right;\n",
       "    }\n",
       "</style>\n",
       "<table border=\"1\" class=\"dataframe\">\n",
       "  <thead>\n",
       "    <tr style=\"text-align: right;\">\n",
       "      <th></th>\n",
       "      <th>log_probability</th>\n",
       "      <th>word</th>\n",
       "      <th>P(word|Mexican)</th>\n",
       "    </tr>\n",
       "  </thead>\n",
       "  <tbody>\n",
       "    <tr>\n",
       "      <th>0</th>\n",
       "      <td>-5.606516</td>\n",
       "      <td>mira</td>\n",
       "      <td>0.003674</td>\n",
       "    </tr>\n",
       "    <tr>\n",
       "      <th>1</th>\n",
       "      <td>-5.658701</td>\n",
       "      <td>a_ver</td>\n",
       "      <td>0.003487</td>\n",
       "    </tr>\n",
       "    <tr>\n",
       "      <th>2</th>\n",
       "      <td>-5.930280</td>\n",
       "      <td>yo</td>\n",
       "      <td>0.002658</td>\n",
       "    </tr>\n",
       "    <tr>\n",
       "      <th>3</th>\n",
       "      <td>-6.359999</td>\n",
       "      <td>tú</td>\n",
       "      <td>0.001729</td>\n",
       "    </tr>\n",
       "    <tr>\n",
       "      <th>4</th>\n",
       "      <td>-6.468820</td>\n",
       "      <td>vas</td>\n",
       "      <td>0.001551</td>\n",
       "    </tr>\n",
       "    <tr>\n",
       "      <th>5</th>\n",
       "      <td>-6.617058</td>\n",
       "      <td>quieres</td>\n",
       "      <td>0.001337</td>\n",
       "    </tr>\n",
       "    <tr>\n",
       "      <th>6</th>\n",
       "      <td>-6.752859</td>\n",
       "      <td>ven</td>\n",
       "      <td>0.001168</td>\n",
       "    </tr>\n",
       "    <tr>\n",
       "      <th>7</th>\n",
       "      <td>-6.940285</td>\n",
       "      <td>oye</td>\n",
       "      <td>0.000968</td>\n",
       "    </tr>\n",
       "    <tr>\n",
       "      <th>8</th>\n",
       "      <td>-7.088120</td>\n",
       "      <td>acá</td>\n",
       "      <td>0.000835</td>\n",
       "    </tr>\n",
       "    <tr>\n",
       "      <th>9</th>\n",
       "      <td>-7.337016</td>\n",
       "      <td>llama</td>\n",
       "      <td>0.000651</td>\n",
       "    </tr>\n",
       "  </tbody>\n",
       "</table>\n",
       "</div>"
      ],
      "text/plain": [
       "   log_probability     word  P(word|Mexican)\n",
       "0        -5.606516     mira         0.003674\n",
       "1        -5.658701    a_ver         0.003487\n",
       "2        -5.930280       yo         0.002658\n",
       "3        -6.359999       tú         0.001729\n",
       "4        -6.468820      vas         0.001551\n",
       "5        -6.617058  quieres         0.001337\n",
       "6        -6.752859      ven         0.001168\n",
       "7        -6.940285      oye         0.000968\n",
       "8        -7.088120      acá         0.000835\n",
       "9        -7.337016    llama         0.000651"
      ]
     },
     "execution_count": 58,
     "metadata": {},
     "output_type": "execute_result"
    }
   ],
   "source": [
    "#Create df of top ten mexicanisms and their conditional probabilities\n",
    "mex_logprobs = predictor.feature_log_prob_[1]\n",
    "mex_names = features.get_feature_names()\n",
    "mex_topten = sorted(zip(mex_logprobs, mex_names), reverse = True)[:10]\n",
    "\n",
    "\n",
    "mex_wordprob = pd.DataFrame(mex_topten, columns= ['log_probability' , 'word'])\n",
    "mex_wordprob['P(word|Mexican)'] = np.exp(mex_wordprob['log_probability'])\n",
    "# np.exp(mex_wordprob['log_probability'])\n",
    "mex_wordprob"
   ]
  },
  {
   "cell_type": "markdown",
   "metadata": {
    "hidden": true,
    "slideshow": {
     "slide_type": "skip"
    }
   },
   "source": [
    "###### figure"
   ]
  },
  {
   "cell_type": "code",
   "execution_count": 59,
   "metadata": {
    "hidden": true,
    "slideshow": {
     "slide_type": "skip"
    }
   },
   "outputs": [
    {
     "data": {
      "text/html": [
       "\n",
       "<div id=\"altair-viz-f9a55d2a05734f8fa7121b7f566b7e92\"></div>\n",
       "<script type=\"text/javascript\">\n",
       "  (function(spec, embedOpt){\n",
       "    let outputDiv = document.currentScript.previousElementSibling;\n",
       "    if (outputDiv.id !== \"altair-viz-f9a55d2a05734f8fa7121b7f566b7e92\") {\n",
       "      outputDiv = document.getElementById(\"altair-viz-f9a55d2a05734f8fa7121b7f566b7e92\");\n",
       "    }\n",
       "    const paths = {\n",
       "      \"vega\": \"https://cdn.jsdelivr.net/npm//vega@5?noext\",\n",
       "      \"vega-lib\": \"https://cdn.jsdelivr.net/npm//vega-lib?noext\",\n",
       "      \"vega-lite\": \"https://cdn.jsdelivr.net/npm//vega-lite@4.8.1?noext\",\n",
       "      \"vega-embed\": \"https://cdn.jsdelivr.net/npm//vega-embed@6?noext\",\n",
       "    };\n",
       "\n",
       "    function loadScript(lib) {\n",
       "      return new Promise(function(resolve, reject) {\n",
       "        var s = document.createElement('script');\n",
       "        s.src = paths[lib];\n",
       "        s.async = true;\n",
       "        s.onload = () => resolve(paths[lib]);\n",
       "        s.onerror = () => reject(`Error loading script: ${paths[lib]}`);\n",
       "        document.getElementsByTagName(\"head\")[0].appendChild(s);\n",
       "      });\n",
       "    }\n",
       "\n",
       "    function showError(err) {\n",
       "      outputDiv.innerHTML = `<div class=\"error\" style=\"color:red;\">${err}</div>`;\n",
       "      throw err;\n",
       "    }\n",
       "\n",
       "    function displayChart(vegaEmbed) {\n",
       "      vegaEmbed(outputDiv, spec, embedOpt)\n",
       "        .catch(err => showError(`Javascript Error: ${err.message}<br>This usually means there's a typo in your chart specification. See the javascript console for the full traceback.`));\n",
       "    }\n",
       "\n",
       "    if(typeof define === \"function\" && define.amd) {\n",
       "      requirejs.config({paths});\n",
       "      require([\"vega-embed\"], displayChart, err => showError(`Error loading script: ${err.message}`));\n",
       "    } else if (typeof vegaEmbed === \"function\") {\n",
       "      displayChart(vegaEmbed);\n",
       "    } else {\n",
       "      loadScript(\"vega\")\n",
       "        .then(() => loadScript(\"vega-lite\"))\n",
       "        .then(() => loadScript(\"vega-embed\"))\n",
       "        .catch(showError)\n",
       "        .then(() => displayChart(vegaEmbed));\n",
       "    }\n",
       "  })({\"config\": {\"view\": {\"continuousWidth\": 400, \"continuousHeight\": 300}, \"axis\": {\"labelFontSize\": 16, \"titleFontSize\": 12}, \"title\": {\"fontSize\": 24}}, \"data\": {\"name\": \"data-77bef0fda53531cbd66d8beb1ee7969e\"}, \"mark\": \"bar\", \"encoding\": {\"x\": {\"type\": \"quantitative\", \"field\": \"P(word|Mexican)\"}, \"y\": {\"type\": \"nominal\", \"field\": \"word\", \"sort\": \"-x\"}}, \"title\": \"Words most common in Mexican Spanish\", \"$schema\": \"https://vega.github.io/schema/vega-lite/v4.8.1.json\", \"datasets\": {\"data-77bef0fda53531cbd66d8beb1ee7969e\": [{\"log_probability\": -5.606515579472465, \"word\": \"mira\", \"P(word|Mexican)\": 0.0036738483136526776}, {\"log_probability\": -5.658701332643035, \"word\": \"a_ver\", \"P(word|Mexican)\": 0.003487042467195762}, {\"log_probability\": -5.9302799975282365, \"word\": \"yo\", \"P(word|Mexican)\": 0.0026577377245915763}, {\"log_probability\": -6.359998517564904, \"word\": \"t\\u00fa\", \"P(word|Mexican)\": 0.0017293692755329642}, {\"log_probability\": -6.468820189788484, \"word\": \"vas\", \"P(word|Mexican)\": 0.001551054603914999}, {\"log_probability\": -6.617057729802702, \"word\": \"quieres\", \"P(word|Mexican)\": 0.001337360037134739}, {\"log_probability\": -6.752859270961764, \"word\": \"ven\", \"P(word|Mexican)\": 0.001167536540355724}, {\"log_probability\": -6.940284739673895, \"word\": \"oye\", \"P(word|Mexican)\": 0.0009679939316403819}, {\"log_probability\": -7.08812012039668, \"word\": \"ac\\u00e1\", \"P(word|Mexican)\": 0.000834965525830154}, {\"log_probability\": -7.337016167813304, \"word\": \"llama\", \"P(word|Mexican)\": 0.0006509900709862222}]}}, {\"mode\": \"vega-lite\"});\n",
       "</script>"
      ],
      "text/plain": [
       "alt.Chart(...)"
      ]
     },
     "execution_count": 59,
     "metadata": {},
     "output_type": "execute_result"
    }
   ],
   "source": [
    "data = mex_wordprob\n",
    "\n",
    "alt.Chart(data).mark_bar().encode(\n",
    "    x = 'P(word|Mexican):Q',\n",
    "    y = alt.Y('word:N', sort = '-x')\n",
    ").properties(title=\"Words most common in Mexican Spanish\"\n",
    ").configure_title(fontSize=24\n",
    ").configure_axis(\n",
    "    titleFontSize=12,\n",
    "    labelFontSize=16\n",
    ")"
   ]
  },
  {
   "cell_type": "markdown",
   "metadata": {
    "slideshow": {
     "slide_type": "skip"
    }
   },
   "source": [
    "# Model performance"
   ]
  },
  {
   "cell_type": "markdown",
   "metadata": {
    "slideshow": {
     "slide_type": "skip"
    }
   },
   "source": [
    "### confusion matrix"
   ]
  },
  {
   "cell_type": "code",
   "execution_count": 60,
   "metadata": {
    "slideshow": {
     "slide_type": "skip"
    }
   },
   "outputs": [],
   "source": [
    "#Fit the model on the (dev) test set\n",
    "predictions = classifier.predict(test_input)"
   ]
  },
  {
   "cell_type": "code",
   "execution_count": 61,
   "metadata": {
    "slideshow": {
     "slide_type": "skip"
    }
   },
   "outputs": [],
   "source": [
    "# calculate the confusion matrix: \n",
    "\n",
    "tn, fp, fn, tp = confusion_matrix(test_target, predictions).ravel()"
   ]
  },
  {
   "cell_type": "code",
   "execution_count": 62,
   "metadata": {
    "slideshow": {
     "slide_type": "skip"
    }
   },
   "outputs": [
    {
     "name": "stdout",
     "output_type": "stream",
     "text": [
      "Precision (33593 True positives vs. 20181 False positives): 62.47%\n",
      "Recall (33593 True positives vs. 4565 False negatives): 88.04%\n"
     ]
    }
   ],
   "source": [
    "# calculate precision and recall \n",
    "print(f'Precision ({tp} True positives vs. {fp} False positives): {round(tp/(tp+fp)*100, 2)}%'\n",
    "      + '\\n'\n",
    "      + f'Recall ({tp} True positives vs. {fn} False negatives): {round(tp/(tp+fn)*100, 2)}%')"
   ]
  },
  {
   "cell_type": "markdown",
   "metadata": {
    "slideshow": {
     "slide_type": "slide"
    }
   },
   "source": [
    "## fig: Better performance with Mexican Spanish"
   ]
  },
  {
   "cell_type": "code",
   "execution_count": 63,
   "metadata": {
    "slideshow": {
     "slide_type": "skip"
    }
   },
   "outputs": [],
   "source": [
    "#visualize accuracy\n",
    "performance = {\"count\": [tp, fp, tn, fn], \n",
    "               \"correct prediction?\": [\"yes\", \"no\", \"yes\", \"no\"],\n",
    "               \"correctness\": [\"correct\", \"incorrect\", \"correct\", \"incorrect\"],\n",
    "               \"dialect\": [\"Mexican\", \"Other dialects\", \"Other dialects\", \"Mexican\"]}\n",
    "\n",
    "performance = pd.DataFrame(performance)"
   ]
  },
  {
   "cell_type": "code",
   "execution_count": 64,
   "metadata": {
    "slideshow": {
     "slide_type": "skip"
    }
   },
   "outputs": [],
   "source": [
    "performancechart = alt.Chart(performance).mark_bar().encode(\n",
    "    y = alt.Y('dialect:N', title=None),\n",
    "    x = alt.X('count:Q', stack='normalize', title=None),\n",
    "    color = 'correct prediction?:N'\n",
    ").properties(title=\"Overall accuracy\"\n",
    ").configure_title(fontSize=24\n",
    ").configure_axis(\n",
    "    titleFontSize=12,\n",
    "    labelFontSize=16\n",
    ")"
   ]
  },
  {
   "cell_type": "code",
   "execution_count": 65,
   "metadata": {
    "slideshow": {
     "slide_type": "fragment"
    }
   },
   "outputs": [
    {
     "data": {
      "text/html": [
       "\n",
       "<div id=\"altair-viz-6e54cbd27f0948899388b60a71d9e57f\"></div>\n",
       "<script type=\"text/javascript\">\n",
       "  (function(spec, embedOpt){\n",
       "    let outputDiv = document.currentScript.previousElementSibling;\n",
       "    if (outputDiv.id !== \"altair-viz-6e54cbd27f0948899388b60a71d9e57f\") {\n",
       "      outputDiv = document.getElementById(\"altair-viz-6e54cbd27f0948899388b60a71d9e57f\");\n",
       "    }\n",
       "    const paths = {\n",
       "      \"vega\": \"https://cdn.jsdelivr.net/npm//vega@5?noext\",\n",
       "      \"vega-lib\": \"https://cdn.jsdelivr.net/npm//vega-lib?noext\",\n",
       "      \"vega-lite\": \"https://cdn.jsdelivr.net/npm//vega-lite@4.8.1?noext\",\n",
       "      \"vega-embed\": \"https://cdn.jsdelivr.net/npm//vega-embed@6?noext\",\n",
       "    };\n",
       "\n",
       "    function loadScript(lib) {\n",
       "      return new Promise(function(resolve, reject) {\n",
       "        var s = document.createElement('script');\n",
       "        s.src = paths[lib];\n",
       "        s.async = true;\n",
       "        s.onload = () => resolve(paths[lib]);\n",
       "        s.onerror = () => reject(`Error loading script: ${paths[lib]}`);\n",
       "        document.getElementsByTagName(\"head\")[0].appendChild(s);\n",
       "      });\n",
       "    }\n",
       "\n",
       "    function showError(err) {\n",
       "      outputDiv.innerHTML = `<div class=\"error\" style=\"color:red;\">${err}</div>`;\n",
       "      throw err;\n",
       "    }\n",
       "\n",
       "    function displayChart(vegaEmbed) {\n",
       "      vegaEmbed(outputDiv, spec, embedOpt)\n",
       "        .catch(err => showError(`Javascript Error: ${err.message}<br>This usually means there's a typo in your chart specification. See the javascript console for the full traceback.`));\n",
       "    }\n",
       "\n",
       "    if(typeof define === \"function\" && define.amd) {\n",
       "      requirejs.config({paths});\n",
       "      require([\"vega-embed\"], displayChart, err => showError(`Error loading script: ${err.message}`));\n",
       "    } else if (typeof vegaEmbed === \"function\") {\n",
       "      displayChart(vegaEmbed);\n",
       "    } else {\n",
       "      loadScript(\"vega\")\n",
       "        .then(() => loadScript(\"vega-lite\"))\n",
       "        .then(() => loadScript(\"vega-embed\"))\n",
       "        .catch(showError)\n",
       "        .then(() => displayChart(vegaEmbed));\n",
       "    }\n",
       "  })({\"config\": {\"view\": {\"continuousWidth\": 400, \"continuousHeight\": 300}, \"axis\": {\"labelFontSize\": 16, \"titleFontSize\": 12}, \"title\": {\"fontSize\": 24}}, \"data\": {\"name\": \"data-8af04c4e9514ca58ee13499cb9c7cc6a\"}, \"mark\": \"bar\", \"encoding\": {\"color\": {\"type\": \"nominal\", \"field\": \"correct prediction?\"}, \"x\": {\"type\": \"quantitative\", \"field\": \"count\", \"stack\": \"normalize\", \"title\": null}, \"y\": {\"type\": \"nominal\", \"field\": \"dialect\", \"title\": null}}, \"title\": \"Overall accuracy\", \"$schema\": \"https://vega.github.io/schema/vega-lite/v4.8.1.json\", \"datasets\": {\"data-8af04c4e9514ca58ee13499cb9c7cc6a\": [{\"count\": 33593, \"correct prediction?\": \"yes\", \"correctness\": \"correct\", \"dialect\": \"Mexican\"}, {\"count\": 20181, \"correct prediction?\": \"no\", \"correctness\": \"incorrect\", \"dialect\": \"Other dialects\"}, {\"count\": 18756, \"correct prediction?\": \"yes\", \"correctness\": \"correct\", \"dialect\": \"Other dialects\"}, {\"count\": 4565, \"correct prediction?\": \"no\", \"correctness\": \"incorrect\", \"dialect\": \"Mexican\"}]}}, {\"mode\": \"vega-lite\"});\n",
       "</script>"
      ],
      "text/plain": [
       "alt.Chart(...)"
      ]
     },
     "execution_count": 65,
     "metadata": {},
     "output_type": "execute_result"
    }
   ],
   "source": [
    "performancechart"
   ]
  },
  {
   "cell_type": "markdown",
   "metadata": {
    "slideshow": {
     "slide_type": "skip"
    }
   },
   "source": [
    "### performance by sentence length"
   ]
  },
  {
   "cell_type": "code",
   "execution_count": 71,
   "metadata": {
    "slideshow": {
     "slide_type": "skip"
    }
   },
   "outputs": [],
   "source": [
    "#Create a dataframe comparing predictions to target on THE TEST DATA\n",
    "sntc_perf = pd.DataFrame(zip(test_input, predictions, test_target), columns=['test_sentence', 'prediction', 'target'])"
   ]
  },
  {
   "cell_type": "code",
   "execution_count": 72,
   "metadata": {
    "slideshow": {
     "slide_type": "skip"
    }
   },
   "outputs": [],
   "source": [
    "# Insert a column for sentence length\n",
    "length = [len(sentence.split()) for sentence in sntc_perf['test_sentence']]\n",
    "sntc_perf.insert(1, 'length', length)"
   ]
  },
  {
   "cell_type": "code",
   "execution_count": 73,
   "metadata": {
    "slideshow": {
     "slide_type": "skip"
    }
   },
   "outputs": [
    {
     "data": {
      "text/html": [
       "<div>\n",
       "<style scoped>\n",
       "    .dataframe tbody tr th:only-of-type {\n",
       "        vertical-align: middle;\n",
       "    }\n",
       "\n",
       "    .dataframe tbody tr th {\n",
       "        vertical-align: top;\n",
       "    }\n",
       "\n",
       "    .dataframe thead th {\n",
       "        text-align: right;\n",
       "    }\n",
       "</style>\n",
       "<table border=\"1\" class=\"dataframe\">\n",
       "  <thead>\n",
       "    <tr style=\"text-align: right;\">\n",
       "      <th></th>\n",
       "      <th>test_sentence</th>\n",
       "      <th>length</th>\n",
       "      <th>prediction</th>\n",
       "      <th>target</th>\n",
       "      <th>cat_length</th>\n",
       "    </tr>\n",
       "  </thead>\n",
       "  <tbody>\n",
       "    <tr>\n",
       "      <th>0</th>\n",
       "      <td>en Oviedo ?</td>\n",
       "      <td>3</td>\n",
       "      <td>False</td>\n",
       "      <td>False</td>\n",
       "      <td>x_short</td>\n",
       "    </tr>\n",
       "    <tr>\n",
       "      <th>1</th>\n",
       "      <td>dos (.) &lt;a ver&gt; [/] a_ver (.) qué son estos ?</td>\n",
       "      <td>11</td>\n",
       "      <td>True</td>\n",
       "      <td>False</td>\n",
       "      <td>mid</td>\n",
       "    </tr>\n",
       "    <tr>\n",
       "      <th>2</th>\n",
       "      <td>sí [/] sí .</td>\n",
       "      <td>4</td>\n",
       "      <td>True</td>\n",
       "      <td>False</td>\n",
       "      <td>short</td>\n",
       "    </tr>\n",
       "    <tr>\n",
       "      <th>3</th>\n",
       "      <td>muy bien .</td>\n",
       "      <td>3</td>\n",
       "      <td>True</td>\n",
       "      <td>False</td>\n",
       "      <td>x_short</td>\n",
       "    </tr>\n",
       "    <tr>\n",
       "      <th>4</th>\n",
       "      <td>venga .</td>\n",
       "      <td>2</td>\n",
       "      <td>False</td>\n",
       "      <td>False</td>\n",
       "      <td>x_short</td>\n",
       "    </tr>\n",
       "    <tr>\n",
       "      <th>5</th>\n",
       "      <td>claro (.) a qué es chulo (.) eh ?</td>\n",
       "      <td>9</td>\n",
       "      <td>False</td>\n",
       "      <td>False</td>\n",
       "      <td>mid</td>\n",
       "    </tr>\n",
       "    <tr>\n",
       "      <th>6</th>\n",
       "      <td>está ya puesta (.) venga (.) me vas a contar e...</td>\n",
       "      <td>13</td>\n",
       "      <td>False</td>\n",
       "      <td>False</td>\n",
       "      <td>mid</td>\n",
       "    </tr>\n",
       "    <tr>\n",
       "      <th>7</th>\n",
       "      <td>venga (.) ven (.) ven (.) ven !</td>\n",
       "      <td>8</td>\n",
       "      <td>True</td>\n",
       "      <td>False</td>\n",
       "      <td>short</td>\n",
       "    </tr>\n",
       "    <tr>\n",
       "      <th>8</th>\n",
       "      <td>te lo voy a contar (.) venga .</td>\n",
       "      <td>8</td>\n",
       "      <td>False</td>\n",
       "      <td>False</td>\n",
       "      <td>short</td>\n",
       "    </tr>\n",
       "    <tr>\n",
       "      <th>9</th>\n",
       "      <td>se lo pides a (.) mamá .</td>\n",
       "      <td>7</td>\n",
       "      <td>False</td>\n",
       "      <td>False</td>\n",
       "      <td>short</td>\n",
       "    </tr>\n",
       "  </tbody>\n",
       "</table>\n",
       "</div>"
      ],
      "text/plain": [
       "                                       test_sentence  length  prediction  \\\n",
       "0                                        en Oviedo ?       3       False   \n",
       "1      dos (.) <a ver> [/] a_ver (.) qué son estos ?      11        True   \n",
       "2                                        sí [/] sí .       4        True   \n",
       "3                                         muy bien .       3        True   \n",
       "4                                            venga .       2       False   \n",
       "5                  claro (.) a qué es chulo (.) eh ?       9       False   \n",
       "6  está ya puesta (.) venga (.) me vas a contar e...      13       False   \n",
       "7                    venga (.) ven (.) ven (.) ven !       8        True   \n",
       "8                     te lo voy a contar (.) venga .       8       False   \n",
       "9                           se lo pides a (.) mamá .       7       False   \n",
       "\n",
       "   target cat_length  \n",
       "0   False    x_short  \n",
       "1   False        mid  \n",
       "2   False      short  \n",
       "3   False    x_short  \n",
       "4   False    x_short  \n",
       "5   False        mid  \n",
       "6   False        mid  \n",
       "7   False      short  \n",
       "8   False      short  \n",
       "9   False      short  "
      ]
     },
     "execution_count": 73,
     "metadata": {},
     "output_type": "execute_result"
    }
   ],
   "source": [
    "#Split by sentence length (extra-short: 1-3, short: 4-8, mid: 8-20, long: 21-33, extra-long: 34+)\n",
    "labs = ['x_short', 'short', 'mid', 'long', 'x_long']\n",
    "bins =[0, 3, 8, 20, 33, 500]\n",
    "sntc_perf['cat_length'] = pd.cut(sntc_perf['length'], bins=bins, labels=labs)\n",
    "\n",
    "sntc_perf.head(10)"
   ]
  },
  {
   "cell_type": "code",
   "execution_count": 74,
   "metadata": {
    "slideshow": {
     "slide_type": "skip"
    }
   },
   "outputs": [],
   "source": [
    "#Calculate confusion matrices by sentence length\n",
    "\n",
    "lengths = labs #each different sentence length\n",
    "n = [] #number of sentences of each length\n",
    "precision = [] #precision at this length\n",
    "recall = [] #recall at this length\n",
    "\n",
    "for interval in lengths:\n",
    "    df = sntc_perf[sntc_perf['cat_length'] == interval]\n",
    "    tn, fp, fn, tp = confusion_matrix(df['target'], df['prediction']).ravel()\n",
    "    precision.append(round(tp/(tp+fp), 2))\n",
    "    recall.append(round(tp/(tp+fn), 2))\n",
    "    n.append(sum([tn, fp, fn, tp]))\n",
    " \n",
    "# zip them all up into a df\n",
    "\n",
    "perf_by_length = pd.DataFrame(zip(lengths, n, precision, recall), columns=['length', 'n', 'precision', 'recall'])"
   ]
  },
  {
   "cell_type": "code",
   "execution_count": 75,
   "metadata": {
    "slideshow": {
     "slide_type": "skip"
    }
   },
   "outputs": [
    {
     "data": {
      "text/html": [
       "<div>\n",
       "<style scoped>\n",
       "    .dataframe tbody tr th:only-of-type {\n",
       "        vertical-align: middle;\n",
       "    }\n",
       "\n",
       "    .dataframe tbody tr th {\n",
       "        vertical-align: top;\n",
       "    }\n",
       "\n",
       "    .dataframe thead th {\n",
       "        text-align: right;\n",
       "    }\n",
       "</style>\n",
       "<table border=\"1\" class=\"dataframe\">\n",
       "  <thead>\n",
       "    <tr style=\"text-align: right;\">\n",
       "      <th></th>\n",
       "      <th>length</th>\n",
       "      <th>n</th>\n",
       "      <th>precision</th>\n",
       "      <th>recall</th>\n",
       "    </tr>\n",
       "  </thead>\n",
       "  <tbody>\n",
       "    <tr>\n",
       "      <th>0</th>\n",
       "      <td>x_short</td>\n",
       "      <td>25649</td>\n",
       "      <td>0.56</td>\n",
       "      <td>0.94</td>\n",
       "    </tr>\n",
       "    <tr>\n",
       "      <th>1</th>\n",
       "      <td>short</td>\n",
       "      <td>35909</td>\n",
       "      <td>0.65</td>\n",
       "      <td>0.86</td>\n",
       "    </tr>\n",
       "    <tr>\n",
       "      <th>2</th>\n",
       "      <td>mid</td>\n",
       "      <td>12108</td>\n",
       "      <td>0.73</td>\n",
       "      <td>0.83</td>\n",
       "    </tr>\n",
       "    <tr>\n",
       "      <th>3</th>\n",
       "      <td>long</td>\n",
       "      <td>1890</td>\n",
       "      <td>0.71</td>\n",
       "      <td>0.78</td>\n",
       "    </tr>\n",
       "    <tr>\n",
       "      <th>4</th>\n",
       "      <td>x_long</td>\n",
       "      <td>1534</td>\n",
       "      <td>0.59</td>\n",
       "      <td>0.65</td>\n",
       "    </tr>\n",
       "  </tbody>\n",
       "</table>\n",
       "</div>"
      ],
      "text/plain": [
       "    length      n  precision  recall\n",
       "0  x_short  25649       0.56    0.94\n",
       "1    short  35909       0.65    0.86\n",
       "2      mid  12108       0.73    0.83\n",
       "3     long   1890       0.71    0.78\n",
       "4   x_long   1534       0.59    0.65"
      ]
     },
     "execution_count": 75,
     "metadata": {},
     "output_type": "execute_result"
    }
   ],
   "source": [
    "perf_by_length"
   ]
  },
  {
   "cell_type": "code",
   "execution_count": 76,
   "metadata": {
    "slideshow": {
     "slide_type": "skip"
    }
   },
   "outputs": [
    {
     "data": {
      "text/html": [
       "<div>\n",
       "<style scoped>\n",
       "    .dataframe tbody tr th:only-of-type {\n",
       "        vertical-align: middle;\n",
       "    }\n",
       "\n",
       "    .dataframe tbody tr th {\n",
       "        vertical-align: top;\n",
       "    }\n",
       "\n",
       "    .dataframe thead th {\n",
       "        text-align: right;\n",
       "    }\n",
       "</style>\n",
       "<table border=\"1\" class=\"dataframe\">\n",
       "  <thead>\n",
       "    <tr style=\"text-align: right;\">\n",
       "      <th></th>\n",
       "      <th>sentence_length</th>\n",
       "      <th>variable</th>\n",
       "      <th>value</th>\n",
       "    </tr>\n",
       "  </thead>\n",
       "  <tbody>\n",
       "    <tr>\n",
       "      <th>0</th>\n",
       "      <td>1-3</td>\n",
       "      <td>precision</td>\n",
       "      <td>0.56</td>\n",
       "    </tr>\n",
       "    <tr>\n",
       "      <th>1</th>\n",
       "      <td>4-8</td>\n",
       "      <td>precision</td>\n",
       "      <td>0.65</td>\n",
       "    </tr>\n",
       "    <tr>\n",
       "      <th>2</th>\n",
       "      <td>8-20</td>\n",
       "      <td>precision</td>\n",
       "      <td>0.73</td>\n",
       "    </tr>\n",
       "    <tr>\n",
       "      <th>3</th>\n",
       "      <td>21-33</td>\n",
       "      <td>precision</td>\n",
       "      <td>0.71</td>\n",
       "    </tr>\n",
       "    <tr>\n",
       "      <th>4</th>\n",
       "      <td>34+</td>\n",
       "      <td>precision</td>\n",
       "      <td>0.59</td>\n",
       "    </tr>\n",
       "    <tr>\n",
       "      <th>5</th>\n",
       "      <td>1-3</td>\n",
       "      <td>recall</td>\n",
       "      <td>0.94</td>\n",
       "    </tr>\n",
       "    <tr>\n",
       "      <th>6</th>\n",
       "      <td>4-8</td>\n",
       "      <td>recall</td>\n",
       "      <td>0.86</td>\n",
       "    </tr>\n",
       "    <tr>\n",
       "      <th>7</th>\n",
       "      <td>8-20</td>\n",
       "      <td>recall</td>\n",
       "      <td>0.83</td>\n",
       "    </tr>\n",
       "    <tr>\n",
       "      <th>8</th>\n",
       "      <td>21-33</td>\n",
       "      <td>recall</td>\n",
       "      <td>0.78</td>\n",
       "    </tr>\n",
       "    <tr>\n",
       "      <th>9</th>\n",
       "      <td>34+</td>\n",
       "      <td>recall</td>\n",
       "      <td>0.65</td>\n",
       "    </tr>\n",
       "  </tbody>\n",
       "</table>\n",
       "</div>"
      ],
      "text/plain": [
       "  sentence_length   variable  value\n",
       "0             1-3  precision   0.56\n",
       "1             4-8  precision   0.65\n",
       "2            8-20  precision   0.73\n",
       "3           21-33  precision   0.71\n",
       "4             34+  precision   0.59\n",
       "5             1-3     recall   0.94\n",
       "6             4-8     recall   0.86\n",
       "7            8-20     recall   0.83\n",
       "8           21-33     recall   0.78\n",
       "9             34+     recall   0.65"
      ]
     },
     "execution_count": 76,
     "metadata": {},
     "output_type": "execute_result"
    }
   ],
   "source": [
    "# visualize performance and recall by sentnece length\n",
    "length_in_words = pd.Series(['1-3', '4-8', '8-20', '21-33', '34+']) \n",
    "data = perf_by_length[['precision', 'recall']]\n",
    "data.insert(0, 'sentence_length', length_in_words)\n",
    "data = pd.melt(data, id_vars='sentence_length', value_vars=['precision', 'recall'])\n",
    "data"
   ]
  },
  {
   "cell_type": "code",
   "execution_count": 77,
   "metadata": {
    "slideshow": {
     "slide_type": "skip"
    }
   },
   "outputs": [],
   "source": [
    "performancebylength = alt.Chart(data).mark_line().encode(\n",
    "    x=alt.X('sentence_length', sort=list(length_in_words)),\n",
    "    y='value',\n",
    "    color='variable'\n",
    ").properties(\n",
    "    width=400,\n",
    "    height=200\n",
    ")"
   ]
  },
  {
   "cell_type": "code",
   "execution_count": 78,
   "metadata": {
    "slideshow": {
     "slide_type": "skip"
    }
   },
   "outputs": [
    {
     "data": {
      "text/html": [
       "\n",
       "<div id=\"altair-viz-3dc701a5a3ec45aab65abf45cface52e\"></div>\n",
       "<script type=\"text/javascript\">\n",
       "  (function(spec, embedOpt){\n",
       "    let outputDiv = document.currentScript.previousElementSibling;\n",
       "    if (outputDiv.id !== \"altair-viz-3dc701a5a3ec45aab65abf45cface52e\") {\n",
       "      outputDiv = document.getElementById(\"altair-viz-3dc701a5a3ec45aab65abf45cface52e\");\n",
       "    }\n",
       "    const paths = {\n",
       "      \"vega\": \"https://cdn.jsdelivr.net/npm//vega@5?noext\",\n",
       "      \"vega-lib\": \"https://cdn.jsdelivr.net/npm//vega-lib?noext\",\n",
       "      \"vega-lite\": \"https://cdn.jsdelivr.net/npm//vega-lite@4.8.1?noext\",\n",
       "      \"vega-embed\": \"https://cdn.jsdelivr.net/npm//vega-embed@6?noext\",\n",
       "    };\n",
       "\n",
       "    function loadScript(lib) {\n",
       "      return new Promise(function(resolve, reject) {\n",
       "        var s = document.createElement('script');\n",
       "        s.src = paths[lib];\n",
       "        s.async = true;\n",
       "        s.onload = () => resolve(paths[lib]);\n",
       "        s.onerror = () => reject(`Error loading script: ${paths[lib]}`);\n",
       "        document.getElementsByTagName(\"head\")[0].appendChild(s);\n",
       "      });\n",
       "    }\n",
       "\n",
       "    function showError(err) {\n",
       "      outputDiv.innerHTML = `<div class=\"error\" style=\"color:red;\">${err}</div>`;\n",
       "      throw err;\n",
       "    }\n",
       "\n",
       "    function displayChart(vegaEmbed) {\n",
       "      vegaEmbed(outputDiv, spec, embedOpt)\n",
       "        .catch(err => showError(`Javascript Error: ${err.message}<br>This usually means there's a typo in your chart specification. See the javascript console for the full traceback.`));\n",
       "    }\n",
       "\n",
       "    if(typeof define === \"function\" && define.amd) {\n",
       "      requirejs.config({paths});\n",
       "      require([\"vega-embed\"], displayChart, err => showError(`Error loading script: ${err.message}`));\n",
       "    } else if (typeof vegaEmbed === \"function\") {\n",
       "      displayChart(vegaEmbed);\n",
       "    } else {\n",
       "      loadScript(\"vega\")\n",
       "        .then(() => loadScript(\"vega-lite\"))\n",
       "        .then(() => loadScript(\"vega-embed\"))\n",
       "        .catch(showError)\n",
       "        .then(() => displayChart(vegaEmbed));\n",
       "    }\n",
       "  })({\"config\": {\"view\": {\"continuousWidth\": 400, \"continuousHeight\": 300}}, \"data\": {\"name\": \"data-9e2ff89393858e2bc46f98d889e78eeb\"}, \"mark\": \"line\", \"encoding\": {\"color\": {\"type\": \"nominal\", \"field\": \"variable\"}, \"x\": {\"type\": \"nominal\", \"field\": \"sentence_length\", \"sort\": [\"1-3\", \"4-8\", \"8-20\", \"21-33\", \"34+\"]}, \"y\": {\"type\": \"quantitative\", \"field\": \"value\"}}, \"height\": 200, \"width\": 400, \"$schema\": \"https://vega.github.io/schema/vega-lite/v4.8.1.json\", \"datasets\": {\"data-9e2ff89393858e2bc46f98d889e78eeb\": [{\"sentence_length\": \"1-3\", \"variable\": \"precision\", \"value\": 0.56}, {\"sentence_length\": \"4-8\", \"variable\": \"precision\", \"value\": 0.65}, {\"sentence_length\": \"8-20\", \"variable\": \"precision\", \"value\": 0.73}, {\"sentence_length\": \"21-33\", \"variable\": \"precision\", \"value\": 0.71}, {\"sentence_length\": \"34+\", \"variable\": \"precision\", \"value\": 0.59}, {\"sentence_length\": \"1-3\", \"variable\": \"recall\", \"value\": 0.94}, {\"sentence_length\": \"4-8\", \"variable\": \"recall\", \"value\": 0.86}, {\"sentence_length\": \"8-20\", \"variable\": \"recall\", \"value\": 0.83}, {\"sentence_length\": \"21-33\", \"variable\": \"recall\", \"value\": 0.78}, {\"sentence_length\": \"34+\", \"variable\": \"recall\", \"value\": 0.65}]}}, {\"mode\": \"vega-lite\"});\n",
       "</script>"
      ],
      "text/plain": [
       "alt.Chart(...)"
      ]
     },
     "execution_count": 78,
     "metadata": {},
     "output_type": "execute_result"
    }
   ],
   "source": [
    "performancebylength"
   ]
  },
  {
   "cell_type": "code",
   "execution_count": 79,
   "metadata": {
    "slideshow": {
     "slide_type": "skip"
    }
   },
   "outputs": [
    {
     "data": {
      "text/html": [
       "<div>\n",
       "<style scoped>\n",
       "    .dataframe tbody tr th:only-of-type {\n",
       "        vertical-align: middle;\n",
       "    }\n",
       "\n",
       "    .dataframe tbody tr th {\n",
       "        vertical-align: top;\n",
       "    }\n",
       "\n",
       "    .dataframe thead th {\n",
       "        text-align: right;\n",
       "    }\n",
       "</style>\n",
       "<table border=\"1\" class=\"dataframe\">\n",
       "  <thead>\n",
       "    <tr style=\"text-align: right;\">\n",
       "      <th></th>\n",
       "      <th>test_sentence</th>\n",
       "      <th>length</th>\n",
       "      <th>prediction</th>\n",
       "      <th>target</th>\n",
       "      <th>cat_length</th>\n",
       "    </tr>\n",
       "  </thead>\n",
       "  <tbody>\n",
       "    <tr>\n",
       "      <th>1</th>\n",
       "      <td>dos (.) &lt;a ver&gt; [/] a_ver (.) qué son estos ?</td>\n",
       "      <td>11</td>\n",
       "      <td>True</td>\n",
       "      <td>False</td>\n",
       "      <td>mid</td>\n",
       "    </tr>\n",
       "    <tr>\n",
       "      <th>2</th>\n",
       "      <td>sí [/] sí .</td>\n",
       "      <td>4</td>\n",
       "      <td>True</td>\n",
       "      <td>False</td>\n",
       "      <td>short</td>\n",
       "    </tr>\n",
       "    <tr>\n",
       "      <th>5</th>\n",
       "      <td>claro (.) a qué es chulo (.) eh ?</td>\n",
       "      <td>9</td>\n",
       "      <td>False</td>\n",
       "      <td>False</td>\n",
       "      <td>mid</td>\n",
       "    </tr>\n",
       "    <tr>\n",
       "      <th>6</th>\n",
       "      <td>está ya puesta (.) venga (.) me vas a contar e...</td>\n",
       "      <td>13</td>\n",
       "      <td>False</td>\n",
       "      <td>False</td>\n",
       "      <td>mid</td>\n",
       "    </tr>\n",
       "    <tr>\n",
       "      <th>7</th>\n",
       "      <td>venga (.) ven (.) ven (.) ven !</td>\n",
       "      <td>8</td>\n",
       "      <td>True</td>\n",
       "      <td>False</td>\n",
       "      <td>short</td>\n",
       "    </tr>\n",
       "    <tr>\n",
       "      <th>...</th>\n",
       "      <td>...</td>\n",
       "      <td>...</td>\n",
       "      <td>...</td>\n",
       "      <td>...</td>\n",
       "      <td>...</td>\n",
       "    </tr>\n",
       "    <tr>\n",
       "      <th>77089</th>\n",
       "      <td>Pórtense bien, todos sabemos quiénes andan en ...</td>\n",
       "      <td>9</td>\n",
       "      <td>False</td>\n",
       "      <td>True</td>\n",
       "      <td>mid</td>\n",
       "    </tr>\n",
       "    <tr>\n",
       "      <th>77090</th>\n",
       "      <td>Vamos a sacudir el árbol y se van a caer mucha...</td>\n",
       "      <td>52</td>\n",
       "      <td>False</td>\n",
       "      <td>True</td>\n",
       "      <td>x_long</td>\n",
       "    </tr>\n",
       "    <tr>\n",
       "      <th>77091</th>\n",
       "      <td>Con el alcalde Cruz y los cinco policías libre...</td>\n",
       "      <td>34</td>\n",
       "      <td>False</td>\n",
       "      <td>True</td>\n",
       "      <td>x_long</td>\n",
       "    </tr>\n",
       "    <tr>\n",
       "      <th>77092</th>\n",
       "      <td>A la mamá de Jorge, María, la viuda de Moisés...</td>\n",
       "      <td>21</td>\n",
       "      <td>True</td>\n",
       "      <td>True</td>\n",
       "      <td>long</td>\n",
       "    </tr>\n",
       "    <tr>\n",
       "      <th>77093</th>\n",
       "      <td>Por ahora, Jorge sigue con su proyecto, con La...</td>\n",
       "      <td>32</td>\n",
       "      <td>True</td>\n",
       "      <td>True</td>\n",
       "      <td>long</td>\n",
       "    </tr>\n",
       "  </tbody>\n",
       "</table>\n",
       "<p>51441 rows × 5 columns</p>\n",
       "</div>"
      ],
      "text/plain": [
       "                                           test_sentence  length  prediction  \\\n",
       "1          dos (.) <a ver> [/] a_ver (.) qué son estos ?      11        True   \n",
       "2                                            sí [/] sí .       4        True   \n",
       "5                      claro (.) a qué es chulo (.) eh ?       9       False   \n",
       "6      está ya puesta (.) venga (.) me vas a contar e...      13       False   \n",
       "7                        venga (.) ven (.) ven (.) ven !       8        True   \n",
       "...                                                  ...     ...         ...   \n",
       "77089  Pórtense bien, todos sabemos quiénes andan en ...       9       False   \n",
       "77090  Vamos a sacudir el árbol y se van a caer mucha...      52       False   \n",
       "77091  Con el alcalde Cruz y los cinco policías libre...      34       False   \n",
       "77092   A la mamá de Jorge, María, la viuda de Moisés...      21        True   \n",
       "77093  Por ahora, Jorge sigue con su proyecto, con La...      32        True   \n",
       "\n",
       "       target cat_length  \n",
       "1       False        mid  \n",
       "2       False      short  \n",
       "5       False        mid  \n",
       "6       False        mid  \n",
       "7       False      short  \n",
       "...       ...        ...  \n",
       "77089    True        mid  \n",
       "77090    True     x_long  \n",
       "77091    True     x_long  \n",
       "77092    True       long  \n",
       "77093    True       long  \n",
       "\n",
       "[51441 rows x 5 columns]"
      ]
     },
     "execution_count": 79,
     "metadata": {},
     "output_type": "execute_result"
    }
   ],
   "source": [
    "#re-graph accuracy, excluding sentences with 3 words or less\n",
    "long_test_sentences = sntc_perf[sntc_perf['length'] > 3]\n",
    "long_test_sentences"
   ]
  },
  {
   "cell_type": "code",
   "execution_count": 80,
   "metadata": {
    "slideshow": {
     "slide_type": "skip"
    }
   },
   "outputs": [],
   "source": [
    "#Calculate accuracy with the confusion matrix\n",
    "tn, fp, fn, tp = confusion_matrix(long_test_sentences['target'], long_test_sentences['prediction']).ravel()"
   ]
  },
  {
   "cell_type": "code",
   "execution_count": 84,
   "metadata": {
    "slideshow": {
     "slide_type": "skip"
    }
   },
   "outputs": [],
   "source": [
    "#visualize accuracy\n",
    "longperformance = {\"count\": [tp, fp, tn, fn], \n",
    "               \"correct prediction?\": [\"yes\", \"no\", \"yes\", \"no\"],\n",
    "               \"correctness\": [\"correct\", \"incorrect\", \"correct\", \"incorrect\"],\n",
    "               \"dialect\": [\"Mexican\", \"Other dialects\", \"Other dialects\", \"Mexican\"]}\n",
    "\n",
    "longperformance = pd.DataFrame(longperformance)"
   ]
  },
  {
   "cell_type": "code",
   "execution_count": 85,
   "metadata": {
    "slideshow": {
     "slide_type": "skip"
    }
   },
   "outputs": [
    {
     "data": {
      "text/html": [
       "<div>\n",
       "<style scoped>\n",
       "    .dataframe tbody tr th:only-of-type {\n",
       "        vertical-align: middle;\n",
       "    }\n",
       "\n",
       "    .dataframe tbody tr th {\n",
       "        vertical-align: top;\n",
       "    }\n",
       "\n",
       "    .dataframe thead th {\n",
       "        text-align: right;\n",
       "    }\n",
       "</style>\n",
       "<table border=\"1\" class=\"dataframe\">\n",
       "  <thead>\n",
       "    <tr style=\"text-align: right;\">\n",
       "      <th></th>\n",
       "      <th>count</th>\n",
       "      <th>correct prediction?</th>\n",
       "      <th>correctness</th>\n",
       "      <th>dialect</th>\n",
       "    </tr>\n",
       "  </thead>\n",
       "  <tbody>\n",
       "    <tr>\n",
       "      <th>0</th>\n",
       "      <td>21527</td>\n",
       "      <td>yes</td>\n",
       "      <td>correct</td>\n",
       "      <td>Mexican</td>\n",
       "    </tr>\n",
       "    <tr>\n",
       "      <th>1</th>\n",
       "      <td>10667</td>\n",
       "      <td>no</td>\n",
       "      <td>incorrect</td>\n",
       "      <td>Other dialects</td>\n",
       "    </tr>\n",
       "    <tr>\n",
       "      <th>2</th>\n",
       "      <td>15463</td>\n",
       "      <td>yes</td>\n",
       "      <td>correct</td>\n",
       "      <td>Other dialects</td>\n",
       "    </tr>\n",
       "    <tr>\n",
       "      <th>3</th>\n",
       "      <td>3784</td>\n",
       "      <td>no</td>\n",
       "      <td>incorrect</td>\n",
       "      <td>Mexican</td>\n",
       "    </tr>\n",
       "  </tbody>\n",
       "</table>\n",
       "</div>"
      ],
      "text/plain": [
       "   count correct prediction? correctness         dialect\n",
       "0  21527                 yes     correct         Mexican\n",
       "1  10667                  no   incorrect  Other dialects\n",
       "2  15463                 yes     correct  Other dialects\n",
       "3   3784                  no   incorrect         Mexican"
      ]
     },
     "execution_count": 85,
     "metadata": {},
     "output_type": "execute_result"
    }
   ],
   "source": [
    "longperformance"
   ]
  },
  {
   "cell_type": "code",
   "execution_count": 86,
   "metadata": {
    "slideshow": {
     "slide_type": "skip"
    }
   },
   "outputs": [],
   "source": [
    "longer_performancechart = alt.Chart(longperformance).mark_bar().encode(\n",
    "    y = alt.Y('dialect:N', title=None),\n",
    "    x = alt.X('count:Q', stack='normalize', title=None),\n",
    "    color = 'correct prediction?:N'\n",
    ").properties(title=\"Sentences with at least 3 words\"\n",
    ").configure_title(fontSize=24\n",
    ").configure_axis(\n",
    "    titleFontSize=12,\n",
    "    labelFontSize=16\n",
    ")"
   ]
  },
  {
   "cell_type": "markdown",
   "metadata": {
    "slideshow": {
     "slide_type": "skip"
    }
   },
   "source": [
    "### performance with ≥ 3 words"
   ]
  },
  {
   "cell_type": "code",
   "execution_count": 87,
   "metadata": {
    "slideshow": {
     "slide_type": "fragment"
    }
   },
   "outputs": [
    {
     "data": {
      "text/html": [
       "\n",
       "<div id=\"altair-viz-ad81c15d3e6a4aa2a985ebd1659ad121\"></div>\n",
       "<script type=\"text/javascript\">\n",
       "  (function(spec, embedOpt){\n",
       "    let outputDiv = document.currentScript.previousElementSibling;\n",
       "    if (outputDiv.id !== \"altair-viz-ad81c15d3e6a4aa2a985ebd1659ad121\") {\n",
       "      outputDiv = document.getElementById(\"altair-viz-ad81c15d3e6a4aa2a985ebd1659ad121\");\n",
       "    }\n",
       "    const paths = {\n",
       "      \"vega\": \"https://cdn.jsdelivr.net/npm//vega@5?noext\",\n",
       "      \"vega-lib\": \"https://cdn.jsdelivr.net/npm//vega-lib?noext\",\n",
       "      \"vega-lite\": \"https://cdn.jsdelivr.net/npm//vega-lite@4.8.1?noext\",\n",
       "      \"vega-embed\": \"https://cdn.jsdelivr.net/npm//vega-embed@6?noext\",\n",
       "    };\n",
       "\n",
       "    function loadScript(lib) {\n",
       "      return new Promise(function(resolve, reject) {\n",
       "        var s = document.createElement('script');\n",
       "        s.src = paths[lib];\n",
       "        s.async = true;\n",
       "        s.onload = () => resolve(paths[lib]);\n",
       "        s.onerror = () => reject(`Error loading script: ${paths[lib]}`);\n",
       "        document.getElementsByTagName(\"head\")[0].appendChild(s);\n",
       "      });\n",
       "    }\n",
       "\n",
       "    function showError(err) {\n",
       "      outputDiv.innerHTML = `<div class=\"error\" style=\"color:red;\">${err}</div>`;\n",
       "      throw err;\n",
       "    }\n",
       "\n",
       "    function displayChart(vegaEmbed) {\n",
       "      vegaEmbed(outputDiv, spec, embedOpt)\n",
       "        .catch(err => showError(`Javascript Error: ${err.message}<br>This usually means there's a typo in your chart specification. See the javascript console for the full traceback.`));\n",
       "    }\n",
       "\n",
       "    if(typeof define === \"function\" && define.amd) {\n",
       "      requirejs.config({paths});\n",
       "      require([\"vega-embed\"], displayChart, err => showError(`Error loading script: ${err.message}`));\n",
       "    } else if (typeof vegaEmbed === \"function\") {\n",
       "      displayChart(vegaEmbed);\n",
       "    } else {\n",
       "      loadScript(\"vega\")\n",
       "        .then(() => loadScript(\"vega-lite\"))\n",
       "        .then(() => loadScript(\"vega-embed\"))\n",
       "        .catch(showError)\n",
       "        .then(() => displayChart(vegaEmbed));\n",
       "    }\n",
       "  })({\"config\": {\"view\": {\"continuousWidth\": 400, \"continuousHeight\": 300}, \"axis\": {\"labelFontSize\": 16, \"titleFontSize\": 12}, \"title\": {\"fontSize\": 24}}, \"data\": {\"name\": \"data-e2dd57566c2f551460fed3f487391857\"}, \"mark\": \"bar\", \"encoding\": {\"color\": {\"type\": \"nominal\", \"field\": \"correct prediction?\"}, \"x\": {\"type\": \"quantitative\", \"field\": \"count\", \"stack\": \"normalize\", \"title\": null}, \"y\": {\"type\": \"nominal\", \"field\": \"dialect\", \"title\": null}}, \"title\": \"Sentences with at least 3 words\", \"$schema\": \"https://vega.github.io/schema/vega-lite/v4.8.1.json\", \"datasets\": {\"data-e2dd57566c2f551460fed3f487391857\": [{\"count\": 21527, \"correct prediction?\": \"yes\", \"correctness\": \"correct\", \"dialect\": \"Mexican\"}, {\"count\": 10667, \"correct prediction?\": \"no\", \"correctness\": \"incorrect\", \"dialect\": \"Other dialects\"}, {\"count\": 15463, \"correct prediction?\": \"yes\", \"correctness\": \"correct\", \"dialect\": \"Other dialects\"}, {\"count\": 3784, \"correct prediction?\": \"no\", \"correctness\": \"incorrect\", \"dialect\": \"Mexican\"}]}}, {\"mode\": \"vega-lite\"});\n",
       "</script>"
      ],
      "text/plain": [
       "alt.Chart(...)"
      ]
     },
     "execution_count": 87,
     "metadata": {},
     "output_type": "execute_result"
    }
   ],
   "source": [
    "longer_performancechart"
   ]
  },
  {
   "cell_type": "code",
   "execution_count": null,
   "metadata": {},
   "outputs": [],
   "source": []
  }
 ],
 "metadata": {
  "kernelspec": {
   "display_name": "Capstone Development",
   "language": "python",
   "name": "capstone-dev"
  },
  "language_info": {
   "codemirror_mode": {
    "name": "ipython",
    "version": 3
   },
   "file_extension": ".py",
   "mimetype": "text/x-python",
   "name": "python",
   "nbconvert_exporter": "python",
   "pygments_lexer": "ipython3",
   "version": "3.7.8"
  }
 },
 "nbformat": 4,
 "nbformat_minor": 4
}
